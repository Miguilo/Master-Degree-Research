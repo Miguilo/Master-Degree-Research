{
 "cells": [
  {
   "cell_type": "code",
   "execution_count": 1,
   "metadata": {},
   "outputs": [],
   "source": [
    "import pandas as pd\n",
    "import numpy as np"
   ]
  },
  {
   "cell_type": "code",
   "execution_count": 2,
   "metadata": {},
   "outputs": [
    {
     "data": {
      "text/html": [
       "<div>\n",
       "<style scoped>\n",
       "    .dataframe tbody tr th:only-of-type {\n",
       "        vertical-align: middle;\n",
       "    }\n",
       "\n",
       "    .dataframe tbody tr th {\n",
       "        vertical-align: top;\n",
       "    }\n",
       "\n",
       "    .dataframe thead th {\n",
       "        text-align: right;\n",
       "    }\n",
       "</style>\n",
       "<table border=\"1\" class=\"dataframe\">\n",
       "  <thead>\n",
       "    <tr style=\"text-align: right;\">\n",
       "      <th></th>\n",
       "      <th>Molecule</th>\n",
       "      <th>Formula</th>\n",
       "      <th>Ei</th>\n",
       "      <th>Alpha</th>\n",
       "      <th>Expt</th>\n",
       "      <th>axx</th>\n",
       "      <th>ayy</th>\n",
       "      <th>azz</th>\n",
       "      <th>pi_bond</th>\n",
       "    </tr>\n",
       "  </thead>\n",
       "  <tbody>\n",
       "    <tr>\n",
       "      <th>0</th>\n",
       "      <td>Butane</td>\n",
       "      <td>C4H10</td>\n",
       "      <td>10.6</td>\n",
       "      <td>8.08</td>\n",
       "      <td>35</td>\n",
       "      <td>9.31</td>\n",
       "      <td>7.68</td>\n",
       "      <td>7.24</td>\n",
       "      <td>0</td>\n",
       "    </tr>\n",
       "    <tr>\n",
       "      <th>1</th>\n",
       "      <td>Pentane</td>\n",
       "      <td>C5H12</td>\n",
       "      <td>10.4</td>\n",
       "      <td>9.95</td>\n",
       "      <td>60</td>\n",
       "      <td>11.72</td>\n",
       "      <td>9.39</td>\n",
       "      <td>8.74</td>\n",
       "      <td>0</td>\n",
       "    </tr>\n",
       "    <tr>\n",
       "      <th>2</th>\n",
       "      <td>Hexane</td>\n",
       "      <td>C6H14</td>\n",
       "      <td>10.2</td>\n",
       "      <td>11.85</td>\n",
       "      <td>80</td>\n",
       "      <td>14.32</td>\n",
       "      <td>10.99</td>\n",
       "      <td>10.23</td>\n",
       "      <td>0</td>\n",
       "    </tr>\n",
       "    <tr>\n",
       "      <th>3</th>\n",
       "      <td>Heptane</td>\n",
       "      <td>C7H16</td>\n",
       "      <td>9.9</td>\n",
       "      <td>13.76</td>\n",
       "      <td>105</td>\n",
       "      <td>16.91</td>\n",
       "      <td>12.66</td>\n",
       "      <td>11.72</td>\n",
       "      <td>0</td>\n",
       "    </tr>\n",
       "    <tr>\n",
       "      <th>4</th>\n",
       "      <td>Octane</td>\n",
       "      <td>C8H18</td>\n",
       "      <td>10.0</td>\n",
       "      <td>15.68</td>\n",
       "      <td>115</td>\n",
       "      <td>19.60</td>\n",
       "      <td>14.26</td>\n",
       "      <td>13.19</td>\n",
       "      <td>0</td>\n",
       "    </tr>\n",
       "  </tbody>\n",
       "</table>\n",
       "</div>"
      ],
      "text/plain": [
       "  Molecule Formula    Ei  Alpha  Expt    axx    ayy    azz  pi_bond\n",
       "0   Butane   C4H10  10.6   8.08    35   9.31   7.68   7.24        0\n",
       "1  Pentane   C5H12  10.4   9.95    60  11.72   9.39   8.74        0\n",
       "2   Hexane   C6H14  10.2  11.85    80  14.32  10.99  10.23        0\n",
       "3  Heptane   C7H16   9.9  13.76   105  16.91  12.66  11.72        0\n",
       "4   Octane   C8H18  10.0  15.68   115  19.60  14.26  13.19        0"
      ]
     },
     "execution_count": 2,
     "metadata": {},
     "output_type": "execute_result"
    }
   ],
   "source": [
    "df_all = pd.read_csv(\"../../data/processed/processed_apolar.csv\")\n",
    "df_partial = pd.read_csv(\"../../data/final/final_apolar.csv\")\n",
    "df_partial.head()"
   ]
  },
  {
   "cell_type": "code",
   "execution_count": 3,
   "metadata": {},
   "outputs": [
    {
     "data": {
      "text/html": [
       "<div>\n",
       "<style scoped>\n",
       "    .dataframe tbody tr th:only-of-type {\n",
       "        vertical-align: middle;\n",
       "    }\n",
       "\n",
       "    .dataframe tbody tr th {\n",
       "        vertical-align: top;\n",
       "    }\n",
       "\n",
       "    .dataframe thead th {\n",
       "        text-align: right;\n",
       "    }\n",
       "</style>\n",
       "<table border=\"1\" class=\"dataframe\">\n",
       "  <thead>\n",
       "    <tr style=\"text-align: right;\">\n",
       "      <th></th>\n",
       "      <th>Molecule</th>\n",
       "      <th>Formula</th>\n",
       "      <th>Ei</th>\n",
       "      <th>Alpha</th>\n",
       "      <th>Expt</th>\n",
       "      <th>pi_bond</th>\n",
       "    </tr>\n",
       "  </thead>\n",
       "  <tbody>\n",
       "    <tr>\n",
       "      <th>0</th>\n",
       "      <td>Butane</td>\n",
       "      <td>C4H10</td>\n",
       "      <td>10.6</td>\n",
       "      <td>8.1</td>\n",
       "      <td>35</td>\n",
       "      <td>0</td>\n",
       "    </tr>\n",
       "    <tr>\n",
       "      <th>1</th>\n",
       "      <td>Pentane</td>\n",
       "      <td>C5H12</td>\n",
       "      <td>10.4</td>\n",
       "      <td>10.0</td>\n",
       "      <td>60</td>\n",
       "      <td>0</td>\n",
       "    </tr>\n",
       "    <tr>\n",
       "      <th>2</th>\n",
       "      <td>Hexane</td>\n",
       "      <td>C6H14</td>\n",
       "      <td>10.2</td>\n",
       "      <td>11.8</td>\n",
       "      <td>80</td>\n",
       "      <td>0</td>\n",
       "    </tr>\n",
       "    <tr>\n",
       "      <th>3</th>\n",
       "      <td>Heptane</td>\n",
       "      <td>C7H16</td>\n",
       "      <td>9.9</td>\n",
       "      <td>13.7</td>\n",
       "      <td>105</td>\n",
       "      <td>0</td>\n",
       "    </tr>\n",
       "    <tr>\n",
       "      <th>4</th>\n",
       "      <td>Octane</td>\n",
       "      <td>C8H18</td>\n",
       "      <td>10.0</td>\n",
       "      <td>15.5</td>\n",
       "      <td>115</td>\n",
       "      <td>0</td>\n",
       "    </tr>\n",
       "  </tbody>\n",
       "</table>\n",
       "</div>"
      ],
      "text/plain": [
       "  Molecule Formula    Ei  Alpha  Expt  pi_bond\n",
       "0   Butane   C4H10  10.6    8.1    35        0\n",
       "1  Pentane   C5H12  10.4   10.0    60        0\n",
       "2   Hexane   C6H14  10.2   11.8    80        0\n",
       "3  Heptane   C7H16   9.9   13.7   105        0\n",
       "4   Octane   C8H18  10.0   15.5   115        0"
      ]
     },
     "execution_count": 3,
     "metadata": {},
     "output_type": "execute_result"
    }
   ],
   "source": [
    "df_all.head()"
   ]
  },
  {
   "attachments": {},
   "cell_type": "markdown",
   "metadata": {},
   "source": [
    "# 20 Molecules"
   ]
  },
  {
   "cell_type": "code",
   "execution_count": 4,
   "metadata": {},
   "outputs": [
    {
     "data": {
      "text/plain": [
       "((20, 3), (20, 2), (20, 2), (20, 2), (20, 1))"
      ]
     },
     "execution_count": 4,
     "metadata": {},
     "output_type": "execute_result"
    }
   ],
   "source": [
    "# Separating between x's and y\n",
    "\n",
    "# For all molecules we'll have the following combination:\n",
    "# All Features; Ei + Alpha; Ei + Pi Bond; Alpha + Pi Bond\n",
    "\n",
    "x0_all = df_all[['Ei', 'Alpha', 'pi_bond']]\n",
    "x1_all = df_all[['Ei', 'Alpha']]\n",
    "x2_all = df_all[['Ei', 'pi_bond']]\n",
    "x3_all = df_all[['Alpha', 'pi_bond']]\n",
    "\n",
    "y_all = df_all[['Expt']].values\n",
    "\n",
    "x0_all.shape, x1_all.shape, x2_all.shape, x3_all.shape, y_all.shape\n"
   ]
  },
  {
   "cell_type": "code",
   "execution_count": 5,
   "metadata": {},
   "outputs": [],
   "source": [
    "# Importing regressors and relevant functions\n",
    "\n",
    "from sklearn.neural_network import MLPRegressor\n",
    "from sklearn.svm import SVR\n",
    "from sklearn.linear_model import Ridge\n",
    "from xgboost import XGBRegressor\n",
    "from sklearn.pipeline import Pipeline\n",
    "from sklearn.preprocessing import PolynomialFeatures, StandardScaler, RobustScaler, MinMaxScaler\n",
    "from sklearn.compose import TransformedTargetRegressor\n",
    "from skopt.space.space import Real, Categorical, Integer\n",
    "from skopt.utils import use_named_args\n",
    "from sklearn.model_selection import cross_val_score\n",
    "from skopt import gp_minimize"
   ]
  },
  {
   "cell_type": "code",
   "execution_count": 6,
   "metadata": {},
   "outputs": [],
   "source": [
    "# Defining spaces to optimize\n",
    "\n",
    "pipe_elastic = Pipeline([('poli', PolynomialFeatures()), ('scale', MinMaxScaler()),  ('reg', Ridge(max_iter=30000))])\n",
    "ridge = TransformedTargetRegressor(regressor = pipe_elastic, transformer = StandardScaler())\n",
    "\n",
    "space_poli = [\n",
    "\n",
    "    Real(1e-5,100, 'log-uniform', name='regressor__reg__alpha'),\n",
    "    Categorical([True, False], name = 'regressor__reg__fit_intercept'),\n",
    "    Categorical([True, False], name = 'regressor__reg__copy_X'),\n",
    "    Integer(1,10,name='regressor__poli__degree'),\n",
    "    Categorical([True,False], name='regressor__poli__interaction_only'),\n",
    "    Categorical([True,False], name = 'regressor__poli__include_bias'),\n",
    "    Categorical([StandardScaler(),MinMaxScaler(),RobustScaler()], name = \"regressor__scaling\"),\n",
    "    Categorical([StandardScaler(),MinMaxScaler(),RobustScaler()], name = \"transformer\")\n",
    "\n",
    "]\n",
    "\n",
    "pipe_svr = Pipeline([('scale',StandardScaler()),('reg',SVR(max_iter=10000))])\n",
    "svr = TransformedTargetRegressor(transformer = StandardScaler(), regressor = pipe_svr)\n",
    "\n",
    "space_svr = [\n",
    "    Categorical(['rbf','sigmoid','poly'], name = 'regressor__reg__kernel'),\n",
    "    Categorical(['scale','auto'], name = 'regressor__reg__gamma'),\n",
    "    Integer(1,10, name = 'regressor__reg__degree'),\n",
    "    Real(0, 10, name = 'regressor__reg__coef0'),\n",
    "    Real(0.1, 5, name = 'regressor__reg__C'),\n",
    "    Real(0.01, 5, name = 'regressor__reg__epsilon'),\n",
    "    Categorical([StandardScaler(),MinMaxScaler(),RobustScaler()], name = \"regressor__scale\"),\n",
    "    Categorical([StandardScaler(),MinMaxScaler(),RobustScaler()], name = \"transformer\") \n",
    "]\n",
    "\n",
    "xgb = XGBRegressor(random_state=0)\n",
    "\n",
    "space_xgb = [\n",
    "    Real(10e-5,0.2,  \"log-uniform\", name='learning_rate'),\n",
    "    Integer(100,2000,name = 'n_estimators'),\n",
    "    Integer(1,15,name='max_depth'),\n",
    "    Integer(1,15,name='min_child_weight'),\n",
    "    Real(0, 6, name='gamma'),\n",
    "    Real(0.1, 1, name='subsample'),\n",
    "    Real(0.1,1,name='colsample_bytree'),\n",
    "    Real(0,1,name=\"reg_alpha\"),\n",
    "    Real(0,1,name=\"reg_lambda\")\n",
    "]\n",
    "\n",
    "pipe = Pipeline([('scale', MinMaxScaler()), ('reg', MLPRegressor(max_iter = 5000, random_state = 0, solver = 'adam'))])\n",
    "nn = TransformedTargetRegressor(regressor = pipe, transformer = StandardScaler())\n",
    "\n",
    "space_nn = [\n",
    "    Categorical(['tanh','relu','logistic'], name = 'regressor__reg__activation'),\n",
    "    Real(1e-6,1e-3,prior='log-uniform', name = 'regressor__reg__learning_rate_init'),\n",
    "    Integer(1,20,name='n_hidden_layer'),\n",
    "    Integer(1,20,name='n_neurons_per_layer'),\n",
    "    Real(0.5,0.9,name = 'regressor__reg__beta_1'),\n",
    "    Real(0.5,0.9,name = 'regressor__reg__beta_2'),\n",
    "    Real(1e-7, 1e-5, name = 'regressor__reg__epsilon'),\n",
    "    Categorical([StandardScaler(),MinMaxScaler(),RobustScaler()], name = \"regressor__scale\"),\n",
    "    Categorical([StandardScaler(),MinMaxScaler(),RobustScaler()], name = \"transformer\")\n",
    "    ]"
   ]
  },
  {
   "cell_type": "code",
   "execution_count": 7,
   "metadata": {},
   "outputs": [],
   "source": [
    "# Defining an optimizer\n",
    "def change_nn_params(params):\n",
    "    n_neurons=params['n_neurons_per_layer']\n",
    "    n_layers=params['n_hidden_layer']\n",
    "    \n",
    "    params['regressor__reg__hidden_layer_sizes']=(n_neurons,)*n_layers\n",
    "    \n",
    "    # the parameters are deleted to avoid an error from the MLPRegressor\n",
    "    params.pop('n_neurons_per_layer')\n",
    "    params.pop('n_hidden_layer')\n",
    "\n",
    "def gp_optimize(estim,x,y,space,cv,n_calls=150,n_random_starts=100,neural=False,\n",
    "                scoring=\"neg_mean_absolute_percentage_error\", n_jobs_cv = -1,\n",
    "                n_jobs_opt = -1, verbose= 0):\n",
    "  kf = KFold(n_splits=cv, shuffle=True, random_state=0)  \n",
    "  @use_named_args(space)\n",
    "  def objective(**params):\n",
    "      if neural == True:\n",
    "        change_nn_params(params)\n",
    "\n",
    "      estim.set_params(**params)\n",
    "      \n",
    "      mean_score = -np.mean(cross_val_score(estim, x, y, cv=cv, scoring=scoring, n_jobs = n_jobs_cv, error_score= -100))\n",
    "\n",
    "      if mean_score > 1000:\n",
    "         mean_score = 100\n",
    "         \n",
    "      return mean_score\n",
    "  \n",
    "\n",
    "  gp_optimize.opt = gp_minimize(objective, space, n_calls=n_calls, random_state=0, \n",
    "                                n_random_starts=n_random_starts,verbose=verbose, n_jobs = n_jobs_opt)\n",
    "  #print(\"Os hiper parâmetros que minimizam são: \", gp_optimize.opt.x)\n",
    "  return gp_optimize.opt"
   ]
  },
  {
   "attachments": {},
   "cell_type": "markdown",
   "metadata": {},
   "source": [
    "# 17 Molecules"
   ]
  },
  {
   "cell_type": "code",
   "execution_count": 8,
   "metadata": {},
   "outputs": [
    {
     "data": {
      "text/plain": [
       "((17, 3), (17, 1))"
      ]
     },
     "execution_count": 8,
     "metadata": {},
     "output_type": "execute_result"
    }
   ],
   "source": [
    "x_partial = df_partial[['axx', 'ayy', 'azz']]\n",
    "y_partial = df_partial[['Expt']]\n",
    "x_partial.shape, y_partial.shape"
   ]
  },
  {
   "cell_type": "code",
   "execution_count": 9,
   "metadata": {},
   "outputs": [
    {
     "name": "stdout",
     "output_type": "stream",
     "text": [
      "/home/miguel/Documentos/Master-Degree-Research/Positron-Binding-Energy/src\n"
     ]
    }
   ],
   "source": [
    "%cd '/home/miguel/Documentos/Master-Degree-Research/Positron-Binding-Energy/src'"
   ]
  },
  {
   "cell_type": "code",
   "execution_count": 10,
   "metadata": {},
   "outputs": [
    {
     "data": {
      "text/html": [
       "<div>\n",
       "<style scoped>\n",
       "    .dataframe tbody tr th:only-of-type {\n",
       "        vertical-align: middle;\n",
       "    }\n",
       "\n",
       "    .dataframe tbody tr th {\n",
       "        vertical-align: top;\n",
       "    }\n",
       "\n",
       "    .dataframe thead th {\n",
       "        text-align: right;\n",
       "    }\n",
       "</style>\n",
       "<table border=\"1\" class=\"dataframe\">\n",
       "  <thead>\n",
       "    <tr style=\"text-align: right;\">\n",
       "      <th></th>\n",
       "      <th>axx</th>\n",
       "      <th>ayy</th>\n",
       "      <th>azz</th>\n",
       "    </tr>\n",
       "  </thead>\n",
       "  <tbody>\n",
       "    <tr>\n",
       "      <th>0</th>\n",
       "      <td>9.31</td>\n",
       "      <td>7.68</td>\n",
       "      <td>7.24</td>\n",
       "    </tr>\n",
       "    <tr>\n",
       "      <th>1</th>\n",
       "      <td>11.72</td>\n",
       "      <td>9.39</td>\n",
       "      <td>8.74</td>\n",
       "    </tr>\n",
       "    <tr>\n",
       "      <th>2</th>\n",
       "      <td>14.32</td>\n",
       "      <td>10.99</td>\n",
       "      <td>10.23</td>\n",
       "    </tr>\n",
       "    <tr>\n",
       "      <th>3</th>\n",
       "      <td>16.91</td>\n",
       "      <td>12.66</td>\n",
       "      <td>11.72</td>\n",
       "    </tr>\n",
       "    <tr>\n",
       "      <th>4</th>\n",
       "      <td>19.60</td>\n",
       "      <td>14.26</td>\n",
       "      <td>13.19</td>\n",
       "    </tr>\n",
       "    <tr>\n",
       "      <th>5</th>\n",
       "      <td>21.31</td>\n",
       "      <td>14.93</td>\n",
       "      <td>14.01</td>\n",
       "    </tr>\n",
       "    <tr>\n",
       "      <th>6</th>\n",
       "      <td>5.43</td>\n",
       "      <td>3.77</td>\n",
       "      <td>3.35</td>\n",
       "    </tr>\n",
       "    <tr>\n",
       "      <th>7</th>\n",
       "      <td>5.75</td>\n",
       "      <td>5.75</td>\n",
       "      <td>5.04</td>\n",
       "    </tr>\n",
       "    <tr>\n",
       "      <th>8</th>\n",
       "      <td>11.29</td>\n",
       "      <td>11.29</td>\n",
       "      <td>9.78</td>\n",
       "    </tr>\n",
       "    <tr>\n",
       "      <th>9</th>\n",
       "      <td>12.27</td>\n",
       "      <td>12.27</td>\n",
       "      <td>6.67</td>\n",
       "    </tr>\n",
       "    <tr>\n",
       "      <th>10</th>\n",
       "      <td>25.71</td>\n",
       "      <td>18.70</td>\n",
       "      <td>9.83</td>\n",
       "    </tr>\n",
       "    <tr>\n",
       "      <th>11</th>\n",
       "      <td>9.76</td>\n",
       "      <td>9.07</td>\n",
       "      <td>6.12</td>\n",
       "    </tr>\n",
       "    <tr>\n",
       "      <th>12</th>\n",
       "      <td>10.88</td>\n",
       "      <td>9.85</td>\n",
       "      <td>8.86</td>\n",
       "    </tr>\n",
       "    <tr>\n",
       "      <th>13</th>\n",
       "      <td>6.84</td>\n",
       "      <td>6.06</td>\n",
       "      <td>5.73</td>\n",
       "    </tr>\n",
       "    <tr>\n",
       "      <th>14</th>\n",
       "      <td>15.10</td>\n",
       "      <td>13.93</td>\n",
       "      <td>7.81</td>\n",
       "    </tr>\n",
       "    <tr>\n",
       "      <th>15</th>\n",
       "      <td>12.53</td>\n",
       "      <td>6.72</td>\n",
       "      <td>5.56</td>\n",
       "    </tr>\n",
       "    <tr>\n",
       "      <th>16</th>\n",
       "      <td>13.90</td>\n",
       "      <td>5.23</td>\n",
       "      <td>5.23</td>\n",
       "    </tr>\n",
       "  </tbody>\n",
       "</table>\n",
       "</div>"
      ],
      "text/plain": [
       "      axx    ayy    azz\n",
       "0    9.31   7.68   7.24\n",
       "1   11.72   9.39   8.74\n",
       "2   14.32  10.99  10.23\n",
       "3   16.91  12.66  11.72\n",
       "4   19.60  14.26  13.19\n",
       "5   21.31  14.93  14.01\n",
       "6    5.43   3.77   3.35\n",
       "7    5.75   5.75   5.04\n",
       "8   11.29  11.29   9.78\n",
       "9   12.27  12.27   6.67\n",
       "10  25.71  18.70   9.83\n",
       "11   9.76   9.07   6.12\n",
       "12  10.88   9.85   8.86\n",
       "13   6.84   6.06   5.73\n",
       "14  15.10  13.93   7.81\n",
       "15  12.53   6.72   5.56\n",
       "16  13.90   5.23   5.23"
      ]
     },
     "execution_count": 10,
     "metadata": {},
     "output_type": "execute_result"
    }
   ],
   "source": [
    "x_partial"
   ]
  },
  {
   "cell_type": "code",
   "execution_count": 11,
   "metadata": {},
   "outputs": [
    {
     "data": {
      "text/plain": [
       "8.076666666666668"
      ]
     },
     "execution_count": 11,
     "metadata": {},
     "output_type": "execute_result"
    }
   ],
   "source": [
    "(9.31 + 7.68 + 7.24)/3"
   ]
  },
  {
   "cell_type": "code",
   "execution_count": 12,
   "metadata": {},
   "outputs": [],
   "source": [
    "from sklearn.compose import ColumnTransformer\n",
    "from sklearn.preprocessing import scale\n",
    "\n",
    "ct = ColumnTransformer([('scale', scale(x_partial, axis=1), ['axx', 'ayy', 'azz'])], remainder='passthrough')\n",
    "x_scale = scale(x_partial, axis=1, with_mean=True, with_std=False)"
   ]
  },
  {
   "cell_type": "code",
   "execution_count": 13,
   "metadata": {},
   "outputs": [],
   "source": [
    "import seaborn as sns\n",
    "import matplotlib.pyplot as plt\n",
    "\n",
    "x_partial = x_scale\n"
   ]
  },
  {
   "cell_type": "code",
   "execution_count": 14,
   "metadata": {},
   "outputs": [
    {
     "data": {
      "text/plain": [
       "<AxesSubplot:ylabel='Density'>"
      ]
     },
     "execution_count": 14,
     "metadata": {},
     "output_type": "execute_result"
    },
    {
     "data": {
      "image/png": "[encoded data removed]",
      "text/plain": [
       "<Figure size 640x480 with 1 Axes>"
      ]
     },
     "metadata": {},
     "output_type": "display_data"
    }
   ],
   "source": [
    "sns.kdeplot(x_partial)"
   ]
  },
  {
   "cell_type": "code",
   "execution_count": null,
   "metadata": {},
   "outputs": [],
   "source": []
  },
  {
   "cell_type": "code",
   "execution_count": 15,
   "metadata": {},
   "outputs": [],
   "source": [
    "x_partial\n",
    "\n",
    "square = x_partial**2\n",
    "square_sum = square.sum(axis=1)\n",
    "sqrt = np.sqrt(square_sum)\n",
    "sqrt = sqrt.reshape(17,1)\n",
    "x_norm = x_partial/sqrt"
   ]
  },
  {
   "cell_type": "code",
   "execution_count": 16,
   "metadata": {},
   "outputs": [
    {
     "data": {
      "text/plain": [
       "<AxesSubplot:ylabel='Density'>"
      ]
     },
     "execution_count": 16,
     "metadata": {},
     "output_type": "execute_result"
    },
    {
     "data": {
      "image/png": "[encoded data removed]",
      "text/plain": [
       "<Figure size 640x480 with 1 Axes>"
      ]
     },
     "metadata": {},
     "output_type": "display_data"
    }
   ],
   "source": [
    "sns.kdeplot(x_norm)"
   ]
  },
  {
   "cell_type": "code",
   "execution_count": 17,
   "metadata": {},
   "outputs": [
    {
     "name": "stdout",
     "output_type": "stream",
     "text": [
      "Test Scores: [0.12865012 0.08854649 0.41101044 3.00343185 0.55863506 0.45231975\n",
      " 1.35487505 1.52419145 6.91405035 0.74861748]\n",
      "Mean Test Scores: 1.52\n",
      "Std of Scores: 1.98\n",
      "Min and Max of Scores: 0.09, 6.91\n",
      "\n",
      "Train Score: 0.84\n",
      "\n"
     ]
    }
   ],
   "source": [
    "from utils.evaluation import show_metrics\n",
    "\n",
    "pipe_elastic = Pipeline([('poli', PolynomialFeatures()), ('scale', MinMaxScaler()),  ('reg', Ridge(max_iter=30000))])\n",
    "ridge = TransformedTargetRegressor(regressor = pipe_elastic, transformer = StandardScaler())\n",
    "\n",
    "show_metrics(svr, x_partial, y_partial, 10)"
   ]
  },
  {
   "cell_type": "code",
   "execution_count": 18,
   "metadata": {},
   "outputs": [
    {
     "name": "stdout",
     "output_type": "stream",
     "text": [
      "Test Scores: [0.12865012 0.08854649 0.41101044 3.00343185 0.55863506 0.45231975\n",
      " 1.35487505 1.52419145 6.91405035 0.74861748]\n",
      "Mean Test Scores: 1.52\n",
      "Std of Scores: 1.98\n",
      "Min and Max of Scores: 0.09, 6.91\n",
      "\n",
      "Train Score: 0.84\n",
      "\n"
     ]
    }
   ],
   "source": [
    "from utils.evaluation import show_metrics\n",
    "\n",
    "pipe_elastic = Pipeline([('poli', PolynomialFeatures()), ('scale', ct),  ('reg', Ridge(max_iter=30000))])\n",
    "ridge = TransformedTargetRegressor(regressor = pipe_elastic, transformer = StandardScaler())\n",
    "\n",
    "show_metrics(svr, x_partial, y_partial, 10)"
   ]
  }
 ],
 "metadata": {
  "kernelspec": {
   "display_name": "base",
   "language": "python",
   "name": "python3"
  },
  "language_info": {
   "codemirror_mode": {
    "name": "ipython",
    "version": 3
   },
   "file_extension": ".py",
   "mimetype": "text/x-python",
   "name": "python",
   "nbconvert_exporter": "python",
   "pygments_lexer": "ipython3",
   "version": "3.9.12"
  },
  "orig_nbformat": 4
 },
 "nbformat": 4,
 "nbformat_minor": 2
}
