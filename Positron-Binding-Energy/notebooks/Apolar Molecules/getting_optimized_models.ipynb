{
 "cells": [
  {
   "cell_type": "code",
   "execution_count": 1,
   "metadata": {},
   "outputs": [],
   "source": [
    "import pandas as pd\n",
    "import numpy as np"
   ]
  },
  {
   "cell_type": "code",
   "execution_count": 10,
   "metadata": {},
   "outputs": [
    {
     "data": {
      "text/html": [
       "<div>\n",
       "<style scoped>\n",
       "    .dataframe tbody tr th:only-of-type {\n",
       "        vertical-align: middle;\n",
       "    }\n",
       "\n",
       "    .dataframe tbody tr th {\n",
       "        vertical-align: top;\n",
       "    }\n",
       "\n",
       "    .dataframe thead th {\n",
       "        text-align: right;\n",
       "    }\n",
       "</style>\n",
       "<table border=\"1\" class=\"dataframe\">\n",
       "  <thead>\n",
       "    <tr style=\"text-align: right;\">\n",
       "      <th></th>\n",
       "      <th>Molecule</th>\n",
       "      <th>Formula</th>\n",
       "      <th>Ei</th>\n",
       "      <th>Alpha</th>\n",
       "      <th>Expt</th>\n",
       "      <th>axx</th>\n",
       "      <th>ayy</th>\n",
       "      <th>azz</th>\n",
       "      <th>pi_bond</th>\n",
       "    </tr>\n",
       "  </thead>\n",
       "  <tbody>\n",
       "    <tr>\n",
       "      <th>0</th>\n",
       "      <td>Butane</td>\n",
       "      <td>C4H10</td>\n",
       "      <td>10.6</td>\n",
       "      <td>8.08</td>\n",
       "      <td>35</td>\n",
       "      <td>9.31</td>\n",
       "      <td>7.68</td>\n",
       "      <td>7.24</td>\n",
       "      <td>0</td>\n",
       "    </tr>\n",
       "    <tr>\n",
       "      <th>1</th>\n",
       "      <td>Pentane</td>\n",
       "      <td>C5H12</td>\n",
       "      <td>10.4</td>\n",
       "      <td>9.95</td>\n",
       "      <td>60</td>\n",
       "      <td>11.72</td>\n",
       "      <td>9.39</td>\n",
       "      <td>8.74</td>\n",
       "      <td>0</td>\n",
       "    </tr>\n",
       "    <tr>\n",
       "      <th>2</th>\n",
       "      <td>Hexane</td>\n",
       "      <td>C6H14</td>\n",
       "      <td>10.2</td>\n",
       "      <td>11.85</td>\n",
       "      <td>80</td>\n",
       "      <td>14.32</td>\n",
       "      <td>10.99</td>\n",
       "      <td>10.23</td>\n",
       "      <td>0</td>\n",
       "    </tr>\n",
       "    <tr>\n",
       "      <th>3</th>\n",
       "      <td>Heptane</td>\n",
       "      <td>C7H16</td>\n",
       "      <td>9.9</td>\n",
       "      <td>13.76</td>\n",
       "      <td>105</td>\n",
       "      <td>16.91</td>\n",
       "      <td>12.66</td>\n",
       "      <td>11.72</td>\n",
       "      <td>0</td>\n",
       "    </tr>\n",
       "    <tr>\n",
       "      <th>4</th>\n",
       "      <td>Octane</td>\n",
       "      <td>C8H18</td>\n",
       "      <td>10.0</td>\n",
       "      <td>15.68</td>\n",
       "      <td>115</td>\n",
       "      <td>19.60</td>\n",
       "      <td>14.26</td>\n",
       "      <td>13.19</td>\n",
       "      <td>0</td>\n",
       "    </tr>\n",
       "  </tbody>\n",
       "</table>\n",
       "</div>"
      ],
      "text/plain": [
       "  Molecule Formula    Ei  Alpha  Expt    axx    ayy    azz  pi_bond\n",
       "0   Butane   C4H10  10.6   8.08    35   9.31   7.68   7.24        0\n",
       "1  Pentane   C5H12  10.4   9.95    60  11.72   9.39   8.74        0\n",
       "2   Hexane   C6H14  10.2  11.85    80  14.32  10.99  10.23        0\n",
       "3  Heptane   C7H16   9.9  13.76   105  16.91  12.66  11.72        0\n",
       "4   Octane   C8H18  10.0  15.68   115  19.60  14.26  13.19        0"
      ]
     },
     "execution_count": 10,
     "metadata": {},
     "output_type": "execute_result"
    }
   ],
   "source": [
    "df_all = pd.read_csv(\"../../data/processed/processed_apolar.csv\")\n",
    "df_partial = pd.read_csv(\"../../data/final/final_apolar.csv\")\n",
    "df_partial.head()"
   ]
  },
  {
   "cell_type": "code",
   "execution_count": 11,
   "metadata": {},
   "outputs": [
    {
     "data": {
      "text/html": [
       "<div>\n",
       "<style scoped>\n",
       "    .dataframe tbody tr th:only-of-type {\n",
       "        vertical-align: middle;\n",
       "    }\n",
       "\n",
       "    .dataframe tbody tr th {\n",
       "        vertical-align: top;\n",
       "    }\n",
       "\n",
       "    .dataframe thead th {\n",
       "        text-align: right;\n",
       "    }\n",
       "</style>\n",
       "<table border=\"1\" class=\"dataframe\">\n",
       "  <thead>\n",
       "    <tr style=\"text-align: right;\">\n",
       "      <th></th>\n",
       "      <th>Molecule</th>\n",
       "      <th>Formula</th>\n",
       "      <th>Ei</th>\n",
       "      <th>Alpha</th>\n",
       "      <th>Expt</th>\n",
       "      <th>pi_bond</th>\n",
       "    </tr>\n",
       "  </thead>\n",
       "  <tbody>\n",
       "    <tr>\n",
       "      <th>0</th>\n",
       "      <td>Butane</td>\n",
       "      <td>C4H10</td>\n",
       "      <td>10.6</td>\n",
       "      <td>8.1</td>\n",
       "      <td>35</td>\n",
       "      <td>0</td>\n",
       "    </tr>\n",
       "    <tr>\n",
       "      <th>1</th>\n",
       "      <td>Pentane</td>\n",
       "      <td>C5H12</td>\n",
       "      <td>10.4</td>\n",
       "      <td>10.0</td>\n",
       "      <td>60</td>\n",
       "      <td>0</td>\n",
       "    </tr>\n",
       "    <tr>\n",
       "      <th>2</th>\n",
       "      <td>Hexane</td>\n",
       "      <td>C6H14</td>\n",
       "      <td>10.2</td>\n",
       "      <td>11.8</td>\n",
       "      <td>80</td>\n",
       "      <td>0</td>\n",
       "    </tr>\n",
       "    <tr>\n",
       "      <th>3</th>\n",
       "      <td>Heptane</td>\n",
       "      <td>C7H16</td>\n",
       "      <td>9.9</td>\n",
       "      <td>13.7</td>\n",
       "      <td>105</td>\n",
       "      <td>0</td>\n",
       "    </tr>\n",
       "    <tr>\n",
       "      <th>4</th>\n",
       "      <td>Octane</td>\n",
       "      <td>C8H18</td>\n",
       "      <td>10.0</td>\n",
       "      <td>15.5</td>\n",
       "      <td>115</td>\n",
       "      <td>0</td>\n",
       "    </tr>\n",
       "  </tbody>\n",
       "</table>\n",
       "</div>"
      ],
      "text/plain": [
       "  Molecule Formula    Ei  Alpha  Expt  pi_bond\n",
       "0   Butane   C4H10  10.6    8.1    35        0\n",
       "1  Pentane   C5H12  10.4   10.0    60        0\n",
       "2   Hexane   C6H14  10.2   11.8    80        0\n",
       "3  Heptane   C7H16   9.9   13.7   105        0\n",
       "4   Octane   C8H18  10.0   15.5   115        0"
      ]
     },
     "execution_count": 11,
     "metadata": {},
     "output_type": "execute_result"
    }
   ],
   "source": [
    "df_all.head()"
   ]
  },
  {
   "attachments": {},
   "cell_type": "markdown",
   "metadata": {},
   "source": [
    "# 20 Molecules"
   ]
  },
  {
   "cell_type": "code",
   "execution_count": 12,
   "metadata": {},
   "outputs": [
    {
     "data": {
      "text/plain": [
       "((20, 3), (20, 2), (20, 2), (20, 2), (20, 1))"
      ]
     },
     "execution_count": 12,
     "metadata": {},
     "output_type": "execute_result"
    }
   ],
   "source": [
    "# Separating between x's and y\n",
    "\n",
    "# For all molecules we'll have the following combination:\n",
    "# All Features; Ei + Alpha; Ei + Pi Bond; Alpha + Pi Bond\n",
    "\n",
    "x0_all = df_all[['Ei', 'Alpha', 'pi_bond']]\n",
    "x1_all = df_all[['Ei', 'Alpha']]\n",
    "x2_all = df_all[['Ei', 'pi_bond']]\n",
    "x3_all = df_all[['Alpha', 'pi_bond']]\n",
    "\n",
    "y_all = df_all[['Expt']].values\n",
    "\n",
    "x0_all.shape, x1_all.shape, x2_all.shape, x3_all.shape, y_all.shape\n"
   ]
  },
  {
   "cell_type": "code",
   "execution_count": null,
   "metadata": {},
   "outputs": [],
   "source": [
    "# Importing regressors and relevant functions\n",
    "\n",
    "from sklearn.neural_network import MLPRegressor\n",
    "from sklearn.svm import SVR\n",
    "from sklearn.linear_model import LinearRegression\n",
    "from xgboost import XGBRegressor\n",
    "from sklearn.pipeline import Pipeline\n",
    "from sklearn.preprocessing import PolynomialFeatures, StandardScaler, RobustScaler, MinMaxScaler\n",
    "from sklearn.compose import TransformedTargetRegressor\n",
    "from skopt.space.space import Real, Categorical, Integer"
   ]
  },
  {
   "cell_type": "code",
   "execution_count": null,
   "metadata": {},
   "outputs": [],
   "source": [
    "# Defining spaces to optimize\n",
    "\n",
    "pipe_elastic = Pipeline([('poli', PolynomialFeatures()), ('scaling', MinMaxScaler()),  ('reg', linear_model.Ridge(max_iter=30000))])\n",
    "ridge = TransformedTargetRegressor(regressor = pipe_elastic, transformer = StandardScaler())\n",
    "\n",
    "space_poli = [\n",
    "\n",
    "    Real(1e-5,100, 'log-uniform', name='regressor__reg__alpha'),\n",
    "    Categorical([True, False], name = 'regressor__reg__fit_intercept'),\n",
    "    Categorical([True, False], name = 'regressor__reg__copy_X'),\n",
    "    Integer(1,10,name='regressor__poli__degree'),\n",
    "    Categorical([True,False], name='regressor__poli__interaction_only'),\n",
    "    Categorical([True,False], name = 'regressor__poli__include_bias'),\n",
    "    Categorical([StandardScaler(),MinMaxScaler(),RobustScaler()], name = \"regressor__scaling\"),\n",
    "    Categorical([StandardScaler(),MinMaxScaler(),RobustScaler()], name = \"transformer\")\n",
    "\n",
    "]\n",
    "params_poli = [0.1847625735942012, False, False, 1, True, False, MinMaxScaler(), MinMaxScaler()]\n",
    "att_model(ridge, space_poli, params_poli)"
   ]
  },
  {
   "attachments": {},
   "cell_type": "markdown",
   "metadata": {},
   "source": [
    "# 17 Molecules"
   ]
  }
 ],
 "metadata": {
  "kernelspec": {
   "display_name": "poetry_master_degree",
   "language": "python",
   "name": "poetry_master_degree"
  },
  "language_info": {
   "codemirror_mode": {
    "name": "ipython",
    "version": 3
   },
   "file_extension": ".py",
   "mimetype": "text/x-python",
   "name": "python",
   "nbconvert_exporter": "python",
   "pygments_lexer": "ipython3",
   "version": "3.9.12"
  },
  "orig_nbformat": 4
 },
 "nbformat": 4,
 "nbformat_minor": 2
}
