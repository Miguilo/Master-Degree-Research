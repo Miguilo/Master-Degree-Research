{
 "cells": [
  {
   "cell_type": "code",
   "execution_count": 43,
   "metadata": {},
   "outputs": [],
   "source": [
    "import pandas as pd"
   ]
  },
  {
   "cell_type": "code",
   "execution_count": 44,
   "metadata": {},
   "outputs": [],
   "source": [
    "dict_of_dfs = {}"
   ]
  },
  {
   "cell_type": "code",
   "execution_count": 45,
   "metadata": {},
   "outputs": [],
   "source": [
    "# Importing apolar data\n",
    "apolar_all = pd.read_csv(\"../results/performances/apolar/all_test_score.csv\")\n",
    "apolar_partial_aniso = pd.read_csv(\"../results/performances/apolar/partial_aniso_test_score.csv\")\n",
    "apolar_partial_iso = pd.read_csv(\"../results/performances/apolar/partial_iso_test_score.csv\")\n",
    "\n",
    "apolar_dfs = [apolar_all, apolar_partial_aniso, apolar_partial_iso]\n",
    "apolar_names = [\"all apolar\", \"apolar anisotropy\", \"apolar isotropy\"]\n",
    "\n",
    "for i,j in zip(apolar_dfs, apolar_names):\n",
    "    dict_of_dfs[j] = i"
   ]
  },
  {
   "cell_type": "code",
   "execution_count": 46,
   "metadata": {},
   "outputs": [],
   "source": [
    "# Importing polar data\n",
    "polar_all = pd.read_csv(\"../results/performances/polar/all_test_score.csv\")\n",
    "polar_partial_aniso = pd.read_csv(\"../results/performances/polar/partial_aniso_test_score.csv\")\n",
    "polar_partial_iso = pd.read_csv(\"../results/performances/polar/partial_iso_test_score.csv\")\n",
    "\n",
    "polar_dfs = [polar_all, polar_partial_aniso, polar_partial_iso]\n",
    "polar_names = [\"all polar\", \"polar anisotropy\", \"polar isotropy\"]\n",
    "\n",
    "for i,j in zip(polar_dfs, polar_names):\n",
    "    dict_of_dfs[j] = i"
   ]
  },
  {
   "cell_type": "code",
   "execution_count": 47,
   "metadata": {},
   "outputs": [],
   "source": [
    "# importing mixed data\n",
    "polar_apolar_all = pd.read_csv(\"../results/performances/polar_apolar/all_test_score.csv\")\n",
    "polar_apolar_partial_aniso = pd.read_csv(\"../results/performances/polar_apolar/partial_aniso_test_score.csv\")\n",
    "polar_apolar_partial_iso = pd.read_csv(\"../results/performances/polar_apolar/partial_iso_test_score.csv\")\n",
    "\n",
    "polar_apolar_dfs = [polar_apolar_all, polar_apolar_partial_aniso, polar_apolar_partial_iso]\n",
    "polar_apolar_names = [\"all polar + apolar\", \"polar + apolar anisotropy\", \"polar + apolar isotropy\"]\n",
    "\n",
    "for i,j in zip(polar_apolar_dfs, polar_apolar_names):\n",
    "    dict_of_dfs[j] = i"
   ]
  },
  {
   "cell_type": "code",
   "execution_count": 49,
   "metadata": {},
   "outputs": [],
   "source": [
    "with pd.ExcelWriter(\"../results/performances/all_performances_polar_apolar.xlsx\") as writer:\n",
    "    for i in dict_of_dfs.keys():\n",
    "        dict_of_dfs[i].to_excel(writer, sheet_name = i)"
   ]
  }
 ],
 "metadata": {
  "language_info": {
   "name": "python"
  }
 },
 "nbformat": 4,
 "nbformat_minor": 2
}
