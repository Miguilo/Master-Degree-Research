{
 "cells": [
  {
   "cell_type": "code",
   "execution_count": 1,
   "metadata": {},
   "outputs": [],
   "source": [
    "import pandas as pd"
   ]
  },
  {
   "cell_type": "markdown",
   "metadata": {},
   "source": [
    "# Exporting Performances"
   ]
  },
  {
   "cell_type": "code",
   "execution_count": 44,
   "metadata": {},
   "outputs": [],
   "source": [
    "dict_of_dfs = {}"
   ]
  },
  {
   "cell_type": "code",
   "execution_count": 45,
   "metadata": {},
   "outputs": [],
   "source": [
    "# Importing apolar data\n",
    "apolar_all = pd.read_csv(\"../results/performances/apolar/all_test_score.csv\")\n",
    "apolar_partial_aniso = pd.read_csv(\"../results/performances/apolar/partial_aniso_test_score.csv\")\n",
    "apolar_partial_iso = pd.read_csv(\"../results/performances/apolar/partial_iso_test_score.csv\")\n",
    "\n",
    "apolar_dfs = [apolar_all, apolar_partial_aniso, apolar_partial_iso]\n",
    "apolar_names = [\"all apolar\", \"apolar anisotropy\", \"apolar isotropy\"]\n",
    "\n",
    "for i,j in zip(apolar_dfs, apolar_names):\n",
    "    dict_of_dfs[j] = i"
   ]
  },
  {
   "cell_type": "code",
   "execution_count": 46,
   "metadata": {},
   "outputs": [],
   "source": [
    "# Importing polar data\n",
    "polar_all = pd.read_csv(\"../results/performances/polar/all_test_score.csv\")\n",
    "polar_partial_aniso = pd.read_csv(\"../results/performances/polar/partial_aniso_test_score.csv\")\n",
    "polar_partial_iso = pd.read_csv(\"../results/performances/polar/partial_iso_test_score.csv\")\n",
    "\n",
    "polar_dfs = [polar_all, polar_partial_aniso, polar_partial_iso]\n",
    "polar_names = [\"all polar\", \"polar anisotropy\", \"polar isotropy\"]\n",
    "\n",
    "for i,j in zip(polar_dfs, polar_names):\n",
    "    dict_of_dfs[j] = i"
   ]
  },
  {
   "cell_type": "code",
   "execution_count": 47,
   "metadata": {},
   "outputs": [],
   "source": [
    "# importing mixed data\n",
    "polar_apolar_all = pd.read_csv(\"../results/performances/polar_apolar/all_test_score.csv\")\n",
    "polar_apolar_partial_aniso = pd.read_csv(\"../results/performances/polar_apolar/partial_aniso_test_score.csv\")\n",
    "polar_apolar_partial_iso = pd.read_csv(\"../results/performances/polar_apolar/partial_iso_test_score.csv\")\n",
    "\n",
    "polar_apolar_dfs = [polar_apolar_all, polar_apolar_partial_aniso, polar_apolar_partial_iso]\n",
    "polar_apolar_names = [\"all polar + apolar\", \"polar + apolar anisotropy\", \"polar + apolar isotropy\"]\n",
    "\n",
    "for i,j in zip(polar_apolar_dfs, polar_apolar_names):\n",
    "    dict_of_dfs[j] = i"
   ]
  },
  {
   "cell_type": "code",
   "execution_count": 49,
   "metadata": {},
   "outputs": [],
   "source": [
    "with pd.ExcelWriter(\"../results/performances/all_performances_polar_apolar.xlsx\") as writer:\n",
    "    for i in dict_of_dfs.keys():\n",
    "        dict_of_dfs[i].to_excel(writer, sheet_name = i)"
   ]
  },
  {
   "cell_type": "markdown",
   "metadata": {},
   "source": [
    "# Exporting Feature Importances"
   ]
  },
  {
   "cell_type": "code",
   "execution_count": 45,
   "metadata": {},
   "outputs": [],
   "source": [
    "def transform_fi_df(df):\n",
    "    pivoted_df = df.pivot(index=\"Models\", columns=\"Propriedade Molecular\", values = \"Feature Importance\")\n",
    "    reseted_index = pivoted_df.rename_axis(None, axis=1)\n",
    "\n",
    "    \n",
    "\n",
    "    return reseted_index"
   ]
  },
  {
   "cell_type": "code",
   "execution_count": 46,
   "metadata": {},
   "outputs": [],
   "source": [
    "dict_of_fi = {}"
   ]
  },
  {
   "cell_type": "code",
   "execution_count": 47,
   "metadata": {},
   "outputs": [],
   "source": [
    "# Import for apolar\n",
    "\n",
    "apolar_fi_all = transform_fi_df(pd.read_csv(\"../results/features_importance/apolar/all/all_molecules_FI.csv\"))\n",
    "apolar_fi_partial_aniso = transform_fi_df(pd.read_csv(\"../results/features_importance/apolar/all/partial_aniso_molecules_FI.csv\"))\n",
    "\n",
    "apolar_dfs_fi = [apolar_fi_all, apolar_fi_partial_aniso]\n",
    "apolar_names_fi = [\"all apolar\", \"apolar anisotropy\"]\n",
    "\n",
    "for i,j in zip(apolar_dfs_fi, apolar_names_fi):\n",
    "    dict_of_fi[j] = i"
   ]
  },
  {
   "cell_type": "code",
   "execution_count": 48,
   "metadata": {},
   "outputs": [],
   "source": [
    "# Import for polar\n",
    "\n",
    "polar_fi_all = transform_fi_df(pd.read_csv(\"../results/features_importance/polar/all/all_molecules_FI.csv\"))\n",
    "polar_fi_partial_aniso = transform_fi_df(pd.read_csv(\"../results/features_importance/polar/all/partial_aniso_molecules_FI.csv\"))\n",
    "\n",
    "polar_dfs_fi = [polar_fi_all, polar_fi_partial_aniso]\n",
    "polar_names_fi = [\"all polar\", \"polar anisotropy\"]\n",
    "\n",
    "for i,j in zip(polar_dfs_fi, polar_names_fi):\n",
    "    dict_of_fi[j] = i"
   ]
  },
  {
   "cell_type": "code",
   "execution_count": 49,
   "metadata": {},
   "outputs": [],
   "source": [
    "# Import for polar + apolar\n",
    "\n",
    "polar_apolar_fi_all = transform_fi_df(pd.read_csv(\"../results/features_importance/polar_apolar/all/all_molecules_FI.csv\"))\n",
    "polar_apolar_fi_partial_aniso = transform_fi_df(pd.read_csv(\"../results/features_importance/polar_apolar/all/partial_aniso_molecules_FI.csv\"))\n",
    "\n",
    "polar_apolar_dfs_fi = [polar_apolar_fi_all, polar_apolar_fi_partial_aniso]\n",
    "polar_apolar_names_fi = [\"all polar_apolar\", \"polar_apolar anisotropy\"]\n",
    "\n",
    "for i,j in zip(polar_apolar_dfs_fi, polar_apolar_names_fi):\n",
    "    dict_of_fi[j] = i"
   ]
  },
  {
   "cell_type": "code",
   "execution_count": 50,
   "metadata": {},
   "outputs": [],
   "source": [
    "with pd.ExcelWriter(\"../results/performances/all_FI_polar_apolar.xlsx\") as writer:\n",
    "    for i in dict_of_fi.keys():\n",
    "        dict_of_fi[i].to_excel(writer, sheet_name = i)"
   ]
  }
 ],
 "metadata": {
  "kernelspec": {
   "display_name": "pbe_for_molecules-3_zuPYnS-py3.11",
   "language": "python",
   "name": "python3"
  },
  "language_info": {
   "codemirror_mode": {
    "name": "ipython",
    "version": 3
   },
   "file_extension": ".py",
   "mimetype": "text/x-python",
   "name": "python",
   "nbconvert_exporter": "python",
   "pygments_lexer": "ipython3",
   "version": "3.11.4"
  }
 },
 "nbformat": 4,
 "nbformat_minor": 2
}
