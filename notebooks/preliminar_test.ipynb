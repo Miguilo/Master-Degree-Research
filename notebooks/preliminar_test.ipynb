{
 "cells": [
  {
   "cell_type": "code",
   "execution_count": 5,
   "metadata": {},
   "outputs": [],
   "source": [
    "import pandas as pd\n",
    "import numpy as np\n",
    "import pickle\n",
    "from sklearn.model_selection import cross_val_score, cross_val_predict\n",
    "import plotly.express as px\n"
   ]
  },
  {
   "cell_type": "code",
   "execution_count": 4,
   "metadata": {},
   "outputs": [
    {
     "data": {
      "text/plain": [
       "{1, 2, 3}"
      ]
     },
     "execution_count": 4,
     "metadata": {},
     "output_type": "execute_result"
    }
   ],
   "source": [
    "lista = [1,2,3,3]\n",
    "set1 = set(lista)\n",
    "\n",
    "set1."
   ]
  },
  {
   "cell_type": "markdown",
   "metadata": {},
   "source": [
    "Intuito aqui é relembrar pq as moléculas 2-2-Difluoropropane e 1-1-Dichloroethylene"
   ]
  },
  {
   "cell_type": "code",
   "execution_count": 6,
   "metadata": {},
   "outputs": [
    {
     "data": {
      "text/html": [
       "<div>\n",
       "<style scoped>\n",
       "    .dataframe tbody tr th:only-of-type {\n",
       "        vertical-align: middle;\n",
       "    }\n",
       "\n",
       "    .dataframe tbody tr th {\n",
       "        vertical-align: top;\n",
       "    }\n",
       "\n",
       "    .dataframe thead th {\n",
       "        text-align: right;\n",
       "    }\n",
       "</style>\n",
       "<table border=\"1\" class=\"dataframe\">\n",
       "  <thead>\n",
       "    <tr style=\"text-align: right;\">\n",
       "      <th></th>\n",
       "      <th>Molecule</th>\n",
       "      <th>Formula</th>\n",
       "      <th>Molecule Type</th>\n",
       "      <th>Ei</th>\n",
       "      <th>Alpha</th>\n",
       "      <th>AlphaB</th>\n",
       "      <th>axx</th>\n",
       "      <th>ayy</th>\n",
       "      <th>azz</th>\n",
       "      <th>Dipole</th>\n",
       "      <th>pi_bond</th>\n",
       "      <th>Expt</th>\n",
       "    </tr>\n",
       "  </thead>\n",
       "  <tbody>\n",
       "    <tr>\n",
       "      <th>27</th>\n",
       "      <td>2-2-Difluoropropane</td>\n",
       "      <td>C3H6F2</td>\n",
       "      <td>Other</td>\n",
       "      <td>11.42</td>\n",
       "      <td>6.1100</td>\n",
       "      <td>NaN</td>\n",
       "      <td>NaN</td>\n",
       "      <td>NaN</td>\n",
       "      <td>NaN</td>\n",
       "      <td>2.50</td>\n",
       "      <td>0</td>\n",
       "      <td>25.0</td>\n",
       "    </tr>\n",
       "    <tr>\n",
       "      <th>33</th>\n",
       "      <td>1-1-Dichloroethylene</td>\n",
       "      <td>C2H2Cl2</td>\n",
       "      <td>Chlorated</td>\n",
       "      <td>9.81</td>\n",
       "      <td>8.0926</td>\n",
       "      <td>8.0926</td>\n",
       "      <td>9.549</td>\n",
       "      <td>9.153</td>\n",
       "      <td>5.576</td>\n",
       "      <td>1.75</td>\n",
       "      <td>1</td>\n",
       "      <td>30.0</td>\n",
       "    </tr>\n",
       "  </tbody>\n",
       "</table>\n",
       "</div>"
      ],
      "text/plain": [
       "                Molecule  Formula Molecule Type     Ei   Alpha  AlphaB    axx  \\\n",
       "27   2-2-Difluoropropane   C3H6F2         Other  11.42  6.1100     NaN    NaN   \n",
       "33  1-1-Dichloroethylene  C2H2Cl2     Chlorated   9.81  8.0926  8.0926  9.549   \n",
       "\n",
       "      ayy    azz  Dipole  pi_bond  Expt  \n",
       "27    NaN    NaN    2.50        0  25.0  \n",
       "33  9.153  5.576    1.75        1  30.0  "
      ]
     },
     "execution_count": 6,
     "metadata": {},
     "output_type": "execute_result"
    }
   ],
   "source": [
    "df_pol_raw = pd.read_csv(\"../data/raw/polar_molecules.CSV\")\n",
    "df_pol_processed = pd.read_csv(\"../data/processed/processed_polar.csv\")\n",
    "df_pol_raw.iloc[[27,33]]"
   ]
  },
  {
   "cell_type": "code",
   "execution_count": 7,
   "metadata": {},
   "outputs": [],
   "source": [
    "df_all_pol = pd.concat((df_pol_processed, df_pol_raw.iloc[[27,33]]), axis = 0, join = \"inner\")\n",
    "df_all_pol.reset_index(inplace=True, drop=True)"
   ]
  },
  {
   "cell_type": "code",
   "execution_count": 8,
   "metadata": {},
   "outputs": [
    {
     "data": {
      "text/html": [
       "<div>\n",
       "<style scoped>\n",
       "    .dataframe tbody tr th:only-of-type {\n",
       "        vertical-align: middle;\n",
       "    }\n",
       "\n",
       "    .dataframe tbody tr th {\n",
       "        vertical-align: top;\n",
       "    }\n",
       "\n",
       "    .dataframe thead th {\n",
       "        text-align: right;\n",
       "    }\n",
       "</style>\n",
       "<table border=\"1\" class=\"dataframe\">\n",
       "  <thead>\n",
       "    <tr style=\"text-align: right;\">\n",
       "      <th></th>\n",
       "      <th>Molecule</th>\n",
       "      <th>Formula</th>\n",
       "      <th>Ei</th>\n",
       "      <th>Alpha</th>\n",
       "      <th>Dipole</th>\n",
       "      <th>pi_bond</th>\n",
       "      <th>Expt</th>\n",
       "    </tr>\n",
       "  </thead>\n",
       "  <tbody>\n",
       "    <tr>\n",
       "      <th>33</th>\n",
       "      <td>Trichloroethylene</td>\n",
       "      <td>C2HCl3</td>\n",
       "      <td>9.46</td>\n",
       "      <td>10.2000</td>\n",
       "      <td>1.10</td>\n",
       "      <td>1</td>\n",
       "      <td>50.0</td>\n",
       "    </tr>\n",
       "    <tr>\n",
       "      <th>34</th>\n",
       "      <td>1-Chloropropane</td>\n",
       "      <td>C3H7Cl</td>\n",
       "      <td>10.81</td>\n",
       "      <td>8.2110</td>\n",
       "      <td>2.54</td>\n",
       "      <td>0</td>\n",
       "      <td>98.0</td>\n",
       "    </tr>\n",
       "    <tr>\n",
       "      <th>35</th>\n",
       "      <td>2-Chloropropane</td>\n",
       "      <td>C3H7Cl</td>\n",
       "      <td>10.79</td>\n",
       "      <td>8.2110</td>\n",
       "      <td>2.57</td>\n",
       "      <td>0</td>\n",
       "      <td>113.0</td>\n",
       "    </tr>\n",
       "    <tr>\n",
       "      <th>36</th>\n",
       "      <td>2-2-Difluoropropane</td>\n",
       "      <td>C3H6F2</td>\n",
       "      <td>11.42</td>\n",
       "      <td>6.1100</td>\n",
       "      <td>2.50</td>\n",
       "      <td>0</td>\n",
       "      <td>25.0</td>\n",
       "    </tr>\n",
       "    <tr>\n",
       "      <th>37</th>\n",
       "      <td>1-1-Dichloroethylene</td>\n",
       "      <td>C2H2Cl2</td>\n",
       "      <td>9.81</td>\n",
       "      <td>8.0926</td>\n",
       "      <td>1.75</td>\n",
       "      <td>1</td>\n",
       "      <td>30.0</td>\n",
       "    </tr>\n",
       "  </tbody>\n",
       "</table>\n",
       "</div>"
      ],
      "text/plain": [
       "                Molecule  Formula     Ei    Alpha  Dipole  pi_bond   Expt\n",
       "33     Trichloroethylene   C2HCl3   9.46  10.2000    1.10        1   50.0\n",
       "34       1-Chloropropane   C3H7Cl  10.81   8.2110    2.54        0   98.0\n",
       "35       2-Chloropropane   C3H7Cl  10.79   8.2110    2.57        0  113.0\n",
       "36   2-2-Difluoropropane   C3H6F2  11.42   6.1100    2.50        0   25.0\n",
       "37  1-1-Dichloroethylene  C2H2Cl2   9.81   8.0926    1.75        1   30.0"
      ]
     },
     "execution_count": 8,
     "metadata": {},
     "output_type": "execute_result"
    }
   ],
   "source": [
    "df_all_pol.tail()"
   ]
  },
  {
   "cell_type": "code",
   "execution_count": 17,
   "metadata": {},
   "outputs": [
    {
     "data": {
      "application/vnd.plotly.v1+json": {
       "config": {
        "plotlyServerURL": "https://plot.ly"
       },
       "data": [
        {
         "dimensions": [
          {
           "axis": {
            "matches": true
           },
           "label": "Ei",
           "values": [
            10.48
           ]
          },
          {
           "axis": {
            "matches": true
           },
           "label": "Alpha",
           "values": [
            11.31
           ]
          },
          {
           "axis": {
            "matches": true
           },
           "label": "Dipole",
           "values": [
            0.91
           ]
          },
          {
           "axis": {
            "matches": true
           },
           "label": "pi_bond",
           "values": [
            0
           ]
          },
          {
           "axis": {
            "matches": true
           },
           "label": "Expt",
           "values": [
            130
           ]
          }
         ],
         "hovertemplate": "Molecule=Bromoform<br>%{xaxis.title.text}=%{x}<br>%{yaxis.title.text}=%{y}<extra></extra>",
         "legendgroup": "Bromoform",
         "marker": {
          "color": "blue",
          "symbol": "circle"
         },
         "name": "Bromoform",
         "showlegend": true,
         "type": "splom"
        },
        {
         "dimensions": [
          {
           "axis": {
            "matches": true
           },
           "label": "Ei",
           "values": [
            9.26
           ]
          },
          {
           "axis": {
            "matches": true
           },
           "label": "Alpha",
           "values": [
            8.97
           ]
          },
          {
           "axis": {
            "matches": true
           },
           "label": "Dipole",
           "values": [
            3.31
           ]
          },
          {
           "axis": {
            "matches": true
           },
           "label": "pi_bond",
           "values": [
            1
           ]
          },
          {
           "axis": {
            "matches": true
           },
           "label": "Expt",
           "values": [
            230
           ]
          }
         ],
         "hovertemplate": "Molecule=Cyclopentanone<br>%{xaxis.title.text}=%{x}<br>%{yaxis.title.text}=%{y}<extra></extra>",
         "legendgroup": "Cyclopentanone",
         "marker": {
          "color": "blue",
          "symbol": "circle"
         },
         "name": "Cyclopentanone",
         "showlegend": true,
         "type": "splom"
        },
        {
         "dimensions": [
          {
           "axis": {
            "matches": true
           },
           "label": "Ei",
           "values": [
            10.01
           ]
          },
          {
           "axis": {
            "matches": true
           },
           "label": "Alpha",
           "values": [
            8.68
           ]
          },
          {
           "axis": {
            "matches": true
           },
           "label": "Dipole",
           "values": [
            2.13
           ]
          },
          {
           "axis": {
            "matches": true
           },
           "label": "pi_bond",
           "values": [
            1
           ]
          },
          {
           "axis": {
            "matches": true
           },
           "label": "Expt",
           "values": [
            160
           ]
          }
         ],
         "hovertemplate": "Molecule=Ethyl Acetate(conformer1)<br>%{xaxis.title.text}=%{x}<br>%{yaxis.title.text}=%{y}<extra></extra>",
         "legendgroup": "Ethyl Acetate(conformer1)",
         "marker": {
          "color": "blue",
          "symbol": "circle"
         },
         "name": "Ethyl Acetate(conformer1)",
         "showlegend": true,
         "type": "splom"
        },
        {
         "dimensions": [
          {
           "axis": {
            "matches": true
           },
           "label": "Ei",
           "values": [
            9.99
           ]
          },
          {
           "axis": {
            "matches": true
           },
           "label": "Alpha",
           "values": [
            8.54
           ]
          },
          {
           "axis": {
            "matches": true
           },
           "label": "Dipole",
           "values": [
            1.59
           ]
          },
          {
           "axis": {
            "matches": true
           },
           "label": "pi_bond",
           "values": [
            0
           ]
          },
          {
           "axis": {
            "matches": true
           },
           "label": "Expt",
           "values": [
            102
           ]
          }
         ],
         "hovertemplate": "Molecule=1-Butanol<br>%{xaxis.title.text}=%{x}<br>%{yaxis.title.text}=%{y}<extra></extra>",
         "legendgroup": "1-Butanol",
         "marker": {
          "color": "blue",
          "symbol": "circle"
         },
         "name": "1-Butanol",
         "showlegend": true,
         "type": "splom"
        },
        {
         "dimensions": [
          {
           "axis": {
            "matches": true
           },
           "label": "Ei",
           "values": [
            11.37
           ]
          },
          {
           "axis": {
            "matches": true
           },
           "label": "Alpha",
           "values": [
            8.19
           ]
          },
          {
           "axis": {
            "matches": true
           },
           "label": "Dipole",
           "values": [
            1.13
           ]
          },
          {
           "axis": {
            "matches": true
           },
           "label": "pi_bond",
           "values": [
            0
           ]
          },
          {
           "axis": {
            "matches": true
           },
           "label": "Expt",
           "values": [
            50
           ]
          }
         ],
         "hovertemplate": "Molecule=Chloroform<br>%{xaxis.title.text}=%{x}<br>%{yaxis.title.text}=%{y}<extra></extra>",
         "legendgroup": "Chloroform",
         "marker": {
          "color": "blue",
          "symbol": "circle"
         },
         "name": "Chloroform",
         "showlegend": true,
         "type": "splom"
        },
        {
         "dimensions": [
          {
           "axis": {
            "matches": true
           },
           "label": "Ei",
           "values": [
            9.84
           ]
          },
          {
           "axis": {
            "matches": true
           },
           "label": "Alpha",
           "values": [
            8.05
           ]
          },
          {
           "axis": {
            "matches": true
           },
           "label": "Dipole",
           "values": [
            2.77
           ]
          },
          {
           "axis": {
            "matches": true
           },
           "label": "pi_bond",
           "values": [
            1
           ]
          },
          {
           "axis": {
            "matches": true
           },
           "label": "Expt",
           "values": [
            142
           ]
          }
         ],
         "hovertemplate": "Molecule=Butanal<br>%{xaxis.title.text}=%{x}<br>%{yaxis.title.text}=%{y}<extra></extra>",
         "legendgroup": "Butanal",
         "marker": {
          "color": "blue",
          "symbol": "circle"
         },
         "name": "Butanal",
         "showlegend": true,
         "type": "splom"
        },
        {
         "dimensions": [
          {
           "axis": {
            "matches": true
           },
           "label": "Ei",
           "values": [
            11.3
           ]
          },
          {
           "axis": {
            "matches": true
           },
           "label": "Alpha",
           "values": [
            8
           ]
          },
          {
           "axis": {
            "matches": true
           },
           "label": "Dipole",
           "values": [
            4.24
           ]
          },
          {
           "axis": {
            "matches": true
           },
           "label": "pi_bond",
           "values": [
            2
           ]
          },
          {
           "axis": {
            "matches": true
           },
           "label": "Expt",
           "values": [
            274
           ]
          }
         ],
         "hovertemplate": "Molecule=2-MethylPropionitrile<br>%{xaxis.title.text}=%{x}<br>%{yaxis.title.text}=%{y}<extra></extra>",
         "legendgroup": "2-MethylPropionitrile",
         "marker": {
          "color": "blue",
          "symbol": "circle"
         },
         "name": "2-MethylPropionitrile",
         "showlegend": true,
         "type": "splom"
        },
        {
         "dimensions": [
          {
           "axis": {
            "matches": true
           },
           "label": "Ei",
           "values": [
            10.3
           ]
          },
          {
           "axis": {
            "matches": true
           },
           "label": "Alpha",
           "values": [
            7.44
           ]
          },
          {
           "axis": {
            "matches": true
           },
           "label": "Dipole",
           "values": [
            0.46
           ]
          },
          {
           "axis": {
            "matches": true
           },
           "label": "pi_bond",
           "values": [
            1
           ]
          },
          {
           "axis": {
            "matches": true
           },
           "label": "Expt",
           "values": [
            102
           ]
          }
         ],
         "hovertemplate": "Molecule=Dimethylcarbonate<br>%{xaxis.title.text}=%{x}<br>%{yaxis.title.text}=%{y}<extra></extra>",
         "legendgroup": "Dimethylcarbonate",
         "marker": {
          "color": "blue",
          "symbol": "circle"
         },
         "name": "Dimethylcarbonate",
         "showlegend": true,
         "type": "splom"
        },
        {
         "dimensions": [
          {
           "axis": {
            "matches": true
           },
           "label": "Ei",
           "values": [
            10.61
           ]
          },
          {
           "axis": {
            "matches": true
           },
           "label": "Alpha",
           "values": [
            6.88
           ]
          },
          {
           "axis": {
            "matches": true
           },
           "label": "Dipole",
           "values": [
            2.24
           ]
          },
          {
           "axis": {
            "matches": true
           },
           "label": "pi_bond",
           "values": [
            1
           ]
          },
          {
           "axis": {
            "matches": true
           },
           "label": "Expt",
           "values": [
            103
           ]
          }
         ],
         "hovertemplate": "Molecule=Ethyl Formate<br>%{xaxis.title.text}=%{x}<br>%{yaxis.title.text}=%{y}<extra></extra>",
         "legendgroup": "Ethyl Formate",
         "marker": {
          "color": "blue",
          "symbol": "circle"
         },
         "name": "Ethyl Formate",
         "showlegend": true,
         "type": "splom"
        },
        {
         "dimensions": [
          {
           "axis": {
            "matches": true
           },
           "label": "Ei",
           "values": [
            10.25
           ]
          },
          {
           "axis": {
            "matches": true
           },
           "label": "Alpha",
           "values": [
            6.82
           ]
          },
          {
           "axis": {
            "matches": true
           },
           "label": "Dipole",
           "values": [
            1.96
           ]
          },
          {
           "axis": {
            "matches": true
           },
           "label": "pi_bond",
           "values": [
            1
           ]
          },
          {
           "axis": {
            "matches": true
           },
           "label": "Expt",
           "values": [
            122
           ]
          }
         ],
         "hovertemplate": "Molecule=Methyl Acetate<br>%{xaxis.title.text}=%{x}<br>%{yaxis.title.text}=%{y}<extra></extra>",
         "legendgroup": "Methyl Acetate",
         "marker": {
          "color": "blue",
          "symbol": "circle"
         },
         "name": "Methyl Acetate",
         "showlegend": true,
         "type": "splom"
        },
        {
         "dimensions": [
          {
           "axis": {
            "matches": true
           },
           "label": "Ei",
           "values": [
            10.17
           ]
          },
          {
           "axis": {
            "matches": true
           },
           "label": "Alpha",
           "values": [
            6.77
           ]
          },
          {
           "axis": {
            "matches": true
           },
           "label": "Dipole",
           "values": [
            1.64
           ]
          },
          {
           "axis": {
            "matches": true
           },
           "label": "pi_bond",
           "values": [
            0
           ]
          },
          {
           "axis": {
            "matches": true
           },
           "label": "Expt",
           "values": [
            87
           ]
          }
         ],
         "hovertemplate": "Molecule=2-Propanol<br>%{xaxis.title.text}=%{x}<br>%{yaxis.title.text}=%{y}<extra></extra>",
         "legendgroup": "2-Propanol",
         "marker": {
          "color": "blue",
          "symbol": "circle"
         },
         "name": "2-Propanol",
         "showlegend": true,
         "type": "splom"
        },
        {
         "dimensions": [
          {
           "axis": {
            "matches": true
           },
           "label": "Ei",
           "values": [
            10.18
           ]
          },
          {
           "axis": {
            "matches": true
           },
           "label": "Alpha",
           "values": [
            6.71
           ]
          },
          {
           "axis": {
            "matches": true
           },
           "label": "Dipole",
           "values": [
            1.69
           ]
          },
          {
           "axis": {
            "matches": true
           },
           "label": "pi_bond",
           "values": [
            0
           ]
          },
          {
           "axis": {
            "matches": true
           },
           "label": "Expt",
           "values": [
            70
           ]
          }
         ],
         "hovertemplate": "Molecule=1-Propanol<br>%{xaxis.title.text}=%{x}<br>%{yaxis.title.text}=%{y}<extra></extra>",
         "legendgroup": "1-Propanol",
         "marker": {
          "color": "blue",
          "symbol": "circle"
         },
         "name": "1-Propanol",
         "showlegend": true,
         "type": "splom"
        },
        {
         "dimensions": [
          {
           "axis": {
            "matches": true
           },
           "label": "Ei",
           "values": [
            9.7
           ]
          },
          {
           "axis": {
            "matches": true
           },
           "label": "Alpha",
           "values": [
            6.24
           ]
          },
          {
           "axis": {
            "matches": true
           },
           "label": "Dipole",
           "values": [
            3.15
           ]
          },
          {
           "axis": {
            "matches": true
           },
           "label": "pi_bond",
           "values": [
            1
           ]
          },
          {
           "axis": {
            "matches": true
           },
           "label": "Expt",
           "values": [
            173
           ]
          }
         ],
         "hovertemplate": "Molecule=Acetone<br>%{xaxis.title.text}=%{x}<br>%{yaxis.title.text}=%{y}<extra></extra>",
         "legendgroup": "Acetone",
         "marker": {
          "color": "blue",
          "symbol": "circle"
         },
         "name": "Acetone",
         "showlegend": true,
         "type": "splom"
        },
        {
         "dimensions": [
          {
           "axis": {
            "matches": true
           },
           "label": "Ei",
           "values": [
            9.96
           ]
          },
          {
           "axis": {
            "matches": true
           },
           "label": "Alpha",
           "values": [
            6.22
           ]
          },
          {
           "axis": {
            "matches": true
           },
           "label": "Dipole",
           "values": [
            2.84
           ]
          },
          {
           "axis": {
            "matches": true
           },
           "label": "pi_bond",
           "values": [
            1
           ]
          },
          {
           "axis": {
            "matches": true
           },
           "label": "Expt",
           "values": [
            118
           ]
          }
         ],
         "hovertemplate": "Molecule=Propanal<br>%{xaxis.title.text}=%{x}<br>%{yaxis.title.text}=%{y}<extra></extra>",
         "legendgroup": "Propanal",
         "marker": {
          "color": "blue",
          "symbol": "circle"
         },
         "name": "Propanal",
         "showlegend": true,
         "type": "splom"
        },
        {
         "dimensions": [
          {
           "axis": {
            "matches": true
           },
           "label": "Ei",
           "values": [
            11.84
           ]
          },
          {
           "axis": {
            "matches": true
           },
           "label": "Alpha",
           "values": [
            6.19
           ]
          },
          {
           "axis": {
            "matches": true
           },
           "label": "Dipole",
           "values": [
            4.21
           ]
          },
          {
           "axis": {
            "matches": true
           },
           "label": "pi_bond",
           "values": [
            2
           ]
          },
          {
           "axis": {
            "matches": true
           },
           "label": "Expt",
           "values": [
            245
           ]
          }
         ],
         "hovertemplate": "Molecule=Propionitrile<br>%{xaxis.title.text}=%{x}<br>%{yaxis.title.text}=%{y}<extra></extra>",
         "legendgroup": "Propionitrile",
         "marker": {
          "color": "blue",
          "symbol": "circle"
         },
         "name": "Propionitrile",
         "showlegend": true,
         "type": "splom"
        },
        {
         "dimensions": [
          {
           "axis": {
            "matches": true
           },
           "label": "Ei",
           "values": [
            11.3
           ]
          },
          {
           "axis": {
            "matches": true
           },
           "label": "Alpha",
           "values": [
            6.09
           ]
          },
          {
           "axis": {
            "matches": true
           },
           "label": "Dipole",
           "values": [
            2.07
           ]
          },
          {
           "axis": {
            "matches": true
           },
           "label": "pi_bond",
           "values": [
            0
           ]
          },
          {
           "axis": {
            "matches": true
           },
           "label": "Expt",
           "values": [
            35
           ]
          }
         ],
         "hovertemplate": "Molecule=1-Fluoropropane<br>%{xaxis.title.text}=%{x}<br>%{yaxis.title.text}=%{y}<extra></extra>",
         "legendgroup": "1-Fluoropropane",
         "marker": {
          "color": "blue",
          "symbol": "circle"
         },
         "name": "1-Fluoropropane",
         "showlegend": true,
         "type": "splom"
        },
        {
         "dimensions": [
          {
           "axis": {
            "matches": true
           },
           "label": "Ei",
           "values": [
            10.16
           ]
          },
          {
           "axis": {
            "matches": true
           },
           "label": "Alpha",
           "values": [
            5.57
           ]
          },
          {
           "axis": {
            "matches": true
           },
           "label": "Dipole",
           "values": [
            2.48
           ]
          },
          {
           "axis": {
            "matches": true
           },
           "label": "pi_bond",
           "values": [
            0
           ]
          },
          {
           "axis": {
            "matches": true
           },
           "label": "Expt",
           "values": [
            70
           ]
          }
         ],
         "hovertemplate": "Molecule=1-2-Ethanediol<br>%{xaxis.title.text}=%{x}<br>%{yaxis.title.text}=%{y}<extra></extra>",
         "legendgroup": "1-2-Ethanediol",
         "marker": {
          "color": "blue",
          "symbol": "circle"
         },
         "name": "1-2-Ethanediol",
         "showlegend": true,
         "type": "splom"
        },
        {
         "dimensions": [
          {
           "axis": {
            "matches": true
           },
           "label": "Ei",
           "values": [
            10.54
           ]
          },
          {
           "axis": {
            "matches": true
           },
           "label": "Alpha",
           "values": [
            5.26
           ]
          },
          {
           "axis": {
            "matches": true
           },
           "label": "Dipole",
           "values": [
            1.99
           ]
          },
          {
           "axis": {
            "matches": true
           },
           "label": "pi_bond",
           "values": [
            0
           ]
          },
          {
           "axis": {
            "matches": true
           },
           "label": "Expt",
           "values": [
            40
           ]
          }
         ],
         "hovertemplate": "Molecule=Bromomethane<br>%{xaxis.title.text}=%{x}<br>%{yaxis.title.text}=%{y}<extra></extra>",
         "legendgroup": "Bromomethane",
         "marker": {
          "color": "blue",
          "symbol": "circle"
         },
         "name": "Bromomethane",
         "showlegend": true,
         "type": "splom"
        },
        {
         "dimensions": [
          {
           "axis": {
            "matches": true
           },
           "label": "Ei",
           "values": [
            10.84
           ]
          },
          {
           "axis": {
            "matches": true
           },
           "label": "Alpha",
           "values": [
            5.01
           ]
          },
          {
           "axis": {
            "matches": true
           },
           "label": "Dipole",
           "values": [
            1.97
           ]
          },
          {
           "axis": {
            "matches": true
           },
           "label": "pi_bond",
           "values": [
            1
           ]
          },
          {
           "axis": {
            "matches": true
           },
           "label": "Expt",
           "values": [
            65
           ]
          }
         ],
         "hovertemplate": "Molecule=Methyl Formate<br>%{xaxis.title.text}=%{x}<br>%{yaxis.title.text}=%{y}<extra></extra>",
         "legendgroup": "Methyl Formate",
         "marker": {
          "color": "blue",
          "symbol": "circle"
         },
         "name": "Methyl Formate",
         "showlegend": true,
         "type": "splom"
        },
        {
         "dimensions": [
          {
           "axis": {
            "matches": true
           },
           "label": "Ei",
           "values": [
            10.43
           ]
          },
          {
           "axis": {
            "matches": true
           },
           "label": "Alpha",
           "values": [
            4.95
           ]
          },
          {
           "axis": {
            "matches": true
           },
           "label": "Dipole",
           "values": [
            1.72
           ]
          },
          {
           "axis": {
            "matches": true
           },
           "label": "pi_bond",
           "values": [
            0
           ]
          },
          {
           "axis": {
            "matches": true
           },
           "label": "Expt",
           "values": [
            43
           ]
          }
         ],
         "hovertemplate": "Molecule=Ethanol<br>%{xaxis.title.text}=%{x}<br>%{yaxis.title.text}=%{y}<extra></extra>",
         "legendgroup": "Ethanol",
         "marker": {
          "color": "blue",
          "symbol": "circle"
         },
         "name": "Ethanol",
         "showlegend": true,
         "type": "splom"
        },
        {
         "dimensions": [
          {
           "axis": {
            "matches": true
           },
           "label": "Ei",
           "values": [
            10.23
           ]
          },
          {
           "axis": {
            "matches": true
           },
           "label": "Alpha",
           "values": [
            4.49
           ]
          },
          {
           "axis": {
            "matches": true
           },
           "label": "Dipole",
           "values": [
            2.95
           ]
          },
          {
           "axis": {
            "matches": true
           },
           "label": "pi_bond",
           "values": [
            1
           ]
          },
          {
           "axis": {
            "matches": true
           },
           "label": "Expt",
           "values": [
            88
           ]
          }
         ],
         "hovertemplate": "Molecule=Acetaldehyde<br>%{xaxis.title.text}=%{x}<br>%{yaxis.title.text}=%{y}<extra></extra>",
         "legendgroup": "Acetaldehyde",
         "marker": {
          "color": "blue",
          "symbol": "circle"
         },
         "name": "Acetaldehyde",
         "showlegend": true,
         "type": "splom"
        },
        {
         "dimensions": [
          {
           "axis": {
            "matches": true
           },
           "label": "Ei",
           "values": [
            12.2
           ]
          },
          {
           "axis": {
            "matches": true
           },
           "label": "Alpha",
           "values": [
            4.39
           ]
          },
          {
           "axis": {
            "matches": true
           },
           "label": "Dipole",
           "values": [
            4.1
           ]
          },
          {
           "axis": {
            "matches": true
           },
           "label": "pi_bond",
           "values": [
            2
           ]
          },
          {
           "axis": {
            "matches": true
           },
           "label": "Expt",
           "values": [
            180
           ]
          }
         ],
         "hovertemplate": "Molecule=Acetonitrile<br>%{xaxis.title.text}=%{x}<br>%{yaxis.title.text}=%{y}<extra></extra>",
         "legendgroup": "Acetonitrile",
         "marker": {
          "color": "blue",
          "symbol": "circle"
         },
         "name": "Acetonitrile",
         "showlegend": true,
         "type": "splom"
        },
        {
         "dimensions": [
          {
           "axis": {
            "matches": true
           },
           "label": "Ei",
           "values": [
            11.22
           ]
          },
          {
           "axis": {
            "matches": true
           },
           "label": "Alpha",
           "values": [
            4.28
           ]
          },
          {
           "axis": {
            "matches": true
           },
           "label": "Dipole",
           "values": [
            2.06
           ]
          },
          {
           "axis": {
            "matches": true
           },
           "label": "pi_bond",
           "values": [
            0
           ]
          },
          {
           "axis": {
            "matches": true
           },
           "label": "Expt",
           "values": [
            25
           ]
          }
         ],
         "hovertemplate": "Molecule=Chloromethane<br>%{xaxis.title.text}=%{x}<br>%{yaxis.title.text}=%{y}<extra></extra>",
         "legendgroup": "Chloromethane",
         "marker": {
          "color": "blue",
          "symbol": "circle"
         },
         "name": "Chloromethane",
         "showlegend": true,
         "type": "splom"
        },
        {
         "dimensions": [
          {
           "axis": {
            "matches": true
           },
           "label": "Ei",
           "values": [
            10.85
           ]
          },
          {
           "axis": {
            "matches": true
           },
           "label": "Alpha",
           "values": [
            3.13
           ]
          },
          {
           "axis": {
            "matches": true
           },
           "label": "Dipole",
           "values": [
            1.67
           ]
          },
          {
           "axis": {
            "matches": true
           },
           "label": "pi_bond",
           "values": [
            0
           ]
          },
          {
           "axis": {
            "matches": true
           },
           "label": "Expt",
           "values": [
            20
           ]
          }
         ],
         "hovertemplate": "Molecule=Methanol<br>%{xaxis.title.text}=%{x}<br>%{yaxis.title.text}=%{y}<extra></extra>",
         "legendgroup": "Methanol",
         "marker": {
          "color": "blue",
          "symbol": "circle"
         },
         "name": "Methanol",
         "showlegend": true,
         "type": "splom"
        },
        {
         "dimensions": [
          {
           "axis": {
            "matches": true
           },
           "label": "Ei",
           "values": [
            9.7
           ]
          },
          {
           "axis": {
            "matches": true
           },
           "label": "Alpha",
           "values": [
            7.39
           ]
          },
          {
           "axis": {
            "matches": true
           },
           "label": "Dipole",
           "values": [
            0.25
           ]
          },
          {
           "axis": {
            "matches": true
           },
           "label": "pi_bond",
           "values": [
            0
           ]
          },
          {
           "axis": {
            "matches": true
           },
           "label": "Expt",
           "values": [
            78
           ]
          }
         ],
         "hovertemplate": "Molecule=Dimethoxymethane<br>%{xaxis.title.text}=%{x}<br>%{yaxis.title.text}=%{y}<extra></extra>",
         "legendgroup": "Dimethoxymethane",
         "marker": {
          "color": "blue",
          "symbol": "circle"
         },
         "name": "Dimethoxymethane",
         "showlegend": true,
         "type": "splom"
        },
        {
         "dimensions": [
          {
           "axis": {
            "matches": true
           },
           "label": "Ei",
           "values": [
            9.52
           ]
          },
          {
           "axis": {
            "matches": true
           },
           "label": "Alpha",
           "values": [
            7.99
           ]
          },
          {
           "axis": {
            "matches": true
           },
           "label": "Dipole",
           "values": [
            2.99
           ]
          },
          {
           "axis": {
            "matches": true
           },
           "label": "pi_bond",
           "values": [
            1
           ]
          },
          {
           "axis": {
            "matches": true
           },
           "label": "Expt",
           "values": [
            194
           ]
          }
         ],
         "hovertemplate": "Molecule=2-Butanone<br>%{xaxis.title.text}=%{x}<br>%{yaxis.title.text}=%{y}<extra></extra>",
         "legendgroup": "2-Butanone",
         "marker": {
          "color": "blue",
          "symbol": "circle"
         },
         "name": "2-Butanone",
         "showlegend": true,
         "type": "splom"
        },
        {
         "dimensions": [
          {
           "axis": {
            "matches": true
           },
           "label": "Ei",
           "values": [
            10.52
           ]
          },
          {
           "axis": {
            "matches": true
           },
           "label": "Alpha",
           "values": [
            8.7
           ]
          },
          {
           "axis": {
            "matches": true
           },
           "label": "Dipole",
           "values": [
            2.36
           ]
          },
          {
           "axis": {
            "matches": true
           },
           "label": "pi_bond",
           "values": [
            1
           ]
          },
          {
           "axis": {
            "matches": true
           },
           "label": "Expt",
           "values": [
            126
           ]
          }
         ],
         "hovertemplate": "Molecule=Propyl Formate<br>%{xaxis.title.text}=%{x}<br>%{yaxis.title.text}=%{y}<extra></extra>",
         "legendgroup": "Propyl Formate",
         "marker": {
          "color": "blue",
          "symbol": "circle"
         },
         "name": "Propyl Formate",
         "showlegend": true,
         "type": "splom"
        },
        {
         "dimensions": [
          {
           "axis": {
            "matches": true
           },
           "label": "Ei",
           "values": [
            10.25
           ]
          },
          {
           "axis": {
            "matches": true
           },
           "label": "Alpha",
           "values": [
            7.9
           ]
          },
          {
           "axis": {
            "matches": true
           },
           "label": "Dipole",
           "values": [
            2.15
           ]
          },
          {
           "axis": {
            "matches": true
           },
           "label": "pi_bond",
           "values": [
            0
           ]
          },
          {
           "axis": {
            "matches": true
           },
           "label": "Expt",
           "values": [
            70
           ]
          }
         ],
         "hovertemplate": "Molecule=1-Fluorobutane<br>%{xaxis.title.text}=%{x}<br>%{yaxis.title.text}=%{y}<extra></extra>",
         "legendgroup": "1-Fluorobutane",
         "marker": {
          "color": "blue",
          "symbol": "circle"
         },
         "name": "1-Fluorobutane",
         "showlegend": true,
         "type": "splom"
        },
        {
         "dimensions": [
          {
           "axis": {
            "matches": true
           },
           "label": "Ei",
           "values": [
            9.85
           ]
          },
          {
           "axis": {
            "matches": true
           },
           "label": "Alpha",
           "values": [
            11.6
           ]
          },
          {
           "axis": {
            "matches": true
           },
           "label": "Dipole",
           "values": [
            2.21
           ]
          },
          {
           "axis": {
            "matches": true
           },
           "label": "pi_bond",
           "values": [
            0
           ]
          },
          {
           "axis": {
            "matches": true
           },
           "label": "Expt",
           "values": [
            80
           ]
          }
         ],
         "hovertemplate": "Molecule=1-Fluorohexane<br>%{xaxis.title.text}=%{x}<br>%{yaxis.title.text}=%{y}<extra></extra>",
         "legendgroup": "1-Fluorohexane",
         "marker": {
          "color": "blue",
          "symbol": "circle"
         },
         "name": "1-Fluorohexane",
         "showlegend": true,
         "type": "splom"
        },
        {
         "dimensions": [
          {
           "axis": {
            "matches": true
           },
           "label": "Ei",
           "values": [
            9.64
           ]
          },
          {
           "axis": {
            "matches": true
           },
           "label": "Alpha",
           "values": [
            17.22
           ]
          },
          {
           "axis": {
            "matches": true
           },
           "label": "Dipole",
           "values": [
            2.22
           ]
          },
          {
           "axis": {
            "matches": true
           },
           "label": "pi_bond",
           "values": [
            0
           ]
          },
          {
           "axis": {
            "matches": true
           },
           "label": "Expt",
           "values": [
            145
           ]
          }
         ],
         "hovertemplate": "Molecule=1-Fluorononane<br>%{xaxis.title.text}=%{x}<br>%{yaxis.title.text}=%{y}<extra></extra>",
         "legendgroup": "1-Fluorononane",
         "marker": {
          "color": "blue",
          "symbol": "circle"
         },
         "name": "1-Fluorononane",
         "showlegend": true,
         "type": "splom"
        },
        {
         "dimensions": [
          {
           "axis": {
            "matches": true
           },
           "label": "Ei",
           "values": [
            10.29
           ]
          },
          {
           "axis": {
            "matches": true
           },
           "label": "Alpha",
           "values": [
            13.66
           ]
          },
          {
           "axis": {
            "matches": true
           },
           "label": "Dipole",
           "values": [
            2.53
           ]
          },
          {
           "axis": {
            "matches": true
           },
           "label": "pi_bond",
           "values": [
            0
           ]
          },
          {
           "axis": {
            "matches": true
           },
           "label": "Expt",
           "values": [
            175
           ]
          }
         ],
         "hovertemplate": "Molecule=1-Chlorohexane<br>%{xaxis.title.text}=%{x}<br>%{yaxis.title.text}=%{y}<extra></extra>",
         "legendgroup": "1-Chlorohexane",
         "marker": {
          "color": "blue",
          "symbol": "circle"
         },
         "name": "1-Chlorohexane",
         "showlegend": true,
         "type": "splom"
        },
        {
         "dimensions": [
          {
           "axis": {
            "matches": true
           },
           "label": "Ei",
           "values": [
            11.32
           ]
          },
          {
           "axis": {
            "matches": true
           },
           "label": "Alpha",
           "values": [
            6.353
           ]
          },
          {
           "axis": {
            "matches": true
           },
           "label": "Dipole",
           "values": [
            2.01
           ]
          },
          {
           "axis": {
            "matches": true
           },
           "label": "pi_bond",
           "values": [
            0
           ]
          },
          {
           "axis": {
            "matches": true
           },
           "label": "Expt",
           "values": [
            32
           ]
          }
         ],
         "hovertemplate": "Molecule=Dichloromethane<br>%{xaxis.title.text}=%{x}<br>%{yaxis.title.text}=%{y}<extra></extra>",
         "legendgroup": "Dichloromethane",
         "marker": {
          "color": "blue",
          "symbol": "circle"
         },
         "name": "Dichloromethane",
         "showlegend": true,
         "type": "splom"
        },
        {
         "dimensions": [
          {
           "axis": {
            "matches": true
           },
           "label": "Ei",
           "values": [
            9.66
           ]
          },
          {
           "axis": {
            "matches": true
           },
           "label": "Alpha",
           "values": [
            8.03
           ]
          },
          {
           "axis": {
            "matches": true
           },
           "label": "Dipole",
           "values": [
            2.3
           ]
          },
          {
           "axis": {
            "matches": true
           },
           "label": "pi_bond",
           "values": [
            1
           ]
          },
          {
           "axis": {
            "matches": true
           },
           "label": "Expt",
           "values": [
            66
           ]
          }
         ],
         "hovertemplate": "Molecule=cis-1-2-Dichloroethylene<br>%{xaxis.title.text}=%{x}<br>%{yaxis.title.text}=%{y}<extra></extra>",
         "legendgroup": "cis-1-2-Dichloroethylene",
         "marker": {
          "color": "blue",
          "symbol": "circle"
         },
         "name": "cis-1-2-Dichloroethylene",
         "showlegend": true,
         "type": "splom"
        },
        {
         "dimensions": [
          {
           "axis": {
            "matches": true
           },
           "label": "Ei",
           "values": [
            9.46
           ]
          },
          {
           "axis": {
            "matches": true
           },
           "label": "Alpha",
           "values": [
            10.2
           ]
          },
          {
           "axis": {
            "matches": true
           },
           "label": "Dipole",
           "values": [
            1.1
           ]
          },
          {
           "axis": {
            "matches": true
           },
           "label": "pi_bond",
           "values": [
            1
           ]
          },
          {
           "axis": {
            "matches": true
           },
           "label": "Expt",
           "values": [
            50
           ]
          }
         ],
         "hovertemplate": "Molecule=Trichloroethylene<br>%{xaxis.title.text}=%{x}<br>%{yaxis.title.text}=%{y}<extra></extra>",
         "legendgroup": "Trichloroethylene",
         "marker": {
          "color": "blue",
          "symbol": "circle"
         },
         "name": "Trichloroethylene",
         "showlegend": true,
         "type": "splom"
        },
        {
         "dimensions": [
          {
           "axis": {
            "matches": true
           },
           "label": "Ei",
           "values": [
            10.81
           ]
          },
          {
           "axis": {
            "matches": true
           },
           "label": "Alpha",
           "values": [
            8.211
           ]
          },
          {
           "axis": {
            "matches": true
           },
           "label": "Dipole",
           "values": [
            2.54
           ]
          },
          {
           "axis": {
            "matches": true
           },
           "label": "pi_bond",
           "values": [
            0
           ]
          },
          {
           "axis": {
            "matches": true
           },
           "label": "Expt",
           "values": [
            98
           ]
          }
         ],
         "hovertemplate": "Molecule=1-Chloropropane<br>%{xaxis.title.text}=%{x}<br>%{yaxis.title.text}=%{y}<extra></extra>",
         "legendgroup": "1-Chloropropane",
         "marker": {
          "color": "blue",
          "symbol": "circle"
         },
         "name": "1-Chloropropane",
         "showlegend": true,
         "type": "splom"
        },
        {
         "dimensions": [
          {
           "axis": {
            "matches": true
           },
           "label": "Ei",
           "values": [
            10.79
           ]
          },
          {
           "axis": {
            "matches": true
           },
           "label": "Alpha",
           "values": [
            8.211
           ]
          },
          {
           "axis": {
            "matches": true
           },
           "label": "Dipole",
           "values": [
            2.57
           ]
          },
          {
           "axis": {
            "matches": true
           },
           "label": "pi_bond",
           "values": [
            0
           ]
          },
          {
           "axis": {
            "matches": true
           },
           "label": "Expt",
           "values": [
            113
           ]
          }
         ],
         "hovertemplate": "Molecule=2-Chloropropane<br>%{xaxis.title.text}=%{x}<br>%{yaxis.title.text}=%{y}<extra></extra>",
         "legendgroup": "2-Chloropropane",
         "marker": {
          "color": "blue",
          "symbol": "circle"
         },
         "name": "2-Chloropropane",
         "showlegend": true,
         "type": "splom"
        },
        {
         "dimensions": [
          {
           "axis": {
            "matches": true
           },
           "label": "Ei",
           "values": [
            11.42
           ]
          },
          {
           "axis": {
            "matches": true
           },
           "label": "Alpha",
           "values": [
            6.11
           ]
          },
          {
           "axis": {
            "matches": true
           },
           "label": "Dipole",
           "values": [
            2.5
           ]
          },
          {
           "axis": {
            "matches": true
           },
           "label": "pi_bond",
           "values": [
            0
           ]
          },
          {
           "axis": {
            "matches": true
           },
           "label": "Expt",
           "values": [
            25
           ]
          }
         ],
         "hovertemplate": "Molecule=2-2-Difluoropropane<br>%{xaxis.title.text}=%{x}<br>%{yaxis.title.text}=%{y}<extra></extra>",
         "legendgroup": "2-2-Difluoropropane",
         "marker": {
          "color": "red",
          "symbol": "circle"
         },
         "name": "2-2-Difluoropropane",
         "showlegend": true,
         "type": "splom"
        },
        {
         "dimensions": [
          {
           "axis": {
            "matches": true
           },
           "label": "Ei",
           "values": [
            9.81
           ]
          },
          {
           "axis": {
            "matches": true
           },
           "label": "Alpha",
           "values": [
            8.0926
           ]
          },
          {
           "axis": {
            "matches": true
           },
           "label": "Dipole",
           "values": [
            1.75
           ]
          },
          {
           "axis": {
            "matches": true
           },
           "label": "pi_bond",
           "values": [
            1
           ]
          },
          {
           "axis": {
            "matches": true
           },
           "label": "Expt",
           "values": [
            30
           ]
          }
         ],
         "hovertemplate": "Molecule=1-1-Dichloroethylene<br>%{xaxis.title.text}=%{x}<br>%{yaxis.title.text}=%{y}<extra></extra>",
         "legendgroup": "1-1-Dichloroethylene",
         "marker": {
          "color": "red",
          "symbol": "circle"
         },
         "name": "1-1-Dichloroethylene",
         "showlegend": true,
         "type": "splom"
        }
       ],
       "layout": {
        "dragmode": "select",
        "legend": {
         "title": {
          "text": "Molecule"
         },
         "tracegroupgap": 0
        },
        "margin": {
         "t": 60
        },
        "template": {
         "data": {
          "bar": [
           {
            "error_x": {
             "color": "#2a3f5f"
            },
            "error_y": {
             "color": "#2a3f5f"
            },
            "marker": {
             "line": {
              "color": "#E5ECF6",
              "width": 0.5
             },
             "pattern": {
              "fillmode": "overlay",
              "size": 10,
              "solidity": 0.2
             }
            },
            "type": "bar"
           }
          ],
          "barpolar": [
           {
            "marker": {
             "line": {
              "color": "#E5ECF6",
              "width": 0.5
             },
             "pattern": {
              "fillmode": "overlay",
              "size": 10,
              "solidity": 0.2
             }
            },
            "type": "barpolar"
           }
          ],
          "carpet": [
           {
            "aaxis": {
             "endlinecolor": "#2a3f5f",
             "gridcolor": "white",
             "linecolor": "white",
             "minorgridcolor": "white",
             "startlinecolor": "#2a3f5f"
            },
            "baxis": {
             "endlinecolor": "#2a3f5f",
             "gridcolor": "white",
             "linecolor": "white",
             "minorgridcolor": "white",
             "startlinecolor": "#2a3f5f"
            },
            "type": "carpet"
           }
          ],
          "choropleth": [
           {
            "colorbar": {
             "outlinewidth": 0,
             "ticks": ""
            },
            "type": "choropleth"
           }
          ],
          "contour": [
           {
            "colorbar": {
             "outlinewidth": 0,
             "ticks": ""
            },
            "colorscale": [
             [
              0,
              "#0d0887"
             ],
             [
              0.1111111111111111,
              "#46039f"
             ],
             [
              0.2222222222222222,
              "#7201a8"
             ],
             [
              0.3333333333333333,
              "#9c179e"
             ],
             [
              0.4444444444444444,
              "#bd3786"
             ],
             [
              0.5555555555555556,
              "#d8576b"
             ],
             [
              0.6666666666666666,
              "#ed7953"
             ],
             [
              0.7777777777777778,
              "#fb9f3a"
             ],
             [
              0.8888888888888888,
              "#fdca26"
             ],
             [
              1,
              "#f0f921"
             ]
            ],
            "type": "contour"
           }
          ],
          "contourcarpet": [
           {
            "colorbar": {
             "outlinewidth": 0,
             "ticks": ""
            },
            "type": "contourcarpet"
           }
          ],
          "heatmap": [
           {
            "colorbar": {
             "outlinewidth": 0,
             "ticks": ""
            },
            "colorscale": [
             [
              0,
              "#0d0887"
             ],
             [
              0.1111111111111111,
              "#46039f"
             ],
             [
              0.2222222222222222,
              "#7201a8"
             ],
             [
              0.3333333333333333,
              "#9c179e"
             ],
             [
              0.4444444444444444,
              "#bd3786"
             ],
             [
              0.5555555555555556,
              "#d8576b"
             ],
             [
              0.6666666666666666,
              "#ed7953"
             ],
             [
              0.7777777777777778,
              "#fb9f3a"
             ],
             [
              0.8888888888888888,
              "#fdca26"
             ],
             [
              1,
              "#f0f921"
             ]
            ],
            "type": "heatmap"
           }
          ],
          "heatmapgl": [
           {
            "colorbar": {
             "outlinewidth": 0,
             "ticks": ""
            },
            "colorscale": [
             [
              0,
              "#0d0887"
             ],
             [
              0.1111111111111111,
              "#46039f"
             ],
             [
              0.2222222222222222,
              "#7201a8"
             ],
             [
              0.3333333333333333,
              "#9c179e"
             ],
             [
              0.4444444444444444,
              "#bd3786"
             ],
             [
              0.5555555555555556,
              "#d8576b"
             ],
             [
              0.6666666666666666,
              "#ed7953"
             ],
             [
              0.7777777777777778,
              "#fb9f3a"
             ],
             [
              0.8888888888888888,
              "#fdca26"
             ],
             [
              1,
              "#f0f921"
             ]
            ],
            "type": "heatmapgl"
           }
          ],
          "histogram": [
           {
            "marker": {
             "pattern": {
              "fillmode": "overlay",
              "size": 10,
              "solidity": 0.2
             }
            },
            "type": "histogram"
           }
          ],
          "histogram2d": [
           {
            "colorbar": {
             "outlinewidth": 0,
             "ticks": ""
            },
            "colorscale": [
             [
              0,
              "#0d0887"
             ],
             [
              0.1111111111111111,
              "#46039f"
             ],
             [
              0.2222222222222222,
              "#7201a8"
             ],
             [
              0.3333333333333333,
              "#9c179e"
             ],
             [
              0.4444444444444444,
              "#bd3786"
             ],
             [
              0.5555555555555556,
              "#d8576b"
             ],
             [
              0.6666666666666666,
              "#ed7953"
             ],
             [
              0.7777777777777778,
              "#fb9f3a"
             ],
             [
              0.8888888888888888,
              "#fdca26"
             ],
             [
              1,
              "#f0f921"
             ]
            ],
            "type": "histogram2d"
           }
          ],
          "histogram2dcontour": [
           {
            "colorbar": {
             "outlinewidth": 0,
             "ticks": ""
            },
            "colorscale": [
             [
              0,
              "#0d0887"
             ],
             [
              0.1111111111111111,
              "#46039f"
             ],
             [
              0.2222222222222222,
              "#7201a8"
             ],
             [
              0.3333333333333333,
              "#9c179e"
             ],
             [
              0.4444444444444444,
              "#bd3786"
             ],
             [
              0.5555555555555556,
              "#d8576b"
             ],
             [
              0.6666666666666666,
              "#ed7953"
             ],
             [
              0.7777777777777778,
              "#fb9f3a"
             ],
             [
              0.8888888888888888,
              "#fdca26"
             ],
             [
              1,
              "#f0f921"
             ]
            ],
            "type": "histogram2dcontour"
           }
          ],
          "mesh3d": [
           {
            "colorbar": {
             "outlinewidth": 0,
             "ticks": ""
            },
            "type": "mesh3d"
           }
          ],
          "parcoords": [
           {
            "line": {
             "colorbar": {
              "outlinewidth": 0,
              "ticks": ""
             }
            },
            "type": "parcoords"
           }
          ],
          "pie": [
           {
            "automargin": true,
            "type": "pie"
           }
          ],
          "scatter": [
           {
            "fillpattern": {
             "fillmode": "overlay",
             "size": 10,
             "solidity": 0.2
            },
            "type": "scatter"
           }
          ],
          "scatter3d": [
           {
            "line": {
             "colorbar": {
              "outlinewidth": 0,
              "ticks": ""
             }
            },
            "marker": {
             "colorbar": {
              "outlinewidth": 0,
              "ticks": ""
             }
            },
            "type": "scatter3d"
           }
          ],
          "scattercarpet": [
           {
            "marker": {
             "colorbar": {
              "outlinewidth": 0,
              "ticks": ""
             }
            },
            "type": "scattercarpet"
           }
          ],
          "scattergeo": [
           {
            "marker": {
             "colorbar": {
              "outlinewidth": 0,
              "ticks": ""
             }
            },
            "type": "scattergeo"
           }
          ],
          "scattergl": [
           {
            "marker": {
             "colorbar": {
              "outlinewidth": 0,
              "ticks": ""
             }
            },
            "type": "scattergl"
           }
          ],
          "scattermapbox": [
           {
            "marker": {
             "colorbar": {
              "outlinewidth": 0,
              "ticks": ""
             }
            },
            "type": "scattermapbox"
           }
          ],
          "scatterpolar": [
           {
            "marker": {
             "colorbar": {
              "outlinewidth": 0,
              "ticks": ""
             }
            },
            "type": "scatterpolar"
           }
          ],
          "scatterpolargl": [
           {
            "marker": {
             "colorbar": {
              "outlinewidth": 0,
              "ticks": ""
             }
            },
            "type": "scatterpolargl"
           }
          ],
          "scatterternary": [
           {
            "marker": {
             "colorbar": {
              "outlinewidth": 0,
              "ticks": ""
             }
            },
            "type": "scatterternary"
           }
          ],
          "surface": [
           {
            "colorbar": {
             "outlinewidth": 0,
             "ticks": ""
            },
            "colorscale": [
             [
              0,
              "#0d0887"
             ],
             [
              0.1111111111111111,
              "#46039f"
             ],
             [
              0.2222222222222222,
              "#7201a8"
             ],
             [
              0.3333333333333333,
              "#9c179e"
             ],
             [
              0.4444444444444444,
              "#bd3786"
             ],
             [
              0.5555555555555556,
              "#d8576b"
             ],
             [
              0.6666666666666666,
              "#ed7953"
             ],
             [
              0.7777777777777778,
              "#fb9f3a"
             ],
             [
              0.8888888888888888,
              "#fdca26"
             ],
             [
              1,
              "#f0f921"
             ]
            ],
            "type": "surface"
           }
          ],
          "table": [
           {
            "cells": {
             "fill": {
              "color": "#EBF0F8"
             },
             "line": {
              "color": "white"
             }
            },
            "header": {
             "fill": {
              "color": "#C8D4E3"
             },
             "line": {
              "color": "white"
             }
            },
            "type": "table"
           }
          ]
         },
         "layout": {
          "annotationdefaults": {
           "arrowcolor": "#2a3f5f",
           "arrowhead": 0,
           "arrowwidth": 1
          },
          "autotypenumbers": "strict",
          "coloraxis": {
           "colorbar": {
            "outlinewidth": 0,
            "ticks": ""
           }
          },
          "colorscale": {
           "diverging": [
            [
             0,
             "#8e0152"
            ],
            [
             0.1,
             "#c51b7d"
            ],
            [
             0.2,
             "#de77ae"
            ],
            [
             0.3,
             "#f1b6da"
            ],
            [
             0.4,
             "#fde0ef"
            ],
            [
             0.5,
             "#f7f7f7"
            ],
            [
             0.6,
             "#e6f5d0"
            ],
            [
             0.7,
             "#b8e186"
            ],
            [
             0.8,
             "#7fbc41"
            ],
            [
             0.9,
             "#4d9221"
            ],
            [
             1,
             "#276419"
            ]
           ],
           "sequential": [
            [
             0,
             "#0d0887"
            ],
            [
             0.1111111111111111,
             "#46039f"
            ],
            [
             0.2222222222222222,
             "#7201a8"
            ],
            [
             0.3333333333333333,
             "#9c179e"
            ],
            [
             0.4444444444444444,
             "#bd3786"
            ],
            [
             0.5555555555555556,
             "#d8576b"
            ],
            [
             0.6666666666666666,
             "#ed7953"
            ],
            [
             0.7777777777777778,
             "#fb9f3a"
            ],
            [
             0.8888888888888888,
             "#fdca26"
            ],
            [
             1,
             "#f0f921"
            ]
           ],
           "sequentialminus": [
            [
             0,
             "#0d0887"
            ],
            [
             0.1111111111111111,
             "#46039f"
            ],
            [
             0.2222222222222222,
             "#7201a8"
            ],
            [
             0.3333333333333333,
             "#9c179e"
            ],
            [
             0.4444444444444444,
             "#bd3786"
            ],
            [
             0.5555555555555556,
             "#d8576b"
            ],
            [
             0.6666666666666666,
             "#ed7953"
            ],
            [
             0.7777777777777778,
             "#fb9f3a"
            ],
            [
             0.8888888888888888,
             "#fdca26"
            ],
            [
             1,
             "#f0f921"
            ]
           ]
          },
          "colorway": [
           "#636efa",
           "#EF553B",
           "#00cc96",
           "#ab63fa",
           "#FFA15A",
           "#19d3f3",
           "#FF6692",
           "#B6E880",
           "#FF97FF",
           "#FECB52"
          ],
          "font": {
           "color": "#2a3f5f"
          },
          "geo": {
           "bgcolor": "white",
           "lakecolor": "white",
           "landcolor": "#E5ECF6",
           "showlakes": true,
           "showland": true,
           "subunitcolor": "white"
          },
          "hoverlabel": {
           "align": "left"
          },
          "hovermode": "closest",
          "mapbox": {
           "style": "light"
          },
          "paper_bgcolor": "white",
          "plot_bgcolor": "#E5ECF6",
          "polar": {
           "angularaxis": {
            "gridcolor": "white",
            "linecolor": "white",
            "ticks": ""
           },
           "bgcolor": "#E5ECF6",
           "radialaxis": {
            "gridcolor": "white",
            "linecolor": "white",
            "ticks": ""
           }
          },
          "scene": {
           "xaxis": {
            "backgroundcolor": "#E5ECF6",
            "gridcolor": "white",
            "gridwidth": 2,
            "linecolor": "white",
            "showbackground": true,
            "ticks": "",
            "zerolinecolor": "white"
           },
           "yaxis": {
            "backgroundcolor": "#E5ECF6",
            "gridcolor": "white",
            "gridwidth": 2,
            "linecolor": "white",
            "showbackground": true,
            "ticks": "",
            "zerolinecolor": "white"
           },
           "zaxis": {
            "backgroundcolor": "#E5ECF6",
            "gridcolor": "white",
            "gridwidth": 2,
            "linecolor": "white",
            "showbackground": true,
            "ticks": "",
            "zerolinecolor": "white"
           }
          },
          "shapedefaults": {
           "line": {
            "color": "#2a3f5f"
           }
          },
          "ternary": {
           "aaxis": {
            "gridcolor": "white",
            "linecolor": "white",
            "ticks": ""
           },
           "baxis": {
            "gridcolor": "white",
            "linecolor": "white",
            "ticks": ""
           },
           "bgcolor": "#E5ECF6",
           "caxis": {
            "gridcolor": "white",
            "linecolor": "white",
            "ticks": ""
           }
          },
          "title": {
           "x": 0.05
          },
          "xaxis": {
           "automargin": true,
           "gridcolor": "white",
           "linecolor": "white",
           "ticks": "",
           "title": {
            "standoff": 15
           },
           "zerolinecolor": "white",
           "zerolinewidth": 2
          },
          "yaxis": {
           "automargin": true,
           "gridcolor": "white",
           "linecolor": "white",
           "ticks": "",
           "title": {
            "standoff": 15
           },
           "zerolinecolor": "white",
           "zerolinewidth": 2
          }
         }
        }
       }
      },
      "text/html": [
       "<div>                            <div id=\"0a256851-a138-4f2e-81e2-7bcc5d9281f4\" class=\"plotly-graph-div\" style=\"height:525px; width:100%;\"></div>            <script type=\"text/javascript\">                require([\"plotly\"], function(Plotly) {                    window.PLOTLYENV=window.PLOTLYENV || {};                                    if (document.getElementById(\"0a256851-a138-4f2e-81e2-7bcc5d9281f4\")) {                    Plotly.newPlot(                        \"0a256851-a138-4f2e-81e2-7bcc5d9281f4\",                        [{\"dimensions\":[{\"axis\":{\"matches\":true},\"label\":\"Ei\",\"values\":[10.48]},{\"axis\":{\"matches\":true},\"label\":\"Alpha\",\"values\":[11.31]},{\"axis\":{\"matches\":true},\"label\":\"Dipole\",\"values\":[0.91]},{\"axis\":{\"matches\":true},\"label\":\"pi_bond\",\"values\":[0]},{\"axis\":{\"matches\":true},\"label\":\"Expt\",\"values\":[130.0]}],\"hovertemplate\":\"Molecule=Bromoform\\u003cbr\\u003e%{xaxis.title.text}=%{x}\\u003cbr\\u003e%{yaxis.title.text}=%{y}\\u003cextra\\u003e\\u003c\\u002fextra\\u003e\",\"legendgroup\":\"Bromoform\",\"marker\":{\"color\":\"blue\",\"symbol\":\"circle\"},\"name\":\"Bromoform\",\"showlegend\":true,\"type\":\"splom\"},{\"dimensions\":[{\"axis\":{\"matches\":true},\"label\":\"Ei\",\"values\":[9.26]},{\"axis\":{\"matches\":true},\"label\":\"Alpha\",\"values\":[8.97]},{\"axis\":{\"matches\":true},\"label\":\"Dipole\",\"values\":[3.31]},{\"axis\":{\"matches\":true},\"label\":\"pi_bond\",\"values\":[1]},{\"axis\":{\"matches\":true},\"label\":\"Expt\",\"values\":[230.0]}],\"hovertemplate\":\"Molecule=Cyclopentanone\\u003cbr\\u003e%{xaxis.title.text}=%{x}\\u003cbr\\u003e%{yaxis.title.text}=%{y}\\u003cextra\\u003e\\u003c\\u002fextra\\u003e\",\"legendgroup\":\"Cyclopentanone\",\"marker\":{\"color\":\"blue\",\"symbol\":\"circle\"},\"name\":\"Cyclopentanone\",\"showlegend\":true,\"type\":\"splom\"},{\"dimensions\":[{\"axis\":{\"matches\":true},\"label\":\"Ei\",\"values\":[10.01]},{\"axis\":{\"matches\":true},\"label\":\"Alpha\",\"values\":[8.68]},{\"axis\":{\"matches\":true},\"label\":\"Dipole\",\"values\":[2.13]},{\"axis\":{\"matches\":true},\"label\":\"pi_bond\",\"values\":[1]},{\"axis\":{\"matches\":true},\"label\":\"Expt\",\"values\":[160.0]}],\"hovertemplate\":\"Molecule=Ethyl Acetate(conformer1)\\u003cbr\\u003e%{xaxis.title.text}=%{x}\\u003cbr\\u003e%{yaxis.title.text}=%{y}\\u003cextra\\u003e\\u003c\\u002fextra\\u003e\",\"legendgroup\":\"Ethyl Acetate(conformer1)\",\"marker\":{\"color\":\"blue\",\"symbol\":\"circle\"},\"name\":\"Ethyl Acetate(conformer1)\",\"showlegend\":true,\"type\":\"splom\"},{\"dimensions\":[{\"axis\":{\"matches\":true},\"label\":\"Ei\",\"values\":[9.99]},{\"axis\":{\"matches\":true},\"label\":\"Alpha\",\"values\":[8.54]},{\"axis\":{\"matches\":true},\"label\":\"Dipole\",\"values\":[1.59]},{\"axis\":{\"matches\":true},\"label\":\"pi_bond\",\"values\":[0]},{\"axis\":{\"matches\":true},\"label\":\"Expt\",\"values\":[102.0]}],\"hovertemplate\":\"Molecule=1-Butanol\\u003cbr\\u003e%{xaxis.title.text}=%{x}\\u003cbr\\u003e%{yaxis.title.text}=%{y}\\u003cextra\\u003e\\u003c\\u002fextra\\u003e\",\"legendgroup\":\"1-Butanol\",\"marker\":{\"color\":\"blue\",\"symbol\":\"circle\"},\"name\":\"1-Butanol\",\"showlegend\":true,\"type\":\"splom\"},{\"dimensions\":[{\"axis\":{\"matches\":true},\"label\":\"Ei\",\"values\":[11.37]},{\"axis\":{\"matches\":true},\"label\":\"Alpha\",\"values\":[8.19]},{\"axis\":{\"matches\":true},\"label\":\"Dipole\",\"values\":[1.13]},{\"axis\":{\"matches\":true},\"label\":\"pi_bond\",\"values\":[0]},{\"axis\":{\"matches\":true},\"label\":\"Expt\",\"values\":[50.0]}],\"hovertemplate\":\"Molecule=Chloroform\\u003cbr\\u003e%{xaxis.title.text}=%{x}\\u003cbr\\u003e%{yaxis.title.text}=%{y}\\u003cextra\\u003e\\u003c\\u002fextra\\u003e\",\"legendgroup\":\"Chloroform\",\"marker\":{\"color\":\"blue\",\"symbol\":\"circle\"},\"name\":\"Chloroform\",\"showlegend\":true,\"type\":\"splom\"},{\"dimensions\":[{\"axis\":{\"matches\":true},\"label\":\"Ei\",\"values\":[9.84]},{\"axis\":{\"matches\":true},\"label\":\"Alpha\",\"values\":[8.05]},{\"axis\":{\"matches\":true},\"label\":\"Dipole\",\"values\":[2.77]},{\"axis\":{\"matches\":true},\"label\":\"pi_bond\",\"values\":[1]},{\"axis\":{\"matches\":true},\"label\":\"Expt\",\"values\":[142.0]}],\"hovertemplate\":\"Molecule=Butanal\\u003cbr\\u003e%{xaxis.title.text}=%{x}\\u003cbr\\u003e%{yaxis.title.text}=%{y}\\u003cextra\\u003e\\u003c\\u002fextra\\u003e\",\"legendgroup\":\"Butanal\",\"marker\":{\"color\":\"blue\",\"symbol\":\"circle\"},\"name\":\"Butanal\",\"showlegend\":true,\"type\":\"splom\"},{\"dimensions\":[{\"axis\":{\"matches\":true},\"label\":\"Ei\",\"values\":[11.3]},{\"axis\":{\"matches\":true},\"label\":\"Alpha\",\"values\":[8.0]},{\"axis\":{\"matches\":true},\"label\":\"Dipole\",\"values\":[4.24]},{\"axis\":{\"matches\":true},\"label\":\"pi_bond\",\"values\":[2]},{\"axis\":{\"matches\":true},\"label\":\"Expt\",\"values\":[274.0]}],\"hovertemplate\":\"Molecule=2-MethylPropionitrile\\u003cbr\\u003e%{xaxis.title.text}=%{x}\\u003cbr\\u003e%{yaxis.title.text}=%{y}\\u003cextra\\u003e\\u003c\\u002fextra\\u003e\",\"legendgroup\":\"2-MethylPropionitrile\",\"marker\":{\"color\":\"blue\",\"symbol\":\"circle\"},\"name\":\"2-MethylPropionitrile\",\"showlegend\":true,\"type\":\"splom\"},{\"dimensions\":[{\"axis\":{\"matches\":true},\"label\":\"Ei\",\"values\":[10.3]},{\"axis\":{\"matches\":true},\"label\":\"Alpha\",\"values\":[7.44]},{\"axis\":{\"matches\":true},\"label\":\"Dipole\",\"values\":[0.46]},{\"axis\":{\"matches\":true},\"label\":\"pi_bond\",\"values\":[1]},{\"axis\":{\"matches\":true},\"label\":\"Expt\",\"values\":[102.0]}],\"hovertemplate\":\"Molecule=Dimethylcarbonate\\u003cbr\\u003e%{xaxis.title.text}=%{x}\\u003cbr\\u003e%{yaxis.title.text}=%{y}\\u003cextra\\u003e\\u003c\\u002fextra\\u003e\",\"legendgroup\":\"Dimethylcarbonate\",\"marker\":{\"color\":\"blue\",\"symbol\":\"circle\"},\"name\":\"Dimethylcarbonate\",\"showlegend\":true,\"type\":\"splom\"},{\"dimensions\":[{\"axis\":{\"matches\":true},\"label\":\"Ei\",\"values\":[10.61]},{\"axis\":{\"matches\":true},\"label\":\"Alpha\",\"values\":[6.88]},{\"axis\":{\"matches\":true},\"label\":\"Dipole\",\"values\":[2.24]},{\"axis\":{\"matches\":true},\"label\":\"pi_bond\",\"values\":[1]},{\"axis\":{\"matches\":true},\"label\":\"Expt\",\"values\":[103.0]}],\"hovertemplate\":\"Molecule=Ethyl Formate\\u003cbr\\u003e%{xaxis.title.text}=%{x}\\u003cbr\\u003e%{yaxis.title.text}=%{y}\\u003cextra\\u003e\\u003c\\u002fextra\\u003e\",\"legendgroup\":\"Ethyl Formate\",\"marker\":{\"color\":\"blue\",\"symbol\":\"circle\"},\"name\":\"Ethyl Formate\",\"showlegend\":true,\"type\":\"splom\"},{\"dimensions\":[{\"axis\":{\"matches\":true},\"label\":\"Ei\",\"values\":[10.25]},{\"axis\":{\"matches\":true},\"label\":\"Alpha\",\"values\":[6.82]},{\"axis\":{\"matches\":true},\"label\":\"Dipole\",\"values\":[1.96]},{\"axis\":{\"matches\":true},\"label\":\"pi_bond\",\"values\":[1]},{\"axis\":{\"matches\":true},\"label\":\"Expt\",\"values\":[122.0]}],\"hovertemplate\":\"Molecule=Methyl Acetate\\u003cbr\\u003e%{xaxis.title.text}=%{x}\\u003cbr\\u003e%{yaxis.title.text}=%{y}\\u003cextra\\u003e\\u003c\\u002fextra\\u003e\",\"legendgroup\":\"Methyl Acetate\",\"marker\":{\"color\":\"blue\",\"symbol\":\"circle\"},\"name\":\"Methyl Acetate\",\"showlegend\":true,\"type\":\"splom\"},{\"dimensions\":[{\"axis\":{\"matches\":true},\"label\":\"Ei\",\"values\":[10.17]},{\"axis\":{\"matches\":true},\"label\":\"Alpha\",\"values\":[6.77]},{\"axis\":{\"matches\":true},\"label\":\"Dipole\",\"values\":[1.64]},{\"axis\":{\"matches\":true},\"label\":\"pi_bond\",\"values\":[0]},{\"axis\":{\"matches\":true},\"label\":\"Expt\",\"values\":[87.0]}],\"hovertemplate\":\"Molecule=2-Propanol\\u003cbr\\u003e%{xaxis.title.text}=%{x}\\u003cbr\\u003e%{yaxis.title.text}=%{y}\\u003cextra\\u003e\\u003c\\u002fextra\\u003e\",\"legendgroup\":\"2-Propanol\",\"marker\":{\"color\":\"blue\",\"symbol\":\"circle\"},\"name\":\"2-Propanol\",\"showlegend\":true,\"type\":\"splom\"},{\"dimensions\":[{\"axis\":{\"matches\":true},\"label\":\"Ei\",\"values\":[10.18]},{\"axis\":{\"matches\":true},\"label\":\"Alpha\",\"values\":[6.71]},{\"axis\":{\"matches\":true},\"label\":\"Dipole\",\"values\":[1.69]},{\"axis\":{\"matches\":true},\"label\":\"pi_bond\",\"values\":[0]},{\"axis\":{\"matches\":true},\"label\":\"Expt\",\"values\":[70.0]}],\"hovertemplate\":\"Molecule=1-Propanol\\u003cbr\\u003e%{xaxis.title.text}=%{x}\\u003cbr\\u003e%{yaxis.title.text}=%{y}\\u003cextra\\u003e\\u003c\\u002fextra\\u003e\",\"legendgroup\":\"1-Propanol\",\"marker\":{\"color\":\"blue\",\"symbol\":\"circle\"},\"name\":\"1-Propanol\",\"showlegend\":true,\"type\":\"splom\"},{\"dimensions\":[{\"axis\":{\"matches\":true},\"label\":\"Ei\",\"values\":[9.7]},{\"axis\":{\"matches\":true},\"label\":\"Alpha\",\"values\":[6.24]},{\"axis\":{\"matches\":true},\"label\":\"Dipole\",\"values\":[3.15]},{\"axis\":{\"matches\":true},\"label\":\"pi_bond\",\"values\":[1]},{\"axis\":{\"matches\":true},\"label\":\"Expt\",\"values\":[173.0]}],\"hovertemplate\":\"Molecule=Acetone\\u003cbr\\u003e%{xaxis.title.text}=%{x}\\u003cbr\\u003e%{yaxis.title.text}=%{y}\\u003cextra\\u003e\\u003c\\u002fextra\\u003e\",\"legendgroup\":\"Acetone\",\"marker\":{\"color\":\"blue\",\"symbol\":\"circle\"},\"name\":\"Acetone\",\"showlegend\":true,\"type\":\"splom\"},{\"dimensions\":[{\"axis\":{\"matches\":true},\"label\":\"Ei\",\"values\":[9.96]},{\"axis\":{\"matches\":true},\"label\":\"Alpha\",\"values\":[6.22]},{\"axis\":{\"matches\":true},\"label\":\"Dipole\",\"values\":[2.84]},{\"axis\":{\"matches\":true},\"label\":\"pi_bond\",\"values\":[1]},{\"axis\":{\"matches\":true},\"label\":\"Expt\",\"values\":[118.0]}],\"hovertemplate\":\"Molecule=Propanal\\u003cbr\\u003e%{xaxis.title.text}=%{x}\\u003cbr\\u003e%{yaxis.title.text}=%{y}\\u003cextra\\u003e\\u003c\\u002fextra\\u003e\",\"legendgroup\":\"Propanal\",\"marker\":{\"color\":\"blue\",\"symbol\":\"circle\"},\"name\":\"Propanal\",\"showlegend\":true,\"type\":\"splom\"},{\"dimensions\":[{\"axis\":{\"matches\":true},\"label\":\"Ei\",\"values\":[11.84]},{\"axis\":{\"matches\":true},\"label\":\"Alpha\",\"values\":[6.19]},{\"axis\":{\"matches\":true},\"label\":\"Dipole\",\"values\":[4.21]},{\"axis\":{\"matches\":true},\"label\":\"pi_bond\",\"values\":[2]},{\"axis\":{\"matches\":true},\"label\":\"Expt\",\"values\":[245.0]}],\"hovertemplate\":\"Molecule=Propionitrile\\u003cbr\\u003e%{xaxis.title.text}=%{x}\\u003cbr\\u003e%{yaxis.title.text}=%{y}\\u003cextra\\u003e\\u003c\\u002fextra\\u003e\",\"legendgroup\":\"Propionitrile\",\"marker\":{\"color\":\"blue\",\"symbol\":\"circle\"},\"name\":\"Propionitrile\",\"showlegend\":true,\"type\":\"splom\"},{\"dimensions\":[{\"axis\":{\"matches\":true},\"label\":\"Ei\",\"values\":[11.3]},{\"axis\":{\"matches\":true},\"label\":\"Alpha\",\"values\":[6.09]},{\"axis\":{\"matches\":true},\"label\":\"Dipole\",\"values\":[2.07]},{\"axis\":{\"matches\":true},\"label\":\"pi_bond\",\"values\":[0]},{\"axis\":{\"matches\":true},\"label\":\"Expt\",\"values\":[35.0]}],\"hovertemplate\":\"Molecule=1-Fluoropropane\\u003cbr\\u003e%{xaxis.title.text}=%{x}\\u003cbr\\u003e%{yaxis.title.text}=%{y}\\u003cextra\\u003e\\u003c\\u002fextra\\u003e\",\"legendgroup\":\"1-Fluoropropane\",\"marker\":{\"color\":\"blue\",\"symbol\":\"circle\"},\"name\":\"1-Fluoropropane\",\"showlegend\":true,\"type\":\"splom\"},{\"dimensions\":[{\"axis\":{\"matches\":true},\"label\":\"Ei\",\"values\":[10.16]},{\"axis\":{\"matches\":true},\"label\":\"Alpha\",\"values\":[5.57]},{\"axis\":{\"matches\":true},\"label\":\"Dipole\",\"values\":[2.48]},{\"axis\":{\"matches\":true},\"label\":\"pi_bond\",\"values\":[0]},{\"axis\":{\"matches\":true},\"label\":\"Expt\",\"values\":[70.0]}],\"hovertemplate\":\"Molecule=1-2-Ethanediol\\u003cbr\\u003e%{xaxis.title.text}=%{x}\\u003cbr\\u003e%{yaxis.title.text}=%{y}\\u003cextra\\u003e\\u003c\\u002fextra\\u003e\",\"legendgroup\":\"1-2-Ethanediol\",\"marker\":{\"color\":\"blue\",\"symbol\":\"circle\"},\"name\":\"1-2-Ethanediol\",\"showlegend\":true,\"type\":\"splom\"},{\"dimensions\":[{\"axis\":{\"matches\":true},\"label\":\"Ei\",\"values\":[10.54]},{\"axis\":{\"matches\":true},\"label\":\"Alpha\",\"values\":[5.26]},{\"axis\":{\"matches\":true},\"label\":\"Dipole\",\"values\":[1.99]},{\"axis\":{\"matches\":true},\"label\":\"pi_bond\",\"values\":[0]},{\"axis\":{\"matches\":true},\"label\":\"Expt\",\"values\":[40.0]}],\"hovertemplate\":\"Molecule=Bromomethane\\u003cbr\\u003e%{xaxis.title.text}=%{x}\\u003cbr\\u003e%{yaxis.title.text}=%{y}\\u003cextra\\u003e\\u003c\\u002fextra\\u003e\",\"legendgroup\":\"Bromomethane\",\"marker\":{\"color\":\"blue\",\"symbol\":\"circle\"},\"name\":\"Bromomethane\",\"showlegend\":true,\"type\":\"splom\"},{\"dimensions\":[{\"axis\":{\"matches\":true},\"label\":\"Ei\",\"values\":[10.84]},{\"axis\":{\"matches\":true},\"label\":\"Alpha\",\"values\":[5.01]},{\"axis\":{\"matches\":true},\"label\":\"Dipole\",\"values\":[1.97]},{\"axis\":{\"matches\":true},\"label\":\"pi_bond\",\"values\":[1]},{\"axis\":{\"matches\":true},\"label\":\"Expt\",\"values\":[65.0]}],\"hovertemplate\":\"Molecule=Methyl Formate\\u003cbr\\u003e%{xaxis.title.text}=%{x}\\u003cbr\\u003e%{yaxis.title.text}=%{y}\\u003cextra\\u003e\\u003c\\u002fextra\\u003e\",\"legendgroup\":\"Methyl Formate\",\"marker\":{\"color\":\"blue\",\"symbol\":\"circle\"},\"name\":\"Methyl Formate\",\"showlegend\":true,\"type\":\"splom\"},{\"dimensions\":[{\"axis\":{\"matches\":true},\"label\":\"Ei\",\"values\":[10.43]},{\"axis\":{\"matches\":true},\"label\":\"Alpha\",\"values\":[4.95]},{\"axis\":{\"matches\":true},\"label\":\"Dipole\",\"values\":[1.72]},{\"axis\":{\"matches\":true},\"label\":\"pi_bond\",\"values\":[0]},{\"axis\":{\"matches\":true},\"label\":\"Expt\",\"values\":[43.0]}],\"hovertemplate\":\"Molecule=Ethanol\\u003cbr\\u003e%{xaxis.title.text}=%{x}\\u003cbr\\u003e%{yaxis.title.text}=%{y}\\u003cextra\\u003e\\u003c\\u002fextra\\u003e\",\"legendgroup\":\"Ethanol\",\"marker\":{\"color\":\"blue\",\"symbol\":\"circle\"},\"name\":\"Ethanol\",\"showlegend\":true,\"type\":\"splom\"},{\"dimensions\":[{\"axis\":{\"matches\":true},\"label\":\"Ei\",\"values\":[10.23]},{\"axis\":{\"matches\":true},\"label\":\"Alpha\",\"values\":[4.49]},{\"axis\":{\"matches\":true},\"label\":\"Dipole\",\"values\":[2.95]},{\"axis\":{\"matches\":true},\"label\":\"pi_bond\",\"values\":[1]},{\"axis\":{\"matches\":true},\"label\":\"Expt\",\"values\":[88.0]}],\"hovertemplate\":\"Molecule=Acetaldehyde\\u003cbr\\u003e%{xaxis.title.text}=%{x}\\u003cbr\\u003e%{yaxis.title.text}=%{y}\\u003cextra\\u003e\\u003c\\u002fextra\\u003e\",\"legendgroup\":\"Acetaldehyde\",\"marker\":{\"color\":\"blue\",\"symbol\":\"circle\"},\"name\":\"Acetaldehyde\",\"showlegend\":true,\"type\":\"splom\"},{\"dimensions\":[{\"axis\":{\"matches\":true},\"label\":\"Ei\",\"values\":[12.2]},{\"axis\":{\"matches\":true},\"label\":\"Alpha\",\"values\":[4.39]},{\"axis\":{\"matches\":true},\"label\":\"Dipole\",\"values\":[4.1]},{\"axis\":{\"matches\":true},\"label\":\"pi_bond\",\"values\":[2]},{\"axis\":{\"matches\":true},\"label\":\"Expt\",\"values\":[180.0]}],\"hovertemplate\":\"Molecule=Acetonitrile\\u003cbr\\u003e%{xaxis.title.text}=%{x}\\u003cbr\\u003e%{yaxis.title.text}=%{y}\\u003cextra\\u003e\\u003c\\u002fextra\\u003e\",\"legendgroup\":\"Acetonitrile\",\"marker\":{\"color\":\"blue\",\"symbol\":\"circle\"},\"name\":\"Acetonitrile\",\"showlegend\":true,\"type\":\"splom\"},{\"dimensions\":[{\"axis\":{\"matches\":true},\"label\":\"Ei\",\"values\":[11.22]},{\"axis\":{\"matches\":true},\"label\":\"Alpha\",\"values\":[4.28]},{\"axis\":{\"matches\":true},\"label\":\"Dipole\",\"values\":[2.06]},{\"axis\":{\"matches\":true},\"label\":\"pi_bond\",\"values\":[0]},{\"axis\":{\"matches\":true},\"label\":\"Expt\",\"values\":[25.0]}],\"hovertemplate\":\"Molecule=Chloromethane\\u003cbr\\u003e%{xaxis.title.text}=%{x}\\u003cbr\\u003e%{yaxis.title.text}=%{y}\\u003cextra\\u003e\\u003c\\u002fextra\\u003e\",\"legendgroup\":\"Chloromethane\",\"marker\":{\"color\":\"blue\",\"symbol\":\"circle\"},\"name\":\"Chloromethane\",\"showlegend\":true,\"type\":\"splom\"},{\"dimensions\":[{\"axis\":{\"matches\":true},\"label\":\"Ei\",\"values\":[10.85]},{\"axis\":{\"matches\":true},\"label\":\"Alpha\",\"values\":[3.13]},{\"axis\":{\"matches\":true},\"label\":\"Dipole\",\"values\":[1.67]},{\"axis\":{\"matches\":true},\"label\":\"pi_bond\",\"values\":[0]},{\"axis\":{\"matches\":true},\"label\":\"Expt\",\"values\":[20.0]}],\"hovertemplate\":\"Molecule=Methanol\\u003cbr\\u003e%{xaxis.title.text}=%{x}\\u003cbr\\u003e%{yaxis.title.text}=%{y}\\u003cextra\\u003e\\u003c\\u002fextra\\u003e\",\"legendgroup\":\"Methanol\",\"marker\":{\"color\":\"blue\",\"symbol\":\"circle\"},\"name\":\"Methanol\",\"showlegend\":true,\"type\":\"splom\"},{\"dimensions\":[{\"axis\":{\"matches\":true},\"label\":\"Ei\",\"values\":[9.7]},{\"axis\":{\"matches\":true},\"label\":\"Alpha\",\"values\":[7.39]},{\"axis\":{\"matches\":true},\"label\":\"Dipole\",\"values\":[0.25]},{\"axis\":{\"matches\":true},\"label\":\"pi_bond\",\"values\":[0]},{\"axis\":{\"matches\":true},\"label\":\"Expt\",\"values\":[78.0]}],\"hovertemplate\":\"Molecule=Dimethoxymethane\\u003cbr\\u003e%{xaxis.title.text}=%{x}\\u003cbr\\u003e%{yaxis.title.text}=%{y}\\u003cextra\\u003e\\u003c\\u002fextra\\u003e\",\"legendgroup\":\"Dimethoxymethane\",\"marker\":{\"color\":\"blue\",\"symbol\":\"circle\"},\"name\":\"Dimethoxymethane\",\"showlegend\":true,\"type\":\"splom\"},{\"dimensions\":[{\"axis\":{\"matches\":true},\"label\":\"Ei\",\"values\":[9.52]},{\"axis\":{\"matches\":true},\"label\":\"Alpha\",\"values\":[7.99]},{\"axis\":{\"matches\":true},\"label\":\"Dipole\",\"values\":[2.99]},{\"axis\":{\"matches\":true},\"label\":\"pi_bond\",\"values\":[1]},{\"axis\":{\"matches\":true},\"label\":\"Expt\",\"values\":[194.0]}],\"hovertemplate\":\"Molecule=2-Butanone\\u003cbr\\u003e%{xaxis.title.text}=%{x}\\u003cbr\\u003e%{yaxis.title.text}=%{y}\\u003cextra\\u003e\\u003c\\u002fextra\\u003e\",\"legendgroup\":\"2-Butanone\",\"marker\":{\"color\":\"blue\",\"symbol\":\"circle\"},\"name\":\"2-Butanone\",\"showlegend\":true,\"type\":\"splom\"},{\"dimensions\":[{\"axis\":{\"matches\":true},\"label\":\"Ei\",\"values\":[10.52]},{\"axis\":{\"matches\":true},\"label\":\"Alpha\",\"values\":[8.7]},{\"axis\":{\"matches\":true},\"label\":\"Dipole\",\"values\":[2.36]},{\"axis\":{\"matches\":true},\"label\":\"pi_bond\",\"values\":[1]},{\"axis\":{\"matches\":true},\"label\":\"Expt\",\"values\":[126.0]}],\"hovertemplate\":\"Molecule=Propyl Formate\\u003cbr\\u003e%{xaxis.title.text}=%{x}\\u003cbr\\u003e%{yaxis.title.text}=%{y}\\u003cextra\\u003e\\u003c\\u002fextra\\u003e\",\"legendgroup\":\"Propyl Formate\",\"marker\":{\"color\":\"blue\",\"symbol\":\"circle\"},\"name\":\"Propyl Formate\",\"showlegend\":true,\"type\":\"splom\"},{\"dimensions\":[{\"axis\":{\"matches\":true},\"label\":\"Ei\",\"values\":[10.25]},{\"axis\":{\"matches\":true},\"label\":\"Alpha\",\"values\":[7.9]},{\"axis\":{\"matches\":true},\"label\":\"Dipole\",\"values\":[2.15]},{\"axis\":{\"matches\":true},\"label\":\"pi_bond\",\"values\":[0]},{\"axis\":{\"matches\":true},\"label\":\"Expt\",\"values\":[70.0]}],\"hovertemplate\":\"Molecule=1-Fluorobutane\\u003cbr\\u003e%{xaxis.title.text}=%{x}\\u003cbr\\u003e%{yaxis.title.text}=%{y}\\u003cextra\\u003e\\u003c\\u002fextra\\u003e\",\"legendgroup\":\"1-Fluorobutane\",\"marker\":{\"color\":\"blue\",\"symbol\":\"circle\"},\"name\":\"1-Fluorobutane\",\"showlegend\":true,\"type\":\"splom\"},{\"dimensions\":[{\"axis\":{\"matches\":true},\"label\":\"Ei\",\"values\":[9.85]},{\"axis\":{\"matches\":true},\"label\":\"Alpha\",\"values\":[11.6]},{\"axis\":{\"matches\":true},\"label\":\"Dipole\",\"values\":[2.21]},{\"axis\":{\"matches\":true},\"label\":\"pi_bond\",\"values\":[0]},{\"axis\":{\"matches\":true},\"label\":\"Expt\",\"values\":[80.0]}],\"hovertemplate\":\"Molecule=1-Fluorohexane\\u003cbr\\u003e%{xaxis.title.text}=%{x}\\u003cbr\\u003e%{yaxis.title.text}=%{y}\\u003cextra\\u003e\\u003c\\u002fextra\\u003e\",\"legendgroup\":\"1-Fluorohexane\",\"marker\":{\"color\":\"blue\",\"symbol\":\"circle\"},\"name\":\"1-Fluorohexane\",\"showlegend\":true,\"type\":\"splom\"},{\"dimensions\":[{\"axis\":{\"matches\":true},\"label\":\"Ei\",\"values\":[9.64]},{\"axis\":{\"matches\":true},\"label\":\"Alpha\",\"values\":[17.22]},{\"axis\":{\"matches\":true},\"label\":\"Dipole\",\"values\":[2.22]},{\"axis\":{\"matches\":true},\"label\":\"pi_bond\",\"values\":[0]},{\"axis\":{\"matches\":true},\"label\":\"Expt\",\"values\":[145.0]}],\"hovertemplate\":\"Molecule=1-Fluorononane\\u003cbr\\u003e%{xaxis.title.text}=%{x}\\u003cbr\\u003e%{yaxis.title.text}=%{y}\\u003cextra\\u003e\\u003c\\u002fextra\\u003e\",\"legendgroup\":\"1-Fluorononane\",\"marker\":{\"color\":\"blue\",\"symbol\":\"circle\"},\"name\":\"1-Fluorononane\",\"showlegend\":true,\"type\":\"splom\"},{\"dimensions\":[{\"axis\":{\"matches\":true},\"label\":\"Ei\",\"values\":[10.29]},{\"axis\":{\"matches\":true},\"label\":\"Alpha\",\"values\":[13.66]},{\"axis\":{\"matches\":true},\"label\":\"Dipole\",\"values\":[2.53]},{\"axis\":{\"matches\":true},\"label\":\"pi_bond\",\"values\":[0]},{\"axis\":{\"matches\":true},\"label\":\"Expt\",\"values\":[175.0]}],\"hovertemplate\":\"Molecule=1-Chlorohexane\\u003cbr\\u003e%{xaxis.title.text}=%{x}\\u003cbr\\u003e%{yaxis.title.text}=%{y}\\u003cextra\\u003e\\u003c\\u002fextra\\u003e\",\"legendgroup\":\"1-Chlorohexane\",\"marker\":{\"color\":\"blue\",\"symbol\":\"circle\"},\"name\":\"1-Chlorohexane\",\"showlegend\":true,\"type\":\"splom\"},{\"dimensions\":[{\"axis\":{\"matches\":true},\"label\":\"Ei\",\"values\":[11.32]},{\"axis\":{\"matches\":true},\"label\":\"Alpha\",\"values\":[6.353]},{\"axis\":{\"matches\":true},\"label\":\"Dipole\",\"values\":[2.01]},{\"axis\":{\"matches\":true},\"label\":\"pi_bond\",\"values\":[0]},{\"axis\":{\"matches\":true},\"label\":\"Expt\",\"values\":[32.0]}],\"hovertemplate\":\"Molecule=Dichloromethane\\u003cbr\\u003e%{xaxis.title.text}=%{x}\\u003cbr\\u003e%{yaxis.title.text}=%{y}\\u003cextra\\u003e\\u003c\\u002fextra\\u003e\",\"legendgroup\":\"Dichloromethane\",\"marker\":{\"color\":\"blue\",\"symbol\":\"circle\"},\"name\":\"Dichloromethane\",\"showlegend\":true,\"type\":\"splom\"},{\"dimensions\":[{\"axis\":{\"matches\":true},\"label\":\"Ei\",\"values\":[9.66]},{\"axis\":{\"matches\":true},\"label\":\"Alpha\",\"values\":[8.03]},{\"axis\":{\"matches\":true},\"label\":\"Dipole\",\"values\":[2.3]},{\"axis\":{\"matches\":true},\"label\":\"pi_bond\",\"values\":[1]},{\"axis\":{\"matches\":true},\"label\":\"Expt\",\"values\":[66.0]}],\"hovertemplate\":\"Molecule=cis-1-2-Dichloroethylene\\u003cbr\\u003e%{xaxis.title.text}=%{x}\\u003cbr\\u003e%{yaxis.title.text}=%{y}\\u003cextra\\u003e\\u003c\\u002fextra\\u003e\",\"legendgroup\":\"cis-1-2-Dichloroethylene\",\"marker\":{\"color\":\"blue\",\"symbol\":\"circle\"},\"name\":\"cis-1-2-Dichloroethylene\",\"showlegend\":true,\"type\":\"splom\"},{\"dimensions\":[{\"axis\":{\"matches\":true},\"label\":\"Ei\",\"values\":[9.46]},{\"axis\":{\"matches\":true},\"label\":\"Alpha\",\"values\":[10.2]},{\"axis\":{\"matches\":true},\"label\":\"Dipole\",\"values\":[1.1]},{\"axis\":{\"matches\":true},\"label\":\"pi_bond\",\"values\":[1]},{\"axis\":{\"matches\":true},\"label\":\"Expt\",\"values\":[50.0]}],\"hovertemplate\":\"Molecule=Trichloroethylene\\u003cbr\\u003e%{xaxis.title.text}=%{x}\\u003cbr\\u003e%{yaxis.title.text}=%{y}\\u003cextra\\u003e\\u003c\\u002fextra\\u003e\",\"legendgroup\":\"Trichloroethylene\",\"marker\":{\"color\":\"blue\",\"symbol\":\"circle\"},\"name\":\"Trichloroethylene\",\"showlegend\":true,\"type\":\"splom\"},{\"dimensions\":[{\"axis\":{\"matches\":true},\"label\":\"Ei\",\"values\":[10.81]},{\"axis\":{\"matches\":true},\"label\":\"Alpha\",\"values\":[8.211]},{\"axis\":{\"matches\":true},\"label\":\"Dipole\",\"values\":[2.54]},{\"axis\":{\"matches\":true},\"label\":\"pi_bond\",\"values\":[0]},{\"axis\":{\"matches\":true},\"label\":\"Expt\",\"values\":[98.0]}],\"hovertemplate\":\"Molecule=1-Chloropropane\\u003cbr\\u003e%{xaxis.title.text}=%{x}\\u003cbr\\u003e%{yaxis.title.text}=%{y}\\u003cextra\\u003e\\u003c\\u002fextra\\u003e\",\"legendgroup\":\"1-Chloropropane\",\"marker\":{\"color\":\"blue\",\"symbol\":\"circle\"},\"name\":\"1-Chloropropane\",\"showlegend\":true,\"type\":\"splom\"},{\"dimensions\":[{\"axis\":{\"matches\":true},\"label\":\"Ei\",\"values\":[10.79]},{\"axis\":{\"matches\":true},\"label\":\"Alpha\",\"values\":[8.211]},{\"axis\":{\"matches\":true},\"label\":\"Dipole\",\"values\":[2.57]},{\"axis\":{\"matches\":true},\"label\":\"pi_bond\",\"values\":[0]},{\"axis\":{\"matches\":true},\"label\":\"Expt\",\"values\":[113.0]}],\"hovertemplate\":\"Molecule=2-Chloropropane\\u003cbr\\u003e%{xaxis.title.text}=%{x}\\u003cbr\\u003e%{yaxis.title.text}=%{y}\\u003cextra\\u003e\\u003c\\u002fextra\\u003e\",\"legendgroup\":\"2-Chloropropane\",\"marker\":{\"color\":\"blue\",\"symbol\":\"circle\"},\"name\":\"2-Chloropropane\",\"showlegend\":true,\"type\":\"splom\"},{\"dimensions\":[{\"axis\":{\"matches\":true},\"label\":\"Ei\",\"values\":[11.42]},{\"axis\":{\"matches\":true},\"label\":\"Alpha\",\"values\":[6.11]},{\"axis\":{\"matches\":true},\"label\":\"Dipole\",\"values\":[2.5]},{\"axis\":{\"matches\":true},\"label\":\"pi_bond\",\"values\":[0]},{\"axis\":{\"matches\":true},\"label\":\"Expt\",\"values\":[25.0]}],\"hovertemplate\":\"Molecule=2-2-Difluoropropane\\u003cbr\\u003e%{xaxis.title.text}=%{x}\\u003cbr\\u003e%{yaxis.title.text}=%{y}\\u003cextra\\u003e\\u003c\\u002fextra\\u003e\",\"legendgroup\":\"2-2-Difluoropropane\",\"marker\":{\"color\":\"red\",\"symbol\":\"circle\"},\"name\":\"2-2-Difluoropropane\",\"showlegend\":true,\"type\":\"splom\"},{\"dimensions\":[{\"axis\":{\"matches\":true},\"label\":\"Ei\",\"values\":[9.81]},{\"axis\":{\"matches\":true},\"label\":\"Alpha\",\"values\":[8.0926]},{\"axis\":{\"matches\":true},\"label\":\"Dipole\",\"values\":[1.75]},{\"axis\":{\"matches\":true},\"label\":\"pi_bond\",\"values\":[1]},{\"axis\":{\"matches\":true},\"label\":\"Expt\",\"values\":[30.0]}],\"hovertemplate\":\"Molecule=1-1-Dichloroethylene\\u003cbr\\u003e%{xaxis.title.text}=%{x}\\u003cbr\\u003e%{yaxis.title.text}=%{y}\\u003cextra\\u003e\\u003c\\u002fextra\\u003e\",\"legendgroup\":\"1-1-Dichloroethylene\",\"marker\":{\"color\":\"red\",\"symbol\":\"circle\"},\"name\":\"1-1-Dichloroethylene\",\"showlegend\":true,\"type\":\"splom\"}],                        {\"template\":{\"data\":{\"histogram2dcontour\":[{\"type\":\"histogram2dcontour\",\"colorbar\":{\"outlinewidth\":0,\"ticks\":\"\"},\"colorscale\":[[0.0,\"#0d0887\"],[0.1111111111111111,\"#46039f\"],[0.2222222222222222,\"#7201a8\"],[0.3333333333333333,\"#9c179e\"],[0.4444444444444444,\"#bd3786\"],[0.5555555555555556,\"#d8576b\"],[0.6666666666666666,\"#ed7953\"],[0.7777777777777778,\"#fb9f3a\"],[0.8888888888888888,\"#fdca26\"],[1.0,\"#f0f921\"]]}],\"choropleth\":[{\"type\":\"choropleth\",\"colorbar\":{\"outlinewidth\":0,\"ticks\":\"\"}}],\"histogram2d\":[{\"type\":\"histogram2d\",\"colorbar\":{\"outlinewidth\":0,\"ticks\":\"\"},\"colorscale\":[[0.0,\"#0d0887\"],[0.1111111111111111,\"#46039f\"],[0.2222222222222222,\"#7201a8\"],[0.3333333333333333,\"#9c179e\"],[0.4444444444444444,\"#bd3786\"],[0.5555555555555556,\"#d8576b\"],[0.6666666666666666,\"#ed7953\"],[0.7777777777777778,\"#fb9f3a\"],[0.8888888888888888,\"#fdca26\"],[1.0,\"#f0f921\"]]}],\"heatmap\":[{\"type\":\"heatmap\",\"colorbar\":{\"outlinewidth\":0,\"ticks\":\"\"},\"colorscale\":[[0.0,\"#0d0887\"],[0.1111111111111111,\"#46039f\"],[0.2222222222222222,\"#7201a8\"],[0.3333333333333333,\"#9c179e\"],[0.4444444444444444,\"#bd3786\"],[0.5555555555555556,\"#d8576b\"],[0.6666666666666666,\"#ed7953\"],[0.7777777777777778,\"#fb9f3a\"],[0.8888888888888888,\"#fdca26\"],[1.0,\"#f0f921\"]]}],\"heatmapgl\":[{\"type\":\"heatmapgl\",\"colorbar\":{\"outlinewidth\":0,\"ticks\":\"\"},\"colorscale\":[[0.0,\"#0d0887\"],[0.1111111111111111,\"#46039f\"],[0.2222222222222222,\"#7201a8\"],[0.3333333333333333,\"#9c179e\"],[0.4444444444444444,\"#bd3786\"],[0.5555555555555556,\"#d8576b\"],[0.6666666666666666,\"#ed7953\"],[0.7777777777777778,\"#fb9f3a\"],[0.8888888888888888,\"#fdca26\"],[1.0,\"#f0f921\"]]}],\"contourcarpet\":[{\"type\":\"contourcarpet\",\"colorbar\":{\"outlinewidth\":0,\"ticks\":\"\"}}],\"contour\":[{\"type\":\"contour\",\"colorbar\":{\"outlinewidth\":0,\"ticks\":\"\"},\"colorscale\":[[0.0,\"#0d0887\"],[0.1111111111111111,\"#46039f\"],[0.2222222222222222,\"#7201a8\"],[0.3333333333333333,\"#9c179e\"],[0.4444444444444444,\"#bd3786\"],[0.5555555555555556,\"#d8576b\"],[0.6666666666666666,\"#ed7953\"],[0.7777777777777778,\"#fb9f3a\"],[0.8888888888888888,\"#fdca26\"],[1.0,\"#f0f921\"]]}],\"surface\":[{\"type\":\"surface\",\"colorbar\":{\"outlinewidth\":0,\"ticks\":\"\"},\"colorscale\":[[0.0,\"#0d0887\"],[0.1111111111111111,\"#46039f\"],[0.2222222222222222,\"#7201a8\"],[0.3333333333333333,\"#9c179e\"],[0.4444444444444444,\"#bd3786\"],[0.5555555555555556,\"#d8576b\"],[0.6666666666666666,\"#ed7953\"],[0.7777777777777778,\"#fb9f3a\"],[0.8888888888888888,\"#fdca26\"],[1.0,\"#f0f921\"]]}],\"mesh3d\":[{\"type\":\"mesh3d\",\"colorbar\":{\"outlinewidth\":0,\"ticks\":\"\"}}],\"scatter\":[{\"fillpattern\":{\"fillmode\":\"overlay\",\"size\":10,\"solidity\":0.2},\"type\":\"scatter\"}],\"parcoords\":[{\"type\":\"parcoords\",\"line\":{\"colorbar\":{\"outlinewidth\":0,\"ticks\":\"\"}}}],\"scatterpolargl\":[{\"type\":\"scatterpolargl\",\"marker\":{\"colorbar\":{\"outlinewidth\":0,\"ticks\":\"\"}}}],\"bar\":[{\"error_x\":{\"color\":\"#2a3f5f\"},\"error_y\":{\"color\":\"#2a3f5f\"},\"marker\":{\"line\":{\"color\":\"#E5ECF6\",\"width\":0.5},\"pattern\":{\"fillmode\":\"overlay\",\"size\":10,\"solidity\":0.2}},\"type\":\"bar\"}],\"scattergeo\":[{\"type\":\"scattergeo\",\"marker\":{\"colorbar\":{\"outlinewidth\":0,\"ticks\":\"\"}}}],\"scatterpolar\":[{\"type\":\"scatterpolar\",\"marker\":{\"colorbar\":{\"outlinewidth\":0,\"ticks\":\"\"}}}],\"histogram\":[{\"marker\":{\"pattern\":{\"fillmode\":\"overlay\",\"size\":10,\"solidity\":0.2}},\"type\":\"histogram\"}],\"scattergl\":[{\"type\":\"scattergl\",\"marker\":{\"colorbar\":{\"outlinewidth\":0,\"ticks\":\"\"}}}],\"scatter3d\":[{\"type\":\"scatter3d\",\"line\":{\"colorbar\":{\"outlinewidth\":0,\"ticks\":\"\"}},\"marker\":{\"colorbar\":{\"outlinewidth\":0,\"ticks\":\"\"}}}],\"scattermapbox\":[{\"type\":\"scattermapbox\",\"marker\":{\"colorbar\":{\"outlinewidth\":0,\"ticks\":\"\"}}}],\"scatterternary\":[{\"type\":\"scatterternary\",\"marker\":{\"colorbar\":{\"outlinewidth\":0,\"ticks\":\"\"}}}],\"scattercarpet\":[{\"type\":\"scattercarpet\",\"marker\":{\"colorbar\":{\"outlinewidth\":0,\"ticks\":\"\"}}}],\"carpet\":[{\"aaxis\":{\"endlinecolor\":\"#2a3f5f\",\"gridcolor\":\"white\",\"linecolor\":\"white\",\"minorgridcolor\":\"white\",\"startlinecolor\":\"#2a3f5f\"},\"baxis\":{\"endlinecolor\":\"#2a3f5f\",\"gridcolor\":\"white\",\"linecolor\":\"white\",\"minorgridcolor\":\"white\",\"startlinecolor\":\"#2a3f5f\"},\"type\":\"carpet\"}],\"table\":[{\"cells\":{\"fill\":{\"color\":\"#EBF0F8\"},\"line\":{\"color\":\"white\"}},\"header\":{\"fill\":{\"color\":\"#C8D4E3\"},\"line\":{\"color\":\"white\"}},\"type\":\"table\"}],\"barpolar\":[{\"marker\":{\"line\":{\"color\":\"#E5ECF6\",\"width\":0.5},\"pattern\":{\"fillmode\":\"overlay\",\"size\":10,\"solidity\":0.2}},\"type\":\"barpolar\"}],\"pie\":[{\"automargin\":true,\"type\":\"pie\"}]},\"layout\":{\"autotypenumbers\":\"strict\",\"colorway\":[\"#636efa\",\"#EF553B\",\"#00cc96\",\"#ab63fa\",\"#FFA15A\",\"#19d3f3\",\"#FF6692\",\"#B6E880\",\"#FF97FF\",\"#FECB52\"],\"font\":{\"color\":\"#2a3f5f\"},\"hovermode\":\"closest\",\"hoverlabel\":{\"align\":\"left\"},\"paper_bgcolor\":\"white\",\"plot_bgcolor\":\"#E5ECF6\",\"polar\":{\"bgcolor\":\"#E5ECF6\",\"angularaxis\":{\"gridcolor\":\"white\",\"linecolor\":\"white\",\"ticks\":\"\"},\"radialaxis\":{\"gridcolor\":\"white\",\"linecolor\":\"white\",\"ticks\":\"\"}},\"ternary\":{\"bgcolor\":\"#E5ECF6\",\"aaxis\":{\"gridcolor\":\"white\",\"linecolor\":\"white\",\"ticks\":\"\"},\"baxis\":{\"gridcolor\":\"white\",\"linecolor\":\"white\",\"ticks\":\"\"},\"caxis\":{\"gridcolor\":\"white\",\"linecolor\":\"white\",\"ticks\":\"\"}},\"coloraxis\":{\"colorbar\":{\"outlinewidth\":0,\"ticks\":\"\"}},\"colorscale\":{\"sequential\":[[0.0,\"#0d0887\"],[0.1111111111111111,\"#46039f\"],[0.2222222222222222,\"#7201a8\"],[0.3333333333333333,\"#9c179e\"],[0.4444444444444444,\"#bd3786\"],[0.5555555555555556,\"#d8576b\"],[0.6666666666666666,\"#ed7953\"],[0.7777777777777778,\"#fb9f3a\"],[0.8888888888888888,\"#fdca26\"],[1.0,\"#f0f921\"]],\"sequentialminus\":[[0.0,\"#0d0887\"],[0.1111111111111111,\"#46039f\"],[0.2222222222222222,\"#7201a8\"],[0.3333333333333333,\"#9c179e\"],[0.4444444444444444,\"#bd3786\"],[0.5555555555555556,\"#d8576b\"],[0.6666666666666666,\"#ed7953\"],[0.7777777777777778,\"#fb9f3a\"],[0.8888888888888888,\"#fdca26\"],[1.0,\"#f0f921\"]],\"diverging\":[[0,\"#8e0152\"],[0.1,\"#c51b7d\"],[0.2,\"#de77ae\"],[0.3,\"#f1b6da\"],[0.4,\"#fde0ef\"],[0.5,\"#f7f7f7\"],[0.6,\"#e6f5d0\"],[0.7,\"#b8e186\"],[0.8,\"#7fbc41\"],[0.9,\"#4d9221\"],[1,\"#276419\"]]},\"xaxis\":{\"gridcolor\":\"white\",\"linecolor\":\"white\",\"ticks\":\"\",\"title\":{\"standoff\":15},\"zerolinecolor\":\"white\",\"automargin\":true,\"zerolinewidth\":2},\"yaxis\":{\"gridcolor\":\"white\",\"linecolor\":\"white\",\"ticks\":\"\",\"title\":{\"standoff\":15},\"zerolinecolor\":\"white\",\"automargin\":true,\"zerolinewidth\":2},\"scene\":{\"xaxis\":{\"backgroundcolor\":\"#E5ECF6\",\"gridcolor\":\"white\",\"linecolor\":\"white\",\"showbackground\":true,\"ticks\":\"\",\"zerolinecolor\":\"white\",\"gridwidth\":2},\"yaxis\":{\"backgroundcolor\":\"#E5ECF6\",\"gridcolor\":\"white\",\"linecolor\":\"white\",\"showbackground\":true,\"ticks\":\"\",\"zerolinecolor\":\"white\",\"gridwidth\":2},\"zaxis\":{\"backgroundcolor\":\"#E5ECF6\",\"gridcolor\":\"white\",\"linecolor\":\"white\",\"showbackground\":true,\"ticks\":\"\",\"zerolinecolor\":\"white\",\"gridwidth\":2}},\"shapedefaults\":{\"line\":{\"color\":\"#2a3f5f\"}},\"annotationdefaults\":{\"arrowcolor\":\"#2a3f5f\",\"arrowhead\":0,\"arrowwidth\":1},\"geo\":{\"bgcolor\":\"white\",\"landcolor\":\"#E5ECF6\",\"subunitcolor\":\"white\",\"showland\":true,\"showlakes\":true,\"lakecolor\":\"white\"},\"title\":{\"x\":0.05},\"mapbox\":{\"style\":\"light\"}}},\"legend\":{\"title\":{\"text\":\"Molecule\"},\"tracegroupgap\":0},\"margin\":{\"t\":60},\"dragmode\":\"select\"},                        {\"responsive\": true}                    ).then(function(){\n",
       "                            \n",
       "var gd = document.getElementById('0a256851-a138-4f2e-81e2-7bcc5d9281f4');\n",
       "var x = new MutationObserver(function (mutations, observer) {{\n",
       "        var display = window.getComputedStyle(gd).display;\n",
       "        if (!display || display === 'none') {{\n",
       "            console.log([gd, 'removed!']);\n",
       "            Plotly.purge(gd);\n",
       "            observer.disconnect();\n",
       "        }}\n",
       "}});\n",
       "\n",
       "// Listen for the removal of the full notebook cells\n",
       "var notebookContainer = gd.closest('#notebook-container');\n",
       "if (notebookContainer) {{\n",
       "    x.observe(notebookContainer, {childList: true});\n",
       "}}\n",
       "\n",
       "// Listen for the clearing of the current output cell\n",
       "var outputEl = gd.closest('.output');\n",
       "if (outputEl) {{\n",
       "    x.observe(outputEl, {childList: true});\n",
       "}}\n",
       "\n",
       "                        })                };                });            </script>        </div>"
      ]
     },
     "metadata": {},
     "output_type": "display_data"
    }
   ],
   "source": [
    "# tentando entender onde se encontram essas moléculas\n",
    "def color_map(molecule):\n",
    "    return 'red' if molecule in ['2-2-Difluoropropane', '1-1-Dichloroethylene'] else 'blue'\n",
    "\n",
    "px.scatter_matrix(df_all_pol, dimensions=[\"Ei\", \"Alpha\", \"Dipole\", \"pi_bond\", \"Expt\"], \n",
    "                  color=\"Molecule\",\n",
    "                  color_discrete_map={m: color_map(m) for m in df_all_pol[\"Molecule\"]})"
   ]
  },
  {
   "cell_type": "markdown",
   "metadata": {},
   "source": [
    "# Constructing models"
   ]
  },
  {
   "cell_type": "code",
   "execution_count": 10,
   "metadata": {},
   "outputs": [],
   "source": [
    "models_list = pickle.load(open(\"../models/polar/all/all_molecules_models.sav\", \"rb\"))"
   ]
  },
  {
   "cell_type": "code",
   "execution_count": 11,
   "metadata": {},
   "outputs": [],
   "source": [
    "X = df_all_pol[[\"Ei\", \"Alpha\", \"Dipole\", \"pi_bond\"]]\n",
    "y = df_all_pol[\"Expt\"]\n",
    "\n",
    "model_names = [\"poly\", \"svr\", \"xgb\", \"nn\", \"ensemble\"]\n",
    "dict_of_performances = {}\n",
    "dict_of_predicts = {}\n",
    "\n",
    "for i, j in enumerate(models_list):\n",
    "    dict_of_performances[model_names[i]] = -cross_val_score(j, X, y, \n",
    "                scoring=\"neg_mean_absolute_percentage_error\", cv = len(X), n_jobs = 6)\n",
    "    \n",
    "    dict_of_predicts[model_names[i]] = cross_val_predict(j, X, y, cv = len(X), n_jobs = 6)\n"
   ]
  },
  {
   "cell_type": "code",
   "execution_count": 12,
   "metadata": {},
   "outputs": [],
   "source": [
    "df_performances = np.round(pd.DataFrame(dict_of_performances), 2)\n",
    "df_performances[\"erro medio\"] = df_performances.mean(axis=1)\n",
    "\n",
    "df_predicts = np.round(pd.DataFrame(dict_of_predicts)).astype(int)"
   ]
  },
  {
   "cell_type": "code",
   "execution_count": 13,
   "metadata": {},
   "outputs": [],
   "source": [
    "df_performances = pd.concat([df_all_pol[[\"Molecule\", \"Formula\"]], df_performances, df_all_pol[\"Expt\"]], axis = 1)\n",
    "df_predicts = pd.concat([df_all_pol[[\"Molecule\", \"Formula\"]], df_predicts, df_all_pol[\"Expt\"]], axis = 1)"
   ]
  },
  {
   "cell_type": "code",
   "execution_count": 14,
   "metadata": {},
   "outputs": [
    {
     "data": {
      "text/html": [
       "<div>\n",
       "<style scoped>\n",
       "    .dataframe tbody tr th:only-of-type {\n",
       "        vertical-align: middle;\n",
       "    }\n",
       "\n",
       "    .dataframe tbody tr th {\n",
       "        vertical-align: top;\n",
       "    }\n",
       "\n",
       "    .dataframe thead th {\n",
       "        text-align: right;\n",
       "    }\n",
       "</style>\n",
       "<table border=\"1\" class=\"dataframe\">\n",
       "  <thead>\n",
       "    <tr style=\"text-align: right;\">\n",
       "      <th></th>\n",
       "      <th>Molecule</th>\n",
       "      <th>Formula</th>\n",
       "      <th>poly</th>\n",
       "      <th>svr</th>\n",
       "      <th>xgb</th>\n",
       "      <th>nn</th>\n",
       "      <th>ensemble</th>\n",
       "      <th>Expt</th>\n",
       "    </tr>\n",
       "  </thead>\n",
       "  <tbody>\n",
       "    <tr>\n",
       "      <th>37</th>\n",
       "      <td>1-1-Dichloroethylene</td>\n",
       "      <td>C2H2Cl2</td>\n",
       "      <td>104</td>\n",
       "      <td>103</td>\n",
       "      <td>71</td>\n",
       "      <td>89</td>\n",
       "      <td>92</td>\n",
       "      <td>30.0</td>\n",
       "    </tr>\n",
       "    <tr>\n",
       "      <th>36</th>\n",
       "      <td>2-2-Difluoropropane</td>\n",
       "      <td>C3H6F2</td>\n",
       "      <td>52</td>\n",
       "      <td>61</td>\n",
       "      <td>68</td>\n",
       "      <td>72</td>\n",
       "      <td>63</td>\n",
       "      <td>25.0</td>\n",
       "    </tr>\n",
       "    <tr>\n",
       "      <th>32</th>\n",
       "      <td>cis-1-2-Dichloroethylene</td>\n",
       "      <td>C2H2Cl2</td>\n",
       "      <td>121</td>\n",
       "      <td>126</td>\n",
       "      <td>93</td>\n",
       "      <td>126</td>\n",
       "      <td>117</td>\n",
       "      <td>66.0</td>\n",
       "    </tr>\n",
       "    <tr>\n",
       "      <th>28</th>\n",
       "      <td>1-Fluorohexane</td>\n",
       "      <td>C6H13F</td>\n",
       "      <td>139</td>\n",
       "      <td>154</td>\n",
       "      <td>148</td>\n",
       "      <td>121</td>\n",
       "      <td>140</td>\n",
       "      <td>80.0</td>\n",
       "    </tr>\n",
       "    <tr>\n",
       "      <th>33</th>\n",
       "      <td>Trichloroethylene</td>\n",
       "      <td>C2HCl3</td>\n",
       "      <td>84</td>\n",
       "      <td>41</td>\n",
       "      <td>116</td>\n",
       "      <td>79</td>\n",
       "      <td>80</td>\n",
       "      <td>50.0</td>\n",
       "    </tr>\n",
       "  </tbody>\n",
       "</table>\n",
       "</div>"
      ],
      "text/plain": [
       "                    Molecule  Formula  poly  svr  xgb   nn  ensemble  Expt\n",
       "37      1-1-Dichloroethylene  C2H2Cl2   104  103   71   89        92  30.0\n",
       "36       2-2-Difluoropropane   C3H6F2    52   61   68   72        63  25.0\n",
       "32  cis-1-2-Dichloroethylene  C2H2Cl2   121  126   93  126       117  66.0\n",
       "28            1-Fluorohexane   C6H13F   139  154  148  121       140  80.0\n",
       "33         Trichloroethylene   C2HCl3    84   41  116   79        80  50.0"
      ]
     },
     "execution_count": 14,
     "metadata": {},
     "output_type": "execute_result"
    }
   ],
   "source": [
    "df_predicts.iloc[[37,36,32,28,33]]"
   ]
  },
  {
   "cell_type": "code",
   "execution_count": 19,
   "metadata": {},
   "outputs": [
    {
     "data": {
      "text/html": [
       "<div>\n",
       "<style scoped>\n",
       "    .dataframe tbody tr th:only-of-type {\n",
       "        vertical-align: middle;\n",
       "    }\n",
       "\n",
       "    .dataframe tbody tr th {\n",
       "        vertical-align: top;\n",
       "    }\n",
       "\n",
       "    .dataframe thead th {\n",
       "        text-align: right;\n",
       "    }\n",
       "</style>\n",
       "<table border=\"1\" class=\"dataframe\">\n",
       "  <thead>\n",
       "    <tr style=\"text-align: right;\">\n",
       "      <th></th>\n",
       "      <th>Molecule</th>\n",
       "      <th>Formula</th>\n",
       "      <th>poly</th>\n",
       "      <th>svr</th>\n",
       "      <th>xgb</th>\n",
       "      <th>nn</th>\n",
       "      <th>ensemble</th>\n",
       "      <th>erro medio</th>\n",
       "      <th>Expt</th>\n",
       "    </tr>\n",
       "  </thead>\n",
       "  <tbody>\n",
       "    <tr>\n",
       "      <th>37</th>\n",
       "      <td>1-1-Dichloroethylene</td>\n",
       "      <td>C2H2Cl2</td>\n",
       "      <td>2.45</td>\n",
       "      <td>2.44</td>\n",
       "      <td>1.37</td>\n",
       "      <td>1.98</td>\n",
       "      <td>2.06</td>\n",
       "      <td>2.060</td>\n",
       "      <td>30.0</td>\n",
       "    </tr>\n",
       "    <tr>\n",
       "      <th>36</th>\n",
       "      <td>2-2-Difluoropropane</td>\n",
       "      <td>C3H6F2</td>\n",
       "      <td>1.10</td>\n",
       "      <td>1.44</td>\n",
       "      <td>1.70</td>\n",
       "      <td>1.88</td>\n",
       "      <td>1.53</td>\n",
       "      <td>1.530</td>\n",
       "      <td>25.0</td>\n",
       "    </tr>\n",
       "    <tr>\n",
       "      <th>32</th>\n",
       "      <td>cis-1-2-Dichloroethylene</td>\n",
       "      <td>C2H2Cl2</td>\n",
       "      <td>0.83</td>\n",
       "      <td>0.91</td>\n",
       "      <td>0.41</td>\n",
       "      <td>0.91</td>\n",
       "      <td>0.77</td>\n",
       "      <td>0.766</td>\n",
       "      <td>66.0</td>\n",
       "    </tr>\n",
       "    <tr>\n",
       "      <th>28</th>\n",
       "      <td>1-Fluorohexane</td>\n",
       "      <td>C6H13F</td>\n",
       "      <td>0.73</td>\n",
       "      <td>0.92</td>\n",
       "      <td>0.85</td>\n",
       "      <td>0.51</td>\n",
       "      <td>0.75</td>\n",
       "      <td>0.752</td>\n",
       "      <td>80.0</td>\n",
       "    </tr>\n",
       "    <tr>\n",
       "      <th>33</th>\n",
       "      <td>Trichloroethylene</td>\n",
       "      <td>C2HCl3</td>\n",
       "      <td>0.67</td>\n",
       "      <td>0.19</td>\n",
       "      <td>1.31</td>\n",
       "      <td>0.58</td>\n",
       "      <td>0.60</td>\n",
       "      <td>0.670</td>\n",
       "      <td>50.0</td>\n",
       "    </tr>\n",
       "    <tr>\n",
       "      <th>4</th>\n",
       "      <td>Chloroform</td>\n",
       "      <td>CHCl3</td>\n",
       "      <td>0.58</td>\n",
       "      <td>0.89</td>\n",
       "      <td>0.51</td>\n",
       "      <td>0.35</td>\n",
       "      <td>0.58</td>\n",
       "      <td>0.582</td>\n",
       "      <td>50.0</td>\n",
       "    </tr>\n",
       "    <tr>\n",
       "      <th>2</th>\n",
       "      <td>Ethyl Acetate(conformer1)</td>\n",
       "      <td>C4H8O2</td>\n",
       "      <td>0.40</td>\n",
       "      <td>0.51</td>\n",
       "      <td>0.51</td>\n",
       "      <td>0.37</td>\n",
       "      <td>0.45</td>\n",
       "      <td>0.448</td>\n",
       "      <td>160.0</td>\n",
       "    </tr>\n",
       "    <tr>\n",
       "      <th>20</th>\n",
       "      <td>Acetaldehyde</td>\n",
       "      <td>C2H4O</td>\n",
       "      <td>0.31</td>\n",
       "      <td>0.16</td>\n",
       "      <td>0.91</td>\n",
       "      <td>0.34</td>\n",
       "      <td>0.43</td>\n",
       "      <td>0.430</td>\n",
       "      <td>88.0</td>\n",
       "    </tr>\n",
       "    <tr>\n",
       "      <th>27</th>\n",
       "      <td>1-Fluorobutane</td>\n",
       "      <td>C4H9F</td>\n",
       "      <td>0.15</td>\n",
       "      <td>0.49</td>\n",
       "      <td>0.72</td>\n",
       "      <td>0.33</td>\n",
       "      <td>0.42</td>\n",
       "      <td>0.422</td>\n",
       "      <td>70.0</td>\n",
       "    </tr>\n",
       "    <tr>\n",
       "      <th>23</th>\n",
       "      <td>Methanol</td>\n",
       "      <td>CH4O</td>\n",
       "      <td>0.09</td>\n",
       "      <td>0.74</td>\n",
       "      <td>0.31</td>\n",
       "      <td>0.90</td>\n",
       "      <td>0.06</td>\n",
       "      <td>0.420</td>\n",
       "      <td>20.0</td>\n",
       "    </tr>\n",
       "    <tr>\n",
       "      <th>22</th>\n",
       "      <td>Chloromethane</td>\n",
       "      <td>CH3Cl</td>\n",
       "      <td>0.23</td>\n",
       "      <td>0.53</td>\n",
       "      <td>0.18</td>\n",
       "      <td>0.65</td>\n",
       "      <td>0.40</td>\n",
       "      <td>0.398</td>\n",
       "      <td>25.0</td>\n",
       "    </tr>\n",
       "    <tr>\n",
       "      <th>31</th>\n",
       "      <td>Dichloromethane</td>\n",
       "      <td>CH2Cl2</td>\n",
       "      <td>0.34</td>\n",
       "      <td>0.12</td>\n",
       "      <td>1.00</td>\n",
       "      <td>0.04</td>\n",
       "      <td>0.37</td>\n",
       "      <td>0.374</td>\n",
       "      <td>32.0</td>\n",
       "    </tr>\n",
       "    <tr>\n",
       "      <th>0</th>\n",
       "      <td>Bromoform</td>\n",
       "      <td>CHBr3</td>\n",
       "      <td>0.39</td>\n",
       "      <td>0.18</td>\n",
       "      <td>0.30</td>\n",
       "      <td>0.56</td>\n",
       "      <td>0.36</td>\n",
       "      <td>0.358</td>\n",
       "      <td>130.0</td>\n",
       "    </tr>\n",
       "    <tr>\n",
       "      <th>9</th>\n",
       "      <td>Methyl Acetate</td>\n",
       "      <td>C3H6O2</td>\n",
       "      <td>0.30</td>\n",
       "      <td>0.44</td>\n",
       "      <td>0.31</td>\n",
       "      <td>0.37</td>\n",
       "      <td>0.36</td>\n",
       "      <td>0.356</td>\n",
       "      <td>122.0</td>\n",
       "    </tr>\n",
       "    <tr>\n",
       "      <th>24</th>\n",
       "      <td>Dimethoxymethane</td>\n",
       "      <td>C3H8O2</td>\n",
       "      <td>0.14</td>\n",
       "      <td>0.66</td>\n",
       "      <td>0.48</td>\n",
       "      <td>0.13</td>\n",
       "      <td>0.05</td>\n",
       "      <td>0.292</td>\n",
       "      <td>78.0</td>\n",
       "    </tr>\n",
       "    <tr>\n",
       "      <th>3</th>\n",
       "      <td>1-Butanol</td>\n",
       "      <td>C4H10O</td>\n",
       "      <td>0.25</td>\n",
       "      <td>0.34</td>\n",
       "      <td>0.17</td>\n",
       "      <td>0.28</td>\n",
       "      <td>0.18</td>\n",
       "      <td>0.244</td>\n",
       "      <td>102.0</td>\n",
       "    </tr>\n",
       "    <tr>\n",
       "      <th>16</th>\n",
       "      <td>1-2-Ethanediol</td>\n",
       "      <td>C2H6O2</td>\n",
       "      <td>0.09</td>\n",
       "      <td>0.19</td>\n",
       "      <td>0.61</td>\n",
       "      <td>0.11</td>\n",
       "      <td>0.19</td>\n",
       "      <td>0.238</td>\n",
       "      <td>70.0</td>\n",
       "    </tr>\n",
       "    <tr>\n",
       "      <th>30</th>\n",
       "      <td>1-Chlorohexane</td>\n",
       "      <td>C6H13Cl</td>\n",
       "      <td>0.16</td>\n",
       "      <td>0.42</td>\n",
       "      <td>0.24</td>\n",
       "      <td>0.11</td>\n",
       "      <td>0.23</td>\n",
       "      <td>0.232</td>\n",
       "      <td>175.0</td>\n",
       "    </tr>\n",
       "    <tr>\n",
       "      <th>7</th>\n",
       "      <td>Dimethylcarbonate</td>\n",
       "      <td>C3H6O3</td>\n",
       "      <td>0.43</td>\n",
       "      <td>0.07</td>\n",
       "      <td>0.12</td>\n",
       "      <td>0.21</td>\n",
       "      <td>0.15</td>\n",
       "      <td>0.196</td>\n",
       "      <td>102.0</td>\n",
       "    </tr>\n",
       "    <tr>\n",
       "      <th>10</th>\n",
       "      <td>2-Propanol</td>\n",
       "      <td>C3H8O</td>\n",
       "      <td>0.30</td>\n",
       "      <td>0.19</td>\n",
       "      <td>0.04</td>\n",
       "      <td>0.25</td>\n",
       "      <td>0.20</td>\n",
       "      <td>0.196</td>\n",
       "      <td>87.0</td>\n",
       "    </tr>\n",
       "    <tr>\n",
       "      <th>29</th>\n",
       "      <td>1-Fluorononane</td>\n",
       "      <td>C9H19F</td>\n",
       "      <td>0.05</td>\n",
       "      <td>0.12</td>\n",
       "      <td>0.45</td>\n",
       "      <td>0.30</td>\n",
       "      <td>0.02</td>\n",
       "      <td>0.188</td>\n",
       "      <td>145.0</td>\n",
       "    </tr>\n",
       "    <tr>\n",
       "      <th>18</th>\n",
       "      <td>Methyl Formate</td>\n",
       "      <td>C2H4O2</td>\n",
       "      <td>0.11</td>\n",
       "      <td>0.16</td>\n",
       "      <td>0.38</td>\n",
       "      <td>0.14</td>\n",
       "      <td>0.06</td>\n",
       "      <td>0.170</td>\n",
       "      <td>65.0</td>\n",
       "    </tr>\n",
       "    <tr>\n",
       "      <th>11</th>\n",
       "      <td>1-Propanol</td>\n",
       "      <td>C3H8O</td>\n",
       "      <td>0.10</td>\n",
       "      <td>0.21</td>\n",
       "      <td>0.27</td>\n",
       "      <td>0.07</td>\n",
       "      <td>0.08</td>\n",
       "      <td>0.146</td>\n",
       "      <td>70.0</td>\n",
       "    </tr>\n",
       "    <tr>\n",
       "      <th>34</th>\n",
       "      <td>1-Chloropropane</td>\n",
       "      <td>C3H7Cl</td>\n",
       "      <td>0.10</td>\n",
       "      <td>0.11</td>\n",
       "      <td>0.20</td>\n",
       "      <td>0.20</td>\n",
       "      <td>0.10</td>\n",
       "      <td>0.142</td>\n",
       "      <td>98.0</td>\n",
       "    </tr>\n",
       "    <tr>\n",
       "      <th>25</th>\n",
       "      <td>2-Butanone</td>\n",
       "      <td>C4H8O</td>\n",
       "      <td>0.17</td>\n",
       "      <td>0.08</td>\n",
       "      <td>0.13</td>\n",
       "      <td>0.15</td>\n",
       "      <td>0.13</td>\n",
       "      <td>0.132</td>\n",
       "      <td>194.0</td>\n",
       "    </tr>\n",
       "    <tr>\n",
       "      <th>13</th>\n",
       "      <td>Propanal</td>\n",
       "      <td>C3H6O</td>\n",
       "      <td>0.09</td>\n",
       "      <td>0.09</td>\n",
       "      <td>0.18</td>\n",
       "      <td>0.15</td>\n",
       "      <td>0.13</td>\n",
       "      <td>0.128</td>\n",
       "      <td>118.0</td>\n",
       "    </tr>\n",
       "    <tr>\n",
       "      <th>21</th>\n",
       "      <td>Acetonitrile</td>\n",
       "      <td>C2H3N</td>\n",
       "      <td>0.28</td>\n",
       "      <td>0.08</td>\n",
       "      <td>0.10</td>\n",
       "      <td>0.15</td>\n",
       "      <td>0.01</td>\n",
       "      <td>0.124</td>\n",
       "      <td>180.0</td>\n",
       "    </tr>\n",
       "    <tr>\n",
       "      <th>35</th>\n",
       "      <td>2-Chloropropane</td>\n",
       "      <td>C3H7Cl</td>\n",
       "      <td>0.24</td>\n",
       "      <td>0.12</td>\n",
       "      <td>0.11</td>\n",
       "      <td>0.03</td>\n",
       "      <td>0.11</td>\n",
       "      <td>0.122</td>\n",
       "      <td>113.0</td>\n",
       "    </tr>\n",
       "    <tr>\n",
       "      <th>1</th>\n",
       "      <td>Cyclopentanone</td>\n",
       "      <td>C5H8O</td>\n",
       "      <td>0.01</td>\n",
       "      <td>0.11</td>\n",
       "      <td>0.13</td>\n",
       "      <td>0.20</td>\n",
       "      <td>0.11</td>\n",
       "      <td>0.112</td>\n",
       "      <td>230.0</td>\n",
       "    </tr>\n",
       "    <tr>\n",
       "      <th>6</th>\n",
       "      <td>2-MethylPropionitrile</td>\n",
       "      <td>C4H7N</td>\n",
       "      <td>0.15</td>\n",
       "      <td>0.07</td>\n",
       "      <td>0.15</td>\n",
       "      <td>0.07</td>\n",
       "      <td>0.11</td>\n",
       "      <td>0.110</td>\n",
       "      <td>274.0</td>\n",
       "    </tr>\n",
       "    <tr>\n",
       "      <th>12</th>\n",
       "      <td>Acetone</td>\n",
       "      <td>C3H6O</td>\n",
       "      <td>0.16</td>\n",
       "      <td>0.11</td>\n",
       "      <td>0.05</td>\n",
       "      <td>0.12</td>\n",
       "      <td>0.08</td>\n",
       "      <td>0.104</td>\n",
       "      <td>173.0</td>\n",
       "    </tr>\n",
       "    <tr>\n",
       "      <th>15</th>\n",
       "      <td>1-Fluoropropane</td>\n",
       "      <td>C3H7F</td>\n",
       "      <td>0.13</td>\n",
       "      <td>0.14</td>\n",
       "      <td>0.00</td>\n",
       "      <td>0.20</td>\n",
       "      <td>0.05</td>\n",
       "      <td>0.104</td>\n",
       "      <td>35.0</td>\n",
       "    </tr>\n",
       "    <tr>\n",
       "      <th>5</th>\n",
       "      <td>Butanal</td>\n",
       "      <td>C4H8O</td>\n",
       "      <td>0.05</td>\n",
       "      <td>0.06</td>\n",
       "      <td>0.26</td>\n",
       "      <td>0.10</td>\n",
       "      <td>0.01</td>\n",
       "      <td>0.096</td>\n",
       "      <td>142.0</td>\n",
       "    </tr>\n",
       "    <tr>\n",
       "      <th>17</th>\n",
       "      <td>Bromomethane</td>\n",
       "      <td>CH3Br</td>\n",
       "      <td>0.20</td>\n",
       "      <td>0.15</td>\n",
       "      <td>0.00</td>\n",
       "      <td>0.04</td>\n",
       "      <td>0.08</td>\n",
       "      <td>0.094</td>\n",
       "      <td>40.0</td>\n",
       "    </tr>\n",
       "    <tr>\n",
       "      <th>14</th>\n",
       "      <td>Propionitrile</td>\n",
       "      <td>C3H5N</td>\n",
       "      <td>0.07</td>\n",
       "      <td>0.06</td>\n",
       "      <td>0.20</td>\n",
       "      <td>0.07</td>\n",
       "      <td>0.06</td>\n",
       "      <td>0.092</td>\n",
       "      <td>245.0</td>\n",
       "    </tr>\n",
       "    <tr>\n",
       "      <th>26</th>\n",
       "      <td>Propyl Formate</td>\n",
       "      <td>C4H8O2</td>\n",
       "      <td>0.02</td>\n",
       "      <td>0.11</td>\n",
       "      <td>0.19</td>\n",
       "      <td>0.01</td>\n",
       "      <td>0.08</td>\n",
       "      <td>0.082</td>\n",
       "      <td>126.0</td>\n",
       "    </tr>\n",
       "    <tr>\n",
       "      <th>19</th>\n",
       "      <td>Ethanol</td>\n",
       "      <td>C2H6O</td>\n",
       "      <td>0.07</td>\n",
       "      <td>0.09</td>\n",
       "      <td>0.02</td>\n",
       "      <td>0.07</td>\n",
       "      <td>0.02</td>\n",
       "      <td>0.054</td>\n",
       "      <td>43.0</td>\n",
       "    </tr>\n",
       "    <tr>\n",
       "      <th>8</th>\n",
       "      <td>Ethyl Formate</td>\n",
       "      <td>C3H6O2</td>\n",
       "      <td>0.02</td>\n",
       "      <td>0.09</td>\n",
       "      <td>0.01</td>\n",
       "      <td>0.05</td>\n",
       "      <td>0.04</td>\n",
       "      <td>0.042</td>\n",
       "      <td>103.0</td>\n",
       "    </tr>\n",
       "  </tbody>\n",
       "</table>\n",
       "</div>"
      ],
      "text/plain": [
       "                     Molecule  Formula  poly   svr   xgb    nn  ensemble  \\\n",
       "37       1-1-Dichloroethylene  C2H2Cl2  2.45  2.44  1.37  1.98      2.06   \n",
       "36        2-2-Difluoropropane   C3H6F2  1.10  1.44  1.70  1.88      1.53   \n",
       "32   cis-1-2-Dichloroethylene  C2H2Cl2  0.83  0.91  0.41  0.91      0.77   \n",
       "28             1-Fluorohexane   C6H13F  0.73  0.92  0.85  0.51      0.75   \n",
       "33          Trichloroethylene   C2HCl3  0.67  0.19  1.31  0.58      0.60   \n",
       "4                  Chloroform    CHCl3  0.58  0.89  0.51  0.35      0.58   \n",
       "2   Ethyl Acetate(conformer1)   C4H8O2  0.40  0.51  0.51  0.37      0.45   \n",
       "20               Acetaldehyde    C2H4O  0.31  0.16  0.91  0.34      0.43   \n",
       "27             1-Fluorobutane    C4H9F  0.15  0.49  0.72  0.33      0.42   \n",
       "23                   Methanol     CH4O  0.09  0.74  0.31  0.90      0.06   \n",
       "22              Chloromethane    CH3Cl  0.23  0.53  0.18  0.65      0.40   \n",
       "31            Dichloromethane   CH2Cl2  0.34  0.12  1.00  0.04      0.37   \n",
       "0                   Bromoform    CHBr3  0.39  0.18  0.30  0.56      0.36   \n",
       "9              Methyl Acetate   C3H6O2  0.30  0.44  0.31  0.37      0.36   \n",
       "24           Dimethoxymethane   C3H8O2  0.14  0.66  0.48  0.13      0.05   \n",
       "3                   1-Butanol   C4H10O  0.25  0.34  0.17  0.28      0.18   \n",
       "16             1-2-Ethanediol   C2H6O2  0.09  0.19  0.61  0.11      0.19   \n",
       "30             1-Chlorohexane  C6H13Cl  0.16  0.42  0.24  0.11      0.23   \n",
       "7           Dimethylcarbonate   C3H6O3  0.43  0.07  0.12  0.21      0.15   \n",
       "10                 2-Propanol    C3H8O  0.30  0.19  0.04  0.25      0.20   \n",
       "29             1-Fluorononane   C9H19F  0.05  0.12  0.45  0.30      0.02   \n",
       "18             Methyl Formate   C2H4O2  0.11  0.16  0.38  0.14      0.06   \n",
       "11                 1-Propanol    C3H8O  0.10  0.21  0.27  0.07      0.08   \n",
       "34            1-Chloropropane   C3H7Cl  0.10  0.11  0.20  0.20      0.10   \n",
       "25                 2-Butanone    C4H8O  0.17  0.08  0.13  0.15      0.13   \n",
       "13                   Propanal    C3H6O  0.09  0.09  0.18  0.15      0.13   \n",
       "21               Acetonitrile    C2H3N  0.28  0.08  0.10  0.15      0.01   \n",
       "35            2-Chloropropane   C3H7Cl  0.24  0.12  0.11  0.03      0.11   \n",
       "1              Cyclopentanone    C5H8O  0.01  0.11  0.13  0.20      0.11   \n",
       "6       2-MethylPropionitrile    C4H7N  0.15  0.07  0.15  0.07      0.11   \n",
       "12                    Acetone    C3H6O  0.16  0.11  0.05  0.12      0.08   \n",
       "15            1-Fluoropropane    C3H7F  0.13  0.14  0.00  0.20      0.05   \n",
       "5                     Butanal    C4H8O  0.05  0.06  0.26  0.10      0.01   \n",
       "17               Bromomethane    CH3Br  0.20  0.15  0.00  0.04      0.08   \n",
       "14              Propionitrile    C3H5N  0.07  0.06  0.20  0.07      0.06   \n",
       "26             Propyl Formate   C4H8O2  0.02  0.11  0.19  0.01      0.08   \n",
       "19                    Ethanol    C2H6O  0.07  0.09  0.02  0.07      0.02   \n",
       "8               Ethyl Formate   C3H6O2  0.02  0.09  0.01  0.05      0.04   \n",
       "\n",
       "    erro medio   Expt  \n",
       "37       2.060   30.0  \n",
       "36       1.530   25.0  \n",
       "32       0.766   66.0  \n",
       "28       0.752   80.0  \n",
       "33       0.670   50.0  \n",
       "4        0.582   50.0  \n",
       "2        0.448  160.0  \n",
       "20       0.430   88.0  \n",
       "27       0.422   70.0  \n",
       "23       0.420   20.0  \n",
       "22       0.398   25.0  \n",
       "31       0.374   32.0  \n",
       "0        0.358  130.0  \n",
       "9        0.356  122.0  \n",
       "24       0.292   78.0  \n",
       "3        0.244  102.0  \n",
       "16       0.238   70.0  \n",
       "30       0.232  175.0  \n",
       "7        0.196  102.0  \n",
       "10       0.196   87.0  \n",
       "29       0.188  145.0  \n",
       "18       0.170   65.0  \n",
       "11       0.146   70.0  \n",
       "34       0.142   98.0  \n",
       "25       0.132  194.0  \n",
       "13       0.128  118.0  \n",
       "21       0.124  180.0  \n",
       "35       0.122  113.0  \n",
       "1        0.112  230.0  \n",
       "6        0.110  274.0  \n",
       "12       0.104  173.0  \n",
       "15       0.104   35.0  \n",
       "5        0.096  142.0  \n",
       "17       0.094   40.0  \n",
       "14       0.092  245.0  \n",
       "26       0.082  126.0  \n",
       "19       0.054   43.0  \n",
       "8        0.042  103.0  "
      ]
     },
     "execution_count": 19,
     "metadata": {},
     "output_type": "execute_result"
    }
   ],
   "source": [
    "df_performances.sort_values(\"erro medio\", ascending=False)"
   ]
  },
  {
   "cell_type": "code",
   "execution_count": 18,
   "metadata": {},
   "outputs": [
    {
     "data": {
      "text/html": [
       "<div>\n",
       "<style scoped>\n",
       "    .dataframe tbody tr th:only-of-type {\n",
       "        vertical-align: middle;\n",
       "    }\n",
       "\n",
       "    .dataframe tbody tr th {\n",
       "        vertical-align: top;\n",
       "    }\n",
       "\n",
       "    .dataframe thead th {\n",
       "        text-align: right;\n",
       "    }\n",
       "</style>\n",
       "<table border=\"1\" class=\"dataframe\">\n",
       "  <thead>\n",
       "    <tr style=\"text-align: right;\">\n",
       "      <th></th>\n",
       "      <th>Molecule</th>\n",
       "      <th>Formula</th>\n",
       "      <th>Ei</th>\n",
       "      <th>Alpha</th>\n",
       "      <th>Dipole</th>\n",
       "      <th>pi_bond</th>\n",
       "      <th>Expt</th>\n",
       "    </tr>\n",
       "  </thead>\n",
       "  <tbody>\n",
       "    <tr>\n",
       "      <th>23</th>\n",
       "      <td>Methanol</td>\n",
       "      <td>CH4O</td>\n",
       "      <td>10.85</td>\n",
       "      <td>3.1300</td>\n",
       "      <td>1.67</td>\n",
       "      <td>0</td>\n",
       "      <td>20.0</td>\n",
       "    </tr>\n",
       "    <tr>\n",
       "      <th>22</th>\n",
       "      <td>Chloromethane</td>\n",
       "      <td>CH3Cl</td>\n",
       "      <td>11.22</td>\n",
       "      <td>4.2800</td>\n",
       "      <td>2.06</td>\n",
       "      <td>0</td>\n",
       "      <td>25.0</td>\n",
       "    </tr>\n",
       "    <tr>\n",
       "      <th>36</th>\n",
       "      <td>2-2-Difluoropropane</td>\n",
       "      <td>C3H6F2</td>\n",
       "      <td>11.42</td>\n",
       "      <td>6.1100</td>\n",
       "      <td>2.50</td>\n",
       "      <td>0</td>\n",
       "      <td>25.0</td>\n",
       "    </tr>\n",
       "    <tr>\n",
       "      <th>37</th>\n",
       "      <td>1-1-Dichloroethylene</td>\n",
       "      <td>C2H2Cl2</td>\n",
       "      <td>9.81</td>\n",
       "      <td>8.0926</td>\n",
       "      <td>1.75</td>\n",
       "      <td>1</td>\n",
       "      <td>30.0</td>\n",
       "    </tr>\n",
       "    <tr>\n",
       "      <th>31</th>\n",
       "      <td>Dichloromethane</td>\n",
       "      <td>CH2Cl2</td>\n",
       "      <td>11.32</td>\n",
       "      <td>6.3530</td>\n",
       "      <td>2.01</td>\n",
       "      <td>0</td>\n",
       "      <td>32.0</td>\n",
       "    </tr>\n",
       "    <tr>\n",
       "      <th>15</th>\n",
       "      <td>1-Fluoropropane</td>\n",
       "      <td>C3H7F</td>\n",
       "      <td>11.30</td>\n",
       "      <td>6.0900</td>\n",
       "      <td>2.07</td>\n",
       "      <td>0</td>\n",
       "      <td>35.0</td>\n",
       "    </tr>\n",
       "    <tr>\n",
       "      <th>17</th>\n",
       "      <td>Bromomethane</td>\n",
       "      <td>CH3Br</td>\n",
       "      <td>10.54</td>\n",
       "      <td>5.2600</td>\n",
       "      <td>1.99</td>\n",
       "      <td>0</td>\n",
       "      <td>40.0</td>\n",
       "    </tr>\n",
       "    <tr>\n",
       "      <th>19</th>\n",
       "      <td>Ethanol</td>\n",
       "      <td>C2H6O</td>\n",
       "      <td>10.43</td>\n",
       "      <td>4.9500</td>\n",
       "      <td>1.72</td>\n",
       "      <td>0</td>\n",
       "      <td>43.0</td>\n",
       "    </tr>\n",
       "    <tr>\n",
       "      <th>33</th>\n",
       "      <td>Trichloroethylene</td>\n",
       "      <td>C2HCl3</td>\n",
       "      <td>9.46</td>\n",
       "      <td>10.2000</td>\n",
       "      <td>1.10</td>\n",
       "      <td>1</td>\n",
       "      <td>50.0</td>\n",
       "    </tr>\n",
       "    <tr>\n",
       "      <th>4</th>\n",
       "      <td>Chloroform</td>\n",
       "      <td>CHCl3</td>\n",
       "      <td>11.37</td>\n",
       "      <td>8.1900</td>\n",
       "      <td>1.13</td>\n",
       "      <td>0</td>\n",
       "      <td>50.0</td>\n",
       "    </tr>\n",
       "    <tr>\n",
       "      <th>18</th>\n",
       "      <td>Methyl Formate</td>\n",
       "      <td>C2H4O2</td>\n",
       "      <td>10.84</td>\n",
       "      <td>5.0100</td>\n",
       "      <td>1.97</td>\n",
       "      <td>1</td>\n",
       "      <td>65.0</td>\n",
       "    </tr>\n",
       "    <tr>\n",
       "      <th>32</th>\n",
       "      <td>cis-1-2-Dichloroethylene</td>\n",
       "      <td>C2H2Cl2</td>\n",
       "      <td>9.66</td>\n",
       "      <td>8.0300</td>\n",
       "      <td>2.30</td>\n",
       "      <td>1</td>\n",
       "      <td>66.0</td>\n",
       "    </tr>\n",
       "    <tr>\n",
       "      <th>11</th>\n",
       "      <td>1-Propanol</td>\n",
       "      <td>C3H8O</td>\n",
       "      <td>10.18</td>\n",
       "      <td>6.7100</td>\n",
       "      <td>1.69</td>\n",
       "      <td>0</td>\n",
       "      <td>70.0</td>\n",
       "    </tr>\n",
       "    <tr>\n",
       "      <th>27</th>\n",
       "      <td>1-Fluorobutane</td>\n",
       "      <td>C4H9F</td>\n",
       "      <td>10.25</td>\n",
       "      <td>7.9000</td>\n",
       "      <td>2.15</td>\n",
       "      <td>0</td>\n",
       "      <td>70.0</td>\n",
       "    </tr>\n",
       "    <tr>\n",
       "      <th>16</th>\n",
       "      <td>1-2-Ethanediol</td>\n",
       "      <td>C2H6O2</td>\n",
       "      <td>10.16</td>\n",
       "      <td>5.5700</td>\n",
       "      <td>2.48</td>\n",
       "      <td>0</td>\n",
       "      <td>70.0</td>\n",
       "    </tr>\n",
       "    <tr>\n",
       "      <th>24</th>\n",
       "      <td>Dimethoxymethane</td>\n",
       "      <td>C3H8O2</td>\n",
       "      <td>9.70</td>\n",
       "      <td>7.3900</td>\n",
       "      <td>0.25</td>\n",
       "      <td>0</td>\n",
       "      <td>78.0</td>\n",
       "    </tr>\n",
       "    <tr>\n",
       "      <th>28</th>\n",
       "      <td>1-Fluorohexane</td>\n",
       "      <td>C6H13F</td>\n",
       "      <td>9.85</td>\n",
       "      <td>11.6000</td>\n",
       "      <td>2.21</td>\n",
       "      <td>0</td>\n",
       "      <td>80.0</td>\n",
       "    </tr>\n",
       "    <tr>\n",
       "      <th>10</th>\n",
       "      <td>2-Propanol</td>\n",
       "      <td>C3H8O</td>\n",
       "      <td>10.17</td>\n",
       "      <td>6.7700</td>\n",
       "      <td>1.64</td>\n",
       "      <td>0</td>\n",
       "      <td>87.0</td>\n",
       "    </tr>\n",
       "    <tr>\n",
       "      <th>20</th>\n",
       "      <td>Acetaldehyde</td>\n",
       "      <td>C2H4O</td>\n",
       "      <td>10.23</td>\n",
       "      <td>4.4900</td>\n",
       "      <td>2.95</td>\n",
       "      <td>1</td>\n",
       "      <td>88.0</td>\n",
       "    </tr>\n",
       "    <tr>\n",
       "      <th>34</th>\n",
       "      <td>1-Chloropropane</td>\n",
       "      <td>C3H7Cl</td>\n",
       "      <td>10.81</td>\n",
       "      <td>8.2110</td>\n",
       "      <td>2.54</td>\n",
       "      <td>0</td>\n",
       "      <td>98.0</td>\n",
       "    </tr>\n",
       "    <tr>\n",
       "      <th>7</th>\n",
       "      <td>Dimethylcarbonate</td>\n",
       "      <td>C3H6O3</td>\n",
       "      <td>10.30</td>\n",
       "      <td>7.4400</td>\n",
       "      <td>0.46</td>\n",
       "      <td>1</td>\n",
       "      <td>102.0</td>\n",
       "    </tr>\n",
       "    <tr>\n",
       "      <th>3</th>\n",
       "      <td>1-Butanol</td>\n",
       "      <td>C4H10O</td>\n",
       "      <td>9.99</td>\n",
       "      <td>8.5400</td>\n",
       "      <td>1.59</td>\n",
       "      <td>0</td>\n",
       "      <td>102.0</td>\n",
       "    </tr>\n",
       "    <tr>\n",
       "      <th>8</th>\n",
       "      <td>Ethyl Formate</td>\n",
       "      <td>C3H6O2</td>\n",
       "      <td>10.61</td>\n",
       "      <td>6.8800</td>\n",
       "      <td>2.24</td>\n",
       "      <td>1</td>\n",
       "      <td>103.0</td>\n",
       "    </tr>\n",
       "    <tr>\n",
       "      <th>35</th>\n",
       "      <td>2-Chloropropane</td>\n",
       "      <td>C3H7Cl</td>\n",
       "      <td>10.79</td>\n",
       "      <td>8.2110</td>\n",
       "      <td>2.57</td>\n",
       "      <td>0</td>\n",
       "      <td>113.0</td>\n",
       "    </tr>\n",
       "    <tr>\n",
       "      <th>13</th>\n",
       "      <td>Propanal</td>\n",
       "      <td>C3H6O</td>\n",
       "      <td>9.96</td>\n",
       "      <td>6.2200</td>\n",
       "      <td>2.84</td>\n",
       "      <td>1</td>\n",
       "      <td>118.0</td>\n",
       "    </tr>\n",
       "    <tr>\n",
       "      <th>9</th>\n",
       "      <td>Methyl Acetate</td>\n",
       "      <td>C3H6O2</td>\n",
       "      <td>10.25</td>\n",
       "      <td>6.8200</td>\n",
       "      <td>1.96</td>\n",
       "      <td>1</td>\n",
       "      <td>122.0</td>\n",
       "    </tr>\n",
       "    <tr>\n",
       "      <th>26</th>\n",
       "      <td>Propyl Formate</td>\n",
       "      <td>C4H8O2</td>\n",
       "      <td>10.52</td>\n",
       "      <td>8.7000</td>\n",
       "      <td>2.36</td>\n",
       "      <td>1</td>\n",
       "      <td>126.0</td>\n",
       "    </tr>\n",
       "    <tr>\n",
       "      <th>0</th>\n",
       "      <td>Bromoform</td>\n",
       "      <td>CHBr3</td>\n",
       "      <td>10.48</td>\n",
       "      <td>11.3100</td>\n",
       "      <td>0.91</td>\n",
       "      <td>0</td>\n",
       "      <td>130.0</td>\n",
       "    </tr>\n",
       "    <tr>\n",
       "      <th>5</th>\n",
       "      <td>Butanal</td>\n",
       "      <td>C4H8O</td>\n",
       "      <td>9.84</td>\n",
       "      <td>8.0500</td>\n",
       "      <td>2.77</td>\n",
       "      <td>1</td>\n",
       "      <td>142.0</td>\n",
       "    </tr>\n",
       "    <tr>\n",
       "      <th>29</th>\n",
       "      <td>1-Fluorononane</td>\n",
       "      <td>C9H19F</td>\n",
       "      <td>9.64</td>\n",
       "      <td>17.2200</td>\n",
       "      <td>2.22</td>\n",
       "      <td>0</td>\n",
       "      <td>145.0</td>\n",
       "    </tr>\n",
       "    <tr>\n",
       "      <th>2</th>\n",
       "      <td>Ethyl Acetate(conformer1)</td>\n",
       "      <td>C4H8O2</td>\n",
       "      <td>10.01</td>\n",
       "      <td>8.6800</td>\n",
       "      <td>2.13</td>\n",
       "      <td>1</td>\n",
       "      <td>160.0</td>\n",
       "    </tr>\n",
       "    <tr>\n",
       "      <th>12</th>\n",
       "      <td>Acetone</td>\n",
       "      <td>C3H6O</td>\n",
       "      <td>9.70</td>\n",
       "      <td>6.2400</td>\n",
       "      <td>3.15</td>\n",
       "      <td>1</td>\n",
       "      <td>173.0</td>\n",
       "    </tr>\n",
       "    <tr>\n",
       "      <th>30</th>\n",
       "      <td>1-Chlorohexane</td>\n",
       "      <td>C6H13Cl</td>\n",
       "      <td>10.29</td>\n",
       "      <td>13.6600</td>\n",
       "      <td>2.53</td>\n",
       "      <td>0</td>\n",
       "      <td>175.0</td>\n",
       "    </tr>\n",
       "    <tr>\n",
       "      <th>21</th>\n",
       "      <td>Acetonitrile</td>\n",
       "      <td>C2H3N</td>\n",
       "      <td>12.20</td>\n",
       "      <td>4.3900</td>\n",
       "      <td>4.10</td>\n",
       "      <td>2</td>\n",
       "      <td>180.0</td>\n",
       "    </tr>\n",
       "    <tr>\n",
       "      <th>25</th>\n",
       "      <td>2-Butanone</td>\n",
       "      <td>C4H8O</td>\n",
       "      <td>9.52</td>\n",
       "      <td>7.9900</td>\n",
       "      <td>2.99</td>\n",
       "      <td>1</td>\n",
       "      <td>194.0</td>\n",
       "    </tr>\n",
       "    <tr>\n",
       "      <th>1</th>\n",
       "      <td>Cyclopentanone</td>\n",
       "      <td>C5H8O</td>\n",
       "      <td>9.26</td>\n",
       "      <td>8.9700</td>\n",
       "      <td>3.31</td>\n",
       "      <td>1</td>\n",
       "      <td>230.0</td>\n",
       "    </tr>\n",
       "    <tr>\n",
       "      <th>14</th>\n",
       "      <td>Propionitrile</td>\n",
       "      <td>C3H5N</td>\n",
       "      <td>11.84</td>\n",
       "      <td>6.1900</td>\n",
       "      <td>4.21</td>\n",
       "      <td>2</td>\n",
       "      <td>245.0</td>\n",
       "    </tr>\n",
       "    <tr>\n",
       "      <th>6</th>\n",
       "      <td>2-MethylPropionitrile</td>\n",
       "      <td>C4H7N</td>\n",
       "      <td>11.30</td>\n",
       "      <td>8.0000</td>\n",
       "      <td>4.24</td>\n",
       "      <td>2</td>\n",
       "      <td>274.0</td>\n",
       "    </tr>\n",
       "  </tbody>\n",
       "</table>\n",
       "</div>"
      ],
      "text/plain": [
       "                     Molecule  Formula     Ei    Alpha  Dipole  pi_bond   Expt\n",
       "23                   Methanol     CH4O  10.85   3.1300    1.67        0   20.0\n",
       "22              Chloromethane    CH3Cl  11.22   4.2800    2.06        0   25.0\n",
       "36        2-2-Difluoropropane   C3H6F2  11.42   6.1100    2.50        0   25.0\n",
       "37       1-1-Dichloroethylene  C2H2Cl2   9.81   8.0926    1.75        1   30.0\n",
       "31            Dichloromethane   CH2Cl2  11.32   6.3530    2.01        0   32.0\n",
       "15            1-Fluoropropane    C3H7F  11.30   6.0900    2.07        0   35.0\n",
       "17               Bromomethane    CH3Br  10.54   5.2600    1.99        0   40.0\n",
       "19                    Ethanol    C2H6O  10.43   4.9500    1.72        0   43.0\n",
       "33          Trichloroethylene   C2HCl3   9.46  10.2000    1.10        1   50.0\n",
       "4                  Chloroform    CHCl3  11.37   8.1900    1.13        0   50.0\n",
       "18             Methyl Formate   C2H4O2  10.84   5.0100    1.97        1   65.0\n",
       "32   cis-1-2-Dichloroethylene  C2H2Cl2   9.66   8.0300    2.30        1   66.0\n",
       "11                 1-Propanol    C3H8O  10.18   6.7100    1.69        0   70.0\n",
       "27             1-Fluorobutane    C4H9F  10.25   7.9000    2.15        0   70.0\n",
       "16             1-2-Ethanediol   C2H6O2  10.16   5.5700    2.48        0   70.0\n",
       "24           Dimethoxymethane   C3H8O2   9.70   7.3900    0.25        0   78.0\n",
       "28             1-Fluorohexane   C6H13F   9.85  11.6000    2.21        0   80.0\n",
       "10                 2-Propanol    C3H8O  10.17   6.7700    1.64        0   87.0\n",
       "20               Acetaldehyde    C2H4O  10.23   4.4900    2.95        1   88.0\n",
       "34            1-Chloropropane   C3H7Cl  10.81   8.2110    2.54        0   98.0\n",
       "7           Dimethylcarbonate   C3H6O3  10.30   7.4400    0.46        1  102.0\n",
       "3                   1-Butanol   C4H10O   9.99   8.5400    1.59        0  102.0\n",
       "8               Ethyl Formate   C3H6O2  10.61   6.8800    2.24        1  103.0\n",
       "35            2-Chloropropane   C3H7Cl  10.79   8.2110    2.57        0  113.0\n",
       "13                   Propanal    C3H6O   9.96   6.2200    2.84        1  118.0\n",
       "9              Methyl Acetate   C3H6O2  10.25   6.8200    1.96        1  122.0\n",
       "26             Propyl Formate   C4H8O2  10.52   8.7000    2.36        1  126.0\n",
       "0                   Bromoform    CHBr3  10.48  11.3100    0.91        0  130.0\n",
       "5                     Butanal    C4H8O   9.84   8.0500    2.77        1  142.0\n",
       "29             1-Fluorononane   C9H19F   9.64  17.2200    2.22        0  145.0\n",
       "2   Ethyl Acetate(conformer1)   C4H8O2  10.01   8.6800    2.13        1  160.0\n",
       "12                    Acetone    C3H6O   9.70   6.2400    3.15        1  173.0\n",
       "30             1-Chlorohexane  C6H13Cl  10.29  13.6600    2.53        0  175.0\n",
       "21               Acetonitrile    C2H3N  12.20   4.3900    4.10        2  180.0\n",
       "25                 2-Butanone    C4H8O   9.52   7.9900    2.99        1  194.0\n",
       "1              Cyclopentanone    C5H8O   9.26   8.9700    3.31        1  230.0\n",
       "14              Propionitrile    C3H5N  11.84   6.1900    4.21        2  245.0\n",
       "6       2-MethylPropionitrile    C4H7N  11.30   8.0000    4.24        2  274.0"
      ]
     },
     "execution_count": 18,
     "metadata": {},
     "output_type": "execute_result"
    }
   ],
   "source": [
    "df_all_pol.sort_values(\"Expt\")"
   ]
  }
 ],
 "metadata": {
  "kernelspec": {
   "display_name": "pbe_for_molecules-MPOSN0BQ-py3.10",
   "language": "python",
   "name": "python3"
  },
  "language_info": {
   "codemirror_mode": {
    "name": "ipython",
    "version": 3
   },
   "file_extension": ".py",
   "mimetype": "text/x-python",
   "name": "python",
   "nbconvert_exporter": "python",
   "pygments_lexer": "ipython3",
   "version": "3.10.12"
  }
 },
 "nbformat": 4,
 "nbformat_minor": 2
}
