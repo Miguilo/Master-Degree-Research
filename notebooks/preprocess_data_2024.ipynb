{
 "cells": [
  {
   "cell_type": "code",
   "execution_count": 124,
   "metadata": {},
   "outputs": [],
   "source": [
    "import pandas as pd\n",
    "import numpy as np\n",
    "\n",
    "df_apol_old = pd.read_csv(\"data/final/final_apolar.csv\")\n",
    "df_pol_old = pd.read_csv(\"data/final/final_polar.csv\")\n",
    "df_pol_apol_old = pd.read_csv(\"data/final/final_polar_apolar.csv\")\n",
    "\n",
    "df_raw = pd.read_excel(\"data/raw/coletando_moléculas2024.xlsx\", sheet_name=\n",
    "                       \"moléculas\")"
   ]
  },
  {
   "cell_type": "code",
   "execution_count": 125,
   "metadata": {},
   "outputs": [],
   "source": [
    "df_raw.columns = pd.Index([\"ord\", \"Molecule\", \"Formula\", \"Expt\", \"Dipole\", \"Alpha\", \"pi_bond\",\n",
    "                           \"Ei\", \"axx\", \"ayy\", \"azz\",\"base_anisotropia\", \"pontos_atencao\"])\n",
    "# retirando quem não tem valor experimental pra energia de ligação\n",
    "df_raw.dropna(subset=[\"Expt\"], inplace=True)\n",
    "\n",
    "# retirando etano e outras moléculas com valores de ligação não determinados\n",
    "df_raw = df_raw.query(\"Expt > 3\")"
   ]
  },
  {
   "cell_type": "code",
   "execution_count": 126,
   "metadata": {},
   "outputs": [],
   "source": [
    "# retirando colunas que não precisa\n",
    "df_raw = df_raw.drop([\"ord\", \"base_anisotropia\", \"pontos_atencao\"], axis=1)"
   ]
  },
  {
   "cell_type": "code",
   "execution_count": 127,
   "metadata": {},
   "outputs": [],
   "source": [
    "def treat_alpha(x):\n",
    "    if '-' in str(x):\n",
    "        return None\n",
    "    else:\n",
    "        if float(x) > 100:\n",
    "            return float(x)/1000\n",
    "        else:\n",
    "            return float(x)"
   ]
  },
  {
   "cell_type": "code",
   "execution_count": 128,
   "metadata": {},
   "outputs": [],
   "source": [
    "# lidando com os alphas e seus valores\n",
    "df_raw[\"axx\"] = df_raw['axx'].apply(lambda x: treat_alpha(x))\n",
    "df_raw[\"ayy\"] = df_raw['ayy'].apply(lambda x: treat_alpha(x))\n",
    "df_raw[\"azz\"] = df_raw['azz'].apply(lambda x: treat_alpha(x))"
   ]
  },
  {
   "cell_type": "code",
   "execution_count": 129,
   "metadata": {},
   "outputs": [],
   "source": [
    "# criando a coluna AlphaB\n",
    "df_raw[\"AlphaB\"] = df_raw[[\"axx\", \"ayy\", \"azz\"]].mean(axis=1)"
   ]
  },
  {
   "cell_type": "code",
   "execution_count": 130,
   "metadata": {},
   "outputs": [],
   "source": [
    "# Criando uma coluna que é dropada no fluxo de preparo de dados.\n",
    "df_raw[\"Molecule Type\"] = np.zeros(df_raw[\"Molecule\"].shape)"
   ]
  },
  {
   "cell_type": "code",
   "execution_count": 131,
   "metadata": {},
   "outputs": [],
   "source": [
    "# separando apolar de polar\n",
    "df_raw_apolar = df_raw.query(\"Dipole == 0\")\n",
    "df_raw_polar = df_raw.query(\"Dipole != 0\")"
   ]
  },
  {
   "cell_type": "code",
   "execution_count": 132,
   "metadata": {},
   "outputs": [
    {
     "name": "stderr",
     "output_type": "stream",
     "text": [
      "/tmp/ipykernel_18314/1459384647.py:1: SettingWithCopyWarning: \n",
      "A value is trying to be set on a copy of a slice from a DataFrame.\n",
      "Try using .loc[row_indexer,col_indexer] = value instead\n",
      "\n",
      "See the caveats in the documentation: https://pandas.pydata.org/pandas-docs/stable/user_guide/indexing.html#returning-a-view-versus-a-copy\n",
      "  df_raw_apolar[\"N of Carbon\"] = np.zeros(df_raw_apolar[\"Molecule\"].shape)\n",
      "/tmp/ipykernel_18314/1459384647.py:2: SettingWithCopyWarning: \n",
      "A value is trying to be set on a copy of a slice from a DataFrame.\n",
      "Try using .loc[row_indexer,col_indexer] = value instead\n",
      "\n",
      "See the caveats in the documentation: https://pandas.pydata.org/pandas-docs/stable/user_guide/indexing.html#returning-a-view-versus-a-copy\n",
      "  df_raw_apolar[\"DYS\"] = np.zeros(df_raw_apolar[\"Molecule\"].shape)\n",
      "/tmp/ipykernel_18314/1459384647.py:3: SettingWithCopyWarning: \n",
      "A value is trying to be set on a copy of a slice from a DataFrame.\n",
      "Try using .loc[row_indexer,col_indexer] = value instead\n",
      "\n",
      "See the caveats in the documentation: https://pandas.pydata.org/pandas-docs/stable/user_guide/indexing.html#returning-a-view-versus-a-copy\n",
      "  df_raw_apolar[\"SG\"] = np.zeros(df_raw_apolar[\"Molecule\"].shape)\n",
      "/tmp/ipykernel_18314/1459384647.py:4: SettingWithCopyWarning: \n",
      "A value is trying to be set on a copy of a slice from a DataFrame.\n",
      "Try using .loc[row_indexer,col_indexer] = value instead\n",
      "\n",
      "See the caveats in the documentation: https://pandas.pydata.org/pandas-docs/stable/user_guide/indexing.html#returning-a-view-versus-a-copy\n",
      "  df_raw_apolar[\"PauloPred\"] = np.zeros(df_raw_apolar[\"Molecule\"].shape)\n"
     ]
    }
   ],
   "source": [
    "df_raw_apolar[\"N of Carbon\"] = np.zeros(df_raw_apolar[\"Molecule\"].shape)\n",
    "df_raw_apolar[\"DYS\"] = np.zeros(df_raw_apolar[\"Molecule\"].shape)\n",
    "df_raw_apolar[\"SG\"] = np.zeros(df_raw_apolar[\"Molecule\"].shape)\n",
    "df_raw_apolar[\"PauloPred\"] = np.zeros(df_raw_apolar[\"Molecule\"].shape)"
   ]
  },
  {
   "cell_type": "code",
   "execution_count": 137,
   "metadata": {},
   "outputs": [],
   "source": [
    "# Okay, acredito que estejamos prontos para rodar o data preparation.py\n",
    "df_raw_apolar.to_csv(\"data/raw/expd_apolar_molecules.CSV\", index=False)\n",
    "df_raw_polar.to_csv(\"data/raw/polar_molecules.CSV\", index = False)"
   ]
  }
 ],
 "metadata": {
  "kernelspec": {
   "display_name": "pbe_for_molecules-MPOSN0BQ-py3.10",
   "language": "python",
   "name": "python3"
  },
  "language_info": {
   "codemirror_mode": {
    "name": "ipython",
    "version": 3
   },
   "file_extension": ".py",
   "mimetype": "text/x-python",
   "name": "python",
   "nbconvert_exporter": "python",
   "pygments_lexer": "ipython3",
   "version": "3.10.12"
  }
 },
 "nbformat": 4,
 "nbformat_minor": 2
}
