{
 "cells": [
  {
   "cell_type": "code",
   "execution_count": 59,
   "metadata": {},
   "outputs": [],
   "source": [
    "import pandas as pd\n",
    "import numpy as np\n",
    "\n",
    "df_apol_old = pd.read_csv(\"data/final/final_apolar.csv\")\n",
    "df_pol_old = pd.read_csv(\"data/final/final_polar.csv\")\n",
    "df_pol_apol_old = pd.read_csv(\"data/final/final_polar_apolar.csv\")\n",
    "\n",
    "df_raw = pd.read_excel(\"data/raw/coletando_moléculas2024.xlsx\", sheet_name=\n",
    "                       \"moléculas\")"
   ]
  },
  {
   "cell_type": "code",
   "execution_count": 60,
   "metadata": {},
   "outputs": [],
   "source": [
    "df_raw.columns = pd.Index([\"ord\", \"Molecule\", \"Formula\", \"Expt\", \"Dipole\", \"Alpha\", \"pi_bond\",\n",
    "                           \"Ei\", \"axx\", \"ayy\", \"azz\",\"base_anisotropia\", \"pontos_atencao\"])\n",
    "# retirando quem não tem valor experimental pra energia de ligação\n",
    "df_raw.dropna(subset=[\"Expt\", \"Ei\", \"Dipole\"], inplace=True)\n",
    "\n",
    "# retirando etano e outras moléculas com valores de ligação não determinados\n",
    "df_raw = df_raw.query(\"Expt > 3\")"
   ]
  },
  {
   "cell_type": "code",
   "execution_count": 61,
   "metadata": {},
   "outputs": [],
   "source": [
    "# retirando colunas que não precisa\n",
    "df_raw = df_raw.drop([\"ord\", \"base_anisotropia\", \"pontos_atencao\"], axis=1)"
   ]
  },
  {
   "cell_type": "code",
   "execution_count": 62,
   "metadata": {},
   "outputs": [],
   "source": [
    "def treat_alpha(x):\n",
    "    if '-' in str(x):\n",
    "        return None\n",
    "    else:\n",
    "        if float(x) > 100:\n",
    "            return float(x)/1000\n",
    "        else:\n",
    "            return float(x)\n",
    "        "
   ]
  },
  {
   "cell_type": "code",
   "execution_count": 63,
   "metadata": {},
   "outputs": [],
   "source": [
    "# Tratando as moléculas com nome esquisito proveninete do excel\n",
    "df_raw.Molecule = df_raw.Molecule.str.replace(\"\\xa0\", \"\").values"
   ]
  },
  {
   "cell_type": "code",
   "execution_count": 64,
   "metadata": {},
   "outputs": [],
   "source": [
    "# lidando com os alphas e seus valores\n",
    "df_raw[\"axx\"] = df_raw['axx'].apply(lambda x: treat_alpha(x))\n",
    "df_raw[\"ayy\"] = df_raw['ayy'].apply(lambda x: treat_alpha(x))\n",
    "df_raw[\"azz\"] = df_raw['azz'].apply(lambda x: treat_alpha(x))"
   ]
  },
  {
   "cell_type": "code",
   "execution_count": 65,
   "metadata": {},
   "outputs": [],
   "source": [
    "# criando a coluna AlphaB\n",
    "df_raw[\"AlphaB\"] = df_raw[[\"axx\", \"ayy\", \"azz\"]].mean(axis=1)"
   ]
  },
  {
   "cell_type": "code",
   "execution_count": 66,
   "metadata": {},
   "outputs": [],
   "source": [
    "# Criando uma coluna que é dropada no fluxo de preparo de dados.\n",
    "df_raw[\"Molecule Type\"] = np.zeros(df_raw[\"Molecule\"].shape)"
   ]
  },
  {
   "cell_type": "code",
   "execution_count": 67,
   "metadata": {},
   "outputs": [],
   "source": [
    "# retirando moléculas\n",
    "molecules_to_get_off = ['1,1-dicloroetileno/Vinilideno', '2,2-difl.propano', 'Etanol',\n",
    "       'Tricloroetileno', 'Dimetilcarbonato', '1,2-cis-dicloroetileno',\n",
    "       '1-fl-hexano']\n",
    "\n",
    "df_raw = df_raw[~df_raw['Molecule'].isin(molecules_to_get_off)].reset_index(drop=True)"
   ]
  },
  {
   "cell_type": "code",
   "execution_count": 68,
   "metadata": {},
   "outputs": [
    {
     "name": "stdout",
     "output_type": "stream",
     "text": [
      "<class 'pandas.core.frame.DataFrame'>\n",
      "RangeIndex: 75 entries, 0 to 74\n",
      "Data columns (total 12 columns):\n",
      " #   Column         Non-Null Count  Dtype  \n",
      "---  ------         --------------  -----  \n",
      " 0   Molecule       75 non-null     object \n",
      " 1   Formula        75 non-null     object \n",
      " 2   Expt           75 non-null     float64\n",
      " 3   Dipole         75 non-null     float64\n",
      " 4   Alpha          75 non-null     float64\n",
      " 5   pi_bond        75 non-null     float64\n",
      " 6   Ei             75 non-null     float64\n",
      " 7   axx            64 non-null     float64\n",
      " 8   ayy            64 non-null     float64\n",
      " 9   azz            64 non-null     float64\n",
      " 10  AlphaB         64 non-null     float64\n",
      " 11  Molecule Type  75 non-null     float64\n",
      "dtypes: float64(10), object(2)\n",
      "memory usage: 7.2+ KB\n"
     ]
    }
   ],
   "source": [
    "df_raw.info()"
   ]
  },
  {
   "cell_type": "code",
   "execution_count": 69,
   "metadata": {},
   "outputs": [],
   "source": [
    "# separando apolar de polar\n",
    "df_raw_apolar = df_raw.query(\"Dipole == 0\")\n",
    "df_raw_polar = df_raw.query(\"Dipole != 0\")"
   ]
  },
  {
   "cell_type": "code",
   "execution_count": 70,
   "metadata": {},
   "outputs": [
    {
     "name": "stderr",
     "output_type": "stream",
     "text": [
      "/tmp/ipykernel_175776/1459384647.py:1: SettingWithCopyWarning: \n",
      "A value is trying to be set on a copy of a slice from a DataFrame.\n",
      "Try using .loc[row_indexer,col_indexer] = value instead\n",
      "\n",
      "See the caveats in the documentation: https://pandas.pydata.org/pandas-docs/stable/user_guide/indexing.html#returning-a-view-versus-a-copy\n",
      "  df_raw_apolar[\"N of Carbon\"] = np.zeros(df_raw_apolar[\"Molecule\"].shape)\n",
      "/tmp/ipykernel_175776/1459384647.py:2: SettingWithCopyWarning: \n",
      "A value is trying to be set on a copy of a slice from a DataFrame.\n",
      "Try using .loc[row_indexer,col_indexer] = value instead\n",
      "\n",
      "See the caveats in the documentation: https://pandas.pydata.org/pandas-docs/stable/user_guide/indexing.html#returning-a-view-versus-a-copy\n",
      "  df_raw_apolar[\"DYS\"] = np.zeros(df_raw_apolar[\"Molecule\"].shape)\n",
      "/tmp/ipykernel_175776/1459384647.py:3: SettingWithCopyWarning: \n",
      "A value is trying to be set on a copy of a slice from a DataFrame.\n",
      "Try using .loc[row_indexer,col_indexer] = value instead\n",
      "\n",
      "See the caveats in the documentation: https://pandas.pydata.org/pandas-docs/stable/user_guide/indexing.html#returning-a-view-versus-a-copy\n",
      "  df_raw_apolar[\"SG\"] = np.zeros(df_raw_apolar[\"Molecule\"].shape)\n",
      "/tmp/ipykernel_175776/1459384647.py:4: SettingWithCopyWarning: \n",
      "A value is trying to be set on a copy of a slice from a DataFrame.\n",
      "Try using .loc[row_indexer,col_indexer] = value instead\n",
      "\n",
      "See the caveats in the documentation: https://pandas.pydata.org/pandas-docs/stable/user_guide/indexing.html#returning-a-view-versus-a-copy\n",
      "  df_raw_apolar[\"PauloPred\"] = np.zeros(df_raw_apolar[\"Molecule\"].shape)\n"
     ]
    }
   ],
   "source": [
    "df_raw_apolar[\"N of Carbon\"] = np.zeros(df_raw_apolar[\"Molecule\"].shape)\n",
    "df_raw_apolar[\"DYS\"] = np.zeros(df_raw_apolar[\"Molecule\"].shape)\n",
    "df_raw_apolar[\"SG\"] = np.zeros(df_raw_apolar[\"Molecule\"].shape)\n",
    "df_raw_apolar[\"PauloPred\"] = np.zeros(df_raw_apolar[\"Molecule\"].shape)"
   ]
  },
  {
   "cell_type": "code",
   "execution_count": 71,
   "metadata": {},
   "outputs": [],
   "source": [
    "# Okay, acredito que estejamos prontos para rodar o data preparation.py\n",
    "df_raw_apolar.to_csv(\"data/raw/expd_apolar_molecules.CSV\", index=False)\n",
    "df_raw_polar.to_csv(\"data/raw/polar_molecules.CSV\", index = False)"
   ]
  },
  {
   "cell_type": "markdown",
   "metadata": {},
   "source": [
    "Neste momento você deve modificar os data_paths em config e rodar o general/creating_data"
   ]
  },
  {
   "cell_type": "markdown",
   "metadata": {},
   "source": [
    "# Analisando os novos dados salvos e processados"
   ]
  },
  {
   "cell_type": "markdown",
   "metadata": {},
   "source": [
    "Aqui está acontecendo a junção das moléculas polares e apolares também."
   ]
  },
  {
   "cell_type": "code",
   "execution_count": 72,
   "metadata": {},
   "outputs": [
    {
     "data": {
      "text/plain": [
       "((48, 7), (27, 7))"
      ]
     },
     "execution_count": 72,
     "metadata": {},
     "output_type": "execute_result"
    }
   ],
   "source": [
    "df_apol_processed = pd.read_csv(\"data/processed/processed_apolar.csv\")\n",
    "df_pol_processed = pd.read_csv(\"data/processed/processed_polar.csv\")\n",
    "\n",
    "df_pol_processed.shape, df_apol_processed.shape"
   ]
  },
  {
   "cell_type": "code",
   "execution_count": 73,
   "metadata": {},
   "outputs": [],
   "source": [
    "# gerando a base de dados mista\n",
    "polar_apolar_processed_data = pd.concat([df_apol_processed, \n",
    "                                         df_pol_processed],\n",
    "                               axis=0, ignore_index=True)\n",
    "polar_apolar_processed_data.to_csv('data/processed/processed_polar_apolar.csv', \n",
    "                                   index=False)"
   ]
  },
  {
   "cell_type": "code",
   "execution_count": 74,
   "metadata": {},
   "outputs": [
    {
     "data": {
      "text/plain": [
       "((41, 10), (23, 10))"
      ]
     },
     "execution_count": 74,
     "metadata": {},
     "output_type": "execute_result"
    }
   ],
   "source": [
    "df_apol_final = pd.read_csv(\"data/final/final_apolar.csv\")\n",
    "df_pol_final = pd.read_csv(\"data/final/final_polar.csv\")\n",
    "\n",
    "df_pol_final.shape, df_apol_final.shape"
   ]
  },
  {
   "cell_type": "code",
   "execution_count": 75,
   "metadata": {},
   "outputs": [],
   "source": [
    "# gerando a base de dados mista\n",
    "polar_apolar_final_data = pd.concat([df_apol_final, \n",
    "                                         df_pol_final],\n",
    "                               axis=0, ignore_index=True)\n",
    "polar_apolar_final_data.to_csv('data/final/final_polar_apolar.csv', \n",
    "                                   index=False)"
   ]
  }
 ],
 "metadata": {
  "kernelspec": {
   "display_name": "pbe_for_molecules-MPOSN0BQ-py3.10",
   "language": "python",
   "name": "python3"
  },
  "language_info": {
   "codemirror_mode": {
    "name": "ipython",
    "version": 3
   },
   "file_extension": ".py",
   "mimetype": "text/x-python",
   "name": "python",
   "nbconvert_exporter": "python",
   "pygments_lexer": "ipython3",
   "version": "3.10.12"
  }
 },
 "nbformat": 4,
 "nbformat_minor": 2
}
