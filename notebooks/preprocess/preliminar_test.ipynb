{
 "cells": [
  {
   "cell_type": "markdown",
   "metadata": {},
   "source": [
    "# Import"
   ]
  },
  {
   "cell_type": "code",
   "execution_count": 63,
   "metadata": {},
   "outputs": [],
   "source": [
    "import pandas as pd\n",
    "import numpy as np\n",
    "import pickle\n",
    "\n",
    "from sklearn.model_selection import cross_val_score, cross_val_predict\n",
    "from sklearn.preprocessing import StandardScaler, MinMaxScaler\n",
    "from sklearn.cluster import DBSCAN, KMeans\n",
    "from sklearn.decomposition import PCA\n",
    "from sklearn.manifold import TSNE\n",
    "from sklearn.metrics import euclidean_distances\n",
    "\n",
    "import matplotlib.pyplot as plt\n",
    "import plotly.express as px\n",
    "import seaborn as sns\n"
   ]
  },
  {
   "cell_type": "markdown",
   "metadata": {},
   "source": [
    "Intuito aqui é relembrar pq as moléculas 2-2-Difluoropropane e 1-1-Dichloroethylene"
   ]
  },
  {
   "cell_type": "code",
   "execution_count": 31,
   "metadata": {},
   "outputs": [
    {
     "data": {
      "text/plain": [
       "'/home/miguel-senra/Documents/Master-Degree-Research'"
      ]
     },
     "execution_count": 31,
     "metadata": {},
     "output_type": "execute_result"
    }
   ],
   "source": [
    "%pwd"
   ]
  },
  {
   "cell_type": "code",
   "execution_count": 32,
   "metadata": {},
   "outputs": [],
   "source": [
    "df_pol_raw = pd.read_csv(\"./data/raw/polar_molecules.CSV\")\n",
    "df_pol_processed = pd.read_csv(\"./data/processed/processed_polar.csv\")"
   ]
  },
  {
   "cell_type": "code",
   "execution_count": 33,
   "metadata": {},
   "outputs": [
    {
     "data": {
      "text/html": [
       "<div>\n",
       "<style scoped>\n",
       "    .dataframe tbody tr th:only-of-type {\n",
       "        vertical-align: middle;\n",
       "    }\n",
       "\n",
       "    .dataframe tbody tr th {\n",
       "        vertical-align: top;\n",
       "    }\n",
       "\n",
       "    .dataframe thead th {\n",
       "        text-align: right;\n",
       "    }\n",
       "</style>\n",
       "<table border=\"1\" class=\"dataframe\">\n",
       "  <thead>\n",
       "    <tr style=\"text-align: right;\">\n",
       "      <th></th>\n",
       "      <th>Molecule</th>\n",
       "      <th>Formula</th>\n",
       "      <th>Expt</th>\n",
       "      <th>Dipole</th>\n",
       "      <th>Alpha</th>\n",
       "      <th>pi_bond</th>\n",
       "      <th>Ei</th>\n",
       "      <th>axx</th>\n",
       "      <th>ayy</th>\n",
       "      <th>azz</th>\n",
       "      <th>AlphaB</th>\n",
       "      <th>Molecule Type</th>\n",
       "    </tr>\n",
       "  </thead>\n",
       "  <tbody>\n",
       "    <tr>\n",
       "      <th>0</th>\n",
       "      <td>Isobutane</td>\n",
       "      <td>C4H10</td>\n",
       "      <td>41.0</td>\n",
       "      <td>0.132</td>\n",
       "      <td>8.14</td>\n",
       "      <td>0.0</td>\n",
       "      <td>10.57</td>\n",
       "      <td>8.414</td>\n",
       "      <td>8.414</td>\n",
       "      <td>7.376</td>\n",
       "      <td>8.068000</td>\n",
       "      <td>0.0</td>\n",
       "    </tr>\n",
       "    <tr>\n",
       "      <th>1</th>\n",
       "      <td>Ciclopenteno</td>\n",
       "      <td>C5H8</td>\n",
       "      <td>70.0</td>\n",
       "      <td>0.200</td>\n",
       "      <td>8.90</td>\n",
       "      <td>1.0</td>\n",
       "      <td>9.00</td>\n",
       "      <td>10.346</td>\n",
       "      <td>9.116</td>\n",
       "      <td>7.182</td>\n",
       "      <td>8.881333</td>\n",
       "      <td>0.0</td>\n",
       "    </tr>\n",
       "    <tr>\n",
       "      <th>2</th>\n",
       "      <td>2,2-difl.propano</td>\n",
       "      <td>C3H6F2</td>\n",
       "      <td>25.0</td>\n",
       "      <td>2.400</td>\n",
       "      <td>5.90</td>\n",
       "      <td>0.0</td>\n",
       "      <td>11.40</td>\n",
       "      <td>NaN</td>\n",
       "      <td>NaN</td>\n",
       "      <td>NaN</td>\n",
       "      <td>NaN</td>\n",
       "      <td>0.0</td>\n",
       "    </tr>\n",
       "    <tr>\n",
       "      <th>3</th>\n",
       "      <td>Dimetilcarbonato</td>\n",
       "      <td>C3H6O3</td>\n",
       "      <td>102.0</td>\n",
       "      <td>0.300</td>\n",
       "      <td>7.70</td>\n",
       "      <td>1.0</td>\n",
       "      <td>10.30</td>\n",
       "      <td>7.700</td>\n",
       "      <td>7.700</td>\n",
       "      <td>6.700</td>\n",
       "      <td>7.366667</td>\n",
       "      <td>0.0</td>\n",
       "    </tr>\n",
       "    <tr>\n",
       "      <th>4</th>\n",
       "      <td>Ciclohexano</td>\n",
       "      <td>C6H12</td>\n",
       "      <td>82.0</td>\n",
       "      <td>0.330</td>\n",
       "      <td>11.00</td>\n",
       "      <td>1.0</td>\n",
       "      <td>9.90</td>\n",
       "      <td>11.300</td>\n",
       "      <td>11.300</td>\n",
       "      <td>9.800</td>\n",
       "      <td>10.800000</td>\n",
       "      <td>0.0</td>\n",
       "    </tr>\n",
       "    <tr>\n",
       "      <th>5</th>\n",
       "      <td>Ciclohexeno</td>\n",
       "      <td>C6H10</td>\n",
       "      <td>105.0</td>\n",
       "      <td>0.330</td>\n",
       "      <td>10.70</td>\n",
       "      <td>1.0</td>\n",
       "      <td>9.00</td>\n",
       "      <td>12.187</td>\n",
       "      <td>10.737</td>\n",
       "      <td>8.658</td>\n",
       "      <td>10.527333</td>\n",
       "      <td>0.0</td>\n",
       "    </tr>\n",
       "    <tr>\n",
       "      <th>6</th>\n",
       "      <td>Tolueno</td>\n",
       "      <td>C6H5CH3</td>\n",
       "      <td>173.0</td>\n",
       "      <td>0.380</td>\n",
       "      <td>11.86</td>\n",
       "      <td>3.0</td>\n",
       "      <td>8.83</td>\n",
       "      <td>15.495</td>\n",
       "      <td>13.390</td>\n",
       "      <td>8.003</td>\n",
       "      <td>12.296000</td>\n",
       "      <td>0.0</td>\n",
       "    </tr>\n",
       "    <tr>\n",
       "      <th>7</th>\n",
       "      <td>Furan</td>\n",
       "      <td>C4H4O</td>\n",
       "      <td>52.0</td>\n",
       "      <td>0.660</td>\n",
       "      <td>7.23</td>\n",
       "      <td>2.0</td>\n",
       "      <td>8.88</td>\n",
       "      <td>8.747</td>\n",
       "      <td>7.998</td>\n",
       "      <td>5.194</td>\n",
       "      <td>7.313000</td>\n",
       "      <td>0.0</td>\n",
       "    </tr>\n",
       "    <tr>\n",
       "      <th>8</th>\n",
       "      <td>Phenylacetylene</td>\n",
       "      <td>C8H6</td>\n",
       "      <td>230.0</td>\n",
       "      <td>0.660</td>\n",
       "      <td>13.80</td>\n",
       "      <td>5.0</td>\n",
       "      <td>8.82</td>\n",
       "      <td>21.795</td>\n",
       "      <td>13.722</td>\n",
       "      <td>8.256</td>\n",
       "      <td>14.591000</td>\n",
       "      <td>0.0</td>\n",
       "    </tr>\n",
       "    <tr>\n",
       "      <th>9</th>\n",
       "      <td>Dimetoximethano</td>\n",
       "      <td>C3H8O2</td>\n",
       "      <td>78.0</td>\n",
       "      <td>0.700</td>\n",
       "      <td>7.70</td>\n",
       "      <td>0.0</td>\n",
       "      <td>9.70</td>\n",
       "      <td>8.616</td>\n",
       "      <td>7.299</td>\n",
       "      <td>6.726</td>\n",
       "      <td>7.547000</td>\n",
       "      <td>0.0</td>\n",
       "    </tr>\n",
       "    <tr>\n",
       "      <th>10</th>\n",
       "      <td>Tricloroetileno</td>\n",
       "      <td>C2HCl3</td>\n",
       "      <td>50.0</td>\n",
       "      <td>0.800</td>\n",
       "      <td>10.00</td>\n",
       "      <td>1.0</td>\n",
       "      <td>9.50</td>\n",
       "      <td>13.600</td>\n",
       "      <td>10.300</td>\n",
       "      <td>6.700</td>\n",
       "      <td>10.200000</td>\n",
       "      <td>0.0</td>\n",
       "    </tr>\n",
       "    <tr>\n",
       "      <th>11</th>\n",
       "      <td>Bromofórmio</td>\n",
       "      <td>CHBr3</td>\n",
       "      <td>130.0</td>\n",
       "      <td>0.900</td>\n",
       "      <td>11.30</td>\n",
       "      <td>0.0</td>\n",
       "      <td>10.50</td>\n",
       "      <td>13.200</td>\n",
       "      <td>13.200</td>\n",
       "      <td>8.600</td>\n",
       "      <td>11.666667</td>\n",
       "      <td>0.0</td>\n",
       "    </tr>\n",
       "    <tr>\n",
       "      <th>12</th>\n",
       "      <td>Clorofórmio</td>\n",
       "      <td>CH3Cl3</td>\n",
       "      <td>37.0</td>\n",
       "      <td>1.000</td>\n",
       "      <td>8.40</td>\n",
       "      <td>0.0</td>\n",
       "      <td>11.40</td>\n",
       "      <td>9.400</td>\n",
       "      <td>9.300</td>\n",
       "      <td>6.500</td>\n",
       "      <td>8.400000</td>\n",
       "      <td>0.0</td>\n",
       "    </tr>\n",
       "    <tr>\n",
       "      <th>13</th>\n",
       "      <td>1,1-dicloroetileno/Vinilideno</td>\n",
       "      <td>C2H2Cl2</td>\n",
       "      <td>30.0</td>\n",
       "      <td>1.300</td>\n",
       "      <td>8.10</td>\n",
       "      <td>1.0</td>\n",
       "      <td>9.80</td>\n",
       "      <td>9.549</td>\n",
       "      <td>9.153</td>\n",
       "      <td>5.576</td>\n",
       "      <td>8.092667</td>\n",
       "      <td>0.0</td>\n",
       "    </tr>\n",
       "    <tr>\n",
       "      <th>14</th>\n",
       "      <td>Etanol</td>\n",
       "      <td>C2H6O</td>\n",
       "      <td>43.0</td>\n",
       "      <td>1.440</td>\n",
       "      <td>5.11</td>\n",
       "      <td>5.0</td>\n",
       "      <td>10.43</td>\n",
       "      <td>5.100</td>\n",
       "      <td>0.000</td>\n",
       "      <td>1.700</td>\n",
       "      <td>2.266667</td>\n",
       "      <td>0.0</td>\n",
       "    </tr>\n",
       "    <tr>\n",
       "      <th>15</th>\n",
       "      <td>Aniline</td>\n",
       "      <td>C6H5NH2</td>\n",
       "      <td>233.0</td>\n",
       "      <td>1.530</td>\n",
       "      <td>12.10</td>\n",
       "      <td>3.0</td>\n",
       "      <td>7.72</td>\n",
       "      <td>15.907</td>\n",
       "      <td>13.195</td>\n",
       "      <td>7.601</td>\n",
       "      <td>12.234333</td>\n",
       "      <td>0.0</td>\n",
       "    </tr>\n",
       "    <tr>\n",
       "      <th>16</th>\n",
       "      <td>1-Propanol</td>\n",
       "      <td>C3H8O</td>\n",
       "      <td>65.0</td>\n",
       "      <td>1.570</td>\n",
       "      <td>6.70</td>\n",
       "      <td>0.0</td>\n",
       "      <td>10.18</td>\n",
       "      <td>7.900</td>\n",
       "      <td>6.600</td>\n",
       "      <td>6.200</td>\n",
       "      <td>6.900000</td>\n",
       "      <td>0.0</td>\n",
       "    </tr>\n",
       "    <tr>\n",
       "      <th>17</th>\n",
       "      <td>1-fl-butano</td>\n",
       "      <td>C4H9F</td>\n",
       "      <td>70.0</td>\n",
       "      <td>2.200</td>\n",
       "      <td>7.80</td>\n",
       "      <td>0.0</td>\n",
       "      <td>10.20</td>\n",
       "      <td>NaN</td>\n",
       "      <td>NaN</td>\n",
       "      <td>NaN</td>\n",
       "      <td>NaN</td>\n",
       "      <td>0.0</td>\n",
       "    </tr>\n",
       "    <tr>\n",
       "      <th>18</th>\n",
       "      <td>2-Propanol</td>\n",
       "      <td>C3H8O</td>\n",
       "      <td>85.0</td>\n",
       "      <td>1.580</td>\n",
       "      <td>6.70</td>\n",
       "      <td>0.0</td>\n",
       "      <td>10.17</td>\n",
       "      <td>7.400</td>\n",
       "      <td>7.000</td>\n",
       "      <td>6.400</td>\n",
       "      <td>6.933333</td>\n",
       "      <td>0.0</td>\n",
       "    </tr>\n",
       "    <tr>\n",
       "      <th>19</th>\n",
       "      <td>Diclorometano</td>\n",
       "      <td>CH2Cl2</td>\n",
       "      <td>32.0</td>\n",
       "      <td>1.600</td>\n",
       "      <td>6.50</td>\n",
       "      <td>0.0</td>\n",
       "      <td>11.30</td>\n",
       "      <td>8.300</td>\n",
       "      <td>5.700</td>\n",
       "      <td>5.100</td>\n",
       "      <td>6.366667</td>\n",
       "      <td>0.0</td>\n",
       "    </tr>\n",
       "    <tr>\n",
       "      <th>20</th>\n",
       "      <td>1-fl-hexano</td>\n",
       "      <td>C6H13F</td>\n",
       "      <td>80.0</td>\n",
       "      <td>2.200</td>\n",
       "      <td>11.50</td>\n",
       "      <td>0.0</td>\n",
       "      <td>9.80</td>\n",
       "      <td>NaN</td>\n",
       "      <td>NaN</td>\n",
       "      <td>NaN</td>\n",
       "      <td>NaN</td>\n",
       "      <td>0.0</td>\n",
       "    </tr>\n",
       "    <tr>\n",
       "      <th>21</th>\n",
       "      <td>1-Butanol</td>\n",
       "      <td>C4H10O</td>\n",
       "      <td>102.0</td>\n",
       "      <td>1.660</td>\n",
       "      <td>8.77</td>\n",
       "      <td>0.0</td>\n",
       "      <td>10.00</td>\n",
       "      <td>10.400</td>\n",
       "      <td>8.300</td>\n",
       "      <td>7.700</td>\n",
       "      <td>8.800000</td>\n",
       "      <td>0.0</td>\n",
       "    </tr>\n",
       "    <tr>\n",
       "      <th>22</th>\n",
       "      <td>1,3-Dichloropropane</td>\n",
       "      <td>C3H6Cl2</td>\n",
       "      <td>85.0</td>\n",
       "      <td>2.080</td>\n",
       "      <td>10.08</td>\n",
       "      <td>0.0</td>\n",
       "      <td>10.89</td>\n",
       "      <td>NaN</td>\n",
       "      <td>NaN</td>\n",
       "      <td>NaN</td>\n",
       "      <td>NaN</td>\n",
       "      <td>0.0</td>\n",
       "    </tr>\n",
       "    <tr>\n",
       "      <th>23</th>\n",
       "      <td>Metanol</td>\n",
       "      <td>CH4O</td>\n",
       "      <td>20.0</td>\n",
       "      <td>1.690</td>\n",
       "      <td>3.08</td>\n",
       "      <td>0.0</td>\n",
       "      <td>10.80</td>\n",
       "      <td>3.500</td>\n",
       "      <td>3.100</td>\n",
       "      <td>3.000</td>\n",
       "      <td>3.200000</td>\n",
       "      <td>0.0</td>\n",
       "    </tr>\n",
       "    <tr>\n",
       "      <th>24</th>\n",
       "      <td>1,2-Ethanediol</td>\n",
       "      <td>C2H6O2</td>\n",
       "      <td>70.0</td>\n",
       "      <td>1.690</td>\n",
       "      <td>3.08</td>\n",
       "      <td>0.0</td>\n",
       "      <td>10.20</td>\n",
       "      <td>6.600</td>\n",
       "      <td>5.600</td>\n",
       "      <td>5.000</td>\n",
       "      <td>5.733333</td>\n",
       "      <td>0.0</td>\n",
       "    </tr>\n",
       "    <tr>\n",
       "      <th>25</th>\n",
       "      <td>Pyrrole</td>\n",
       "      <td>C4H5N</td>\n",
       "      <td>165.0</td>\n",
       "      <td>1.770</td>\n",
       "      <td>7.90</td>\n",
       "      <td>2.0</td>\n",
       "      <td>8.20</td>\n",
       "      <td>9.603</td>\n",
       "      <td>9.196</td>\n",
       "      <td>5.832</td>\n",
       "      <td>8.210333</td>\n",
       "      <td>0.0</td>\n",
       "    </tr>\n",
       "    <tr>\n",
       "      <th>26</th>\n",
       "      <td>MetilBromo</td>\n",
       "      <td>CH3Br</td>\n",
       "      <td>40.0</td>\n",
       "      <td>1.800</td>\n",
       "      <td>5.60</td>\n",
       "      <td>0.0</td>\n",
       "      <td>10.50</td>\n",
       "      <td>6.787</td>\n",
       "      <td>4.642</td>\n",
       "      <td>4.641</td>\n",
       "      <td>5.356667</td>\n",
       "      <td>0.0</td>\n",
       "    </tr>\n",
       "    <tr>\n",
       "      <th>27</th>\n",
       "      <td>Metyl Formate</td>\n",
       "      <td>C2H4O2</td>\n",
       "      <td>65.0</td>\n",
       "      <td>1.800</td>\n",
       "      <td>5.10</td>\n",
       "      <td>1.0</td>\n",
       "      <td>10.80</td>\n",
       "      <td>7.200</td>\n",
       "      <td>4.800</td>\n",
       "      <td>3.900</td>\n",
       "      <td>5.300000</td>\n",
       "      <td>0.0</td>\n",
       "    </tr>\n",
       "    <tr>\n",
       "      <th>28</th>\n",
       "      <td>Methyl Chloride</td>\n",
       "      <td>CH3Cl</td>\n",
       "      <td>25.0</td>\n",
       "      <td>1.900</td>\n",
       "      <td>5.40</td>\n",
       "      <td>0.0</td>\n",
       "      <td>11.20</td>\n",
       "      <td>5.432</td>\n",
       "      <td>3.803</td>\n",
       "      <td>3.803</td>\n",
       "      <td>4.346000</td>\n",
       "      <td>0.0</td>\n",
       "    </tr>\n",
       "    <tr>\n",
       "      <th>29</th>\n",
       "      <td>1,2-cis-dicloroetileno</td>\n",
       "      <td>C2H2Cl2</td>\n",
       "      <td>66.0</td>\n",
       "      <td>1.900</td>\n",
       "      <td>8.00</td>\n",
       "      <td>1.0</td>\n",
       "      <td>9.70</td>\n",
       "      <td>10.600</td>\n",
       "      <td>7.900</td>\n",
       "      <td>5.600</td>\n",
       "      <td>8.033333</td>\n",
       "      <td>0.0</td>\n",
       "    </tr>\n",
       "    <tr>\n",
       "      <th>30</th>\n",
       "      <td>Etilformato</td>\n",
       "      <td>C3H6O2</td>\n",
       "      <td>95.0</td>\n",
       "      <td>1.930</td>\n",
       "      <td>7.02</td>\n",
       "      <td>1.0</td>\n",
       "      <td>10.61</td>\n",
       "      <td>8.700</td>\n",
       "      <td>6.900</td>\n",
       "      <td>5.500</td>\n",
       "      <td>7.033333</td>\n",
       "      <td>0.0</td>\n",
       "    </tr>\n",
       "    <tr>\n",
       "      <th>31</th>\n",
       "      <td>1-fl-propano</td>\n",
       "      <td>C3H7F</td>\n",
       "      <td>35.0</td>\n",
       "      <td>2.000</td>\n",
       "      <td>6.00</td>\n",
       "      <td>0.0</td>\n",
       "      <td>11.30</td>\n",
       "      <td>6.900</td>\n",
       "      <td>6.000</td>\n",
       "      <td>5.600</td>\n",
       "      <td>6.166667</td>\n",
       "      <td>0.0</td>\n",
       "    </tr>\n",
       "    <tr>\n",
       "      <th>32</th>\n",
       "      <td>Metilacetato</td>\n",
       "      <td>C3H6O2</td>\n",
       "      <td>120.0</td>\n",
       "      <td>2.000</td>\n",
       "      <td>6.96</td>\n",
       "      <td>1.0</td>\n",
       "      <td>10.25</td>\n",
       "      <td>8.400</td>\n",
       "      <td>7.100</td>\n",
       "      <td>5.500</td>\n",
       "      <td>7.000000</td>\n",
       "      <td>0.0</td>\n",
       "    </tr>\n",
       "    <tr>\n",
       "      <th>33</th>\n",
       "      <td>Propilformato</td>\n",
       "      <td>C4H8O2</td>\n",
       "      <td>130.0</td>\n",
       "      <td>2.400</td>\n",
       "      <td>8.85</td>\n",
       "      <td>1.0</td>\n",
       "      <td>10.52</td>\n",
       "      <td>NaN</td>\n",
       "      <td>NaN</td>\n",
       "      <td>NaN</td>\n",
       "      <td>NaN</td>\n",
       "      <td>0.0</td>\n",
       "    </tr>\n",
       "    <tr>\n",
       "      <th>34</th>\n",
       "      <td>1,3-Ciclohexadieno</td>\n",
       "      <td>C6H8</td>\n",
       "      <td>132.0</td>\n",
       "      <td>0.440</td>\n",
       "      <td>10.60</td>\n",
       "      <td>2.0</td>\n",
       "      <td>8.30</td>\n",
       "      <td>NaN</td>\n",
       "      <td>NaN</td>\n",
       "      <td>NaN</td>\n",
       "      <td>NaN</td>\n",
       "      <td>0.0</td>\n",
       "    </tr>\n",
       "    <tr>\n",
       "      <th>35</th>\n",
       "      <td>1-fl-nonano</td>\n",
       "      <td>C9H19F</td>\n",
       "      <td>145.0</td>\n",
       "      <td>2.200</td>\n",
       "      <td>17.00</td>\n",
       "      <td>0.0</td>\n",
       "      <td>9.60</td>\n",
       "      <td>NaN</td>\n",
       "      <td>NaN</td>\n",
       "      <td>NaN</td>\n",
       "      <td>NaN</td>\n",
       "      <td>0.0</td>\n",
       "    </tr>\n",
       "    <tr>\n",
       "      <th>36</th>\n",
       "      <td>n-Propylchloride/1-chloropropane</td>\n",
       "      <td>C3H7Cl</td>\n",
       "      <td>97.0</td>\n",
       "      <td>2.050</td>\n",
       "      <td>8.24</td>\n",
       "      <td>0.0</td>\n",
       "      <td>10.81</td>\n",
       "      <td>10.300</td>\n",
       "      <td>7.400</td>\n",
       "      <td>6.900</td>\n",
       "      <td>8.200000</td>\n",
       "      <td>0.0</td>\n",
       "    </tr>\n",
       "    <tr>\n",
       "      <th>37</th>\n",
       "      <td>Etilacetato</td>\n",
       "      <td>C4H8O2</td>\n",
       "      <td>190.0</td>\n",
       "      <td>2.130</td>\n",
       "      <td>8.80</td>\n",
       "      <td>1.0</td>\n",
       "      <td>10.01</td>\n",
       "      <td>10.768</td>\n",
       "      <td>8.856</td>\n",
       "      <td>7.074</td>\n",
       "      <td>8.899333</td>\n",
       "      <td>0.0</td>\n",
       "    </tr>\n",
       "    <tr>\n",
       "      <th>38</th>\n",
       "      <td>Isopropylcloride</td>\n",
       "      <td>C3H7Cl</td>\n",
       "      <td>113.0</td>\n",
       "      <td>2.170</td>\n",
       "      <td>8.36</td>\n",
       "      <td>0.0</td>\n",
       "      <td>10.79</td>\n",
       "      <td>9.500</td>\n",
       "      <td>8.100</td>\n",
       "      <td>7.100</td>\n",
       "      <td>8.233333</td>\n",
       "      <td>0.0</td>\n",
       "    </tr>\n",
       "    <tr>\n",
       "      <th>39</th>\n",
       "      <td>Pyridine</td>\n",
       "      <td>C5H5N</td>\n",
       "      <td>186.0</td>\n",
       "      <td>2.190</td>\n",
       "      <td>9.50</td>\n",
       "      <td>3.0</td>\n",
       "      <td>9.26</td>\n",
       "      <td>11.690</td>\n",
       "      <td>10.980</td>\n",
       "      <td>6.067</td>\n",
       "      <td>9.579000</td>\n",
       "      <td>0.0</td>\n",
       "    </tr>\n",
       "    <tr>\n",
       "      <th>40</th>\n",
       "      <td>1-cl.hexano</td>\n",
       "      <td>C6H13Cl</td>\n",
       "      <td>175.0</td>\n",
       "      <td>2.000</td>\n",
       "      <td>13.60</td>\n",
       "      <td>0.0</td>\n",
       "      <td>10.30</td>\n",
       "      <td>NaN</td>\n",
       "      <td>NaN</td>\n",
       "      <td>NaN</td>\n",
       "      <td>NaN</td>\n",
       "      <td>0.0</td>\n",
       "    </tr>\n",
       "    <tr>\n",
       "      <th>41</th>\n",
       "      <td>Butanal</td>\n",
       "      <td>C4H8O</td>\n",
       "      <td>150.0</td>\n",
       "      <td>2.720</td>\n",
       "      <td>8.28</td>\n",
       "      <td>1.0</td>\n",
       "      <td>9.84</td>\n",
       "      <td>9.600</td>\n",
       "      <td>8.400</td>\n",
       "      <td>6.700</td>\n",
       "      <td>8.233333</td>\n",
       "      <td>0.0</td>\n",
       "    </tr>\n",
       "    <tr>\n",
       "      <th>42</th>\n",
       "      <td>2-Butanona</td>\n",
       "      <td>C4H8O</td>\n",
       "      <td>205.0</td>\n",
       "      <td>2.780</td>\n",
       "      <td>8.21</td>\n",
       "      <td>1.0</td>\n",
       "      <td>9.52</td>\n",
       "      <td>9.347</td>\n",
       "      <td>8.354</td>\n",
       "      <td>6.558</td>\n",
       "      <td>8.086333</td>\n",
       "      <td>0.0</td>\n",
       "    </tr>\n",
       "    <tr>\n",
       "      <th>43</th>\n",
       "      <td>Cycloheptatriene</td>\n",
       "      <td>C7H8</td>\n",
       "      <td>190.0</td>\n",
       "      <td>0.250</td>\n",
       "      <td>12.60</td>\n",
       "      <td>3.0</td>\n",
       "      <td>8.29</td>\n",
       "      <td>NaN</td>\n",
       "      <td>NaN</td>\n",
       "      <td>NaN</td>\n",
       "      <td>NaN</td>\n",
       "      <td>0.0</td>\n",
       "    </tr>\n",
       "    <tr>\n",
       "      <th>44</th>\n",
       "      <td>Acetaldeído</td>\n",
       "      <td>C2H4O</td>\n",
       "      <td>88.0</td>\n",
       "      <td>2.800</td>\n",
       "      <td>4.60</td>\n",
       "      <td>1.0</td>\n",
       "      <td>10.20</td>\n",
       "      <td>5.600</td>\n",
       "      <td>4.700</td>\n",
       "      <td>3.600</td>\n",
       "      <td>4.633333</td>\n",
       "      <td>0.0</td>\n",
       "    </tr>\n",
       "    <tr>\n",
       "      <th>45</th>\n",
       "      <td>Propanal</td>\n",
       "      <td>C3H6O</td>\n",
       "      <td>115.0</td>\n",
       "      <td>2.800</td>\n",
       "      <td>6.20</td>\n",
       "      <td>1.0</td>\n",
       "      <td>10.00</td>\n",
       "      <td>7.000</td>\n",
       "      <td>6.900</td>\n",
       "      <td>5.100</td>\n",
       "      <td>6.333333</td>\n",
       "      <td>0.0</td>\n",
       "    </tr>\n",
       "    <tr>\n",
       "      <th>46</th>\n",
       "      <td>Acetona</td>\n",
       "      <td>C3H6O</td>\n",
       "      <td>170.0</td>\n",
       "      <td>2.880</td>\n",
       "      <td>6.41</td>\n",
       "      <td>1.0</td>\n",
       "      <td>9.70</td>\n",
       "      <td>7.100</td>\n",
       "      <td>7.000</td>\n",
       "      <td>5.100</td>\n",
       "      <td>6.400000</td>\n",
       "      <td>0.0</td>\n",
       "    </tr>\n",
       "    <tr>\n",
       "      <th>47</th>\n",
       "      <td>Acetophenone</td>\n",
       "      <td>C8H8O</td>\n",
       "      <td>288.0</td>\n",
       "      <td>3.020</td>\n",
       "      <td>14.40</td>\n",
       "      <td>4.0</td>\n",
       "      <td>9.28</td>\n",
       "      <td>18.481</td>\n",
       "      <td>14.759</td>\n",
       "      <td>3.328</td>\n",
       "      <td>12.189333</td>\n",
       "      <td>0.0</td>\n",
       "    </tr>\n",
       "    <tr>\n",
       "      <th>48</th>\n",
       "      <td>Benzaldehyde</td>\n",
       "      <td>C7H6O</td>\n",
       "      <td>220.0</td>\n",
       "      <td>3.140</td>\n",
       "      <td>12.80</td>\n",
       "      <td>4.0</td>\n",
       "      <td>9.50</td>\n",
       "      <td>17.698</td>\n",
       "      <td>13.931</td>\n",
       "      <td>7.466</td>\n",
       "      <td>13.031667</td>\n",
       "      <td>0.0</td>\n",
       "    </tr>\n",
       "    <tr>\n",
       "      <th>49</th>\n",
       "      <td>Ciclopentanona</td>\n",
       "      <td>C5H8O</td>\n",
       "      <td>230.0</td>\n",
       "      <td>3.300</td>\n",
       "      <td>9.00</td>\n",
       "      <td>1.0</td>\n",
       "      <td>9.30</td>\n",
       "      <td>10.300</td>\n",
       "      <td>9.600</td>\n",
       "      <td>7.600</td>\n",
       "      <td>9.166667</td>\n",
       "      <td>0.0</td>\n",
       "    </tr>\n",
       "    <tr>\n",
       "      <th>50</th>\n",
       "      <td>Acetonitrila</td>\n",
       "      <td>C2H3N</td>\n",
       "      <td>180.0</td>\n",
       "      <td>3.900</td>\n",
       "      <td>4.40</td>\n",
       "      <td>2.0</td>\n",
       "      <td>12.20</td>\n",
       "      <td>6.100</td>\n",
       "      <td>3.600</td>\n",
       "      <td>3.600</td>\n",
       "      <td>4.433333</td>\n",
       "      <td>0.0</td>\n",
       "    </tr>\n",
       "    <tr>\n",
       "      <th>51</th>\n",
       "      <td>Propionitrila</td>\n",
       "      <td>C3H5N</td>\n",
       "      <td>245.0</td>\n",
       "      <td>4.100</td>\n",
       "      <td>6.30</td>\n",
       "      <td>2.0</td>\n",
       "      <td>11.80</td>\n",
       "      <td>8.100</td>\n",
       "      <td>5.600</td>\n",
       "      <td>5.200</td>\n",
       "      <td>6.300000</td>\n",
       "      <td>0.0</td>\n",
       "    </tr>\n",
       "    <tr>\n",
       "      <th>52</th>\n",
       "      <td>Pyridazine</td>\n",
       "      <td>C4H4N2</td>\n",
       "      <td>330.0</td>\n",
       "      <td>4.220</td>\n",
       "      <td>9.27</td>\n",
       "      <td>3.0</td>\n",
       "      <td>8.74</td>\n",
       "      <td>10.735</td>\n",
       "      <td>10.152</td>\n",
       "      <td>5.579</td>\n",
       "      <td>8.822000</td>\n",
       "      <td>0.0</td>\n",
       "    </tr>\n",
       "    <tr>\n",
       "      <th>53</th>\n",
       "      <td>2-Metilpropionitrila</td>\n",
       "      <td>C4H7N</td>\n",
       "      <td>274.0</td>\n",
       "      <td>4.300</td>\n",
       "      <td>8.10</td>\n",
       "      <td>2.0</td>\n",
       "      <td>11.30</td>\n",
       "      <td>9.700</td>\n",
       "      <td>7.800</td>\n",
       "      <td>6.800</td>\n",
       "      <td>8.100000</td>\n",
       "      <td>0.0</td>\n",
       "    </tr>\n",
       "    <tr>\n",
       "      <th>54</th>\n",
       "      <td>Benzonitrile</td>\n",
       "      <td>C7H5N</td>\n",
       "      <td>298.0</td>\n",
       "      <td>4.520</td>\n",
       "      <td>12.50</td>\n",
       "      <td>5.0</td>\n",
       "      <td>9.73</td>\n",
       "      <td>18.602</td>\n",
       "      <td>13.011</td>\n",
       "      <td>7.526</td>\n",
       "      <td>13.046333</td>\n",
       "      <td>0.0</td>\n",
       "    </tr>\n",
       "  </tbody>\n",
       "</table>\n",
       "</div>"
      ],
      "text/plain": [
       "                            Molecule  Formula   Expt  Dipole  Alpha  pi_bond  \\\n",
       "0                          Isobutane    C4H10   41.0   0.132   8.14      0.0   \n",
       "1                       Ciclopenteno     C5H8   70.0   0.200   8.90      1.0   \n",
       "2                   2,2-difl.propano   C3H6F2   25.0   2.400   5.90      0.0   \n",
       "3                   Dimetilcarbonato   C3H6O3  102.0   0.300   7.70      1.0   \n",
       "4                        Ciclohexano    C6H12   82.0   0.330  11.00      1.0   \n",
       "5                        Ciclohexeno    C6H10  105.0   0.330  10.70      1.0   \n",
       "6                            Tolueno  C6H5CH3  173.0   0.380  11.86      3.0   \n",
       "7                              Furan    C4H4O   52.0   0.660   7.23      2.0   \n",
       "8                    Phenylacetylene     C8H6  230.0   0.660  13.80      5.0   \n",
       "9                    Dimetoximethano   C3H8O2   78.0   0.700   7.70      0.0   \n",
       "10                   Tricloroetileno   C2HCl3   50.0   0.800  10.00      1.0   \n",
       "11                       Bromofórmio    CHBr3  130.0   0.900  11.30      0.0   \n",
       "12                       Clorofórmio   CH3Cl3   37.0   1.000   8.40      0.0   \n",
       "13     1,1-dicloroetileno/Vinilideno  C2H2Cl2   30.0   1.300   8.10      1.0   \n",
       "14                            Etanol    C2H6O   43.0   1.440   5.11      5.0   \n",
       "15                           Aniline  C6H5NH2  233.0   1.530  12.10      3.0   \n",
       "16                        1-Propanol    C3H8O   65.0   1.570   6.70      0.0   \n",
       "17                       1-fl-butano    C4H9F   70.0   2.200   7.80      0.0   \n",
       "18                        2-Propanol    C3H8O   85.0   1.580   6.70      0.0   \n",
       "19                     Diclorometano   CH2Cl2   32.0   1.600   6.50      0.0   \n",
       "20                       1-fl-hexano   C6H13F   80.0   2.200  11.50      0.0   \n",
       "21                         1-Butanol   C4H10O  102.0   1.660   8.77      0.0   \n",
       "22               1,3-Dichloropropane  C3H6Cl2   85.0   2.080  10.08      0.0   \n",
       "23                           Metanol     CH4O   20.0   1.690   3.08      0.0   \n",
       "24                    1,2-Ethanediol   C2H6O2   70.0   1.690   3.08      0.0   \n",
       "25                           Pyrrole    C4H5N  165.0   1.770   7.90      2.0   \n",
       "26                        MetilBromo    CH3Br   40.0   1.800   5.60      0.0   \n",
       "27                     Metyl Formate   C2H4O2   65.0   1.800   5.10      1.0   \n",
       "28                   Methyl Chloride    CH3Cl   25.0   1.900   5.40      0.0   \n",
       "29            1,2-cis-dicloroetileno  C2H2Cl2   66.0   1.900   8.00      1.0   \n",
       "30                       Etilformato   C3H6O2   95.0   1.930   7.02      1.0   \n",
       "31                      1-fl-propano    C3H7F   35.0   2.000   6.00      0.0   \n",
       "32                      Metilacetato   C3H6O2  120.0   2.000   6.96      1.0   \n",
       "33                     Propilformato   C4H8O2  130.0   2.400   8.85      1.0   \n",
       "34                1,3-Ciclohexadieno     C6H8  132.0   0.440  10.60      2.0   \n",
       "35                       1-fl-nonano   C9H19F  145.0   2.200  17.00      0.0   \n",
       "36  n-Propylchloride/1-chloropropane   C3H7Cl   97.0   2.050   8.24      0.0   \n",
       "37                       Etilacetato   C4H8O2  190.0   2.130   8.80      1.0   \n",
       "38                  Isopropylcloride   C3H7Cl  113.0   2.170   8.36      0.0   \n",
       "39                          Pyridine    C5H5N  186.0   2.190   9.50      3.0   \n",
       "40                       1-cl.hexano  C6H13Cl  175.0   2.000  13.60      0.0   \n",
       "41                           Butanal    C4H8O  150.0   2.720   8.28      1.0   \n",
       "42                        2-Butanona    C4H8O  205.0   2.780   8.21      1.0   \n",
       "43                  Cycloheptatriene     C7H8  190.0   0.250  12.60      3.0   \n",
       "44                       Acetaldeído    C2H4O   88.0   2.800   4.60      1.0   \n",
       "45                          Propanal    C3H6O  115.0   2.800   6.20      1.0   \n",
       "46                           Acetona    C3H6O  170.0   2.880   6.41      1.0   \n",
       "47                      Acetophenone    C8H8O  288.0   3.020  14.40      4.0   \n",
       "48                      Benzaldehyde    C7H6O  220.0   3.140  12.80      4.0   \n",
       "49                    Ciclopentanona    C5H8O  230.0   3.300   9.00      1.0   \n",
       "50                      Acetonitrila    C2H3N  180.0   3.900   4.40      2.0   \n",
       "51                     Propionitrila    C3H5N  245.0   4.100   6.30      2.0   \n",
       "52                        Pyridazine   C4H4N2  330.0   4.220   9.27      3.0   \n",
       "53              2-Metilpropionitrila    C4H7N  274.0   4.300   8.10      2.0   \n",
       "54                      Benzonitrile    C7H5N  298.0   4.520  12.50      5.0   \n",
       "\n",
       "       Ei     axx     ayy    azz     AlphaB  Molecule Type  \n",
       "0   10.57   8.414   8.414  7.376   8.068000            0.0  \n",
       "1    9.00  10.346   9.116  7.182   8.881333            0.0  \n",
       "2   11.40     NaN     NaN    NaN        NaN            0.0  \n",
       "3   10.30   7.700   7.700  6.700   7.366667            0.0  \n",
       "4    9.90  11.300  11.300  9.800  10.800000            0.0  \n",
       "5    9.00  12.187  10.737  8.658  10.527333            0.0  \n",
       "6    8.83  15.495  13.390  8.003  12.296000            0.0  \n",
       "7    8.88   8.747   7.998  5.194   7.313000            0.0  \n",
       "8    8.82  21.795  13.722  8.256  14.591000            0.0  \n",
       "9    9.70   8.616   7.299  6.726   7.547000            0.0  \n",
       "10   9.50  13.600  10.300  6.700  10.200000            0.0  \n",
       "11  10.50  13.200  13.200  8.600  11.666667            0.0  \n",
       "12  11.40   9.400   9.300  6.500   8.400000            0.0  \n",
       "13   9.80   9.549   9.153  5.576   8.092667            0.0  \n",
       "14  10.43   5.100   0.000  1.700   2.266667            0.0  \n",
       "15   7.72  15.907  13.195  7.601  12.234333            0.0  \n",
       "16  10.18   7.900   6.600  6.200   6.900000            0.0  \n",
       "17  10.20     NaN     NaN    NaN        NaN            0.0  \n",
       "18  10.17   7.400   7.000  6.400   6.933333            0.0  \n",
       "19  11.30   8.300   5.700  5.100   6.366667            0.0  \n",
       "20   9.80     NaN     NaN    NaN        NaN            0.0  \n",
       "21  10.00  10.400   8.300  7.700   8.800000            0.0  \n",
       "22  10.89     NaN     NaN    NaN        NaN            0.0  \n",
       "23  10.80   3.500   3.100  3.000   3.200000            0.0  \n",
       "24  10.20   6.600   5.600  5.000   5.733333            0.0  \n",
       "25   8.20   9.603   9.196  5.832   8.210333            0.0  \n",
       "26  10.50   6.787   4.642  4.641   5.356667            0.0  \n",
       "27  10.80   7.200   4.800  3.900   5.300000            0.0  \n",
       "28  11.20   5.432   3.803  3.803   4.346000            0.0  \n",
       "29   9.70  10.600   7.900  5.600   8.033333            0.0  \n",
       "30  10.61   8.700   6.900  5.500   7.033333            0.0  \n",
       "31  11.30   6.900   6.000  5.600   6.166667            0.0  \n",
       "32  10.25   8.400   7.100  5.500   7.000000            0.0  \n",
       "33  10.52     NaN     NaN    NaN        NaN            0.0  \n",
       "34   8.30     NaN     NaN    NaN        NaN            0.0  \n",
       "35   9.60     NaN     NaN    NaN        NaN            0.0  \n",
       "36  10.81  10.300   7.400  6.900   8.200000            0.0  \n",
       "37  10.01  10.768   8.856  7.074   8.899333            0.0  \n",
       "38  10.79   9.500   8.100  7.100   8.233333            0.0  \n",
       "39   9.26  11.690  10.980  6.067   9.579000            0.0  \n",
       "40  10.30     NaN     NaN    NaN        NaN            0.0  \n",
       "41   9.84   9.600   8.400  6.700   8.233333            0.0  \n",
       "42   9.52   9.347   8.354  6.558   8.086333            0.0  \n",
       "43   8.29     NaN     NaN    NaN        NaN            0.0  \n",
       "44  10.20   5.600   4.700  3.600   4.633333            0.0  \n",
       "45  10.00   7.000   6.900  5.100   6.333333            0.0  \n",
       "46   9.70   7.100   7.000  5.100   6.400000            0.0  \n",
       "47   9.28  18.481  14.759  3.328  12.189333            0.0  \n",
       "48   9.50  17.698  13.931  7.466  13.031667            0.0  \n",
       "49   9.30  10.300   9.600  7.600   9.166667            0.0  \n",
       "50  12.20   6.100   3.600  3.600   4.433333            0.0  \n",
       "51  11.80   8.100   5.600  5.200   6.300000            0.0  \n",
       "52   8.74  10.735  10.152  5.579   8.822000            0.0  \n",
       "53  11.30   9.700   7.800  6.800   8.100000            0.0  \n",
       "54   9.73  18.602  13.011  7.526  13.046333            0.0  "
      ]
     },
     "execution_count": 33,
     "metadata": {},
     "output_type": "execute_result"
    }
   ],
   "source": [
    "df_pol_raw"
   ]
  },
  {
   "cell_type": "code",
   "execution_count": 34,
   "metadata": {},
   "outputs": [
    {
     "data": {
      "text/html": [
       "<div>\n",
       "<style scoped>\n",
       "    .dataframe tbody tr th:only-of-type {\n",
       "        vertical-align: middle;\n",
       "    }\n",
       "\n",
       "    .dataframe tbody tr th {\n",
       "        vertical-align: top;\n",
       "    }\n",
       "\n",
       "    .dataframe thead th {\n",
       "        text-align: right;\n",
       "    }\n",
       "</style>\n",
       "<table border=\"1\" class=\"dataframe\">\n",
       "  <thead>\n",
       "    <tr style=\"text-align: right;\">\n",
       "      <th></th>\n",
       "      <th>Molecule</th>\n",
       "      <th>Formula</th>\n",
       "      <th>Expt</th>\n",
       "      <th>Dipole</th>\n",
       "      <th>Alpha</th>\n",
       "      <th>pi_bond</th>\n",
       "      <th>Ei</th>\n",
       "    </tr>\n",
       "  </thead>\n",
       "  <tbody>\n",
       "    <tr>\n",
       "      <th>0</th>\n",
       "      <td>Isobutane</td>\n",
       "      <td>C4H10</td>\n",
       "      <td>41.0</td>\n",
       "      <td>0.132</td>\n",
       "      <td>8.14</td>\n",
       "      <td>0.0</td>\n",
       "      <td>10.57</td>\n",
       "    </tr>\n",
       "    <tr>\n",
       "      <th>1</th>\n",
       "      <td>Ciclopenteno</td>\n",
       "      <td>C5H8</td>\n",
       "      <td>70.0</td>\n",
       "      <td>0.200</td>\n",
       "      <td>8.90</td>\n",
       "      <td>1.0</td>\n",
       "      <td>9.00</td>\n",
       "    </tr>\n",
       "    <tr>\n",
       "      <th>2</th>\n",
       "      <td>2,2-difl.propano</td>\n",
       "      <td>C3H6F2</td>\n",
       "      <td>25.0</td>\n",
       "      <td>2.400</td>\n",
       "      <td>5.90</td>\n",
       "      <td>0.0</td>\n",
       "      <td>11.40</td>\n",
       "    </tr>\n",
       "    <tr>\n",
       "      <th>3</th>\n",
       "      <td>Dimetilcarbonato</td>\n",
       "      <td>C3H6O3</td>\n",
       "      <td>102.0</td>\n",
       "      <td>0.300</td>\n",
       "      <td>7.70</td>\n",
       "      <td>1.0</td>\n",
       "      <td>10.30</td>\n",
       "    </tr>\n",
       "    <tr>\n",
       "      <th>4</th>\n",
       "      <td>Ciclohexano</td>\n",
       "      <td>C6H12</td>\n",
       "      <td>82.0</td>\n",
       "      <td>0.330</td>\n",
       "      <td>11.00</td>\n",
       "      <td>1.0</td>\n",
       "      <td>9.90</td>\n",
       "    </tr>\n",
       "    <tr>\n",
       "      <th>5</th>\n",
       "      <td>Ciclohexeno</td>\n",
       "      <td>C6H10</td>\n",
       "      <td>105.0</td>\n",
       "      <td>0.330</td>\n",
       "      <td>10.70</td>\n",
       "      <td>1.0</td>\n",
       "      <td>9.00</td>\n",
       "    </tr>\n",
       "    <tr>\n",
       "      <th>6</th>\n",
       "      <td>Tolueno</td>\n",
       "      <td>C6H5CH3</td>\n",
       "      <td>173.0</td>\n",
       "      <td>0.380</td>\n",
       "      <td>11.86</td>\n",
       "      <td>3.0</td>\n",
       "      <td>8.83</td>\n",
       "    </tr>\n",
       "    <tr>\n",
       "      <th>7</th>\n",
       "      <td>Furan</td>\n",
       "      <td>C4H4O</td>\n",
       "      <td>52.0</td>\n",
       "      <td>0.660</td>\n",
       "      <td>7.23</td>\n",
       "      <td>2.0</td>\n",
       "      <td>8.88</td>\n",
       "    </tr>\n",
       "    <tr>\n",
       "      <th>8</th>\n",
       "      <td>Phenylacetylene</td>\n",
       "      <td>C8H6</td>\n",
       "      <td>230.0</td>\n",
       "      <td>0.660</td>\n",
       "      <td>13.80</td>\n",
       "      <td>5.0</td>\n",
       "      <td>8.82</td>\n",
       "    </tr>\n",
       "    <tr>\n",
       "      <th>9</th>\n",
       "      <td>Dimetoximethano</td>\n",
       "      <td>C3H8O2</td>\n",
       "      <td>78.0</td>\n",
       "      <td>0.700</td>\n",
       "      <td>7.70</td>\n",
       "      <td>0.0</td>\n",
       "      <td>9.70</td>\n",
       "    </tr>\n",
       "    <tr>\n",
       "      <th>10</th>\n",
       "      <td>Tricloroetileno</td>\n",
       "      <td>C2HCl3</td>\n",
       "      <td>50.0</td>\n",
       "      <td>0.800</td>\n",
       "      <td>10.00</td>\n",
       "      <td>1.0</td>\n",
       "      <td>9.50</td>\n",
       "    </tr>\n",
       "    <tr>\n",
       "      <th>11</th>\n",
       "      <td>Bromofórmio</td>\n",
       "      <td>CHBr3</td>\n",
       "      <td>130.0</td>\n",
       "      <td>0.900</td>\n",
       "      <td>11.30</td>\n",
       "      <td>0.0</td>\n",
       "      <td>10.50</td>\n",
       "    </tr>\n",
       "    <tr>\n",
       "      <th>12</th>\n",
       "      <td>Clorofórmio</td>\n",
       "      <td>CH3Cl3</td>\n",
       "      <td>37.0</td>\n",
       "      <td>1.000</td>\n",
       "      <td>8.40</td>\n",
       "      <td>0.0</td>\n",
       "      <td>11.40</td>\n",
       "    </tr>\n",
       "    <tr>\n",
       "      <th>13</th>\n",
       "      <td>1,1-dicloroetileno/Vinilideno</td>\n",
       "      <td>C2H2Cl2</td>\n",
       "      <td>30.0</td>\n",
       "      <td>1.300</td>\n",
       "      <td>8.10</td>\n",
       "      <td>1.0</td>\n",
       "      <td>9.80</td>\n",
       "    </tr>\n",
       "    <tr>\n",
       "      <th>14</th>\n",
       "      <td>Etanol</td>\n",
       "      <td>C2H6O</td>\n",
       "      <td>43.0</td>\n",
       "      <td>1.440</td>\n",
       "      <td>5.11</td>\n",
       "      <td>5.0</td>\n",
       "      <td>10.43</td>\n",
       "    </tr>\n",
       "    <tr>\n",
       "      <th>15</th>\n",
       "      <td>Aniline</td>\n",
       "      <td>C6H5NH2</td>\n",
       "      <td>233.0</td>\n",
       "      <td>1.530</td>\n",
       "      <td>12.10</td>\n",
       "      <td>3.0</td>\n",
       "      <td>7.72</td>\n",
       "    </tr>\n",
       "    <tr>\n",
       "      <th>16</th>\n",
       "      <td>1-Propanol</td>\n",
       "      <td>C3H8O</td>\n",
       "      <td>65.0</td>\n",
       "      <td>1.570</td>\n",
       "      <td>6.70</td>\n",
       "      <td>0.0</td>\n",
       "      <td>10.18</td>\n",
       "    </tr>\n",
       "    <tr>\n",
       "      <th>17</th>\n",
       "      <td>1-fl-butano</td>\n",
       "      <td>C4H9F</td>\n",
       "      <td>70.0</td>\n",
       "      <td>2.200</td>\n",
       "      <td>7.80</td>\n",
       "      <td>0.0</td>\n",
       "      <td>10.20</td>\n",
       "    </tr>\n",
       "    <tr>\n",
       "      <th>18</th>\n",
       "      <td>2-Propanol</td>\n",
       "      <td>C3H8O</td>\n",
       "      <td>85.0</td>\n",
       "      <td>1.580</td>\n",
       "      <td>6.70</td>\n",
       "      <td>0.0</td>\n",
       "      <td>10.17</td>\n",
       "    </tr>\n",
       "    <tr>\n",
       "      <th>19</th>\n",
       "      <td>Diclorometano</td>\n",
       "      <td>CH2Cl2</td>\n",
       "      <td>32.0</td>\n",
       "      <td>1.600</td>\n",
       "      <td>6.50</td>\n",
       "      <td>0.0</td>\n",
       "      <td>11.30</td>\n",
       "    </tr>\n",
       "    <tr>\n",
       "      <th>20</th>\n",
       "      <td>1-fl-hexano</td>\n",
       "      <td>C6H13F</td>\n",
       "      <td>80.0</td>\n",
       "      <td>2.200</td>\n",
       "      <td>11.50</td>\n",
       "      <td>0.0</td>\n",
       "      <td>9.80</td>\n",
       "    </tr>\n",
       "    <tr>\n",
       "      <th>21</th>\n",
       "      <td>1-Butanol</td>\n",
       "      <td>C4H10O</td>\n",
       "      <td>102.0</td>\n",
       "      <td>1.660</td>\n",
       "      <td>8.77</td>\n",
       "      <td>0.0</td>\n",
       "      <td>10.00</td>\n",
       "    </tr>\n",
       "    <tr>\n",
       "      <th>22</th>\n",
       "      <td>1,3-Dichloropropane</td>\n",
       "      <td>C3H6Cl2</td>\n",
       "      <td>85.0</td>\n",
       "      <td>2.080</td>\n",
       "      <td>10.08</td>\n",
       "      <td>0.0</td>\n",
       "      <td>10.89</td>\n",
       "    </tr>\n",
       "    <tr>\n",
       "      <th>23</th>\n",
       "      <td>Metanol</td>\n",
       "      <td>CH4O</td>\n",
       "      <td>20.0</td>\n",
       "      <td>1.690</td>\n",
       "      <td>3.08</td>\n",
       "      <td>0.0</td>\n",
       "      <td>10.80</td>\n",
       "    </tr>\n",
       "    <tr>\n",
       "      <th>24</th>\n",
       "      <td>1,2-Ethanediol</td>\n",
       "      <td>C2H6O2</td>\n",
       "      <td>70.0</td>\n",
       "      <td>1.690</td>\n",
       "      <td>3.08</td>\n",
       "      <td>0.0</td>\n",
       "      <td>10.20</td>\n",
       "    </tr>\n",
       "    <tr>\n",
       "      <th>25</th>\n",
       "      <td>Pyrrole</td>\n",
       "      <td>C4H5N</td>\n",
       "      <td>165.0</td>\n",
       "      <td>1.770</td>\n",
       "      <td>7.90</td>\n",
       "      <td>2.0</td>\n",
       "      <td>8.20</td>\n",
       "    </tr>\n",
       "    <tr>\n",
       "      <th>26</th>\n",
       "      <td>MetilBromo</td>\n",
       "      <td>CH3Br</td>\n",
       "      <td>40.0</td>\n",
       "      <td>1.800</td>\n",
       "      <td>5.60</td>\n",
       "      <td>0.0</td>\n",
       "      <td>10.50</td>\n",
       "    </tr>\n",
       "    <tr>\n",
       "      <th>27</th>\n",
       "      <td>Metyl Formate</td>\n",
       "      <td>C2H4O2</td>\n",
       "      <td>65.0</td>\n",
       "      <td>1.800</td>\n",
       "      <td>5.10</td>\n",
       "      <td>1.0</td>\n",
       "      <td>10.80</td>\n",
       "    </tr>\n",
       "    <tr>\n",
       "      <th>28</th>\n",
       "      <td>Methyl Chloride</td>\n",
       "      <td>CH3Cl</td>\n",
       "      <td>25.0</td>\n",
       "      <td>1.900</td>\n",
       "      <td>5.40</td>\n",
       "      <td>0.0</td>\n",
       "      <td>11.20</td>\n",
       "    </tr>\n",
       "    <tr>\n",
       "      <th>29</th>\n",
       "      <td>1,2-cis-dicloroetileno</td>\n",
       "      <td>C2H2Cl2</td>\n",
       "      <td>66.0</td>\n",
       "      <td>1.900</td>\n",
       "      <td>8.00</td>\n",
       "      <td>1.0</td>\n",
       "      <td>9.70</td>\n",
       "    </tr>\n",
       "    <tr>\n",
       "      <th>30</th>\n",
       "      <td>Etilformato</td>\n",
       "      <td>C3H6O2</td>\n",
       "      <td>95.0</td>\n",
       "      <td>1.930</td>\n",
       "      <td>7.02</td>\n",
       "      <td>1.0</td>\n",
       "      <td>10.61</td>\n",
       "    </tr>\n",
       "    <tr>\n",
       "      <th>31</th>\n",
       "      <td>1-fl-propano</td>\n",
       "      <td>C3H7F</td>\n",
       "      <td>35.0</td>\n",
       "      <td>2.000</td>\n",
       "      <td>6.00</td>\n",
       "      <td>0.0</td>\n",
       "      <td>11.30</td>\n",
       "    </tr>\n",
       "    <tr>\n",
       "      <th>32</th>\n",
       "      <td>Metilacetato</td>\n",
       "      <td>C3H6O2</td>\n",
       "      <td>120.0</td>\n",
       "      <td>2.000</td>\n",
       "      <td>6.96</td>\n",
       "      <td>1.0</td>\n",
       "      <td>10.25</td>\n",
       "    </tr>\n",
       "    <tr>\n",
       "      <th>33</th>\n",
       "      <td>Propilformato</td>\n",
       "      <td>C4H8O2</td>\n",
       "      <td>130.0</td>\n",
       "      <td>2.400</td>\n",
       "      <td>8.85</td>\n",
       "      <td>1.0</td>\n",
       "      <td>10.52</td>\n",
       "    </tr>\n",
       "    <tr>\n",
       "      <th>34</th>\n",
       "      <td>1,3-Ciclohexadieno</td>\n",
       "      <td>C6H8</td>\n",
       "      <td>132.0</td>\n",
       "      <td>0.440</td>\n",
       "      <td>10.60</td>\n",
       "      <td>2.0</td>\n",
       "      <td>8.30</td>\n",
       "    </tr>\n",
       "    <tr>\n",
       "      <th>35</th>\n",
       "      <td>1-fl-nonano</td>\n",
       "      <td>C9H19F</td>\n",
       "      <td>145.0</td>\n",
       "      <td>2.200</td>\n",
       "      <td>17.00</td>\n",
       "      <td>0.0</td>\n",
       "      <td>9.60</td>\n",
       "    </tr>\n",
       "    <tr>\n",
       "      <th>36</th>\n",
       "      <td>n-Propylchloride/1-chloropropane</td>\n",
       "      <td>C3H7Cl</td>\n",
       "      <td>97.0</td>\n",
       "      <td>2.050</td>\n",
       "      <td>8.24</td>\n",
       "      <td>0.0</td>\n",
       "      <td>10.81</td>\n",
       "    </tr>\n",
       "    <tr>\n",
       "      <th>37</th>\n",
       "      <td>Etilacetato</td>\n",
       "      <td>C4H8O2</td>\n",
       "      <td>190.0</td>\n",
       "      <td>2.130</td>\n",
       "      <td>8.80</td>\n",
       "      <td>1.0</td>\n",
       "      <td>10.01</td>\n",
       "    </tr>\n",
       "    <tr>\n",
       "      <th>38</th>\n",
       "      <td>Isopropylcloride</td>\n",
       "      <td>C3H7Cl</td>\n",
       "      <td>113.0</td>\n",
       "      <td>2.170</td>\n",
       "      <td>8.36</td>\n",
       "      <td>0.0</td>\n",
       "      <td>10.79</td>\n",
       "    </tr>\n",
       "    <tr>\n",
       "      <th>39</th>\n",
       "      <td>Pyridine</td>\n",
       "      <td>C5H5N</td>\n",
       "      <td>186.0</td>\n",
       "      <td>2.190</td>\n",
       "      <td>9.50</td>\n",
       "      <td>3.0</td>\n",
       "      <td>9.26</td>\n",
       "    </tr>\n",
       "    <tr>\n",
       "      <th>40</th>\n",
       "      <td>1-cl.hexano</td>\n",
       "      <td>C6H13Cl</td>\n",
       "      <td>175.0</td>\n",
       "      <td>2.000</td>\n",
       "      <td>13.60</td>\n",
       "      <td>0.0</td>\n",
       "      <td>10.30</td>\n",
       "    </tr>\n",
       "    <tr>\n",
       "      <th>41</th>\n",
       "      <td>Butanal</td>\n",
       "      <td>C4H8O</td>\n",
       "      <td>150.0</td>\n",
       "      <td>2.720</td>\n",
       "      <td>8.28</td>\n",
       "      <td>1.0</td>\n",
       "      <td>9.84</td>\n",
       "    </tr>\n",
       "    <tr>\n",
       "      <th>42</th>\n",
       "      <td>2-Butanona</td>\n",
       "      <td>C4H8O</td>\n",
       "      <td>205.0</td>\n",
       "      <td>2.780</td>\n",
       "      <td>8.21</td>\n",
       "      <td>1.0</td>\n",
       "      <td>9.52</td>\n",
       "    </tr>\n",
       "    <tr>\n",
       "      <th>43</th>\n",
       "      <td>Cycloheptatriene</td>\n",
       "      <td>C7H8</td>\n",
       "      <td>190.0</td>\n",
       "      <td>0.250</td>\n",
       "      <td>12.60</td>\n",
       "      <td>3.0</td>\n",
       "      <td>8.29</td>\n",
       "    </tr>\n",
       "    <tr>\n",
       "      <th>44</th>\n",
       "      <td>Acetaldeído</td>\n",
       "      <td>C2H4O</td>\n",
       "      <td>88.0</td>\n",
       "      <td>2.800</td>\n",
       "      <td>4.60</td>\n",
       "      <td>1.0</td>\n",
       "      <td>10.20</td>\n",
       "    </tr>\n",
       "    <tr>\n",
       "      <th>45</th>\n",
       "      <td>Propanal</td>\n",
       "      <td>C3H6O</td>\n",
       "      <td>115.0</td>\n",
       "      <td>2.800</td>\n",
       "      <td>6.20</td>\n",
       "      <td>1.0</td>\n",
       "      <td>10.00</td>\n",
       "    </tr>\n",
       "    <tr>\n",
       "      <th>46</th>\n",
       "      <td>Acetona</td>\n",
       "      <td>C3H6O</td>\n",
       "      <td>170.0</td>\n",
       "      <td>2.880</td>\n",
       "      <td>6.41</td>\n",
       "      <td>1.0</td>\n",
       "      <td>9.70</td>\n",
       "    </tr>\n",
       "    <tr>\n",
       "      <th>47</th>\n",
       "      <td>Acetophenone</td>\n",
       "      <td>C8H8O</td>\n",
       "      <td>288.0</td>\n",
       "      <td>3.020</td>\n",
       "      <td>14.40</td>\n",
       "      <td>4.0</td>\n",
       "      <td>9.28</td>\n",
       "    </tr>\n",
       "    <tr>\n",
       "      <th>48</th>\n",
       "      <td>Benzaldehyde</td>\n",
       "      <td>C7H6O</td>\n",
       "      <td>220.0</td>\n",
       "      <td>3.140</td>\n",
       "      <td>12.80</td>\n",
       "      <td>4.0</td>\n",
       "      <td>9.50</td>\n",
       "    </tr>\n",
       "    <tr>\n",
       "      <th>49</th>\n",
       "      <td>Ciclopentanona</td>\n",
       "      <td>C5H8O</td>\n",
       "      <td>230.0</td>\n",
       "      <td>3.300</td>\n",
       "      <td>9.00</td>\n",
       "      <td>1.0</td>\n",
       "      <td>9.30</td>\n",
       "    </tr>\n",
       "    <tr>\n",
       "      <th>50</th>\n",
       "      <td>Acetonitrila</td>\n",
       "      <td>C2H3N</td>\n",
       "      <td>180.0</td>\n",
       "      <td>3.900</td>\n",
       "      <td>4.40</td>\n",
       "      <td>2.0</td>\n",
       "      <td>12.20</td>\n",
       "    </tr>\n",
       "    <tr>\n",
       "      <th>51</th>\n",
       "      <td>Propionitrila</td>\n",
       "      <td>C3H5N</td>\n",
       "      <td>245.0</td>\n",
       "      <td>4.100</td>\n",
       "      <td>6.30</td>\n",
       "      <td>2.0</td>\n",
       "      <td>11.80</td>\n",
       "    </tr>\n",
       "    <tr>\n",
       "      <th>52</th>\n",
       "      <td>Pyridazine</td>\n",
       "      <td>C4H4N2</td>\n",
       "      <td>330.0</td>\n",
       "      <td>4.220</td>\n",
       "      <td>9.27</td>\n",
       "      <td>3.0</td>\n",
       "      <td>8.74</td>\n",
       "    </tr>\n",
       "    <tr>\n",
       "      <th>53</th>\n",
       "      <td>2-Metilpropionitrila</td>\n",
       "      <td>C4H7N</td>\n",
       "      <td>274.0</td>\n",
       "      <td>4.300</td>\n",
       "      <td>8.10</td>\n",
       "      <td>2.0</td>\n",
       "      <td>11.30</td>\n",
       "    </tr>\n",
       "    <tr>\n",
       "      <th>54</th>\n",
       "      <td>Benzonitrile</td>\n",
       "      <td>C7H5N</td>\n",
       "      <td>298.0</td>\n",
       "      <td>4.520</td>\n",
       "      <td>12.50</td>\n",
       "      <td>5.0</td>\n",
       "      <td>9.73</td>\n",
       "    </tr>\n",
       "  </tbody>\n",
       "</table>\n",
       "</div>"
      ],
      "text/plain": [
       "                            Molecule  Formula   Expt  Dipole  Alpha  pi_bond  \\\n",
       "0                          Isobutane    C4H10   41.0   0.132   8.14      0.0   \n",
       "1                       Ciclopenteno     C5H8   70.0   0.200   8.90      1.0   \n",
       "2                   2,2-difl.propano   C3H6F2   25.0   2.400   5.90      0.0   \n",
       "3                   Dimetilcarbonato   C3H6O3  102.0   0.300   7.70      1.0   \n",
       "4                        Ciclohexano    C6H12   82.0   0.330  11.00      1.0   \n",
       "5                        Ciclohexeno    C6H10  105.0   0.330  10.70      1.0   \n",
       "6                            Tolueno  C6H5CH3  173.0   0.380  11.86      3.0   \n",
       "7                              Furan    C4H4O   52.0   0.660   7.23      2.0   \n",
       "8                    Phenylacetylene     C8H6  230.0   0.660  13.80      5.0   \n",
       "9                    Dimetoximethano   C3H8O2   78.0   0.700   7.70      0.0   \n",
       "10                   Tricloroetileno   C2HCl3   50.0   0.800  10.00      1.0   \n",
       "11                       Bromofórmio    CHBr3  130.0   0.900  11.30      0.0   \n",
       "12                       Clorofórmio   CH3Cl3   37.0   1.000   8.40      0.0   \n",
       "13     1,1-dicloroetileno/Vinilideno  C2H2Cl2   30.0   1.300   8.10      1.0   \n",
       "14                            Etanol    C2H6O   43.0   1.440   5.11      5.0   \n",
       "15                           Aniline  C6H5NH2  233.0   1.530  12.10      3.0   \n",
       "16                        1-Propanol    C3H8O   65.0   1.570   6.70      0.0   \n",
       "17                       1-fl-butano    C4H9F   70.0   2.200   7.80      0.0   \n",
       "18                        2-Propanol    C3H8O   85.0   1.580   6.70      0.0   \n",
       "19                     Diclorometano   CH2Cl2   32.0   1.600   6.50      0.0   \n",
       "20                       1-fl-hexano   C6H13F   80.0   2.200  11.50      0.0   \n",
       "21                         1-Butanol   C4H10O  102.0   1.660   8.77      0.0   \n",
       "22               1,3-Dichloropropane  C3H6Cl2   85.0   2.080  10.08      0.0   \n",
       "23                           Metanol     CH4O   20.0   1.690   3.08      0.0   \n",
       "24                    1,2-Ethanediol   C2H6O2   70.0   1.690   3.08      0.0   \n",
       "25                           Pyrrole    C4H5N  165.0   1.770   7.90      2.0   \n",
       "26                        MetilBromo    CH3Br   40.0   1.800   5.60      0.0   \n",
       "27                     Metyl Formate   C2H4O2   65.0   1.800   5.10      1.0   \n",
       "28                   Methyl Chloride    CH3Cl   25.0   1.900   5.40      0.0   \n",
       "29            1,2-cis-dicloroetileno  C2H2Cl2   66.0   1.900   8.00      1.0   \n",
       "30                       Etilformato   C3H6O2   95.0   1.930   7.02      1.0   \n",
       "31                      1-fl-propano    C3H7F   35.0   2.000   6.00      0.0   \n",
       "32                      Metilacetato   C3H6O2  120.0   2.000   6.96      1.0   \n",
       "33                     Propilformato   C4H8O2  130.0   2.400   8.85      1.0   \n",
       "34                1,3-Ciclohexadieno     C6H8  132.0   0.440  10.60      2.0   \n",
       "35                       1-fl-nonano   C9H19F  145.0   2.200  17.00      0.0   \n",
       "36  n-Propylchloride/1-chloropropane   C3H7Cl   97.0   2.050   8.24      0.0   \n",
       "37                       Etilacetato   C4H8O2  190.0   2.130   8.80      1.0   \n",
       "38                  Isopropylcloride   C3H7Cl  113.0   2.170   8.36      0.0   \n",
       "39                          Pyridine    C5H5N  186.0   2.190   9.50      3.0   \n",
       "40                       1-cl.hexano  C6H13Cl  175.0   2.000  13.60      0.0   \n",
       "41                           Butanal    C4H8O  150.0   2.720   8.28      1.0   \n",
       "42                        2-Butanona    C4H8O  205.0   2.780   8.21      1.0   \n",
       "43                  Cycloheptatriene     C7H8  190.0   0.250  12.60      3.0   \n",
       "44                       Acetaldeído    C2H4O   88.0   2.800   4.60      1.0   \n",
       "45                          Propanal    C3H6O  115.0   2.800   6.20      1.0   \n",
       "46                           Acetona    C3H6O  170.0   2.880   6.41      1.0   \n",
       "47                      Acetophenone    C8H8O  288.0   3.020  14.40      4.0   \n",
       "48                      Benzaldehyde    C7H6O  220.0   3.140  12.80      4.0   \n",
       "49                    Ciclopentanona    C5H8O  230.0   3.300   9.00      1.0   \n",
       "50                      Acetonitrila    C2H3N  180.0   3.900   4.40      2.0   \n",
       "51                     Propionitrila    C3H5N  245.0   4.100   6.30      2.0   \n",
       "52                        Pyridazine   C4H4N2  330.0   4.220   9.27      3.0   \n",
       "53              2-Metilpropionitrila    C4H7N  274.0   4.300   8.10      2.0   \n",
       "54                      Benzonitrile    C7H5N  298.0   4.520  12.50      5.0   \n",
       "\n",
       "       Ei  \n",
       "0   10.57  \n",
       "1    9.00  \n",
       "2   11.40  \n",
       "3   10.30  \n",
       "4    9.90  \n",
       "5    9.00  \n",
       "6    8.83  \n",
       "7    8.88  \n",
       "8    8.82  \n",
       "9    9.70  \n",
       "10   9.50  \n",
       "11  10.50  \n",
       "12  11.40  \n",
       "13   9.80  \n",
       "14  10.43  \n",
       "15   7.72  \n",
       "16  10.18  \n",
       "17  10.20  \n",
       "18  10.17  \n",
       "19  11.30  \n",
       "20   9.80  \n",
       "21  10.00  \n",
       "22  10.89  \n",
       "23  10.80  \n",
       "24  10.20  \n",
       "25   8.20  \n",
       "26  10.50  \n",
       "27  10.80  \n",
       "28  11.20  \n",
       "29   9.70  \n",
       "30  10.61  \n",
       "31  11.30  \n",
       "32  10.25  \n",
       "33  10.52  \n",
       "34   8.30  \n",
       "35   9.60  \n",
       "36  10.81  \n",
       "37  10.01  \n",
       "38  10.79  \n",
       "39   9.26  \n",
       "40  10.30  \n",
       "41   9.84  \n",
       "42   9.52  \n",
       "43   8.29  \n",
       "44  10.20  \n",
       "45  10.00  \n",
       "46   9.70  \n",
       "47   9.28  \n",
       "48   9.50  \n",
       "49   9.30  \n",
       "50  12.20  \n",
       "51  11.80  \n",
       "52   8.74  \n",
       "53  11.30  \n",
       "54   9.73  "
      ]
     },
     "execution_count": 34,
     "metadata": {},
     "output_type": "execute_result"
    }
   ],
   "source": [
    "df_pol_processed"
   ]
  },
  {
   "cell_type": "markdown",
   "metadata": {},
   "source": [
    "# Useful Functions"
   ]
  },
  {
   "cell_type": "code",
   "execution_count": 35,
   "metadata": {},
   "outputs": [],
   "source": [
    "def create_df_predict_performances(models_list, models_names_list, X, y, df):\n",
    "    dict_of_performances = {}\n",
    "    dict_of_predicts = {}\n",
    "\n",
    "    for i, j in enumerate(models_list):\n",
    "        dict_of_performances[models_names_list[i]] = -cross_val_score(j, X, y, \n",
    "                    scoring=\"neg_mean_absolute_percentage_error\", cv = len(X), n_jobs = 6)\n",
    "        \n",
    "        dict_of_predicts[models_names_list[i]] = cross_val_predict(j, X, y, cv = len(X), n_jobs = 6)\n",
    "\n",
    "    df_performances = np.round(pd.DataFrame(dict_of_performances), 2)\n",
    "    df_performances[\"erro medio\"] = df_performances.mean(axis=1)\n",
    "    df_performances = pd.concat([df[[\"Molecule\", \"Formula\"]], df_performances, df[\"Expt\"]], axis = 1)\n",
    "\n",
    "    df_predicts = np.round(pd.DataFrame(dict_of_predicts)).astype(int)\n",
    "    df_predicts = pd.concat([df[[\"Molecule\", \"Formula\"]], df_predicts, df[\"Expt\"]], axis = 1)\n",
    "\n",
    "    return df_performances, df_predicts\n",
    "\n",
    "def analisar_outliers(df, variavel):\n",
    "    \"\"\"\n",
    "    Analisa e visualiza outliers para uma variável específica em um DataFrame.\n",
    "    \n",
    "    Args:\n",
    "    df (pandas.DataFrame): O DataFrame contendo os dados.\n",
    "    variavel (str): O nome da coluna a ser analisada.\n",
    "    \n",
    "    Returns:\n",
    "    dict: Um dicionário contendo os outliers e estatísticas.\n",
    "    \"\"\"\n",
    "    \n",
    "    # Criar o boxplot\n",
    "    plt.figure(figsize=(10, 6))\n",
    "    sns.boxplot(x=df[variavel])\n",
    "    plt.title(f'Identificação de Outliers via Boxplot - {variavel}')\n",
    "    plt.xlabel(variavel)\n",
    "\n",
    "    # Calcular Q1, Q3 e IQR\n",
    "    Q1 = df[variavel].quantile(0.25)\n",
    "    Q3 = df[variavel].quantile(0.75)\n",
    "    IQR = Q3 - Q1\n",
    "\n",
    "    # Definir limites para outliers\n",
    "    lower_bound = Q1 - 1.5 * IQR\n",
    "    upper_bound = Q3 + 1.5 * IQR\n",
    "\n",
    "    # Identificar outliers\n",
    "    outliers = df[(df[variavel] < lower_bound) | (df[variavel] > upper_bound)]\n",
    "\n",
    "    # Adicionar texto com o número de outliers\n",
    "    plt.text(0.95, 0.95, f'Outliers: {len(outliers)}', \n",
    "             transform=plt.gca().transAxes, ha='right', va='top')\n",
    "\n",
    "    plt.show()\n",
    "\n",
    "    # Imprimir informações sobre os outliers\n",
    "    print(f\"\\nOutliers para {variavel}:\")\n",
    "    print(outliers[['Molecule', variavel]].sort_values(by=variavel))\n",
    "\n",
    "    # Estatísticas descritivas\n",
    "    print(\"\\nEstatísticas descritivas:\")\n",
    "    print(df[variavel].describe())\n",
    "\n",
    "    print(f\"\\nLimite inferior para outliers: {lower_bound}\")\n",
    "    print(f\"Limite superior para outliers: {upper_bound}\")\n",
    "    \n",
    "    # Retornar um dicionário com informações relevantes\n",
    "    # return {\n",
    "    #     'outliers': outliers,\n",
    "    #     'lower_bound': lower_bound,\n",
    "    #     'upper_bound': upper_bound,\n",
    "    #     'statistics': df[variavel].describe()\n",
    "    # }\n",
    "\n",
    "def identificar_gaps_significativos(df, coluna, metodo='mediana', fator_limiar=2):\n",
    "    \"\"\"\n",
    "    Identifica gaps significativos em uma coluna numérica de um DataFrame.\n",
    "    \n",
    "    Args:\n",
    "    df (pandas.DataFrame): O DataFrame contendo os dados.\n",
    "    coluna (str): O nome da coluna a ser analisada.\n",
    "    metodo (str): 'mediana' ou 'media' para calcular o limiar.\n",
    "    fator_limiar (float): Fator multiplicativo para considerar um gap como significativo.\n",
    "    \n",
    "    Returns:\n",
    "    pandas.DataFrame: Um DataFrame com os gaps identificados.\n",
    "    \"\"\"\n",
    "    # Ordenar os valores\n",
    "    valores = df[coluna].sort_values().reset_index(drop=True)\n",
    "    \n",
    "    # Calcular as diferenças entre valores consecutivos\n",
    "    diferencas = valores.diff()\n",
    "    \n",
    "    # Calcular o limiar baseado na média ou mediana das diferenças\n",
    "    if metodo == 'mediana':\n",
    "        limiar = diferencas.median() * fator_limiar\n",
    "    elif metodo == 'media':\n",
    "        limiar = diferencas.mean() * fator_limiar\n",
    "    else:\n",
    "        raise ValueError(\"Método deve ser 'mediana' ou 'media'\")\n",
    "    \n",
    "    # Identificar gaps significativos\n",
    "    gaps = diferencas[diferencas > limiar]\n",
    "    \n",
    "    if gaps.empty:\n",
    "        print(\"Nenhum gap significativo encontrado.\")\n",
    "        return pd.DataFrame()\n",
    "    \n",
    "    # Criar DataFrame com os resultados\n",
    "    resultados = pd.DataFrame({\n",
    "        'valor_inferior': valores[gaps.index - 1].values,\n",
    "        'valor_superior': valores[gaps.index].values,\n",
    "        'tamanho_gap': gaps.values,\n",
    "        'indice_inferior': gaps.index - 1,\n",
    "        'indice_superior': gaps.index\n",
    "    })\n",
    "    \n",
    "    return resultados"
   ]
  },
  {
   "cell_type": "markdown",
   "metadata": {},
   "source": [
    "# Preprocess"
   ]
  },
  {
   "cell_type": "code",
   "execution_count": 36,
   "metadata": {},
   "outputs": [],
   "source": [
    "df_all_pol = df_pol_processed\n",
    "df_all_pol.reset_index(inplace=True, drop=True)"
   ]
  },
  {
   "cell_type": "code",
   "execution_count": 37,
   "metadata": {},
   "outputs": [
    {
     "data": {
      "text/html": [
       "<div>\n",
       "<style scoped>\n",
       "    .dataframe tbody tr th:only-of-type {\n",
       "        vertical-align: middle;\n",
       "    }\n",
       "\n",
       "    .dataframe tbody tr th {\n",
       "        vertical-align: top;\n",
       "    }\n",
       "\n",
       "    .dataframe thead th {\n",
       "        text-align: right;\n",
       "    }\n",
       "</style>\n",
       "<table border=\"1\" class=\"dataframe\">\n",
       "  <thead>\n",
       "    <tr style=\"text-align: right;\">\n",
       "      <th></th>\n",
       "      <th>Molecule</th>\n",
       "      <th>Formula</th>\n",
       "      <th>Expt</th>\n",
       "      <th>Dipole</th>\n",
       "      <th>Alpha</th>\n",
       "      <th>pi_bond</th>\n",
       "      <th>Ei</th>\n",
       "    </tr>\n",
       "  </thead>\n",
       "  <tbody>\n",
       "    <tr>\n",
       "      <th>50</th>\n",
       "      <td>Acetonitrila</td>\n",
       "      <td>C2H3N</td>\n",
       "      <td>180.0</td>\n",
       "      <td>3.90</td>\n",
       "      <td>4.40</td>\n",
       "      <td>2.0</td>\n",
       "      <td>12.20</td>\n",
       "    </tr>\n",
       "    <tr>\n",
       "      <th>51</th>\n",
       "      <td>Propionitrila</td>\n",
       "      <td>C3H5N</td>\n",
       "      <td>245.0</td>\n",
       "      <td>4.10</td>\n",
       "      <td>6.30</td>\n",
       "      <td>2.0</td>\n",
       "      <td>11.80</td>\n",
       "    </tr>\n",
       "    <tr>\n",
       "      <th>52</th>\n",
       "      <td>Pyridazine</td>\n",
       "      <td>C4H4N2</td>\n",
       "      <td>330.0</td>\n",
       "      <td>4.22</td>\n",
       "      <td>9.27</td>\n",
       "      <td>3.0</td>\n",
       "      <td>8.74</td>\n",
       "    </tr>\n",
       "    <tr>\n",
       "      <th>53</th>\n",
       "      <td>2-Metilpropionitrila</td>\n",
       "      <td>C4H7N</td>\n",
       "      <td>274.0</td>\n",
       "      <td>4.30</td>\n",
       "      <td>8.10</td>\n",
       "      <td>2.0</td>\n",
       "      <td>11.30</td>\n",
       "    </tr>\n",
       "    <tr>\n",
       "      <th>54</th>\n",
       "      <td>Benzonitrile</td>\n",
       "      <td>C7H5N</td>\n",
       "      <td>298.0</td>\n",
       "      <td>4.52</td>\n",
       "      <td>12.50</td>\n",
       "      <td>5.0</td>\n",
       "      <td>9.73</td>\n",
       "    </tr>\n",
       "  </tbody>\n",
       "</table>\n",
       "</div>"
      ],
      "text/plain": [
       "                Molecule Formula   Expt  Dipole  Alpha  pi_bond     Ei\n",
       "50          Acetonitrila   C2H3N  180.0    3.90   4.40      2.0  12.20\n",
       "51         Propionitrila   C3H5N  245.0    4.10   6.30      2.0  11.80\n",
       "52            Pyridazine  C4H4N2  330.0    4.22   9.27      3.0   8.74\n",
       "53  2-Metilpropionitrila   C4H7N  274.0    4.30   8.10      2.0  11.30\n",
       "54          Benzonitrile   C7H5N  298.0    4.52  12.50      5.0   9.73"
      ]
     },
     "execution_count": 37,
     "metadata": {},
     "output_type": "execute_result"
    }
   ],
   "source": [
    "df_all_pol.tail()"
   ]
  },
  {
   "cell_type": "code",
   "execution_count": 38,
   "metadata": {},
   "outputs": [
    {
     "data": {
      "application/vnd.plotly.v1+json": {
       "config": {
        "plotlyServerURL": "https://plot.ly"
       },
       "data": [
        {
         "dimensions": [
          {
           "axis": {
            "matches": true
           },
           "label": "Ei",
           "values": [
            10.57
           ]
          },
          {
           "axis": {
            "matches": true
           },
           "label": "Alpha",
           "values": [
            8.14
           ]
          },
          {
           "axis": {
            "matches": true
           },
           "label": "Dipole",
           "values": [
            0.132
           ]
          },
          {
           "axis": {
            "matches": true
           },
           "label": "pi_bond",
           "values": [
            0
           ]
          },
          {
           "axis": {
            "matches": true
           },
           "label": "Expt",
           "values": [
            41
           ]
          }
         ],
         "hovertemplate": "Molecule=Isobutane<br>%{xaxis.title.text}=%{x}<br>%{yaxis.title.text}=%{y}<extra></extra>",
         "legendgroup": "Isobutane",
         "marker": {
          "color": "blue",
          "symbol": "circle"
         },
         "name": "Isobutane",
         "showlegend": true,
         "type": "splom"
        },
        {
         "dimensions": [
          {
           "axis": {
            "matches": true
           },
           "label": "Ei",
           "values": [
            9
           ]
          },
          {
           "axis": {
            "matches": true
           },
           "label": "Alpha",
           "values": [
            8.9
           ]
          },
          {
           "axis": {
            "matches": true
           },
           "label": "Dipole",
           "values": [
            0.2
           ]
          },
          {
           "axis": {
            "matches": true
           },
           "label": "pi_bond",
           "values": [
            1
           ]
          },
          {
           "axis": {
            "matches": true
           },
           "label": "Expt",
           "values": [
            70
           ]
          }
         ],
         "hovertemplate": "Molecule=Ciclopenteno<br>%{xaxis.title.text}=%{x}<br>%{yaxis.title.text}=%{y}<extra></extra>",
         "legendgroup": "Ciclopenteno",
         "marker": {
          "color": "blue",
          "symbol": "circle"
         },
         "name": "Ciclopenteno",
         "showlegend": true,
         "type": "splom"
        },
        {
         "dimensions": [
          {
           "axis": {
            "matches": true
           },
           "label": "Ei",
           "values": [
            11.4
           ]
          },
          {
           "axis": {
            "matches": true
           },
           "label": "Alpha",
           "values": [
            5.9
           ]
          },
          {
           "axis": {
            "matches": true
           },
           "label": "Dipole",
           "values": [
            2.4
           ]
          },
          {
           "axis": {
            "matches": true
           },
           "label": "pi_bond",
           "values": [
            0
           ]
          },
          {
           "axis": {
            "matches": true
           },
           "label": "Expt",
           "values": [
            25
           ]
          }
         ],
         "hovertemplate": "Molecule=2,2-difl.propano<br>%{xaxis.title.text}=%{x}<br>%{yaxis.title.text}=%{y}<extra></extra>",
         "legendgroup": "2,2-difl.propano",
         "marker": {
          "color": "red",
          "symbol": "circle"
         },
         "name": "2,2-difl.propano",
         "showlegend": true,
         "type": "splom"
        },
        {
         "dimensions": [
          {
           "axis": {
            "matches": true
           },
           "label": "Ei",
           "values": [
            10.3
           ]
          },
          {
           "axis": {
            "matches": true
           },
           "label": "Alpha",
           "values": [
            7.7
           ]
          },
          {
           "axis": {
            "matches": true
           },
           "label": "Dipole",
           "values": [
            0.3
           ]
          },
          {
           "axis": {
            "matches": true
           },
           "label": "pi_bond",
           "values": [
            1
           ]
          },
          {
           "axis": {
            "matches": true
           },
           "label": "Expt",
           "values": [
            102
           ]
          }
         ],
         "hovertemplate": "Molecule=Dimetilcarbonato<br>%{xaxis.title.text}=%{x}<br>%{yaxis.title.text}=%{y}<extra></extra>",
         "legendgroup": "Dimetilcarbonato",
         "marker": {
          "color": "blue",
          "symbol": "circle"
         },
         "name": "Dimetilcarbonato",
         "showlegend": true,
         "type": "splom"
        },
        {
         "dimensions": [
          {
           "axis": {
            "matches": true
           },
           "label": "Ei",
           "values": [
            9.9
           ]
          },
          {
           "axis": {
            "matches": true
           },
           "label": "Alpha",
           "values": [
            11
           ]
          },
          {
           "axis": {
            "matches": true
           },
           "label": "Dipole",
           "values": [
            0.33
           ]
          },
          {
           "axis": {
            "matches": true
           },
           "label": "pi_bond",
           "values": [
            1
           ]
          },
          {
           "axis": {
            "matches": true
           },
           "label": "Expt",
           "values": [
            82
           ]
          }
         ],
         "hovertemplate": "Molecule=Ciclohexano<br>%{xaxis.title.text}=%{x}<br>%{yaxis.title.text}=%{y}<extra></extra>",
         "legendgroup": "Ciclohexano",
         "marker": {
          "color": "blue",
          "symbol": "circle"
         },
         "name": "Ciclohexano",
         "showlegend": true,
         "type": "splom"
        },
        {
         "dimensions": [
          {
           "axis": {
            "matches": true
           },
           "label": "Ei",
           "values": [
            9
           ]
          },
          {
           "axis": {
            "matches": true
           },
           "label": "Alpha",
           "values": [
            10.7
           ]
          },
          {
           "axis": {
            "matches": true
           },
           "label": "Dipole",
           "values": [
            0.33
           ]
          },
          {
           "axis": {
            "matches": true
           },
           "label": "pi_bond",
           "values": [
            1
           ]
          },
          {
           "axis": {
            "matches": true
           },
           "label": "Expt",
           "values": [
            105
           ]
          }
         ],
         "hovertemplate": "Molecule=Ciclohexeno<br>%{xaxis.title.text}=%{x}<br>%{yaxis.title.text}=%{y}<extra></extra>",
         "legendgroup": "Ciclohexeno",
         "marker": {
          "color": "blue",
          "symbol": "circle"
         },
         "name": "Ciclohexeno",
         "showlegend": true,
         "type": "splom"
        },
        {
         "dimensions": [
          {
           "axis": {
            "matches": true
           },
           "label": "Ei",
           "values": [
            8.83
           ]
          },
          {
           "axis": {
            "matches": true
           },
           "label": "Alpha",
           "values": [
            11.86
           ]
          },
          {
           "axis": {
            "matches": true
           },
           "label": "Dipole",
           "values": [
            0.38
           ]
          },
          {
           "axis": {
            "matches": true
           },
           "label": "pi_bond",
           "values": [
            3
           ]
          },
          {
           "axis": {
            "matches": true
           },
           "label": "Expt",
           "values": [
            173
           ]
          }
         ],
         "hovertemplate": "Molecule=Tolueno<br>%{xaxis.title.text}=%{x}<br>%{yaxis.title.text}=%{y}<extra></extra>",
         "legendgroup": "Tolueno",
         "marker": {
          "color": "blue",
          "symbol": "circle"
         },
         "name": "Tolueno",
         "showlegend": true,
         "type": "splom"
        },
        {
         "dimensions": [
          {
           "axis": {
            "matches": true
           },
           "label": "Ei",
           "values": [
            8.88
           ]
          },
          {
           "axis": {
            "matches": true
           },
           "label": "Alpha",
           "values": [
            7.23
           ]
          },
          {
           "axis": {
            "matches": true
           },
           "label": "Dipole",
           "values": [
            0.66
           ]
          },
          {
           "axis": {
            "matches": true
           },
           "label": "pi_bond",
           "values": [
            2
           ]
          },
          {
           "axis": {
            "matches": true
           },
           "label": "Expt",
           "values": [
            52
           ]
          }
         ],
         "hovertemplate": "Molecule=Furan<br>%{xaxis.title.text}=%{x}<br>%{yaxis.title.text}=%{y}<extra></extra>",
         "legendgroup": "Furan",
         "marker": {
          "color": "blue",
          "symbol": "circle"
         },
         "name": "Furan",
         "showlegend": true,
         "type": "splom"
        },
        {
         "dimensions": [
          {
           "axis": {
            "matches": true
           },
           "label": "Ei",
           "values": [
            8.82
           ]
          },
          {
           "axis": {
            "matches": true
           },
           "label": "Alpha",
           "values": [
            13.8
           ]
          },
          {
           "axis": {
            "matches": true
           },
           "label": "Dipole",
           "values": [
            0.66
           ]
          },
          {
           "axis": {
            "matches": true
           },
           "label": "pi_bond",
           "values": [
            5
           ]
          },
          {
           "axis": {
            "matches": true
           },
           "label": "Expt",
           "values": [
            230
           ]
          }
         ],
         "hovertemplate": "Molecule=Phenylacetylene<br>%{xaxis.title.text}=%{x}<br>%{yaxis.title.text}=%{y}<extra></extra>",
         "legendgroup": "Phenylacetylene",
         "marker": {
          "color": "blue",
          "symbol": "circle"
         },
         "name": "Phenylacetylene",
         "showlegend": true,
         "type": "splom"
        },
        {
         "dimensions": [
          {
           "axis": {
            "matches": true
           },
           "label": "Ei",
           "values": [
            9.7
           ]
          },
          {
           "axis": {
            "matches": true
           },
           "label": "Alpha",
           "values": [
            7.7
           ]
          },
          {
           "axis": {
            "matches": true
           },
           "label": "Dipole",
           "values": [
            0.7
           ]
          },
          {
           "axis": {
            "matches": true
           },
           "label": "pi_bond",
           "values": [
            0
           ]
          },
          {
           "axis": {
            "matches": true
           },
           "label": "Expt",
           "values": [
            78
           ]
          }
         ],
         "hovertemplate": "Molecule=Dimetoximethano<br>%{xaxis.title.text}=%{x}<br>%{yaxis.title.text}=%{y}<extra></extra>",
         "legendgroup": "Dimetoximethano",
         "marker": {
          "color": "blue",
          "symbol": "circle"
         },
         "name": "Dimetoximethano",
         "showlegend": true,
         "type": "splom"
        },
        {
         "dimensions": [
          {
           "axis": {
            "matches": true
           },
           "label": "Ei",
           "values": [
            9.5
           ]
          },
          {
           "axis": {
            "matches": true
           },
           "label": "Alpha",
           "values": [
            10
           ]
          },
          {
           "axis": {
            "matches": true
           },
           "label": "Dipole",
           "values": [
            0.8
           ]
          },
          {
           "axis": {
            "matches": true
           },
           "label": "pi_bond",
           "values": [
            1
           ]
          },
          {
           "axis": {
            "matches": true
           },
           "label": "Expt",
           "values": [
            50
           ]
          }
         ],
         "hovertemplate": "Molecule=Tricloroetileno<br>%{xaxis.title.text}=%{x}<br>%{yaxis.title.text}=%{y}<extra></extra>",
         "legendgroup": "Tricloroetileno",
         "marker": {
          "color": "blue",
          "symbol": "circle"
         },
         "name": "Tricloroetileno",
         "showlegend": true,
         "type": "splom"
        },
        {
         "dimensions": [
          {
           "axis": {
            "matches": true
           },
           "label": "Ei",
           "values": [
            10.5
           ]
          },
          {
           "axis": {
            "matches": true
           },
           "label": "Alpha",
           "values": [
            11.3
           ]
          },
          {
           "axis": {
            "matches": true
           },
           "label": "Dipole",
           "values": [
            0.9
           ]
          },
          {
           "axis": {
            "matches": true
           },
           "label": "pi_bond",
           "values": [
            0
           ]
          },
          {
           "axis": {
            "matches": true
           },
           "label": "Expt",
           "values": [
            130
           ]
          }
         ],
         "hovertemplate": "Molecule=Bromofórmio<br>%{xaxis.title.text}=%{x}<br>%{yaxis.title.text}=%{y}<extra></extra>",
         "legendgroup": "Bromofórmio",
         "marker": {
          "color": "blue",
          "symbol": "circle"
         },
         "name": "Bromofórmio",
         "showlegend": true,
         "type": "splom"
        },
        {
         "dimensions": [
          {
           "axis": {
            "matches": true
           },
           "label": "Ei",
           "values": [
            11.4
           ]
          },
          {
           "axis": {
            "matches": true
           },
           "label": "Alpha",
           "values": [
            8.4
           ]
          },
          {
           "axis": {
            "matches": true
           },
           "label": "Dipole",
           "values": [
            1
           ]
          },
          {
           "axis": {
            "matches": true
           },
           "label": "pi_bond",
           "values": [
            0
           ]
          },
          {
           "axis": {
            "matches": true
           },
           "label": "Expt",
           "values": [
            37
           ]
          }
         ],
         "hovertemplate": "Molecule=Clorofórmio<br>%{xaxis.title.text}=%{x}<br>%{yaxis.title.text}=%{y}<extra></extra>",
         "legendgroup": "Clorofórmio",
         "marker": {
          "color": "blue",
          "symbol": "circle"
         },
         "name": "Clorofórmio",
         "showlegend": true,
         "type": "splom"
        },
        {
         "dimensions": [
          {
           "axis": {
            "matches": true
           },
           "label": "Ei",
           "values": [
            9.8
           ]
          },
          {
           "axis": {
            "matches": true
           },
           "label": "Alpha",
           "values": [
            8.1
           ]
          },
          {
           "axis": {
            "matches": true
           },
           "label": "Dipole",
           "values": [
            1.3
           ]
          },
          {
           "axis": {
            "matches": true
           },
           "label": "pi_bond",
           "values": [
            1
           ]
          },
          {
           "axis": {
            "matches": true
           },
           "label": "Expt",
           "values": [
            30
           ]
          }
         ],
         "hovertemplate": "Molecule=1,1-dicloroetileno/Vinilideno<br>%{xaxis.title.text}=%{x}<br>%{yaxis.title.text}=%{y}<extra></extra>",
         "legendgroup": "1,1-dicloroetileno/Vinilideno",
         "marker": {
          "color": "red",
          "symbol": "circle"
         },
         "name": "1,1-dicloroetileno/Vinilideno",
         "showlegend": true,
         "type": "splom"
        },
        {
         "dimensions": [
          {
           "axis": {
            "matches": true
           },
           "label": "Ei",
           "values": [
            10.43
           ]
          },
          {
           "axis": {
            "matches": true
           },
           "label": "Alpha",
           "values": [
            5.11
           ]
          },
          {
           "axis": {
            "matches": true
           },
           "label": "Dipole",
           "values": [
            1.44
           ]
          },
          {
           "axis": {
            "matches": true
           },
           "label": "pi_bond",
           "values": [
            5
           ]
          },
          {
           "axis": {
            "matches": true
           },
           "label": "Expt",
           "values": [
            43
           ]
          }
         ],
         "hovertemplate": "Molecule=Etanol<br>%{xaxis.title.text}=%{x}<br>%{yaxis.title.text}=%{y}<extra></extra>",
         "legendgroup": "Etanol",
         "marker": {
          "color": "red",
          "symbol": "circle"
         },
         "name": "Etanol",
         "showlegend": true,
         "type": "splom"
        },
        {
         "dimensions": [
          {
           "axis": {
            "matches": true
           },
           "label": "Ei",
           "values": [
            7.72
           ]
          },
          {
           "axis": {
            "matches": true
           },
           "label": "Alpha",
           "values": [
            12.1
           ]
          },
          {
           "axis": {
            "matches": true
           },
           "label": "Dipole",
           "values": [
            1.53
           ]
          },
          {
           "axis": {
            "matches": true
           },
           "label": "pi_bond",
           "values": [
            3
           ]
          },
          {
           "axis": {
            "matches": true
           },
           "label": "Expt",
           "values": [
            233
           ]
          }
         ],
         "hovertemplate": "Molecule=Aniline<br>%{xaxis.title.text}=%{x}<br>%{yaxis.title.text}=%{y}<extra></extra>",
         "legendgroup": "Aniline",
         "marker": {
          "color": "blue",
          "symbol": "circle"
         },
         "name": "Aniline",
         "showlegend": true,
         "type": "splom"
        },
        {
         "dimensions": [
          {
           "axis": {
            "matches": true
           },
           "label": "Ei",
           "values": [
            10.18
           ]
          },
          {
           "axis": {
            "matches": true
           },
           "label": "Alpha",
           "values": [
            6.7
           ]
          },
          {
           "axis": {
            "matches": true
           },
           "label": "Dipole",
           "values": [
            1.57
           ]
          },
          {
           "axis": {
            "matches": true
           },
           "label": "pi_bond",
           "values": [
            0
           ]
          },
          {
           "axis": {
            "matches": true
           },
           "label": "Expt",
           "values": [
            65
           ]
          }
         ],
         "hovertemplate": "Molecule=1-Propanol<br>%{xaxis.title.text}=%{x}<br>%{yaxis.title.text}=%{y}<extra></extra>",
         "legendgroup": "1-Propanol",
         "marker": {
          "color": "blue",
          "symbol": "circle"
         },
         "name": "1-Propanol",
         "showlegend": true,
         "type": "splom"
        },
        {
         "dimensions": [
          {
           "axis": {
            "matches": true
           },
           "label": "Ei",
           "values": [
            10.2
           ]
          },
          {
           "axis": {
            "matches": true
           },
           "label": "Alpha",
           "values": [
            7.8
           ]
          },
          {
           "axis": {
            "matches": true
           },
           "label": "Dipole",
           "values": [
            2.2
           ]
          },
          {
           "axis": {
            "matches": true
           },
           "label": "pi_bond",
           "values": [
            0
           ]
          },
          {
           "axis": {
            "matches": true
           },
           "label": "Expt",
           "values": [
            70
           ]
          }
         ],
         "hovertemplate": "Molecule=1-fl-butano<br>%{xaxis.title.text}=%{x}<br>%{yaxis.title.text}=%{y}<extra></extra>",
         "legendgroup": "1-fl-butano",
         "marker": {
          "color": "blue",
          "symbol": "circle"
         },
         "name": "1-fl-butano",
         "showlegend": true,
         "type": "splom"
        },
        {
         "dimensions": [
          {
           "axis": {
            "matches": true
           },
           "label": "Ei",
           "values": [
            10.17
           ]
          },
          {
           "axis": {
            "matches": true
           },
           "label": "Alpha",
           "values": [
            6.7
           ]
          },
          {
           "axis": {
            "matches": true
           },
           "label": "Dipole",
           "values": [
            1.58
           ]
          },
          {
           "axis": {
            "matches": true
           },
           "label": "pi_bond",
           "values": [
            0
           ]
          },
          {
           "axis": {
            "matches": true
           },
           "label": "Expt",
           "values": [
            85
           ]
          }
         ],
         "hovertemplate": "Molecule=2-Propanol<br>%{xaxis.title.text}=%{x}<br>%{yaxis.title.text}=%{y}<extra></extra>",
         "legendgroup": "2-Propanol",
         "marker": {
          "color": "blue",
          "symbol": "circle"
         },
         "name": "2-Propanol",
         "showlegend": true,
         "type": "splom"
        },
        {
         "dimensions": [
          {
           "axis": {
            "matches": true
           },
           "label": "Ei",
           "values": [
            11.3
           ]
          },
          {
           "axis": {
            "matches": true
           },
           "label": "Alpha",
           "values": [
            6.5
           ]
          },
          {
           "axis": {
            "matches": true
           },
           "label": "Dipole",
           "values": [
            1.6
           ]
          },
          {
           "axis": {
            "matches": true
           },
           "label": "pi_bond",
           "values": [
            0
           ]
          },
          {
           "axis": {
            "matches": true
           },
           "label": "Expt",
           "values": [
            32
           ]
          }
         ],
         "hovertemplate": "Molecule=Diclorometano<br>%{xaxis.title.text}=%{x}<br>%{yaxis.title.text}=%{y}<extra></extra>",
         "legendgroup": "Diclorometano",
         "marker": {
          "color": "blue",
          "symbol": "circle"
         },
         "name": "Diclorometano",
         "showlegend": true,
         "type": "splom"
        },
        {
         "dimensions": [
          {
           "axis": {
            "matches": true
           },
           "label": "Ei",
           "values": [
            9.8
           ]
          },
          {
           "axis": {
            "matches": true
           },
           "label": "Alpha",
           "values": [
            11.5
           ]
          },
          {
           "axis": {
            "matches": true
           },
           "label": "Dipole",
           "values": [
            2.2
           ]
          },
          {
           "axis": {
            "matches": true
           },
           "label": "pi_bond",
           "values": [
            0
           ]
          },
          {
           "axis": {
            "matches": true
           },
           "label": "Expt",
           "values": [
            80
           ]
          }
         ],
         "hovertemplate": "Molecule=1-fl-hexano<br>%{xaxis.title.text}=%{x}<br>%{yaxis.title.text}=%{y}<extra></extra>",
         "legendgroup": "1-fl-hexano",
         "marker": {
          "color": "blue",
          "symbol": "circle"
         },
         "name": "1-fl-hexano",
         "showlegend": true,
         "type": "splom"
        },
        {
         "dimensions": [
          {
           "axis": {
            "matches": true
           },
           "label": "Ei",
           "values": [
            10
           ]
          },
          {
           "axis": {
            "matches": true
           },
           "label": "Alpha",
           "values": [
            8.77
           ]
          },
          {
           "axis": {
            "matches": true
           },
           "label": "Dipole",
           "values": [
            1.66
           ]
          },
          {
           "axis": {
            "matches": true
           },
           "label": "pi_bond",
           "values": [
            0
           ]
          },
          {
           "axis": {
            "matches": true
           },
           "label": "Expt",
           "values": [
            102
           ]
          }
         ],
         "hovertemplate": "Molecule=1-Butanol<br>%{xaxis.title.text}=%{x}<br>%{yaxis.title.text}=%{y}<extra></extra>",
         "legendgroup": "1-Butanol",
         "marker": {
          "color": "blue",
          "symbol": "circle"
         },
         "name": "1-Butanol",
         "showlegend": true,
         "type": "splom"
        },
        {
         "dimensions": [
          {
           "axis": {
            "matches": true
           },
           "label": "Ei",
           "values": [
            10.89
           ]
          },
          {
           "axis": {
            "matches": true
           },
           "label": "Alpha",
           "values": [
            10.08
           ]
          },
          {
           "axis": {
            "matches": true
           },
           "label": "Dipole",
           "values": [
            2.08
           ]
          },
          {
           "axis": {
            "matches": true
           },
           "label": "pi_bond",
           "values": [
            0
           ]
          },
          {
           "axis": {
            "matches": true
           },
           "label": "Expt",
           "values": [
            85
           ]
          }
         ],
         "hovertemplate": "Molecule=1,3-Dichloropropane<br>%{xaxis.title.text}=%{x}<br>%{yaxis.title.text}=%{y}<extra></extra>",
         "legendgroup": "1,3-Dichloropropane",
         "marker": {
          "color": "blue",
          "symbol": "circle"
         },
         "name": "1,3-Dichloropropane",
         "showlegend": true,
         "type": "splom"
        },
        {
         "dimensions": [
          {
           "axis": {
            "matches": true
           },
           "label": "Ei",
           "values": [
            10.8
           ]
          },
          {
           "axis": {
            "matches": true
           },
           "label": "Alpha",
           "values": [
            3.08
           ]
          },
          {
           "axis": {
            "matches": true
           },
           "label": "Dipole",
           "values": [
            1.69
           ]
          },
          {
           "axis": {
            "matches": true
           },
           "label": "pi_bond",
           "values": [
            0
           ]
          },
          {
           "axis": {
            "matches": true
           },
           "label": "Expt",
           "values": [
            20
           ]
          }
         ],
         "hovertemplate": "Molecule=Metanol<br>%{xaxis.title.text}=%{x}<br>%{yaxis.title.text}=%{y}<extra></extra>",
         "legendgroup": "Metanol",
         "marker": {
          "color": "blue",
          "symbol": "circle"
         },
         "name": "Metanol",
         "showlegend": true,
         "type": "splom"
        },
        {
         "dimensions": [
          {
           "axis": {
            "matches": true
           },
           "label": "Ei",
           "values": [
            10.2
           ]
          },
          {
           "axis": {
            "matches": true
           },
           "label": "Alpha",
           "values": [
            3.08
           ]
          },
          {
           "axis": {
            "matches": true
           },
           "label": "Dipole",
           "values": [
            1.69
           ]
          },
          {
           "axis": {
            "matches": true
           },
           "label": "pi_bond",
           "values": [
            0
           ]
          },
          {
           "axis": {
            "matches": true
           },
           "label": "Expt",
           "values": [
            70
           ]
          }
         ],
         "hovertemplate": "Molecule=1,2-Ethanediol<br>%{xaxis.title.text}=%{x}<br>%{yaxis.title.text}=%{y}<extra></extra>",
         "legendgroup": "1,2-Ethanediol",
         "marker": {
          "color": "blue",
          "symbol": "circle"
         },
         "name": "1,2-Ethanediol",
         "showlegend": true,
         "type": "splom"
        },
        {
         "dimensions": [
          {
           "axis": {
            "matches": true
           },
           "label": "Ei",
           "values": [
            8.2
           ]
          },
          {
           "axis": {
            "matches": true
           },
           "label": "Alpha",
           "values": [
            7.9
           ]
          },
          {
           "axis": {
            "matches": true
           },
           "label": "Dipole",
           "values": [
            1.77
           ]
          },
          {
           "axis": {
            "matches": true
           },
           "label": "pi_bond",
           "values": [
            2
           ]
          },
          {
           "axis": {
            "matches": true
           },
           "label": "Expt",
           "values": [
            165
           ]
          }
         ],
         "hovertemplate": "Molecule=Pyrrole<br>%{xaxis.title.text}=%{x}<br>%{yaxis.title.text}=%{y}<extra></extra>",
         "legendgroup": "Pyrrole",
         "marker": {
          "color": "blue",
          "symbol": "circle"
         },
         "name": "Pyrrole",
         "showlegend": true,
         "type": "splom"
        },
        {
         "dimensions": [
          {
           "axis": {
            "matches": true
           },
           "label": "Ei",
           "values": [
            10.5
           ]
          },
          {
           "axis": {
            "matches": true
           },
           "label": "Alpha",
           "values": [
            5.6
           ]
          },
          {
           "axis": {
            "matches": true
           },
           "label": "Dipole",
           "values": [
            1.8
           ]
          },
          {
           "axis": {
            "matches": true
           },
           "label": "pi_bond",
           "values": [
            0
           ]
          },
          {
           "axis": {
            "matches": true
           },
           "label": "Expt",
           "values": [
            40
           ]
          }
         ],
         "hovertemplate": "Molecule=MetilBromo<br>%{xaxis.title.text}=%{x}<br>%{yaxis.title.text}=%{y}<extra></extra>",
         "legendgroup": "MetilBromo",
         "marker": {
          "color": "blue",
          "symbol": "circle"
         },
         "name": "MetilBromo",
         "showlegend": true,
         "type": "splom"
        },
        {
         "dimensions": [
          {
           "axis": {
            "matches": true
           },
           "label": "Ei",
           "values": [
            10.8
           ]
          },
          {
           "axis": {
            "matches": true
           },
           "label": "Alpha",
           "values": [
            5.1
           ]
          },
          {
           "axis": {
            "matches": true
           },
           "label": "Dipole",
           "values": [
            1.8
           ]
          },
          {
           "axis": {
            "matches": true
           },
           "label": "pi_bond",
           "values": [
            1
           ]
          },
          {
           "axis": {
            "matches": true
           },
           "label": "Expt",
           "values": [
            65
           ]
          }
         ],
         "hovertemplate": "Molecule=Metyl Formate<br>%{xaxis.title.text}=%{x}<br>%{yaxis.title.text}=%{y}<extra></extra>",
         "legendgroup": "Metyl Formate",
         "marker": {
          "color": "blue",
          "symbol": "circle"
         },
         "name": "Metyl Formate",
         "showlegend": true,
         "type": "splom"
        },
        {
         "dimensions": [
          {
           "axis": {
            "matches": true
           },
           "label": "Ei",
           "values": [
            11.2
           ]
          },
          {
           "axis": {
            "matches": true
           },
           "label": "Alpha",
           "values": [
            5.4
           ]
          },
          {
           "axis": {
            "matches": true
           },
           "label": "Dipole",
           "values": [
            1.9
           ]
          },
          {
           "axis": {
            "matches": true
           },
           "label": "pi_bond",
           "values": [
            0
           ]
          },
          {
           "axis": {
            "matches": true
           },
           "label": "Expt",
           "values": [
            25
           ]
          }
         ],
         "hovertemplate": "Molecule=Methyl Chloride<br>%{xaxis.title.text}=%{x}<br>%{yaxis.title.text}=%{y}<extra></extra>",
         "legendgroup": "Methyl Chloride",
         "marker": {
          "color": "blue",
          "symbol": "circle"
         },
         "name": "Methyl Chloride",
         "showlegend": true,
         "type": "splom"
        },
        {
         "dimensions": [
          {
           "axis": {
            "matches": true
           },
           "label": "Ei",
           "values": [
            9.7
           ]
          },
          {
           "axis": {
            "matches": true
           },
           "label": "Alpha",
           "values": [
            8
           ]
          },
          {
           "axis": {
            "matches": true
           },
           "label": "Dipole",
           "values": [
            1.9
           ]
          },
          {
           "axis": {
            "matches": true
           },
           "label": "pi_bond",
           "values": [
            1
           ]
          },
          {
           "axis": {
            "matches": true
           },
           "label": "Expt",
           "values": [
            66
           ]
          }
         ],
         "hovertemplate": "Molecule=1,2-cis-dicloroetileno<br>%{xaxis.title.text}=%{x}<br>%{yaxis.title.text}=%{y}<extra></extra>",
         "legendgroup": "1,2-cis-dicloroetileno",
         "marker": {
          "color": "blue",
          "symbol": "circle"
         },
         "name": "1,2-cis-dicloroetileno",
         "showlegend": true,
         "type": "splom"
        },
        {
         "dimensions": [
          {
           "axis": {
            "matches": true
           },
           "label": "Ei",
           "values": [
            10.61
           ]
          },
          {
           "axis": {
            "matches": true
           },
           "label": "Alpha",
           "values": [
            7.02
           ]
          },
          {
           "axis": {
            "matches": true
           },
           "label": "Dipole",
           "values": [
            1.93
           ]
          },
          {
           "axis": {
            "matches": true
           },
           "label": "pi_bond",
           "values": [
            1
           ]
          },
          {
           "axis": {
            "matches": true
           },
           "label": "Expt",
           "values": [
            95
           ]
          }
         ],
         "hovertemplate": "Molecule=Etilformato<br>%{xaxis.title.text}=%{x}<br>%{yaxis.title.text}=%{y}<extra></extra>",
         "legendgroup": "Etilformato",
         "marker": {
          "color": "blue",
          "symbol": "circle"
         },
         "name": "Etilformato",
         "showlegend": true,
         "type": "splom"
        },
        {
         "dimensions": [
          {
           "axis": {
            "matches": true
           },
           "label": "Ei",
           "values": [
            11.3
           ]
          },
          {
           "axis": {
            "matches": true
           },
           "label": "Alpha",
           "values": [
            6
           ]
          },
          {
           "axis": {
            "matches": true
           },
           "label": "Dipole",
           "values": [
            2
           ]
          },
          {
           "axis": {
            "matches": true
           },
           "label": "pi_bond",
           "values": [
            0
           ]
          },
          {
           "axis": {
            "matches": true
           },
           "label": "Expt",
           "values": [
            35
           ]
          }
         ],
         "hovertemplate": "Molecule=1-fl-propano<br>%{xaxis.title.text}=%{x}<br>%{yaxis.title.text}=%{y}<extra></extra>",
         "legendgroup": "1-fl-propano",
         "marker": {
          "color": "blue",
          "symbol": "circle"
         },
         "name": "1-fl-propano",
         "showlegend": true,
         "type": "splom"
        },
        {
         "dimensions": [
          {
           "axis": {
            "matches": true
           },
           "label": "Ei",
           "values": [
            10.25
           ]
          },
          {
           "axis": {
            "matches": true
           },
           "label": "Alpha",
           "values": [
            6.96
           ]
          },
          {
           "axis": {
            "matches": true
           },
           "label": "Dipole",
           "values": [
            2
           ]
          },
          {
           "axis": {
            "matches": true
           },
           "label": "pi_bond",
           "values": [
            1
           ]
          },
          {
           "axis": {
            "matches": true
           },
           "label": "Expt",
           "values": [
            120
           ]
          }
         ],
         "hovertemplate": "Molecule=Metilacetato<br>%{xaxis.title.text}=%{x}<br>%{yaxis.title.text}=%{y}<extra></extra>",
         "legendgroup": "Metilacetato",
         "marker": {
          "color": "blue",
          "symbol": "circle"
         },
         "name": "Metilacetato",
         "showlegend": true,
         "type": "splom"
        },
        {
         "dimensions": [
          {
           "axis": {
            "matches": true
           },
           "label": "Ei",
           "values": [
            10.52
           ]
          },
          {
           "axis": {
            "matches": true
           },
           "label": "Alpha",
           "values": [
            8.85
           ]
          },
          {
           "axis": {
            "matches": true
           },
           "label": "Dipole",
           "values": [
            2.4
           ]
          },
          {
           "axis": {
            "matches": true
           },
           "label": "pi_bond",
           "values": [
            1
           ]
          },
          {
           "axis": {
            "matches": true
           },
           "label": "Expt",
           "values": [
            130
           ]
          }
         ],
         "hovertemplate": "Molecule=Propilformato<br>%{xaxis.title.text}=%{x}<br>%{yaxis.title.text}=%{y}<extra></extra>",
         "legendgroup": "Propilformato",
         "marker": {
          "color": "blue",
          "symbol": "circle"
         },
         "name": "Propilformato",
         "showlegend": true,
         "type": "splom"
        },
        {
         "dimensions": [
          {
           "axis": {
            "matches": true
           },
           "label": "Ei",
           "values": [
            8.3
           ]
          },
          {
           "axis": {
            "matches": true
           },
           "label": "Alpha",
           "values": [
            10.6
           ]
          },
          {
           "axis": {
            "matches": true
           },
           "label": "Dipole",
           "values": [
            0.44
           ]
          },
          {
           "axis": {
            "matches": true
           },
           "label": "pi_bond",
           "values": [
            2
           ]
          },
          {
           "axis": {
            "matches": true
           },
           "label": "Expt",
           "values": [
            132
           ]
          }
         ],
         "hovertemplate": "Molecule=1,3-Ciclohexadieno<br>%{xaxis.title.text}=%{x}<br>%{yaxis.title.text}=%{y}<extra></extra>",
         "legendgroup": "1,3-Ciclohexadieno",
         "marker": {
          "color": "blue",
          "symbol": "circle"
         },
         "name": "1,3-Ciclohexadieno",
         "showlegend": true,
         "type": "splom"
        },
        {
         "dimensions": [
          {
           "axis": {
            "matches": true
           },
           "label": "Ei",
           "values": [
            9.6
           ]
          },
          {
           "axis": {
            "matches": true
           },
           "label": "Alpha",
           "values": [
            17
           ]
          },
          {
           "axis": {
            "matches": true
           },
           "label": "Dipole",
           "values": [
            2.2
           ]
          },
          {
           "axis": {
            "matches": true
           },
           "label": "pi_bond",
           "values": [
            0
           ]
          },
          {
           "axis": {
            "matches": true
           },
           "label": "Expt",
           "values": [
            145
           ]
          }
         ],
         "hovertemplate": "Molecule=1-fl-nonano<br>%{xaxis.title.text}=%{x}<br>%{yaxis.title.text}=%{y}<extra></extra>",
         "legendgroup": "1-fl-nonano",
         "marker": {
          "color": "blue",
          "symbol": "circle"
         },
         "name": "1-fl-nonano",
         "showlegend": true,
         "type": "splom"
        },
        {
         "dimensions": [
          {
           "axis": {
            "matches": true
           },
           "label": "Ei",
           "values": [
            10.81
           ]
          },
          {
           "axis": {
            "matches": true
           },
           "label": "Alpha",
           "values": [
            8.24
           ]
          },
          {
           "axis": {
            "matches": true
           },
           "label": "Dipole",
           "values": [
            2.05
           ]
          },
          {
           "axis": {
            "matches": true
           },
           "label": "pi_bond",
           "values": [
            0
           ]
          },
          {
           "axis": {
            "matches": true
           },
           "label": "Expt",
           "values": [
            97
           ]
          }
         ],
         "hovertemplate": "Molecule=n-Propylchloride/1-chloropropane<br>%{xaxis.title.text}=%{x}<br>%{yaxis.title.text}=%{y}<extra></extra>",
         "legendgroup": "n-Propylchloride/1-chloropropane",
         "marker": {
          "color": "blue",
          "symbol": "circle"
         },
         "name": "n-Propylchloride/1-chloropropane",
         "showlegend": true,
         "type": "splom"
        },
        {
         "dimensions": [
          {
           "axis": {
            "matches": true
           },
           "label": "Ei",
           "values": [
            10.01
           ]
          },
          {
           "axis": {
            "matches": true
           },
           "label": "Alpha",
           "values": [
            8.8
           ]
          },
          {
           "axis": {
            "matches": true
           },
           "label": "Dipole",
           "values": [
            2.13
           ]
          },
          {
           "axis": {
            "matches": true
           },
           "label": "pi_bond",
           "values": [
            1
           ]
          },
          {
           "axis": {
            "matches": true
           },
           "label": "Expt",
           "values": [
            190
           ]
          }
         ],
         "hovertemplate": "Molecule=Etilacetato<br>%{xaxis.title.text}=%{x}<br>%{yaxis.title.text}=%{y}<extra></extra>",
         "legendgroup": "Etilacetato",
         "marker": {
          "color": "blue",
          "symbol": "circle"
         },
         "name": "Etilacetato",
         "showlegend": true,
         "type": "splom"
        },
        {
         "dimensions": [
          {
           "axis": {
            "matches": true
           },
           "label": "Ei",
           "values": [
            10.79
           ]
          },
          {
           "axis": {
            "matches": true
           },
           "label": "Alpha",
           "values": [
            8.36
           ]
          },
          {
           "axis": {
            "matches": true
           },
           "label": "Dipole",
           "values": [
            2.17
           ]
          },
          {
           "axis": {
            "matches": true
           },
           "label": "pi_bond",
           "values": [
            0
           ]
          },
          {
           "axis": {
            "matches": true
           },
           "label": "Expt",
           "values": [
            113
           ]
          }
         ],
         "hovertemplate": "Molecule=Isopropylcloride<br>%{xaxis.title.text}=%{x}<br>%{yaxis.title.text}=%{y}<extra></extra>",
         "legendgroup": "Isopropylcloride",
         "marker": {
          "color": "blue",
          "symbol": "circle"
         },
         "name": "Isopropylcloride",
         "showlegend": true,
         "type": "splom"
        },
        {
         "dimensions": [
          {
           "axis": {
            "matches": true
           },
           "label": "Ei",
           "values": [
            9.26
           ]
          },
          {
           "axis": {
            "matches": true
           },
           "label": "Alpha",
           "values": [
            9.5
           ]
          },
          {
           "axis": {
            "matches": true
           },
           "label": "Dipole",
           "values": [
            2.19
           ]
          },
          {
           "axis": {
            "matches": true
           },
           "label": "pi_bond",
           "values": [
            3
           ]
          },
          {
           "axis": {
            "matches": true
           },
           "label": "Expt",
           "values": [
            186
           ]
          }
         ],
         "hovertemplate": "Molecule=Pyridine<br>%{xaxis.title.text}=%{x}<br>%{yaxis.title.text}=%{y}<extra></extra>",
         "legendgroup": "Pyridine",
         "marker": {
          "color": "blue",
          "symbol": "circle"
         },
         "name": "Pyridine",
         "showlegend": true,
         "type": "splom"
        },
        {
         "dimensions": [
          {
           "axis": {
            "matches": true
           },
           "label": "Ei",
           "values": [
            10.3
           ]
          },
          {
           "axis": {
            "matches": true
           },
           "label": "Alpha",
           "values": [
            13.6
           ]
          },
          {
           "axis": {
            "matches": true
           },
           "label": "Dipole",
           "values": [
            2
           ]
          },
          {
           "axis": {
            "matches": true
           },
           "label": "pi_bond",
           "values": [
            0
           ]
          },
          {
           "axis": {
            "matches": true
           },
           "label": "Expt",
           "values": [
            175
           ]
          }
         ],
         "hovertemplate": "Molecule=1-cl.hexano<br>%{xaxis.title.text}=%{x}<br>%{yaxis.title.text}=%{y}<extra></extra>",
         "legendgroup": "1-cl.hexano",
         "marker": {
          "color": "blue",
          "symbol": "circle"
         },
         "name": "1-cl.hexano",
         "showlegend": true,
         "type": "splom"
        },
        {
         "dimensions": [
          {
           "axis": {
            "matches": true
           },
           "label": "Ei",
           "values": [
            9.84
           ]
          },
          {
           "axis": {
            "matches": true
           },
           "label": "Alpha",
           "values": [
            8.28
           ]
          },
          {
           "axis": {
            "matches": true
           },
           "label": "Dipole",
           "values": [
            2.72
           ]
          },
          {
           "axis": {
            "matches": true
           },
           "label": "pi_bond",
           "values": [
            1
           ]
          },
          {
           "axis": {
            "matches": true
           },
           "label": "Expt",
           "values": [
            150
           ]
          }
         ],
         "hovertemplate": "Molecule=Butanal<br>%{xaxis.title.text}=%{x}<br>%{yaxis.title.text}=%{y}<extra></extra>",
         "legendgroup": "Butanal",
         "marker": {
          "color": "blue",
          "symbol": "circle"
         },
         "name": "Butanal",
         "showlegend": true,
         "type": "splom"
        },
        {
         "dimensions": [
          {
           "axis": {
            "matches": true
           },
           "label": "Ei",
           "values": [
            9.52
           ]
          },
          {
           "axis": {
            "matches": true
           },
           "label": "Alpha",
           "values": [
            8.21
           ]
          },
          {
           "axis": {
            "matches": true
           },
           "label": "Dipole",
           "values": [
            2.78
           ]
          },
          {
           "axis": {
            "matches": true
           },
           "label": "pi_bond",
           "values": [
            1
           ]
          },
          {
           "axis": {
            "matches": true
           },
           "label": "Expt",
           "values": [
            205
           ]
          }
         ],
         "hovertemplate": "Molecule=2-Butanona<br>%{xaxis.title.text}=%{x}<br>%{yaxis.title.text}=%{y}<extra></extra>",
         "legendgroup": "2-Butanona",
         "marker": {
          "color": "blue",
          "symbol": "circle"
         },
         "name": "2-Butanona",
         "showlegend": true,
         "type": "splom"
        },
        {
         "dimensions": [
          {
           "axis": {
            "matches": true
           },
           "label": "Ei",
           "values": [
            8.29
           ]
          },
          {
           "axis": {
            "matches": true
           },
           "label": "Alpha",
           "values": [
            12.6
           ]
          },
          {
           "axis": {
            "matches": true
           },
           "label": "Dipole",
           "values": [
            0.25
           ]
          },
          {
           "axis": {
            "matches": true
           },
           "label": "pi_bond",
           "values": [
            3
           ]
          },
          {
           "axis": {
            "matches": true
           },
           "label": "Expt",
           "values": [
            190
           ]
          }
         ],
         "hovertemplate": "Molecule=Cycloheptatriene<br>%{xaxis.title.text}=%{x}<br>%{yaxis.title.text}=%{y}<extra></extra>",
         "legendgroup": "Cycloheptatriene",
         "marker": {
          "color": "blue",
          "symbol": "circle"
         },
         "name": "Cycloheptatriene",
         "showlegend": true,
         "type": "splom"
        },
        {
         "dimensions": [
          {
           "axis": {
            "matches": true
           },
           "label": "Ei",
           "values": [
            10.2
           ]
          },
          {
           "axis": {
            "matches": true
           },
           "label": "Alpha",
           "values": [
            4.6
           ]
          },
          {
           "axis": {
            "matches": true
           },
           "label": "Dipole",
           "values": [
            2.8
           ]
          },
          {
           "axis": {
            "matches": true
           },
           "label": "pi_bond",
           "values": [
            1
           ]
          },
          {
           "axis": {
            "matches": true
           },
           "label": "Expt",
           "values": [
            88
           ]
          }
         ],
         "hovertemplate": "Molecule=Acetaldeído<br>%{xaxis.title.text}=%{x}<br>%{yaxis.title.text}=%{y}<extra></extra>",
         "legendgroup": "Acetaldeído",
         "marker": {
          "color": "blue",
          "symbol": "circle"
         },
         "name": "Acetaldeído",
         "showlegend": true,
         "type": "splom"
        },
        {
         "dimensions": [
          {
           "axis": {
            "matches": true
           },
           "label": "Ei",
           "values": [
            10
           ]
          },
          {
           "axis": {
            "matches": true
           },
           "label": "Alpha",
           "values": [
            6.2
           ]
          },
          {
           "axis": {
            "matches": true
           },
           "label": "Dipole",
           "values": [
            2.8
           ]
          },
          {
           "axis": {
            "matches": true
           },
           "label": "pi_bond",
           "values": [
            1
           ]
          },
          {
           "axis": {
            "matches": true
           },
           "label": "Expt",
           "values": [
            115
           ]
          }
         ],
         "hovertemplate": "Molecule=Propanal<br>%{xaxis.title.text}=%{x}<br>%{yaxis.title.text}=%{y}<extra></extra>",
         "legendgroup": "Propanal",
         "marker": {
          "color": "blue",
          "symbol": "circle"
         },
         "name": "Propanal",
         "showlegend": true,
         "type": "splom"
        },
        {
         "dimensions": [
          {
           "axis": {
            "matches": true
           },
           "label": "Ei",
           "values": [
            9.7
           ]
          },
          {
           "axis": {
            "matches": true
           },
           "label": "Alpha",
           "values": [
            6.41
           ]
          },
          {
           "axis": {
            "matches": true
           },
           "label": "Dipole",
           "values": [
            2.88
           ]
          },
          {
           "axis": {
            "matches": true
           },
           "label": "pi_bond",
           "values": [
            1
           ]
          },
          {
           "axis": {
            "matches": true
           },
           "label": "Expt",
           "values": [
            170
           ]
          }
         ],
         "hovertemplate": "Molecule=Acetona<br>%{xaxis.title.text}=%{x}<br>%{yaxis.title.text}=%{y}<extra></extra>",
         "legendgroup": "Acetona",
         "marker": {
          "color": "blue",
          "symbol": "circle"
         },
         "name": "Acetona",
         "showlegend": true,
         "type": "splom"
        },
        {
         "dimensions": [
          {
           "axis": {
            "matches": true
           },
           "label": "Ei",
           "values": [
            9.28
           ]
          },
          {
           "axis": {
            "matches": true
           },
           "label": "Alpha",
           "values": [
            14.4
           ]
          },
          {
           "axis": {
            "matches": true
           },
           "label": "Dipole",
           "values": [
            3.02
           ]
          },
          {
           "axis": {
            "matches": true
           },
           "label": "pi_bond",
           "values": [
            4
           ]
          },
          {
           "axis": {
            "matches": true
           },
           "label": "Expt",
           "values": [
            288
           ]
          }
         ],
         "hovertemplate": "Molecule=Acetophenone<br>%{xaxis.title.text}=%{x}<br>%{yaxis.title.text}=%{y}<extra></extra>",
         "legendgroup": "Acetophenone",
         "marker": {
          "color": "blue",
          "symbol": "circle"
         },
         "name": "Acetophenone",
         "showlegend": true,
         "type": "splom"
        },
        {
         "dimensions": [
          {
           "axis": {
            "matches": true
           },
           "label": "Ei",
           "values": [
            9.5
           ]
          },
          {
           "axis": {
            "matches": true
           },
           "label": "Alpha",
           "values": [
            12.8
           ]
          },
          {
           "axis": {
            "matches": true
           },
           "label": "Dipole",
           "values": [
            3.14
           ]
          },
          {
           "axis": {
            "matches": true
           },
           "label": "pi_bond",
           "values": [
            4
           ]
          },
          {
           "axis": {
            "matches": true
           },
           "label": "Expt",
           "values": [
            220
           ]
          }
         ],
         "hovertemplate": "Molecule=Benzaldehyde<br>%{xaxis.title.text}=%{x}<br>%{yaxis.title.text}=%{y}<extra></extra>",
         "legendgroup": "Benzaldehyde",
         "marker": {
          "color": "blue",
          "symbol": "circle"
         },
         "name": "Benzaldehyde",
         "showlegend": true,
         "type": "splom"
        },
        {
         "dimensions": [
          {
           "axis": {
            "matches": true
           },
           "label": "Ei",
           "values": [
            9.3
           ]
          },
          {
           "axis": {
            "matches": true
           },
           "label": "Alpha",
           "values": [
            9
           ]
          },
          {
           "axis": {
            "matches": true
           },
           "label": "Dipole",
           "values": [
            3.3
           ]
          },
          {
           "axis": {
            "matches": true
           },
           "label": "pi_bond",
           "values": [
            1
           ]
          },
          {
           "axis": {
            "matches": true
           },
           "label": "Expt",
           "values": [
            230
           ]
          }
         ],
         "hovertemplate": "Molecule=Ciclopentanona<br>%{xaxis.title.text}=%{x}<br>%{yaxis.title.text}=%{y}<extra></extra>",
         "legendgroup": "Ciclopentanona",
         "marker": {
          "color": "blue",
          "symbol": "circle"
         },
         "name": "Ciclopentanona",
         "showlegend": true,
         "type": "splom"
        },
        {
         "dimensions": [
          {
           "axis": {
            "matches": true
           },
           "label": "Ei",
           "values": [
            12.2
           ]
          },
          {
           "axis": {
            "matches": true
           },
           "label": "Alpha",
           "values": [
            4.4
           ]
          },
          {
           "axis": {
            "matches": true
           },
           "label": "Dipole",
           "values": [
            3.9
           ]
          },
          {
           "axis": {
            "matches": true
           },
           "label": "pi_bond",
           "values": [
            2
           ]
          },
          {
           "axis": {
            "matches": true
           },
           "label": "Expt",
           "values": [
            180
           ]
          }
         ],
         "hovertemplate": "Molecule=Acetonitrila<br>%{xaxis.title.text}=%{x}<br>%{yaxis.title.text}=%{y}<extra></extra>",
         "legendgroup": "Acetonitrila",
         "marker": {
          "color": "blue",
          "symbol": "circle"
         },
         "name": "Acetonitrila",
         "showlegend": true,
         "type": "splom"
        },
        {
         "dimensions": [
          {
           "axis": {
            "matches": true
           },
           "label": "Ei",
           "values": [
            11.8
           ]
          },
          {
           "axis": {
            "matches": true
           },
           "label": "Alpha",
           "values": [
            6.3
           ]
          },
          {
           "axis": {
            "matches": true
           },
           "label": "Dipole",
           "values": [
            4.1
           ]
          },
          {
           "axis": {
            "matches": true
           },
           "label": "pi_bond",
           "values": [
            2
           ]
          },
          {
           "axis": {
            "matches": true
           },
           "label": "Expt",
           "values": [
            245
           ]
          }
         ],
         "hovertemplate": "Molecule=Propionitrila<br>%{xaxis.title.text}=%{x}<br>%{yaxis.title.text}=%{y}<extra></extra>",
         "legendgroup": "Propionitrila",
         "marker": {
          "color": "blue",
          "symbol": "circle"
         },
         "name": "Propionitrila",
         "showlegend": true,
         "type": "splom"
        },
        {
         "dimensions": [
          {
           "axis": {
            "matches": true
           },
           "label": "Ei",
           "values": [
            8.74
           ]
          },
          {
           "axis": {
            "matches": true
           },
           "label": "Alpha",
           "values": [
            9.27
           ]
          },
          {
           "axis": {
            "matches": true
           },
           "label": "Dipole",
           "values": [
            4.22
           ]
          },
          {
           "axis": {
            "matches": true
           },
           "label": "pi_bond",
           "values": [
            3
           ]
          },
          {
           "axis": {
            "matches": true
           },
           "label": "Expt",
           "values": [
            330
           ]
          }
         ],
         "hovertemplate": "Molecule=Pyridazine<br>%{xaxis.title.text}=%{x}<br>%{yaxis.title.text}=%{y}<extra></extra>",
         "legendgroup": "Pyridazine",
         "marker": {
          "color": "blue",
          "symbol": "circle"
         },
         "name": "Pyridazine",
         "showlegend": true,
         "type": "splom"
        },
        {
         "dimensions": [
          {
           "axis": {
            "matches": true
           },
           "label": "Ei",
           "values": [
            11.3
           ]
          },
          {
           "axis": {
            "matches": true
           },
           "label": "Alpha",
           "values": [
            8.1
           ]
          },
          {
           "axis": {
            "matches": true
           },
           "label": "Dipole",
           "values": [
            4.3
           ]
          },
          {
           "axis": {
            "matches": true
           },
           "label": "pi_bond",
           "values": [
            2
           ]
          },
          {
           "axis": {
            "matches": true
           },
           "label": "Expt",
           "values": [
            274
           ]
          }
         ],
         "hovertemplate": "Molecule=2-Metilpropionitrila<br>%{xaxis.title.text}=%{x}<br>%{yaxis.title.text}=%{y}<extra></extra>",
         "legendgroup": "2-Metilpropionitrila",
         "marker": {
          "color": "blue",
          "symbol": "circle"
         },
         "name": "2-Metilpropionitrila",
         "showlegend": true,
         "type": "splom"
        },
        {
         "dimensions": [
          {
           "axis": {
            "matches": true
           },
           "label": "Ei",
           "values": [
            9.73
           ]
          },
          {
           "axis": {
            "matches": true
           },
           "label": "Alpha",
           "values": [
            12.5
           ]
          },
          {
           "axis": {
            "matches": true
           },
           "label": "Dipole",
           "values": [
            4.52
           ]
          },
          {
           "axis": {
            "matches": true
           },
           "label": "pi_bond",
           "values": [
            5
           ]
          },
          {
           "axis": {
            "matches": true
           },
           "label": "Expt",
           "values": [
            298
           ]
          }
         ],
         "hovertemplate": "Molecule=Benzonitrile<br>%{xaxis.title.text}=%{x}<br>%{yaxis.title.text}=%{y}<extra></extra>",
         "legendgroup": "Benzonitrile",
         "marker": {
          "color": "blue",
          "symbol": "circle"
         },
         "name": "Benzonitrile",
         "showlegend": true,
         "type": "splom"
        }
       ],
       "layout": {
        "dragmode": "select",
        "legend": {
         "title": {
          "text": "Molecule"
         },
         "tracegroupgap": 0
        },
        "margin": {
         "t": 60
        },
        "template": {
         "data": {
          "bar": [
           {
            "error_x": {
             "color": "#2a3f5f"
            },
            "error_y": {
             "color": "#2a3f5f"
            },
            "marker": {
             "line": {
              "color": "#E5ECF6",
              "width": 0.5
             },
             "pattern": {
              "fillmode": "overlay",
              "size": 10,
              "solidity": 0.2
             }
            },
            "type": "bar"
           }
          ],
          "barpolar": [
           {
            "marker": {
             "line": {
              "color": "#E5ECF6",
              "width": 0.5
             },
             "pattern": {
              "fillmode": "overlay",
              "size": 10,
              "solidity": 0.2
             }
            },
            "type": "barpolar"
           }
          ],
          "carpet": [
           {
            "aaxis": {
             "endlinecolor": "#2a3f5f",
             "gridcolor": "white",
             "linecolor": "white",
             "minorgridcolor": "white",
             "startlinecolor": "#2a3f5f"
            },
            "baxis": {
             "endlinecolor": "#2a3f5f",
             "gridcolor": "white",
             "linecolor": "white",
             "minorgridcolor": "white",
             "startlinecolor": "#2a3f5f"
            },
            "type": "carpet"
           }
          ],
          "choropleth": [
           {
            "colorbar": {
             "outlinewidth": 0,
             "ticks": ""
            },
            "type": "choropleth"
           }
          ],
          "contour": [
           {
            "colorbar": {
             "outlinewidth": 0,
             "ticks": ""
            },
            "colorscale": [
             [
              0,
              "#0d0887"
             ],
             [
              0.1111111111111111,
              "#46039f"
             ],
             [
              0.2222222222222222,
              "#7201a8"
             ],
             [
              0.3333333333333333,
              "#9c179e"
             ],
             [
              0.4444444444444444,
              "#bd3786"
             ],
             [
              0.5555555555555556,
              "#d8576b"
             ],
             [
              0.6666666666666666,
              "#ed7953"
             ],
             [
              0.7777777777777778,
              "#fb9f3a"
             ],
             [
              0.8888888888888888,
              "#fdca26"
             ],
             [
              1,
              "#f0f921"
             ]
            ],
            "type": "contour"
           }
          ],
          "contourcarpet": [
           {
            "colorbar": {
             "outlinewidth": 0,
             "ticks": ""
            },
            "type": "contourcarpet"
           }
          ],
          "heatmap": [
           {
            "colorbar": {
             "outlinewidth": 0,
             "ticks": ""
            },
            "colorscale": [
             [
              0,
              "#0d0887"
             ],
             [
              0.1111111111111111,
              "#46039f"
             ],
             [
              0.2222222222222222,
              "#7201a8"
             ],
             [
              0.3333333333333333,
              "#9c179e"
             ],
             [
              0.4444444444444444,
              "#bd3786"
             ],
             [
              0.5555555555555556,
              "#d8576b"
             ],
             [
              0.6666666666666666,
              "#ed7953"
             ],
             [
              0.7777777777777778,
              "#fb9f3a"
             ],
             [
              0.8888888888888888,
              "#fdca26"
             ],
             [
              1,
              "#f0f921"
             ]
            ],
            "type": "heatmap"
           }
          ],
          "heatmapgl": [
           {
            "colorbar": {
             "outlinewidth": 0,
             "ticks": ""
            },
            "colorscale": [
             [
              0,
              "#0d0887"
             ],
             [
              0.1111111111111111,
              "#46039f"
             ],
             [
              0.2222222222222222,
              "#7201a8"
             ],
             [
              0.3333333333333333,
              "#9c179e"
             ],
             [
              0.4444444444444444,
              "#bd3786"
             ],
             [
              0.5555555555555556,
              "#d8576b"
             ],
             [
              0.6666666666666666,
              "#ed7953"
             ],
             [
              0.7777777777777778,
              "#fb9f3a"
             ],
             [
              0.8888888888888888,
              "#fdca26"
             ],
             [
              1,
              "#f0f921"
             ]
            ],
            "type": "heatmapgl"
           }
          ],
          "histogram": [
           {
            "marker": {
             "pattern": {
              "fillmode": "overlay",
              "size": 10,
              "solidity": 0.2
             }
            },
            "type": "histogram"
           }
          ],
          "histogram2d": [
           {
            "colorbar": {
             "outlinewidth": 0,
             "ticks": ""
            },
            "colorscale": [
             [
              0,
              "#0d0887"
             ],
             [
              0.1111111111111111,
              "#46039f"
             ],
             [
              0.2222222222222222,
              "#7201a8"
             ],
             [
              0.3333333333333333,
              "#9c179e"
             ],
             [
              0.4444444444444444,
              "#bd3786"
             ],
             [
              0.5555555555555556,
              "#d8576b"
             ],
             [
              0.6666666666666666,
              "#ed7953"
             ],
             [
              0.7777777777777778,
              "#fb9f3a"
             ],
             [
              0.8888888888888888,
              "#fdca26"
             ],
             [
              1,
              "#f0f921"
             ]
            ],
            "type": "histogram2d"
           }
          ],
          "histogram2dcontour": [
           {
            "colorbar": {
             "outlinewidth": 0,
             "ticks": ""
            },
            "colorscale": [
             [
              0,
              "#0d0887"
             ],
             [
              0.1111111111111111,
              "#46039f"
             ],
             [
              0.2222222222222222,
              "#7201a8"
             ],
             [
              0.3333333333333333,
              "#9c179e"
             ],
             [
              0.4444444444444444,
              "#bd3786"
             ],
             [
              0.5555555555555556,
              "#d8576b"
             ],
             [
              0.6666666666666666,
              "#ed7953"
             ],
             [
              0.7777777777777778,
              "#fb9f3a"
             ],
             [
              0.8888888888888888,
              "#fdca26"
             ],
             [
              1,
              "#f0f921"
             ]
            ],
            "type": "histogram2dcontour"
           }
          ],
          "mesh3d": [
           {
            "colorbar": {
             "outlinewidth": 0,
             "ticks": ""
            },
            "type": "mesh3d"
           }
          ],
          "parcoords": [
           {
            "line": {
             "colorbar": {
              "outlinewidth": 0,
              "ticks": ""
             }
            },
            "type": "parcoords"
           }
          ],
          "pie": [
           {
            "automargin": true,
            "type": "pie"
           }
          ],
          "scatter": [
           {
            "fillpattern": {
             "fillmode": "overlay",
             "size": 10,
             "solidity": 0.2
            },
            "type": "scatter"
           }
          ],
          "scatter3d": [
           {
            "line": {
             "colorbar": {
              "outlinewidth": 0,
              "ticks": ""
             }
            },
            "marker": {
             "colorbar": {
              "outlinewidth": 0,
              "ticks": ""
             }
            },
            "type": "scatter3d"
           }
          ],
          "scattercarpet": [
           {
            "marker": {
             "colorbar": {
              "outlinewidth": 0,
              "ticks": ""
             }
            },
            "type": "scattercarpet"
           }
          ],
          "scattergeo": [
           {
            "marker": {
             "colorbar": {
              "outlinewidth": 0,
              "ticks": ""
             }
            },
            "type": "scattergeo"
           }
          ],
          "scattergl": [
           {
            "marker": {
             "colorbar": {
              "outlinewidth": 0,
              "ticks": ""
             }
            },
            "type": "scattergl"
           }
          ],
          "scattermapbox": [
           {
            "marker": {
             "colorbar": {
              "outlinewidth": 0,
              "ticks": ""
             }
            },
            "type": "scattermapbox"
           }
          ],
          "scatterpolar": [
           {
            "marker": {
             "colorbar": {
              "outlinewidth": 0,
              "ticks": ""
             }
            },
            "type": "scatterpolar"
           }
          ],
          "scatterpolargl": [
           {
            "marker": {
             "colorbar": {
              "outlinewidth": 0,
              "ticks": ""
             }
            },
            "type": "scatterpolargl"
           }
          ],
          "scatterternary": [
           {
            "marker": {
             "colorbar": {
              "outlinewidth": 0,
              "ticks": ""
             }
            },
            "type": "scatterternary"
           }
          ],
          "surface": [
           {
            "colorbar": {
             "outlinewidth": 0,
             "ticks": ""
            },
            "colorscale": [
             [
              0,
              "#0d0887"
             ],
             [
              0.1111111111111111,
              "#46039f"
             ],
             [
              0.2222222222222222,
              "#7201a8"
             ],
             [
              0.3333333333333333,
              "#9c179e"
             ],
             [
              0.4444444444444444,
              "#bd3786"
             ],
             [
              0.5555555555555556,
              "#d8576b"
             ],
             [
              0.6666666666666666,
              "#ed7953"
             ],
             [
              0.7777777777777778,
              "#fb9f3a"
             ],
             [
              0.8888888888888888,
              "#fdca26"
             ],
             [
              1,
              "#f0f921"
             ]
            ],
            "type": "surface"
           }
          ],
          "table": [
           {
            "cells": {
             "fill": {
              "color": "#EBF0F8"
             },
             "line": {
              "color": "white"
             }
            },
            "header": {
             "fill": {
              "color": "#C8D4E3"
             },
             "line": {
              "color": "white"
             }
            },
            "type": "table"
           }
          ]
         },
         "layout": {
          "annotationdefaults": {
           "arrowcolor": "#2a3f5f",
           "arrowhead": 0,
           "arrowwidth": 1
          },
          "autotypenumbers": "strict",
          "coloraxis": {
           "colorbar": {
            "outlinewidth": 0,
            "ticks": ""
           }
          },
          "colorscale": {
           "diverging": [
            [
             0,
             "#8e0152"
            ],
            [
             0.1,
             "#c51b7d"
            ],
            [
             0.2,
             "#de77ae"
            ],
            [
             0.3,
             "#f1b6da"
            ],
            [
             0.4,
             "#fde0ef"
            ],
            [
             0.5,
             "#f7f7f7"
            ],
            [
             0.6,
             "#e6f5d0"
            ],
            [
             0.7,
             "#b8e186"
            ],
            [
             0.8,
             "#7fbc41"
            ],
            [
             0.9,
             "#4d9221"
            ],
            [
             1,
             "#276419"
            ]
           ],
           "sequential": [
            [
             0,
             "#0d0887"
            ],
            [
             0.1111111111111111,
             "#46039f"
            ],
            [
             0.2222222222222222,
             "#7201a8"
            ],
            [
             0.3333333333333333,
             "#9c179e"
            ],
            [
             0.4444444444444444,
             "#bd3786"
            ],
            [
             0.5555555555555556,
             "#d8576b"
            ],
            [
             0.6666666666666666,
             "#ed7953"
            ],
            [
             0.7777777777777778,
             "#fb9f3a"
            ],
            [
             0.8888888888888888,
             "#fdca26"
            ],
            [
             1,
             "#f0f921"
            ]
           ],
           "sequentialminus": [
            [
             0,
             "#0d0887"
            ],
            [
             0.1111111111111111,
             "#46039f"
            ],
            [
             0.2222222222222222,
             "#7201a8"
            ],
            [
             0.3333333333333333,
             "#9c179e"
            ],
            [
             0.4444444444444444,
             "#bd3786"
            ],
            [
             0.5555555555555556,
             "#d8576b"
            ],
            [
             0.6666666666666666,
             "#ed7953"
            ],
            [
             0.7777777777777778,
             "#fb9f3a"
            ],
            [
             0.8888888888888888,
             "#fdca26"
            ],
            [
             1,
             "#f0f921"
            ]
           ]
          },
          "colorway": [
           "#636efa",
           "#EF553B",
           "#00cc96",
           "#ab63fa",
           "#FFA15A",
           "#19d3f3",
           "#FF6692",
           "#B6E880",
           "#FF97FF",
           "#FECB52"
          ],
          "font": {
           "color": "#2a3f5f"
          },
          "geo": {
           "bgcolor": "white",
           "lakecolor": "white",
           "landcolor": "#E5ECF6",
           "showlakes": true,
           "showland": true,
           "subunitcolor": "white"
          },
          "hoverlabel": {
           "align": "left"
          },
          "hovermode": "closest",
          "mapbox": {
           "style": "light"
          },
          "paper_bgcolor": "white",
          "plot_bgcolor": "#E5ECF6",
          "polar": {
           "angularaxis": {
            "gridcolor": "white",
            "linecolor": "white",
            "ticks": ""
           },
           "bgcolor": "#E5ECF6",
           "radialaxis": {
            "gridcolor": "white",
            "linecolor": "white",
            "ticks": ""
           }
          },
          "scene": {
           "xaxis": {
            "backgroundcolor": "#E5ECF6",
            "gridcolor": "white",
            "gridwidth": 2,
            "linecolor": "white",
            "showbackground": true,
            "ticks": "",
            "zerolinecolor": "white"
           },
           "yaxis": {
            "backgroundcolor": "#E5ECF6",
            "gridcolor": "white",
            "gridwidth": 2,
            "linecolor": "white",
            "showbackground": true,
            "ticks": "",
            "zerolinecolor": "white"
           },
           "zaxis": {
            "backgroundcolor": "#E5ECF6",
            "gridcolor": "white",
            "gridwidth": 2,
            "linecolor": "white",
            "showbackground": true,
            "ticks": "",
            "zerolinecolor": "white"
           }
          },
          "shapedefaults": {
           "line": {
            "color": "#2a3f5f"
           }
          },
          "ternary": {
           "aaxis": {
            "gridcolor": "white",
            "linecolor": "white",
            "ticks": ""
           },
           "baxis": {
            "gridcolor": "white",
            "linecolor": "white",
            "ticks": ""
           },
           "bgcolor": "#E5ECF6",
           "caxis": {
            "gridcolor": "white",
            "linecolor": "white",
            "ticks": ""
           }
          },
          "title": {
           "x": 0.05
          },
          "xaxis": {
           "automargin": true,
           "gridcolor": "white",
           "linecolor": "white",
           "ticks": "",
           "title": {
            "standoff": 15
           },
           "zerolinecolor": "white",
           "zerolinewidth": 2
          },
          "yaxis": {
           "automargin": true,
           "gridcolor": "white",
           "linecolor": "white",
           "ticks": "",
           "title": {
            "standoff": 15
           },
           "zerolinecolor": "white",
           "zerolinewidth": 2
          }
         }
        }
       }
      },
      "text/html": [
       "<div>                            <div id=\"4abdef8a-0178-4172-a535-8d9c4e009ea6\" class=\"plotly-graph-div\" style=\"height:525px; width:100%;\"></div>            <script type=\"text/javascript\">                require([\"plotly\"], function(Plotly) {                    window.PLOTLYENV=window.PLOTLYENV || {};                                    if (document.getElementById(\"4abdef8a-0178-4172-a535-8d9c4e009ea6\")) {                    Plotly.newPlot(                        \"4abdef8a-0178-4172-a535-8d9c4e009ea6\",                        [{\"dimensions\":[{\"axis\":{\"matches\":true},\"label\":\"Ei\",\"values\":[10.57]},{\"axis\":{\"matches\":true},\"label\":\"Alpha\",\"values\":[8.14]},{\"axis\":{\"matches\":true},\"label\":\"Dipole\",\"values\":[0.132]},{\"axis\":{\"matches\":true},\"label\":\"pi_bond\",\"values\":[0.0]},{\"axis\":{\"matches\":true},\"label\":\"Expt\",\"values\":[41.0]}],\"hovertemplate\":\"Molecule=Isobutane\\u003cbr\\u003e%{xaxis.title.text}=%{x}\\u003cbr\\u003e%{yaxis.title.text}=%{y}\\u003cextra\\u003e\\u003c\\u002fextra\\u003e\",\"legendgroup\":\"Isobutane\",\"marker\":{\"color\":\"blue\",\"symbol\":\"circle\"},\"name\":\"Isobutane\",\"showlegend\":true,\"type\":\"splom\"},{\"dimensions\":[{\"axis\":{\"matches\":true},\"label\":\"Ei\",\"values\":[9.0]},{\"axis\":{\"matches\":true},\"label\":\"Alpha\",\"values\":[8.9]},{\"axis\":{\"matches\":true},\"label\":\"Dipole\",\"values\":[0.2]},{\"axis\":{\"matches\":true},\"label\":\"pi_bond\",\"values\":[1.0]},{\"axis\":{\"matches\":true},\"label\":\"Expt\",\"values\":[70.0]}],\"hovertemplate\":\"Molecule=Ciclopenteno\\u003cbr\\u003e%{xaxis.title.text}=%{x}\\u003cbr\\u003e%{yaxis.title.text}=%{y}\\u003cextra\\u003e\\u003c\\u002fextra\\u003e\",\"legendgroup\":\"Ciclopenteno\",\"marker\":{\"color\":\"blue\",\"symbol\":\"circle\"},\"name\":\"Ciclopenteno\",\"showlegend\":true,\"type\":\"splom\"},{\"dimensions\":[{\"axis\":{\"matches\":true},\"label\":\"Ei\",\"values\":[11.4]},{\"axis\":{\"matches\":true},\"label\":\"Alpha\",\"values\":[5.9]},{\"axis\":{\"matches\":true},\"label\":\"Dipole\",\"values\":[2.4]},{\"axis\":{\"matches\":true},\"label\":\"pi_bond\",\"values\":[0.0]},{\"axis\":{\"matches\":true},\"label\":\"Expt\",\"values\":[25.0]}],\"hovertemplate\":\"Molecule=2,2-difl.propano\\u003cbr\\u003e%{xaxis.title.text}=%{x}\\u003cbr\\u003e%{yaxis.title.text}=%{y}\\u003cextra\\u003e\\u003c\\u002fextra\\u003e\",\"legendgroup\":\"2,2-difl.propano\",\"marker\":{\"color\":\"red\",\"symbol\":\"circle\"},\"name\":\"2,2-difl.propano\",\"showlegend\":true,\"type\":\"splom\"},{\"dimensions\":[{\"axis\":{\"matches\":true},\"label\":\"Ei\",\"values\":[10.3]},{\"axis\":{\"matches\":true},\"label\":\"Alpha\",\"values\":[7.7]},{\"axis\":{\"matches\":true},\"label\":\"Dipole\",\"values\":[0.3]},{\"axis\":{\"matches\":true},\"label\":\"pi_bond\",\"values\":[1.0]},{\"axis\":{\"matches\":true},\"label\":\"Expt\",\"values\":[102.0]}],\"hovertemplate\":\"Molecule=Dimetilcarbonato\\u003cbr\\u003e%{xaxis.title.text}=%{x}\\u003cbr\\u003e%{yaxis.title.text}=%{y}\\u003cextra\\u003e\\u003c\\u002fextra\\u003e\",\"legendgroup\":\"Dimetilcarbonato\",\"marker\":{\"color\":\"blue\",\"symbol\":\"circle\"},\"name\":\"Dimetilcarbonato\",\"showlegend\":true,\"type\":\"splom\"},{\"dimensions\":[{\"axis\":{\"matches\":true},\"label\":\"Ei\",\"values\":[9.9]},{\"axis\":{\"matches\":true},\"label\":\"Alpha\",\"values\":[11.0]},{\"axis\":{\"matches\":true},\"label\":\"Dipole\",\"values\":[0.33]},{\"axis\":{\"matches\":true},\"label\":\"pi_bond\",\"values\":[1.0]},{\"axis\":{\"matches\":true},\"label\":\"Expt\",\"values\":[82.0]}],\"hovertemplate\":\"Molecule=Ciclohexano\\u003cbr\\u003e%{xaxis.title.text}=%{x}\\u003cbr\\u003e%{yaxis.title.text}=%{y}\\u003cextra\\u003e\\u003c\\u002fextra\\u003e\",\"legendgroup\":\"Ciclohexano\",\"marker\":{\"color\":\"blue\",\"symbol\":\"circle\"},\"name\":\"Ciclohexano\",\"showlegend\":true,\"type\":\"splom\"},{\"dimensions\":[{\"axis\":{\"matches\":true},\"label\":\"Ei\",\"values\":[9.0]},{\"axis\":{\"matches\":true},\"label\":\"Alpha\",\"values\":[10.7]},{\"axis\":{\"matches\":true},\"label\":\"Dipole\",\"values\":[0.33]},{\"axis\":{\"matches\":true},\"label\":\"pi_bond\",\"values\":[1.0]},{\"axis\":{\"matches\":true},\"label\":\"Expt\",\"values\":[105.0]}],\"hovertemplate\":\"Molecule=Ciclohexeno\\u003cbr\\u003e%{xaxis.title.text}=%{x}\\u003cbr\\u003e%{yaxis.title.text}=%{y}\\u003cextra\\u003e\\u003c\\u002fextra\\u003e\",\"legendgroup\":\"Ciclohexeno\",\"marker\":{\"color\":\"blue\",\"symbol\":\"circle\"},\"name\":\"Ciclohexeno\",\"showlegend\":true,\"type\":\"splom\"},{\"dimensions\":[{\"axis\":{\"matches\":true},\"label\":\"Ei\",\"values\":[8.83]},{\"axis\":{\"matches\":true},\"label\":\"Alpha\",\"values\":[11.86]},{\"axis\":{\"matches\":true},\"label\":\"Dipole\",\"values\":[0.38]},{\"axis\":{\"matches\":true},\"label\":\"pi_bond\",\"values\":[3.0]},{\"axis\":{\"matches\":true},\"label\":\"Expt\",\"values\":[173.0]}],\"hovertemplate\":\"Molecule=Tolueno\\u003cbr\\u003e%{xaxis.title.text}=%{x}\\u003cbr\\u003e%{yaxis.title.text}=%{y}\\u003cextra\\u003e\\u003c\\u002fextra\\u003e\",\"legendgroup\":\"Tolueno\",\"marker\":{\"color\":\"blue\",\"symbol\":\"circle\"},\"name\":\"Tolueno\",\"showlegend\":true,\"type\":\"splom\"},{\"dimensions\":[{\"axis\":{\"matches\":true},\"label\":\"Ei\",\"values\":[8.88]},{\"axis\":{\"matches\":true},\"label\":\"Alpha\",\"values\":[7.23]},{\"axis\":{\"matches\":true},\"label\":\"Dipole\",\"values\":[0.66]},{\"axis\":{\"matches\":true},\"label\":\"pi_bond\",\"values\":[2.0]},{\"axis\":{\"matches\":true},\"label\":\"Expt\",\"values\":[52.0]}],\"hovertemplate\":\"Molecule=Furan\\u003cbr\\u003e%{xaxis.title.text}=%{x}\\u003cbr\\u003e%{yaxis.title.text}=%{y}\\u003cextra\\u003e\\u003c\\u002fextra\\u003e\",\"legendgroup\":\"Furan\",\"marker\":{\"color\":\"blue\",\"symbol\":\"circle\"},\"name\":\"Furan\",\"showlegend\":true,\"type\":\"splom\"},{\"dimensions\":[{\"axis\":{\"matches\":true},\"label\":\"Ei\",\"values\":[8.82]},{\"axis\":{\"matches\":true},\"label\":\"Alpha\",\"values\":[13.8]},{\"axis\":{\"matches\":true},\"label\":\"Dipole\",\"values\":[0.66]},{\"axis\":{\"matches\":true},\"label\":\"pi_bond\",\"values\":[5.0]},{\"axis\":{\"matches\":true},\"label\":\"Expt\",\"values\":[230.0]}],\"hovertemplate\":\"Molecule=Phenylacetylene\\u003cbr\\u003e%{xaxis.title.text}=%{x}\\u003cbr\\u003e%{yaxis.title.text}=%{y}\\u003cextra\\u003e\\u003c\\u002fextra\\u003e\",\"legendgroup\":\"Phenylacetylene\",\"marker\":{\"color\":\"blue\",\"symbol\":\"circle\"},\"name\":\"Phenylacetylene\",\"showlegend\":true,\"type\":\"splom\"},{\"dimensions\":[{\"axis\":{\"matches\":true},\"label\":\"Ei\",\"values\":[9.7]},{\"axis\":{\"matches\":true},\"label\":\"Alpha\",\"values\":[7.7]},{\"axis\":{\"matches\":true},\"label\":\"Dipole\",\"values\":[0.7]},{\"axis\":{\"matches\":true},\"label\":\"pi_bond\",\"values\":[0.0]},{\"axis\":{\"matches\":true},\"label\":\"Expt\",\"values\":[78.0]}],\"hovertemplate\":\"Molecule=Dimetoximethano\\u003cbr\\u003e%{xaxis.title.text}=%{x}\\u003cbr\\u003e%{yaxis.title.text}=%{y}\\u003cextra\\u003e\\u003c\\u002fextra\\u003e\",\"legendgroup\":\"Dimetoximethano\",\"marker\":{\"color\":\"blue\",\"symbol\":\"circle\"},\"name\":\"Dimetoximethano\",\"showlegend\":true,\"type\":\"splom\"},{\"dimensions\":[{\"axis\":{\"matches\":true},\"label\":\"Ei\",\"values\":[9.5]},{\"axis\":{\"matches\":true},\"label\":\"Alpha\",\"values\":[10.0]},{\"axis\":{\"matches\":true},\"label\":\"Dipole\",\"values\":[0.8]},{\"axis\":{\"matches\":true},\"label\":\"pi_bond\",\"values\":[1.0]},{\"axis\":{\"matches\":true},\"label\":\"Expt\",\"values\":[50.0]}],\"hovertemplate\":\"Molecule=Tricloroetileno\\u003cbr\\u003e%{xaxis.title.text}=%{x}\\u003cbr\\u003e%{yaxis.title.text}=%{y}\\u003cextra\\u003e\\u003c\\u002fextra\\u003e\",\"legendgroup\":\"Tricloroetileno\",\"marker\":{\"color\":\"blue\",\"symbol\":\"circle\"},\"name\":\"Tricloroetileno\",\"showlegend\":true,\"type\":\"splom\"},{\"dimensions\":[{\"axis\":{\"matches\":true},\"label\":\"Ei\",\"values\":[10.5]},{\"axis\":{\"matches\":true},\"label\":\"Alpha\",\"values\":[11.3]},{\"axis\":{\"matches\":true},\"label\":\"Dipole\",\"values\":[0.9]},{\"axis\":{\"matches\":true},\"label\":\"pi_bond\",\"values\":[0.0]},{\"axis\":{\"matches\":true},\"label\":\"Expt\",\"values\":[130.0]}],\"hovertemplate\":\"Molecule=Bromofórmio\\u003cbr\\u003e%{xaxis.title.text}=%{x}\\u003cbr\\u003e%{yaxis.title.text}=%{y}\\u003cextra\\u003e\\u003c\\u002fextra\\u003e\",\"legendgroup\":\"Bromofórmio\",\"marker\":{\"color\":\"blue\",\"symbol\":\"circle\"},\"name\":\"Bromofórmio\",\"showlegend\":true,\"type\":\"splom\"},{\"dimensions\":[{\"axis\":{\"matches\":true},\"label\":\"Ei\",\"values\":[11.4]},{\"axis\":{\"matches\":true},\"label\":\"Alpha\",\"values\":[8.4]},{\"axis\":{\"matches\":true},\"label\":\"Dipole\",\"values\":[1.0]},{\"axis\":{\"matches\":true},\"label\":\"pi_bond\",\"values\":[0.0]},{\"axis\":{\"matches\":true},\"label\":\"Expt\",\"values\":[37.0]}],\"hovertemplate\":\"Molecule=Clorofórmio\\u003cbr\\u003e%{xaxis.title.text}=%{x}\\u003cbr\\u003e%{yaxis.title.text}=%{y}\\u003cextra\\u003e\\u003c\\u002fextra\\u003e\",\"legendgroup\":\"Clorofórmio\",\"marker\":{\"color\":\"blue\",\"symbol\":\"circle\"},\"name\":\"Clorofórmio\",\"showlegend\":true,\"type\":\"splom\"},{\"dimensions\":[{\"axis\":{\"matches\":true},\"label\":\"Ei\",\"values\":[9.8]},{\"axis\":{\"matches\":true},\"label\":\"Alpha\",\"values\":[8.1]},{\"axis\":{\"matches\":true},\"label\":\"Dipole\",\"values\":[1.3]},{\"axis\":{\"matches\":true},\"label\":\"pi_bond\",\"values\":[1.0]},{\"axis\":{\"matches\":true},\"label\":\"Expt\",\"values\":[30.0]}],\"hovertemplate\":\"Molecule=1,1-dicloroetileno\\u002fVinilideno\\u003cbr\\u003e%{xaxis.title.text}=%{x}\\u003cbr\\u003e%{yaxis.title.text}=%{y}\\u003cextra\\u003e\\u003c\\u002fextra\\u003e\",\"legendgroup\":\"1,1-dicloroetileno\\u002fVinilideno\",\"marker\":{\"color\":\"red\",\"symbol\":\"circle\"},\"name\":\"1,1-dicloroetileno\\u002fVinilideno\",\"showlegend\":true,\"type\":\"splom\"},{\"dimensions\":[{\"axis\":{\"matches\":true},\"label\":\"Ei\",\"values\":[10.43]},{\"axis\":{\"matches\":true},\"label\":\"Alpha\",\"values\":[5.11]},{\"axis\":{\"matches\":true},\"label\":\"Dipole\",\"values\":[1.44]},{\"axis\":{\"matches\":true},\"label\":\"pi_bond\",\"values\":[5.0]},{\"axis\":{\"matches\":true},\"label\":\"Expt\",\"values\":[43.0]}],\"hovertemplate\":\"Molecule=Etanol\\u003cbr\\u003e%{xaxis.title.text}=%{x}\\u003cbr\\u003e%{yaxis.title.text}=%{y}\\u003cextra\\u003e\\u003c\\u002fextra\\u003e\",\"legendgroup\":\"Etanol\",\"marker\":{\"color\":\"red\",\"symbol\":\"circle\"},\"name\":\"Etanol\",\"showlegend\":true,\"type\":\"splom\"},{\"dimensions\":[{\"axis\":{\"matches\":true},\"label\":\"Ei\",\"values\":[7.72]},{\"axis\":{\"matches\":true},\"label\":\"Alpha\",\"values\":[12.1]},{\"axis\":{\"matches\":true},\"label\":\"Dipole\",\"values\":[1.53]},{\"axis\":{\"matches\":true},\"label\":\"pi_bond\",\"values\":[3.0]},{\"axis\":{\"matches\":true},\"label\":\"Expt\",\"values\":[233.0]}],\"hovertemplate\":\"Molecule=Aniline\\u003cbr\\u003e%{xaxis.title.text}=%{x}\\u003cbr\\u003e%{yaxis.title.text}=%{y}\\u003cextra\\u003e\\u003c\\u002fextra\\u003e\",\"legendgroup\":\"Aniline\",\"marker\":{\"color\":\"blue\",\"symbol\":\"circle\"},\"name\":\"Aniline\",\"showlegend\":true,\"type\":\"splom\"},{\"dimensions\":[{\"axis\":{\"matches\":true},\"label\":\"Ei\",\"values\":[10.18]},{\"axis\":{\"matches\":true},\"label\":\"Alpha\",\"values\":[6.7]},{\"axis\":{\"matches\":true},\"label\":\"Dipole\",\"values\":[1.57]},{\"axis\":{\"matches\":true},\"label\":\"pi_bond\",\"values\":[0.0]},{\"axis\":{\"matches\":true},\"label\":\"Expt\",\"values\":[65.0]}],\"hovertemplate\":\"Molecule=1-Propanol\\u003cbr\\u003e%{xaxis.title.text}=%{x}\\u003cbr\\u003e%{yaxis.title.text}=%{y}\\u003cextra\\u003e\\u003c\\u002fextra\\u003e\",\"legendgroup\":\"1-Propanol\",\"marker\":{\"color\":\"blue\",\"symbol\":\"circle\"},\"name\":\"1-Propanol\",\"showlegend\":true,\"type\":\"splom\"},{\"dimensions\":[{\"axis\":{\"matches\":true},\"label\":\"Ei\",\"values\":[10.2]},{\"axis\":{\"matches\":true},\"label\":\"Alpha\",\"values\":[7.8]},{\"axis\":{\"matches\":true},\"label\":\"Dipole\",\"values\":[2.2]},{\"axis\":{\"matches\":true},\"label\":\"pi_bond\",\"values\":[0.0]},{\"axis\":{\"matches\":true},\"label\":\"Expt\",\"values\":[70.0]}],\"hovertemplate\":\"Molecule=1-fl-butano\\u003cbr\\u003e%{xaxis.title.text}=%{x}\\u003cbr\\u003e%{yaxis.title.text}=%{y}\\u003cextra\\u003e\\u003c\\u002fextra\\u003e\",\"legendgroup\":\"1-fl-butano\",\"marker\":{\"color\":\"blue\",\"symbol\":\"circle\"},\"name\":\"1-fl-butano\",\"showlegend\":true,\"type\":\"splom\"},{\"dimensions\":[{\"axis\":{\"matches\":true},\"label\":\"Ei\",\"values\":[10.17]},{\"axis\":{\"matches\":true},\"label\":\"Alpha\",\"values\":[6.7]},{\"axis\":{\"matches\":true},\"label\":\"Dipole\",\"values\":[1.58]},{\"axis\":{\"matches\":true},\"label\":\"pi_bond\",\"values\":[0.0]},{\"axis\":{\"matches\":true},\"label\":\"Expt\",\"values\":[85.0]}],\"hovertemplate\":\"Molecule=2-Propanol\\u003cbr\\u003e%{xaxis.title.text}=%{x}\\u003cbr\\u003e%{yaxis.title.text}=%{y}\\u003cextra\\u003e\\u003c\\u002fextra\\u003e\",\"legendgroup\":\"2-Propanol\",\"marker\":{\"color\":\"blue\",\"symbol\":\"circle\"},\"name\":\"2-Propanol\",\"showlegend\":true,\"type\":\"splom\"},{\"dimensions\":[{\"axis\":{\"matches\":true},\"label\":\"Ei\",\"values\":[11.3]},{\"axis\":{\"matches\":true},\"label\":\"Alpha\",\"values\":[6.5]},{\"axis\":{\"matches\":true},\"label\":\"Dipole\",\"values\":[1.6]},{\"axis\":{\"matches\":true},\"label\":\"pi_bond\",\"values\":[0.0]},{\"axis\":{\"matches\":true},\"label\":\"Expt\",\"values\":[32.0]}],\"hovertemplate\":\"Molecule=Diclorometano\\u003cbr\\u003e%{xaxis.title.text}=%{x}\\u003cbr\\u003e%{yaxis.title.text}=%{y}\\u003cextra\\u003e\\u003c\\u002fextra\\u003e\",\"legendgroup\":\"Diclorometano\",\"marker\":{\"color\":\"blue\",\"symbol\":\"circle\"},\"name\":\"Diclorometano\",\"showlegend\":true,\"type\":\"splom\"},{\"dimensions\":[{\"axis\":{\"matches\":true},\"label\":\"Ei\",\"values\":[9.8]},{\"axis\":{\"matches\":true},\"label\":\"Alpha\",\"values\":[11.5]},{\"axis\":{\"matches\":true},\"label\":\"Dipole\",\"values\":[2.2]},{\"axis\":{\"matches\":true},\"label\":\"pi_bond\",\"values\":[0.0]},{\"axis\":{\"matches\":true},\"label\":\"Expt\",\"values\":[80.0]}],\"hovertemplate\":\"Molecule=1-fl-hexano\\u003cbr\\u003e%{xaxis.title.text}=%{x}\\u003cbr\\u003e%{yaxis.title.text}=%{y}\\u003cextra\\u003e\\u003c\\u002fextra\\u003e\",\"legendgroup\":\"1-fl-hexano\",\"marker\":{\"color\":\"blue\",\"symbol\":\"circle\"},\"name\":\"1-fl-hexano\",\"showlegend\":true,\"type\":\"splom\"},{\"dimensions\":[{\"axis\":{\"matches\":true},\"label\":\"Ei\",\"values\":[10.0]},{\"axis\":{\"matches\":true},\"label\":\"Alpha\",\"values\":[8.77]},{\"axis\":{\"matches\":true},\"label\":\"Dipole\",\"values\":[1.66]},{\"axis\":{\"matches\":true},\"label\":\"pi_bond\",\"values\":[0.0]},{\"axis\":{\"matches\":true},\"label\":\"Expt\",\"values\":[102.0]}],\"hovertemplate\":\"Molecule=1-Butanol\\u003cbr\\u003e%{xaxis.title.text}=%{x}\\u003cbr\\u003e%{yaxis.title.text}=%{y}\\u003cextra\\u003e\\u003c\\u002fextra\\u003e\",\"legendgroup\":\"1-Butanol\",\"marker\":{\"color\":\"blue\",\"symbol\":\"circle\"},\"name\":\"1-Butanol\",\"showlegend\":true,\"type\":\"splom\"},{\"dimensions\":[{\"axis\":{\"matches\":true},\"label\":\"Ei\",\"values\":[10.89]},{\"axis\":{\"matches\":true},\"label\":\"Alpha\",\"values\":[10.08]},{\"axis\":{\"matches\":true},\"label\":\"Dipole\",\"values\":[2.08]},{\"axis\":{\"matches\":true},\"label\":\"pi_bond\",\"values\":[0.0]},{\"axis\":{\"matches\":true},\"label\":\"Expt\",\"values\":[85.0]}],\"hovertemplate\":\"Molecule=1,3-Dichloropropane\\u003cbr\\u003e%{xaxis.title.text}=%{x}\\u003cbr\\u003e%{yaxis.title.text}=%{y}\\u003cextra\\u003e\\u003c\\u002fextra\\u003e\",\"legendgroup\":\"1,3-Dichloropropane\",\"marker\":{\"color\":\"blue\",\"symbol\":\"circle\"},\"name\":\"1,3-Dichloropropane\",\"showlegend\":true,\"type\":\"splom\"},{\"dimensions\":[{\"axis\":{\"matches\":true},\"label\":\"Ei\",\"values\":[10.8]},{\"axis\":{\"matches\":true},\"label\":\"Alpha\",\"values\":[3.08]},{\"axis\":{\"matches\":true},\"label\":\"Dipole\",\"values\":[1.69]},{\"axis\":{\"matches\":true},\"label\":\"pi_bond\",\"values\":[0.0]},{\"axis\":{\"matches\":true},\"label\":\"Expt\",\"values\":[20.0]}],\"hovertemplate\":\"Molecule=Metanol\\u003cbr\\u003e%{xaxis.title.text}=%{x}\\u003cbr\\u003e%{yaxis.title.text}=%{y}\\u003cextra\\u003e\\u003c\\u002fextra\\u003e\",\"legendgroup\":\"Metanol\",\"marker\":{\"color\":\"blue\",\"symbol\":\"circle\"},\"name\":\"Metanol\",\"showlegend\":true,\"type\":\"splom\"},{\"dimensions\":[{\"axis\":{\"matches\":true},\"label\":\"Ei\",\"values\":[10.2]},{\"axis\":{\"matches\":true},\"label\":\"Alpha\",\"values\":[3.08]},{\"axis\":{\"matches\":true},\"label\":\"Dipole\",\"values\":[1.69]},{\"axis\":{\"matches\":true},\"label\":\"pi_bond\",\"values\":[0.0]},{\"axis\":{\"matches\":true},\"label\":\"Expt\",\"values\":[70.0]}],\"hovertemplate\":\"Molecule=1,2-Ethanediol\\u003cbr\\u003e%{xaxis.title.text}=%{x}\\u003cbr\\u003e%{yaxis.title.text}=%{y}\\u003cextra\\u003e\\u003c\\u002fextra\\u003e\",\"legendgroup\":\"1,2-Ethanediol\",\"marker\":{\"color\":\"blue\",\"symbol\":\"circle\"},\"name\":\"1,2-Ethanediol\",\"showlegend\":true,\"type\":\"splom\"},{\"dimensions\":[{\"axis\":{\"matches\":true},\"label\":\"Ei\",\"values\":[8.2]},{\"axis\":{\"matches\":true},\"label\":\"Alpha\",\"values\":[7.9]},{\"axis\":{\"matches\":true},\"label\":\"Dipole\",\"values\":[1.77]},{\"axis\":{\"matches\":true},\"label\":\"pi_bond\",\"values\":[2.0]},{\"axis\":{\"matches\":true},\"label\":\"Expt\",\"values\":[165.0]}],\"hovertemplate\":\"Molecule=Pyrrole\\u003cbr\\u003e%{xaxis.title.text}=%{x}\\u003cbr\\u003e%{yaxis.title.text}=%{y}\\u003cextra\\u003e\\u003c\\u002fextra\\u003e\",\"legendgroup\":\"Pyrrole\",\"marker\":{\"color\":\"blue\",\"symbol\":\"circle\"},\"name\":\"Pyrrole\",\"showlegend\":true,\"type\":\"splom\"},{\"dimensions\":[{\"axis\":{\"matches\":true},\"label\":\"Ei\",\"values\":[10.5]},{\"axis\":{\"matches\":true},\"label\":\"Alpha\",\"values\":[5.6]},{\"axis\":{\"matches\":true},\"label\":\"Dipole\",\"values\":[1.8]},{\"axis\":{\"matches\":true},\"label\":\"pi_bond\",\"values\":[0.0]},{\"axis\":{\"matches\":true},\"label\":\"Expt\",\"values\":[40.0]}],\"hovertemplate\":\"Molecule=MetilBromo\\u003cbr\\u003e%{xaxis.title.text}=%{x}\\u003cbr\\u003e%{yaxis.title.text}=%{y}\\u003cextra\\u003e\\u003c\\u002fextra\\u003e\",\"legendgroup\":\"MetilBromo\",\"marker\":{\"color\":\"blue\",\"symbol\":\"circle\"},\"name\":\"MetilBromo\",\"showlegend\":true,\"type\":\"splom\"},{\"dimensions\":[{\"axis\":{\"matches\":true},\"label\":\"Ei\",\"values\":[10.8]},{\"axis\":{\"matches\":true},\"label\":\"Alpha\",\"values\":[5.1]},{\"axis\":{\"matches\":true},\"label\":\"Dipole\",\"values\":[1.8]},{\"axis\":{\"matches\":true},\"label\":\"pi_bond\",\"values\":[1.0]},{\"axis\":{\"matches\":true},\"label\":\"Expt\",\"values\":[65.0]}],\"hovertemplate\":\"Molecule=Metyl Formate\\u003cbr\\u003e%{xaxis.title.text}=%{x}\\u003cbr\\u003e%{yaxis.title.text}=%{y}\\u003cextra\\u003e\\u003c\\u002fextra\\u003e\",\"legendgroup\":\"Metyl Formate\",\"marker\":{\"color\":\"blue\",\"symbol\":\"circle\"},\"name\":\"Metyl Formate\",\"showlegend\":true,\"type\":\"splom\"},{\"dimensions\":[{\"axis\":{\"matches\":true},\"label\":\"Ei\",\"values\":[11.2]},{\"axis\":{\"matches\":true},\"label\":\"Alpha\",\"values\":[5.4]},{\"axis\":{\"matches\":true},\"label\":\"Dipole\",\"values\":[1.9]},{\"axis\":{\"matches\":true},\"label\":\"pi_bond\",\"values\":[0.0]},{\"axis\":{\"matches\":true},\"label\":\"Expt\",\"values\":[25.0]}],\"hovertemplate\":\"Molecule=Methyl Chloride\\u003cbr\\u003e%{xaxis.title.text}=%{x}\\u003cbr\\u003e%{yaxis.title.text}=%{y}\\u003cextra\\u003e\\u003c\\u002fextra\\u003e\",\"legendgroup\":\"Methyl Chloride\",\"marker\":{\"color\":\"blue\",\"symbol\":\"circle\"},\"name\":\"Methyl Chloride\",\"showlegend\":true,\"type\":\"splom\"},{\"dimensions\":[{\"axis\":{\"matches\":true},\"label\":\"Ei\",\"values\":[9.7]},{\"axis\":{\"matches\":true},\"label\":\"Alpha\",\"values\":[8.0]},{\"axis\":{\"matches\":true},\"label\":\"Dipole\",\"values\":[1.9]},{\"axis\":{\"matches\":true},\"label\":\"pi_bond\",\"values\":[1.0]},{\"axis\":{\"matches\":true},\"label\":\"Expt\",\"values\":[66.0]}],\"hovertemplate\":\"Molecule=1,2-cis-dicloroetileno\\u003cbr\\u003e%{xaxis.title.text}=%{x}\\u003cbr\\u003e%{yaxis.title.text}=%{y}\\u003cextra\\u003e\\u003c\\u002fextra\\u003e\",\"legendgroup\":\"1,2-cis-dicloroetileno\",\"marker\":{\"color\":\"blue\",\"symbol\":\"circle\"},\"name\":\"1,2-cis-dicloroetileno\",\"showlegend\":true,\"type\":\"splom\"},{\"dimensions\":[{\"axis\":{\"matches\":true},\"label\":\"Ei\",\"values\":[10.61]},{\"axis\":{\"matches\":true},\"label\":\"Alpha\",\"values\":[7.02]},{\"axis\":{\"matches\":true},\"label\":\"Dipole\",\"values\":[1.93]},{\"axis\":{\"matches\":true},\"label\":\"pi_bond\",\"values\":[1.0]},{\"axis\":{\"matches\":true},\"label\":\"Expt\",\"values\":[95.0]}],\"hovertemplate\":\"Molecule=Etilformato\\u003cbr\\u003e%{xaxis.title.text}=%{x}\\u003cbr\\u003e%{yaxis.title.text}=%{y}\\u003cextra\\u003e\\u003c\\u002fextra\\u003e\",\"legendgroup\":\"Etilformato\",\"marker\":{\"color\":\"blue\",\"symbol\":\"circle\"},\"name\":\"Etilformato\",\"showlegend\":true,\"type\":\"splom\"},{\"dimensions\":[{\"axis\":{\"matches\":true},\"label\":\"Ei\",\"values\":[11.3]},{\"axis\":{\"matches\":true},\"label\":\"Alpha\",\"values\":[6.0]},{\"axis\":{\"matches\":true},\"label\":\"Dipole\",\"values\":[2.0]},{\"axis\":{\"matches\":true},\"label\":\"pi_bond\",\"values\":[0.0]},{\"axis\":{\"matches\":true},\"label\":\"Expt\",\"values\":[35.0]}],\"hovertemplate\":\"Molecule=1-fl-propano\\u003cbr\\u003e%{xaxis.title.text}=%{x}\\u003cbr\\u003e%{yaxis.title.text}=%{y}\\u003cextra\\u003e\\u003c\\u002fextra\\u003e\",\"legendgroup\":\"1-fl-propano\",\"marker\":{\"color\":\"blue\",\"symbol\":\"circle\"},\"name\":\"1-fl-propano\",\"showlegend\":true,\"type\":\"splom\"},{\"dimensions\":[{\"axis\":{\"matches\":true},\"label\":\"Ei\",\"values\":[10.25]},{\"axis\":{\"matches\":true},\"label\":\"Alpha\",\"values\":[6.96]},{\"axis\":{\"matches\":true},\"label\":\"Dipole\",\"values\":[2.0]},{\"axis\":{\"matches\":true},\"label\":\"pi_bond\",\"values\":[1.0]},{\"axis\":{\"matches\":true},\"label\":\"Expt\",\"values\":[120.0]}],\"hovertemplate\":\"Molecule=Metilacetato\\u003cbr\\u003e%{xaxis.title.text}=%{x}\\u003cbr\\u003e%{yaxis.title.text}=%{y}\\u003cextra\\u003e\\u003c\\u002fextra\\u003e\",\"legendgroup\":\"Metilacetato\",\"marker\":{\"color\":\"blue\",\"symbol\":\"circle\"},\"name\":\"Metilacetato\",\"showlegend\":true,\"type\":\"splom\"},{\"dimensions\":[{\"axis\":{\"matches\":true},\"label\":\"Ei\",\"values\":[10.52]},{\"axis\":{\"matches\":true},\"label\":\"Alpha\",\"values\":[8.85]},{\"axis\":{\"matches\":true},\"label\":\"Dipole\",\"values\":[2.4]},{\"axis\":{\"matches\":true},\"label\":\"pi_bond\",\"values\":[1.0]},{\"axis\":{\"matches\":true},\"label\":\"Expt\",\"values\":[130.0]}],\"hovertemplate\":\"Molecule=Propilformato\\u003cbr\\u003e%{xaxis.title.text}=%{x}\\u003cbr\\u003e%{yaxis.title.text}=%{y}\\u003cextra\\u003e\\u003c\\u002fextra\\u003e\",\"legendgroup\":\"Propilformato\",\"marker\":{\"color\":\"blue\",\"symbol\":\"circle\"},\"name\":\"Propilformato\",\"showlegend\":true,\"type\":\"splom\"},{\"dimensions\":[{\"axis\":{\"matches\":true},\"label\":\"Ei\",\"values\":[8.3]},{\"axis\":{\"matches\":true},\"label\":\"Alpha\",\"values\":[10.6]},{\"axis\":{\"matches\":true},\"label\":\"Dipole\",\"values\":[0.44]},{\"axis\":{\"matches\":true},\"label\":\"pi_bond\",\"values\":[2.0]},{\"axis\":{\"matches\":true},\"label\":\"Expt\",\"values\":[132.0]}],\"hovertemplate\":\"Molecule=1,3-Ciclohexadieno\\u003cbr\\u003e%{xaxis.title.text}=%{x}\\u003cbr\\u003e%{yaxis.title.text}=%{y}\\u003cextra\\u003e\\u003c\\u002fextra\\u003e\",\"legendgroup\":\"1,3-Ciclohexadieno\",\"marker\":{\"color\":\"blue\",\"symbol\":\"circle\"},\"name\":\"1,3-Ciclohexadieno\",\"showlegend\":true,\"type\":\"splom\"},{\"dimensions\":[{\"axis\":{\"matches\":true},\"label\":\"Ei\",\"values\":[9.6]},{\"axis\":{\"matches\":true},\"label\":\"Alpha\",\"values\":[17.0]},{\"axis\":{\"matches\":true},\"label\":\"Dipole\",\"values\":[2.2]},{\"axis\":{\"matches\":true},\"label\":\"pi_bond\",\"values\":[0.0]},{\"axis\":{\"matches\":true},\"label\":\"Expt\",\"values\":[145.0]}],\"hovertemplate\":\"Molecule=1-fl-nonano\\u003cbr\\u003e%{xaxis.title.text}=%{x}\\u003cbr\\u003e%{yaxis.title.text}=%{y}\\u003cextra\\u003e\\u003c\\u002fextra\\u003e\",\"legendgroup\":\"1-fl-nonano\",\"marker\":{\"color\":\"blue\",\"symbol\":\"circle\"},\"name\":\"1-fl-nonano\",\"showlegend\":true,\"type\":\"splom\"},{\"dimensions\":[{\"axis\":{\"matches\":true},\"label\":\"Ei\",\"values\":[10.81]},{\"axis\":{\"matches\":true},\"label\":\"Alpha\",\"values\":[8.24]},{\"axis\":{\"matches\":true},\"label\":\"Dipole\",\"values\":[2.05]},{\"axis\":{\"matches\":true},\"label\":\"pi_bond\",\"values\":[0.0]},{\"axis\":{\"matches\":true},\"label\":\"Expt\",\"values\":[97.0]}],\"hovertemplate\":\"Molecule=n-Propylchloride\\u002f1-chloropropane\\u003cbr\\u003e%{xaxis.title.text}=%{x}\\u003cbr\\u003e%{yaxis.title.text}=%{y}\\u003cextra\\u003e\\u003c\\u002fextra\\u003e\",\"legendgroup\":\"n-Propylchloride\\u002f1-chloropropane\",\"marker\":{\"color\":\"blue\",\"symbol\":\"circle\"},\"name\":\"n-Propylchloride\\u002f1-chloropropane\",\"showlegend\":true,\"type\":\"splom\"},{\"dimensions\":[{\"axis\":{\"matches\":true},\"label\":\"Ei\",\"values\":[10.01]},{\"axis\":{\"matches\":true},\"label\":\"Alpha\",\"values\":[8.8]},{\"axis\":{\"matches\":true},\"label\":\"Dipole\",\"values\":[2.13]},{\"axis\":{\"matches\":true},\"label\":\"pi_bond\",\"values\":[1.0]},{\"axis\":{\"matches\":true},\"label\":\"Expt\",\"values\":[190.0]}],\"hovertemplate\":\"Molecule=Etilacetato\\u003cbr\\u003e%{xaxis.title.text}=%{x}\\u003cbr\\u003e%{yaxis.title.text}=%{y}\\u003cextra\\u003e\\u003c\\u002fextra\\u003e\",\"legendgroup\":\"Etilacetato\",\"marker\":{\"color\":\"blue\",\"symbol\":\"circle\"},\"name\":\"Etilacetato\",\"showlegend\":true,\"type\":\"splom\"},{\"dimensions\":[{\"axis\":{\"matches\":true},\"label\":\"Ei\",\"values\":[10.79]},{\"axis\":{\"matches\":true},\"label\":\"Alpha\",\"values\":[8.36]},{\"axis\":{\"matches\":true},\"label\":\"Dipole\",\"values\":[2.17]},{\"axis\":{\"matches\":true},\"label\":\"pi_bond\",\"values\":[0.0]},{\"axis\":{\"matches\":true},\"label\":\"Expt\",\"values\":[113.0]}],\"hovertemplate\":\"Molecule=Isopropylcloride\\u003cbr\\u003e%{xaxis.title.text}=%{x}\\u003cbr\\u003e%{yaxis.title.text}=%{y}\\u003cextra\\u003e\\u003c\\u002fextra\\u003e\",\"legendgroup\":\"Isopropylcloride\",\"marker\":{\"color\":\"blue\",\"symbol\":\"circle\"},\"name\":\"Isopropylcloride\",\"showlegend\":true,\"type\":\"splom\"},{\"dimensions\":[{\"axis\":{\"matches\":true},\"label\":\"Ei\",\"values\":[9.26]},{\"axis\":{\"matches\":true},\"label\":\"Alpha\",\"values\":[9.5]},{\"axis\":{\"matches\":true},\"label\":\"Dipole\",\"values\":[2.19]},{\"axis\":{\"matches\":true},\"label\":\"pi_bond\",\"values\":[3.0]},{\"axis\":{\"matches\":true},\"label\":\"Expt\",\"values\":[186.0]}],\"hovertemplate\":\"Molecule=Pyridine\\u003cbr\\u003e%{xaxis.title.text}=%{x}\\u003cbr\\u003e%{yaxis.title.text}=%{y}\\u003cextra\\u003e\\u003c\\u002fextra\\u003e\",\"legendgroup\":\"Pyridine\",\"marker\":{\"color\":\"blue\",\"symbol\":\"circle\"},\"name\":\"Pyridine\",\"showlegend\":true,\"type\":\"splom\"},{\"dimensions\":[{\"axis\":{\"matches\":true},\"label\":\"Ei\",\"values\":[10.3]},{\"axis\":{\"matches\":true},\"label\":\"Alpha\",\"values\":[13.6]},{\"axis\":{\"matches\":true},\"label\":\"Dipole\",\"values\":[2.0]},{\"axis\":{\"matches\":true},\"label\":\"pi_bond\",\"values\":[0.0]},{\"axis\":{\"matches\":true},\"label\":\"Expt\",\"values\":[175.0]}],\"hovertemplate\":\"Molecule=1-cl.hexano\\u003cbr\\u003e%{xaxis.title.text}=%{x}\\u003cbr\\u003e%{yaxis.title.text}=%{y}\\u003cextra\\u003e\\u003c\\u002fextra\\u003e\",\"legendgroup\":\"1-cl.hexano\",\"marker\":{\"color\":\"blue\",\"symbol\":\"circle\"},\"name\":\"1-cl.hexano\",\"showlegend\":true,\"type\":\"splom\"},{\"dimensions\":[{\"axis\":{\"matches\":true},\"label\":\"Ei\",\"values\":[9.84]},{\"axis\":{\"matches\":true},\"label\":\"Alpha\",\"values\":[8.28]},{\"axis\":{\"matches\":true},\"label\":\"Dipole\",\"values\":[2.72]},{\"axis\":{\"matches\":true},\"label\":\"pi_bond\",\"values\":[1.0]},{\"axis\":{\"matches\":true},\"label\":\"Expt\",\"values\":[150.0]}],\"hovertemplate\":\"Molecule=Butanal\\u003cbr\\u003e%{xaxis.title.text}=%{x}\\u003cbr\\u003e%{yaxis.title.text}=%{y}\\u003cextra\\u003e\\u003c\\u002fextra\\u003e\",\"legendgroup\":\"Butanal\",\"marker\":{\"color\":\"blue\",\"symbol\":\"circle\"},\"name\":\"Butanal\",\"showlegend\":true,\"type\":\"splom\"},{\"dimensions\":[{\"axis\":{\"matches\":true},\"label\":\"Ei\",\"values\":[9.52]},{\"axis\":{\"matches\":true},\"label\":\"Alpha\",\"values\":[8.21]},{\"axis\":{\"matches\":true},\"label\":\"Dipole\",\"values\":[2.78]},{\"axis\":{\"matches\":true},\"label\":\"pi_bond\",\"values\":[1.0]},{\"axis\":{\"matches\":true},\"label\":\"Expt\",\"values\":[205.0]}],\"hovertemplate\":\"Molecule=2-Butanona\\u003cbr\\u003e%{xaxis.title.text}=%{x}\\u003cbr\\u003e%{yaxis.title.text}=%{y}\\u003cextra\\u003e\\u003c\\u002fextra\\u003e\",\"legendgroup\":\"2-Butanona\",\"marker\":{\"color\":\"blue\",\"symbol\":\"circle\"},\"name\":\"2-Butanona\",\"showlegend\":true,\"type\":\"splom\"},{\"dimensions\":[{\"axis\":{\"matches\":true},\"label\":\"Ei\",\"values\":[8.29]},{\"axis\":{\"matches\":true},\"label\":\"Alpha\",\"values\":[12.6]},{\"axis\":{\"matches\":true},\"label\":\"Dipole\",\"values\":[0.25]},{\"axis\":{\"matches\":true},\"label\":\"pi_bond\",\"values\":[3.0]},{\"axis\":{\"matches\":true},\"label\":\"Expt\",\"values\":[190.0]}],\"hovertemplate\":\"Molecule=Cycloheptatriene\\u003cbr\\u003e%{xaxis.title.text}=%{x}\\u003cbr\\u003e%{yaxis.title.text}=%{y}\\u003cextra\\u003e\\u003c\\u002fextra\\u003e\",\"legendgroup\":\"Cycloheptatriene\",\"marker\":{\"color\":\"blue\",\"symbol\":\"circle\"},\"name\":\"Cycloheptatriene\",\"showlegend\":true,\"type\":\"splom\"},{\"dimensions\":[{\"axis\":{\"matches\":true},\"label\":\"Ei\",\"values\":[10.2]},{\"axis\":{\"matches\":true},\"label\":\"Alpha\",\"values\":[4.6]},{\"axis\":{\"matches\":true},\"label\":\"Dipole\",\"values\":[2.8]},{\"axis\":{\"matches\":true},\"label\":\"pi_bond\",\"values\":[1.0]},{\"axis\":{\"matches\":true},\"label\":\"Expt\",\"values\":[88.0]}],\"hovertemplate\":\"Molecule=Acetaldeído\\u003cbr\\u003e%{xaxis.title.text}=%{x}\\u003cbr\\u003e%{yaxis.title.text}=%{y}\\u003cextra\\u003e\\u003c\\u002fextra\\u003e\",\"legendgroup\":\"Acetaldeído\",\"marker\":{\"color\":\"blue\",\"symbol\":\"circle\"},\"name\":\"Acetaldeído\",\"showlegend\":true,\"type\":\"splom\"},{\"dimensions\":[{\"axis\":{\"matches\":true},\"label\":\"Ei\",\"values\":[10.0]},{\"axis\":{\"matches\":true},\"label\":\"Alpha\",\"values\":[6.2]},{\"axis\":{\"matches\":true},\"label\":\"Dipole\",\"values\":[2.8]},{\"axis\":{\"matches\":true},\"label\":\"pi_bond\",\"values\":[1.0]},{\"axis\":{\"matches\":true},\"label\":\"Expt\",\"values\":[115.0]}],\"hovertemplate\":\"Molecule=Propanal\\u003cbr\\u003e%{xaxis.title.text}=%{x}\\u003cbr\\u003e%{yaxis.title.text}=%{y}\\u003cextra\\u003e\\u003c\\u002fextra\\u003e\",\"legendgroup\":\"Propanal\",\"marker\":{\"color\":\"blue\",\"symbol\":\"circle\"},\"name\":\"Propanal\",\"showlegend\":true,\"type\":\"splom\"},{\"dimensions\":[{\"axis\":{\"matches\":true},\"label\":\"Ei\",\"values\":[9.7]},{\"axis\":{\"matches\":true},\"label\":\"Alpha\",\"values\":[6.41]},{\"axis\":{\"matches\":true},\"label\":\"Dipole\",\"values\":[2.88]},{\"axis\":{\"matches\":true},\"label\":\"pi_bond\",\"values\":[1.0]},{\"axis\":{\"matches\":true},\"label\":\"Expt\",\"values\":[170.0]}],\"hovertemplate\":\"Molecule=Acetona\\u003cbr\\u003e%{xaxis.title.text}=%{x}\\u003cbr\\u003e%{yaxis.title.text}=%{y}\\u003cextra\\u003e\\u003c\\u002fextra\\u003e\",\"legendgroup\":\"Acetona\",\"marker\":{\"color\":\"blue\",\"symbol\":\"circle\"},\"name\":\"Acetona\",\"showlegend\":true,\"type\":\"splom\"},{\"dimensions\":[{\"axis\":{\"matches\":true},\"label\":\"Ei\",\"values\":[9.28]},{\"axis\":{\"matches\":true},\"label\":\"Alpha\",\"values\":[14.4]},{\"axis\":{\"matches\":true},\"label\":\"Dipole\",\"values\":[3.02]},{\"axis\":{\"matches\":true},\"label\":\"pi_bond\",\"values\":[4.0]},{\"axis\":{\"matches\":true},\"label\":\"Expt\",\"values\":[288.0]}],\"hovertemplate\":\"Molecule=Acetophenone\\u003cbr\\u003e%{xaxis.title.text}=%{x}\\u003cbr\\u003e%{yaxis.title.text}=%{y}\\u003cextra\\u003e\\u003c\\u002fextra\\u003e\",\"legendgroup\":\"Acetophenone\",\"marker\":{\"color\":\"blue\",\"symbol\":\"circle\"},\"name\":\"Acetophenone\",\"showlegend\":true,\"type\":\"splom\"},{\"dimensions\":[{\"axis\":{\"matches\":true},\"label\":\"Ei\",\"values\":[9.5]},{\"axis\":{\"matches\":true},\"label\":\"Alpha\",\"values\":[12.8]},{\"axis\":{\"matches\":true},\"label\":\"Dipole\",\"values\":[3.14]},{\"axis\":{\"matches\":true},\"label\":\"pi_bond\",\"values\":[4.0]},{\"axis\":{\"matches\":true},\"label\":\"Expt\",\"values\":[220.0]}],\"hovertemplate\":\"Molecule=Benzaldehyde\\u003cbr\\u003e%{xaxis.title.text}=%{x}\\u003cbr\\u003e%{yaxis.title.text}=%{y}\\u003cextra\\u003e\\u003c\\u002fextra\\u003e\",\"legendgroup\":\"Benzaldehyde\",\"marker\":{\"color\":\"blue\",\"symbol\":\"circle\"},\"name\":\"Benzaldehyde\",\"showlegend\":true,\"type\":\"splom\"},{\"dimensions\":[{\"axis\":{\"matches\":true},\"label\":\"Ei\",\"values\":[9.3]},{\"axis\":{\"matches\":true},\"label\":\"Alpha\",\"values\":[9.0]},{\"axis\":{\"matches\":true},\"label\":\"Dipole\",\"values\":[3.3]},{\"axis\":{\"matches\":true},\"label\":\"pi_bond\",\"values\":[1.0]},{\"axis\":{\"matches\":true},\"label\":\"Expt\",\"values\":[230.0]}],\"hovertemplate\":\"Molecule=Ciclopentanona\\u003cbr\\u003e%{xaxis.title.text}=%{x}\\u003cbr\\u003e%{yaxis.title.text}=%{y}\\u003cextra\\u003e\\u003c\\u002fextra\\u003e\",\"legendgroup\":\"Ciclopentanona\",\"marker\":{\"color\":\"blue\",\"symbol\":\"circle\"},\"name\":\"Ciclopentanona\",\"showlegend\":true,\"type\":\"splom\"},{\"dimensions\":[{\"axis\":{\"matches\":true},\"label\":\"Ei\",\"values\":[12.2]},{\"axis\":{\"matches\":true},\"label\":\"Alpha\",\"values\":[4.4]},{\"axis\":{\"matches\":true},\"label\":\"Dipole\",\"values\":[3.9]},{\"axis\":{\"matches\":true},\"label\":\"pi_bond\",\"values\":[2.0]},{\"axis\":{\"matches\":true},\"label\":\"Expt\",\"values\":[180.0]}],\"hovertemplate\":\"Molecule=Acetonitrila\\u003cbr\\u003e%{xaxis.title.text}=%{x}\\u003cbr\\u003e%{yaxis.title.text}=%{y}\\u003cextra\\u003e\\u003c\\u002fextra\\u003e\",\"legendgroup\":\"Acetonitrila\",\"marker\":{\"color\":\"blue\",\"symbol\":\"circle\"},\"name\":\"Acetonitrila\",\"showlegend\":true,\"type\":\"splom\"},{\"dimensions\":[{\"axis\":{\"matches\":true},\"label\":\"Ei\",\"values\":[11.8]},{\"axis\":{\"matches\":true},\"label\":\"Alpha\",\"values\":[6.3]},{\"axis\":{\"matches\":true},\"label\":\"Dipole\",\"values\":[4.1]},{\"axis\":{\"matches\":true},\"label\":\"pi_bond\",\"values\":[2.0]},{\"axis\":{\"matches\":true},\"label\":\"Expt\",\"values\":[245.0]}],\"hovertemplate\":\"Molecule=Propionitrila\\u003cbr\\u003e%{xaxis.title.text}=%{x}\\u003cbr\\u003e%{yaxis.title.text}=%{y}\\u003cextra\\u003e\\u003c\\u002fextra\\u003e\",\"legendgroup\":\"Propionitrila\",\"marker\":{\"color\":\"blue\",\"symbol\":\"circle\"},\"name\":\"Propionitrila\",\"showlegend\":true,\"type\":\"splom\"},{\"dimensions\":[{\"axis\":{\"matches\":true},\"label\":\"Ei\",\"values\":[8.74]},{\"axis\":{\"matches\":true},\"label\":\"Alpha\",\"values\":[9.27]},{\"axis\":{\"matches\":true},\"label\":\"Dipole\",\"values\":[4.22]},{\"axis\":{\"matches\":true},\"label\":\"pi_bond\",\"values\":[3.0]},{\"axis\":{\"matches\":true},\"label\":\"Expt\",\"values\":[330.0]}],\"hovertemplate\":\"Molecule=Pyridazine\\u003cbr\\u003e%{xaxis.title.text}=%{x}\\u003cbr\\u003e%{yaxis.title.text}=%{y}\\u003cextra\\u003e\\u003c\\u002fextra\\u003e\",\"legendgroup\":\"Pyridazine\",\"marker\":{\"color\":\"blue\",\"symbol\":\"circle\"},\"name\":\"Pyridazine\",\"showlegend\":true,\"type\":\"splom\"},{\"dimensions\":[{\"axis\":{\"matches\":true},\"label\":\"Ei\",\"values\":[11.3]},{\"axis\":{\"matches\":true},\"label\":\"Alpha\",\"values\":[8.1]},{\"axis\":{\"matches\":true},\"label\":\"Dipole\",\"values\":[4.3]},{\"axis\":{\"matches\":true},\"label\":\"pi_bond\",\"values\":[2.0]},{\"axis\":{\"matches\":true},\"label\":\"Expt\",\"values\":[274.0]}],\"hovertemplate\":\"Molecule=2-Metilpropionitrila\\u003cbr\\u003e%{xaxis.title.text}=%{x}\\u003cbr\\u003e%{yaxis.title.text}=%{y}\\u003cextra\\u003e\\u003c\\u002fextra\\u003e\",\"legendgroup\":\"2-Metilpropionitrila\",\"marker\":{\"color\":\"blue\",\"symbol\":\"circle\"},\"name\":\"2-Metilpropionitrila\",\"showlegend\":true,\"type\":\"splom\"},{\"dimensions\":[{\"axis\":{\"matches\":true},\"label\":\"Ei\",\"values\":[9.73]},{\"axis\":{\"matches\":true},\"label\":\"Alpha\",\"values\":[12.5]},{\"axis\":{\"matches\":true},\"label\":\"Dipole\",\"values\":[4.52]},{\"axis\":{\"matches\":true},\"label\":\"pi_bond\",\"values\":[5.0]},{\"axis\":{\"matches\":true},\"label\":\"Expt\",\"values\":[298.0]}],\"hovertemplate\":\"Molecule=Benzonitrile\\u003cbr\\u003e%{xaxis.title.text}=%{x}\\u003cbr\\u003e%{yaxis.title.text}=%{y}\\u003cextra\\u003e\\u003c\\u002fextra\\u003e\",\"legendgroup\":\"Benzonitrile\",\"marker\":{\"color\":\"blue\",\"symbol\":\"circle\"},\"name\":\"Benzonitrile\",\"showlegend\":true,\"type\":\"splom\"}],                        {\"template\":{\"data\":{\"histogram2dcontour\":[{\"type\":\"histogram2dcontour\",\"colorbar\":{\"outlinewidth\":0,\"ticks\":\"\"},\"colorscale\":[[0.0,\"#0d0887\"],[0.1111111111111111,\"#46039f\"],[0.2222222222222222,\"#7201a8\"],[0.3333333333333333,\"#9c179e\"],[0.4444444444444444,\"#bd3786\"],[0.5555555555555556,\"#d8576b\"],[0.6666666666666666,\"#ed7953\"],[0.7777777777777778,\"#fb9f3a\"],[0.8888888888888888,\"#fdca26\"],[1.0,\"#f0f921\"]]}],\"choropleth\":[{\"type\":\"choropleth\",\"colorbar\":{\"outlinewidth\":0,\"ticks\":\"\"}}],\"histogram2d\":[{\"type\":\"histogram2d\",\"colorbar\":{\"outlinewidth\":0,\"ticks\":\"\"},\"colorscale\":[[0.0,\"#0d0887\"],[0.1111111111111111,\"#46039f\"],[0.2222222222222222,\"#7201a8\"],[0.3333333333333333,\"#9c179e\"],[0.4444444444444444,\"#bd3786\"],[0.5555555555555556,\"#d8576b\"],[0.6666666666666666,\"#ed7953\"],[0.7777777777777778,\"#fb9f3a\"],[0.8888888888888888,\"#fdca26\"],[1.0,\"#f0f921\"]]}],\"heatmap\":[{\"type\":\"heatmap\",\"colorbar\":{\"outlinewidth\":0,\"ticks\":\"\"},\"colorscale\":[[0.0,\"#0d0887\"],[0.1111111111111111,\"#46039f\"],[0.2222222222222222,\"#7201a8\"],[0.3333333333333333,\"#9c179e\"],[0.4444444444444444,\"#bd3786\"],[0.5555555555555556,\"#d8576b\"],[0.6666666666666666,\"#ed7953\"],[0.7777777777777778,\"#fb9f3a\"],[0.8888888888888888,\"#fdca26\"],[1.0,\"#f0f921\"]]}],\"heatmapgl\":[{\"type\":\"heatmapgl\",\"colorbar\":{\"outlinewidth\":0,\"ticks\":\"\"},\"colorscale\":[[0.0,\"#0d0887\"],[0.1111111111111111,\"#46039f\"],[0.2222222222222222,\"#7201a8\"],[0.3333333333333333,\"#9c179e\"],[0.4444444444444444,\"#bd3786\"],[0.5555555555555556,\"#d8576b\"],[0.6666666666666666,\"#ed7953\"],[0.7777777777777778,\"#fb9f3a\"],[0.8888888888888888,\"#fdca26\"],[1.0,\"#f0f921\"]]}],\"contourcarpet\":[{\"type\":\"contourcarpet\",\"colorbar\":{\"outlinewidth\":0,\"ticks\":\"\"}}],\"contour\":[{\"type\":\"contour\",\"colorbar\":{\"outlinewidth\":0,\"ticks\":\"\"},\"colorscale\":[[0.0,\"#0d0887\"],[0.1111111111111111,\"#46039f\"],[0.2222222222222222,\"#7201a8\"],[0.3333333333333333,\"#9c179e\"],[0.4444444444444444,\"#bd3786\"],[0.5555555555555556,\"#d8576b\"],[0.6666666666666666,\"#ed7953\"],[0.7777777777777778,\"#fb9f3a\"],[0.8888888888888888,\"#fdca26\"],[1.0,\"#f0f921\"]]}],\"surface\":[{\"type\":\"surface\",\"colorbar\":{\"outlinewidth\":0,\"ticks\":\"\"},\"colorscale\":[[0.0,\"#0d0887\"],[0.1111111111111111,\"#46039f\"],[0.2222222222222222,\"#7201a8\"],[0.3333333333333333,\"#9c179e\"],[0.4444444444444444,\"#bd3786\"],[0.5555555555555556,\"#d8576b\"],[0.6666666666666666,\"#ed7953\"],[0.7777777777777778,\"#fb9f3a\"],[0.8888888888888888,\"#fdca26\"],[1.0,\"#f0f921\"]]}],\"mesh3d\":[{\"type\":\"mesh3d\",\"colorbar\":{\"outlinewidth\":0,\"ticks\":\"\"}}],\"scatter\":[{\"fillpattern\":{\"fillmode\":\"overlay\",\"size\":10,\"solidity\":0.2},\"type\":\"scatter\"}],\"parcoords\":[{\"type\":\"parcoords\",\"line\":{\"colorbar\":{\"outlinewidth\":0,\"ticks\":\"\"}}}],\"scatterpolargl\":[{\"type\":\"scatterpolargl\",\"marker\":{\"colorbar\":{\"outlinewidth\":0,\"ticks\":\"\"}}}],\"bar\":[{\"error_x\":{\"color\":\"#2a3f5f\"},\"error_y\":{\"color\":\"#2a3f5f\"},\"marker\":{\"line\":{\"color\":\"#E5ECF6\",\"width\":0.5},\"pattern\":{\"fillmode\":\"overlay\",\"size\":10,\"solidity\":0.2}},\"type\":\"bar\"}],\"scattergeo\":[{\"type\":\"scattergeo\",\"marker\":{\"colorbar\":{\"outlinewidth\":0,\"ticks\":\"\"}}}],\"scatterpolar\":[{\"type\":\"scatterpolar\",\"marker\":{\"colorbar\":{\"outlinewidth\":0,\"ticks\":\"\"}}}],\"histogram\":[{\"marker\":{\"pattern\":{\"fillmode\":\"overlay\",\"size\":10,\"solidity\":0.2}},\"type\":\"histogram\"}],\"scattergl\":[{\"type\":\"scattergl\",\"marker\":{\"colorbar\":{\"outlinewidth\":0,\"ticks\":\"\"}}}],\"scatter3d\":[{\"type\":\"scatter3d\",\"line\":{\"colorbar\":{\"outlinewidth\":0,\"ticks\":\"\"}},\"marker\":{\"colorbar\":{\"outlinewidth\":0,\"ticks\":\"\"}}}],\"scattermapbox\":[{\"type\":\"scattermapbox\",\"marker\":{\"colorbar\":{\"outlinewidth\":0,\"ticks\":\"\"}}}],\"scatterternary\":[{\"type\":\"scatterternary\",\"marker\":{\"colorbar\":{\"outlinewidth\":0,\"ticks\":\"\"}}}],\"scattercarpet\":[{\"type\":\"scattercarpet\",\"marker\":{\"colorbar\":{\"outlinewidth\":0,\"ticks\":\"\"}}}],\"carpet\":[{\"aaxis\":{\"endlinecolor\":\"#2a3f5f\",\"gridcolor\":\"white\",\"linecolor\":\"white\",\"minorgridcolor\":\"white\",\"startlinecolor\":\"#2a3f5f\"},\"baxis\":{\"endlinecolor\":\"#2a3f5f\",\"gridcolor\":\"white\",\"linecolor\":\"white\",\"minorgridcolor\":\"white\",\"startlinecolor\":\"#2a3f5f\"},\"type\":\"carpet\"}],\"table\":[{\"cells\":{\"fill\":{\"color\":\"#EBF0F8\"},\"line\":{\"color\":\"white\"}},\"header\":{\"fill\":{\"color\":\"#C8D4E3\"},\"line\":{\"color\":\"white\"}},\"type\":\"table\"}],\"barpolar\":[{\"marker\":{\"line\":{\"color\":\"#E5ECF6\",\"width\":0.5},\"pattern\":{\"fillmode\":\"overlay\",\"size\":10,\"solidity\":0.2}},\"type\":\"barpolar\"}],\"pie\":[{\"automargin\":true,\"type\":\"pie\"}]},\"layout\":{\"autotypenumbers\":\"strict\",\"colorway\":[\"#636efa\",\"#EF553B\",\"#00cc96\",\"#ab63fa\",\"#FFA15A\",\"#19d3f3\",\"#FF6692\",\"#B6E880\",\"#FF97FF\",\"#FECB52\"],\"font\":{\"color\":\"#2a3f5f\"},\"hovermode\":\"closest\",\"hoverlabel\":{\"align\":\"left\"},\"paper_bgcolor\":\"white\",\"plot_bgcolor\":\"#E5ECF6\",\"polar\":{\"bgcolor\":\"#E5ECF6\",\"angularaxis\":{\"gridcolor\":\"white\",\"linecolor\":\"white\",\"ticks\":\"\"},\"radialaxis\":{\"gridcolor\":\"white\",\"linecolor\":\"white\",\"ticks\":\"\"}},\"ternary\":{\"bgcolor\":\"#E5ECF6\",\"aaxis\":{\"gridcolor\":\"white\",\"linecolor\":\"white\",\"ticks\":\"\"},\"baxis\":{\"gridcolor\":\"white\",\"linecolor\":\"white\",\"ticks\":\"\"},\"caxis\":{\"gridcolor\":\"white\",\"linecolor\":\"white\",\"ticks\":\"\"}},\"coloraxis\":{\"colorbar\":{\"outlinewidth\":0,\"ticks\":\"\"}},\"colorscale\":{\"sequential\":[[0.0,\"#0d0887\"],[0.1111111111111111,\"#46039f\"],[0.2222222222222222,\"#7201a8\"],[0.3333333333333333,\"#9c179e\"],[0.4444444444444444,\"#bd3786\"],[0.5555555555555556,\"#d8576b\"],[0.6666666666666666,\"#ed7953\"],[0.7777777777777778,\"#fb9f3a\"],[0.8888888888888888,\"#fdca26\"],[1.0,\"#f0f921\"]],\"sequentialminus\":[[0.0,\"#0d0887\"],[0.1111111111111111,\"#46039f\"],[0.2222222222222222,\"#7201a8\"],[0.3333333333333333,\"#9c179e\"],[0.4444444444444444,\"#bd3786\"],[0.5555555555555556,\"#d8576b\"],[0.6666666666666666,\"#ed7953\"],[0.7777777777777778,\"#fb9f3a\"],[0.8888888888888888,\"#fdca26\"],[1.0,\"#f0f921\"]],\"diverging\":[[0,\"#8e0152\"],[0.1,\"#c51b7d\"],[0.2,\"#de77ae\"],[0.3,\"#f1b6da\"],[0.4,\"#fde0ef\"],[0.5,\"#f7f7f7\"],[0.6,\"#e6f5d0\"],[0.7,\"#b8e186\"],[0.8,\"#7fbc41\"],[0.9,\"#4d9221\"],[1,\"#276419\"]]},\"xaxis\":{\"gridcolor\":\"white\",\"linecolor\":\"white\",\"ticks\":\"\",\"title\":{\"standoff\":15},\"zerolinecolor\":\"white\",\"automargin\":true,\"zerolinewidth\":2},\"yaxis\":{\"gridcolor\":\"white\",\"linecolor\":\"white\",\"ticks\":\"\",\"title\":{\"standoff\":15},\"zerolinecolor\":\"white\",\"automargin\":true,\"zerolinewidth\":2},\"scene\":{\"xaxis\":{\"backgroundcolor\":\"#E5ECF6\",\"gridcolor\":\"white\",\"linecolor\":\"white\",\"showbackground\":true,\"ticks\":\"\",\"zerolinecolor\":\"white\",\"gridwidth\":2},\"yaxis\":{\"backgroundcolor\":\"#E5ECF6\",\"gridcolor\":\"white\",\"linecolor\":\"white\",\"showbackground\":true,\"ticks\":\"\",\"zerolinecolor\":\"white\",\"gridwidth\":2},\"zaxis\":{\"backgroundcolor\":\"#E5ECF6\",\"gridcolor\":\"white\",\"linecolor\":\"white\",\"showbackground\":true,\"ticks\":\"\",\"zerolinecolor\":\"white\",\"gridwidth\":2}},\"shapedefaults\":{\"line\":{\"color\":\"#2a3f5f\"}},\"annotationdefaults\":{\"arrowcolor\":\"#2a3f5f\",\"arrowhead\":0,\"arrowwidth\":1},\"geo\":{\"bgcolor\":\"white\",\"landcolor\":\"#E5ECF6\",\"subunitcolor\":\"white\",\"showland\":true,\"showlakes\":true,\"lakecolor\":\"white\"},\"title\":{\"x\":0.05},\"mapbox\":{\"style\":\"light\"}}},\"legend\":{\"title\":{\"text\":\"Molecule\"},\"tracegroupgap\":0},\"margin\":{\"t\":60},\"dragmode\":\"select\"},                        {\"responsive\": true}                    ).then(function(){\n",
       "                            \n",
       "var gd = document.getElementById('4abdef8a-0178-4172-a535-8d9c4e009ea6');\n",
       "var x = new MutationObserver(function (mutations, observer) {{\n",
       "        var display = window.getComputedStyle(gd).display;\n",
       "        if (!display || display === 'none') {{\n",
       "            console.log([gd, 'removed!']);\n",
       "            Plotly.purge(gd);\n",
       "            observer.disconnect();\n",
       "        }}\n",
       "}});\n",
       "\n",
       "// Listen for the removal of the full notebook cells\n",
       "var notebookContainer = gd.closest('#notebook-container');\n",
       "if (notebookContainer) {{\n",
       "    x.observe(notebookContainer, {childList: true});\n",
       "}}\n",
       "\n",
       "// Listen for the clearing of the current output cell\n",
       "var outputEl = gd.closest('.output');\n",
       "if (outputEl) {{\n",
       "    x.observe(outputEl, {childList: true});\n",
       "}}\n",
       "\n",
       "                        })                };                });            </script>        </div>"
      ]
     },
     "metadata": {},
     "output_type": "display_data"
    }
   ],
   "source": [
    "# tentando entender onde se encontram essas moléculas\n",
    "def color_map(molecule):\n",
    "    return 'red' if molecule in ['Etanol', '1,1-dicloroetileno/Vinilideno',\n",
    "       '2,2-difl.propano'] else 'blue'\n",
    "\n",
    "px.scatter_matrix(df_all_pol, dimensions=[\"Ei\", \"Alpha\", \"Dipole\", \"pi_bond\", \"Expt\"], \n",
    "                  color=\"Molecule\",\n",
    "                  color_discrete_map={m: color_map(m) for m in df_all_pol[\"Molecule\"]})"
   ]
  },
  {
   "cell_type": "markdown",
   "metadata": {},
   "source": [
    "# Constructing models"
   ]
  },
  {
   "cell_type": "code",
   "execution_count": 39,
   "metadata": {},
   "outputs": [],
   "source": [
    "X = df_all_pol[[\"Ei\", \"Alpha\", \"Dipole\", \"pi_bond\"]]\n",
    "y = df_all_pol[\"Expt\"]\n",
    "model_names = [\"poly\", \"svr\", \"ensemble\"]\n",
    "models_list = pickle.load(open(\"./models/polar/all/all_molecules_models.sav\", \"rb\"))\n"
   ]
  },
  {
   "cell_type": "code",
   "execution_count": 40,
   "metadata": {},
   "outputs": [],
   "source": [
    "df_performances, df_predicts = create_df_predict_performances(models_list, model_names, X, y, df_all_pol)"
   ]
  },
  {
   "cell_type": "code",
   "execution_count": 41,
   "metadata": {},
   "outputs": [
    {
     "data": {
      "text/html": [
       "<div>\n",
       "<style scoped>\n",
       "    .dataframe tbody tr th:only-of-type {\n",
       "        vertical-align: middle;\n",
       "    }\n",
       "\n",
       "    .dataframe tbody tr th {\n",
       "        vertical-align: top;\n",
       "    }\n",
       "\n",
       "    .dataframe thead th {\n",
       "        text-align: right;\n",
       "    }\n",
       "</style>\n",
       "<table border=\"1\" class=\"dataframe\">\n",
       "  <thead>\n",
       "    <tr style=\"text-align: right;\">\n",
       "      <th></th>\n",
       "      <th>Molecule</th>\n",
       "      <th>Formula</th>\n",
       "      <th>poly</th>\n",
       "      <th>svr</th>\n",
       "      <th>ensemble</th>\n",
       "      <th>erro medio</th>\n",
       "      <th>Expt</th>\n",
       "    </tr>\n",
       "  </thead>\n",
       "  <tbody>\n",
       "    <tr>\n",
       "      <th>14</th>\n",
       "      <td>Etanol</td>\n",
       "      <td>C2H6O</td>\n",
       "      <td>1.10</td>\n",
       "      <td>2.83</td>\n",
       "      <td>1.96</td>\n",
       "      <td>1.963333</td>\n",
       "      <td>43.0</td>\n",
       "    </tr>\n",
       "    <tr>\n",
       "      <th>13</th>\n",
       "      <td>1,1-dicloroetileno/Vinilideno</td>\n",
       "      <td>C2H2Cl2</td>\n",
       "      <td>2.04</td>\n",
       "      <td>1.60</td>\n",
       "      <td>1.82</td>\n",
       "      <td>1.820000</td>\n",
       "      <td>30.0</td>\n",
       "    </tr>\n",
       "    <tr>\n",
       "      <th>2</th>\n",
       "      <td>2,2-difl.propano</td>\n",
       "      <td>C3H6F2</td>\n",
       "      <td>1.13</td>\n",
       "      <td>1.04</td>\n",
       "      <td>1.08</td>\n",
       "      <td>1.083333</td>\n",
       "      <td>25.0</td>\n",
       "    </tr>\n",
       "    <tr>\n",
       "      <th>3</th>\n",
       "      <td>Dimetilcarbonato</td>\n",
       "      <td>C3H6O3</td>\n",
       "      <td>0.84</td>\n",
       "      <td>0.83</td>\n",
       "      <td>0.83</td>\n",
       "      <td>0.833333</td>\n",
       "      <td>102.0</td>\n",
       "    </tr>\n",
       "    <tr>\n",
       "      <th>0</th>\n",
       "      <td>Isobutane</td>\n",
       "      <td>C4H10</td>\n",
       "      <td>0.07</td>\n",
       "      <td>1.57</td>\n",
       "      <td>0.82</td>\n",
       "      <td>0.820000</td>\n",
       "      <td>41.0</td>\n",
       "    </tr>\n",
       "    <tr>\n",
       "      <th>20</th>\n",
       "      <td>1-fl-hexano</td>\n",
       "      <td>C6H13F</td>\n",
       "      <td>0.80</td>\n",
       "      <td>0.83</td>\n",
       "      <td>0.81</td>\n",
       "      <td>0.813333</td>\n",
       "      <td>80.0</td>\n",
       "    </tr>\n",
       "    <tr>\n",
       "      <th>29</th>\n",
       "      <td>1,2-cis-dicloroetileno</td>\n",
       "      <td>C2H2Cl2</td>\n",
       "      <td>0.82</td>\n",
       "      <td>0.68</td>\n",
       "      <td>0.75</td>\n",
       "      <td>0.750000</td>\n",
       "      <td>66.0</td>\n",
       "    </tr>\n",
       "    <tr>\n",
       "      <th>12</th>\n",
       "      <td>Clorofórmio</td>\n",
       "      <td>CH3Cl3</td>\n",
       "      <td>0.58</td>\n",
       "      <td>0.62</td>\n",
       "      <td>0.60</td>\n",
       "      <td>0.600000</td>\n",
       "      <td>37.0</td>\n",
       "    </tr>\n",
       "    <tr>\n",
       "      <th>10</th>\n",
       "      <td>Tricloroetileno</td>\n",
       "      <td>C2HCl3</td>\n",
       "      <td>1.06</td>\n",
       "      <td>0.01</td>\n",
       "      <td>0.52</td>\n",
       "      <td>0.530000</td>\n",
       "      <td>50.0</td>\n",
       "    </tr>\n",
       "    <tr>\n",
       "      <th>24</th>\n",
       "      <td>1,2-Ethanediol</td>\n",
       "      <td>C2H6O2</td>\n",
       "      <td>0.52</td>\n",
       "      <td>0.54</td>\n",
       "      <td>0.53</td>\n",
       "      <td>0.530000</td>\n",
       "      <td>70.0</td>\n",
       "    </tr>\n",
       "  </tbody>\n",
       "</table>\n",
       "</div>"
      ],
      "text/plain": [
       "                         Molecule  Formula  poly   svr  ensemble  erro medio  \\\n",
       "14                         Etanol    C2H6O  1.10  2.83      1.96    1.963333   \n",
       "13  1,1-dicloroetileno/Vinilideno  C2H2Cl2  2.04  1.60      1.82    1.820000   \n",
       "2                2,2-difl.propano   C3H6F2  1.13  1.04      1.08    1.083333   \n",
       "3                Dimetilcarbonato   C3H6O3  0.84  0.83      0.83    0.833333   \n",
       "0                       Isobutane    C4H10  0.07  1.57      0.82    0.820000   \n",
       "20                    1-fl-hexano   C6H13F  0.80  0.83      0.81    0.813333   \n",
       "29         1,2-cis-dicloroetileno  C2H2Cl2  0.82  0.68      0.75    0.750000   \n",
       "12                    Clorofórmio   CH3Cl3  0.58  0.62      0.60    0.600000   \n",
       "10                Tricloroetileno   C2HCl3  1.06  0.01      0.52    0.530000   \n",
       "24                 1,2-Ethanediol   C2H6O2  0.52  0.54      0.53    0.530000   \n",
       "\n",
       "     Expt  \n",
       "14   43.0  \n",
       "13   30.0  \n",
       "2    25.0  \n",
       "3   102.0  \n",
       "0    41.0  \n",
       "20   80.0  \n",
       "29   66.0  \n",
       "12   37.0  \n",
       "10   50.0  \n",
       "24   70.0  "
      ]
     },
     "execution_count": 41,
     "metadata": {},
     "output_type": "execute_result"
    }
   ],
   "source": [
    "df_performances.sort_values(\"erro medio\", ascending=False).head(10)"
   ]
  },
  {
   "cell_type": "markdown",
   "metadata": {},
   "source": [
    "Aqui vemos que as moléculas com maior erro são o etanol, vilideno e 2,2-difl.propano. Minha hipótese é que suas variáveis estejam muito perto de outras moléculas porém com erro experimental muito distinto:"
   ]
  },
  {
   "cell_type": "code",
   "execution_count": 42,
   "metadata": {},
   "outputs": [],
   "source": [
    "import pandas as pd\n",
    "import numpy as np\n",
    "\n",
    "def top_k_euclidean(df, sample_value, column_name, features, k):\n",
    "    # Seleciona a amostra específica\n",
    "    sample = df[df[column_name] == sample_value][features].values\n",
    "    \n",
    "    # Calcula a distância euclidiana entre a amostra e todas as outras amostras\n",
    "    distances = df[features].apply(lambda row: np.linalg.norm(row.values - sample), axis=1)\n",
    "    \n",
    "    # Adiciona as distâncias ao dataframe\n",
    "    df['distance'] = distances\n",
    "    \n",
    "    # Ordena o dataframe pelas distâncias e seleciona as top K amostras\n",
    "    top_k_samples = df.nsmallest(k, 'distance')\n",
    "    \n",
    "    return top_k_samples"
   ]
  },
  {
   "cell_type": "code",
   "execution_count": 43,
   "metadata": {},
   "outputs": [
    {
     "data": {
      "text/plain": [
       "Index(['Molecule', 'Formula', 'Expt', 'Dipole', 'Alpha', 'pi_bond', 'Ei'], dtype='object')"
      ]
     },
     "execution_count": 43,
     "metadata": {},
     "output_type": "execute_result"
    }
   ],
   "source": [
    "df_all_pol.columns"
   ]
  },
  {
   "cell_type": "code",
   "execution_count": 44,
   "metadata": {},
   "outputs": [
    {
     "data": {
      "text/html": [
       "<div>\n",
       "<style scoped>\n",
       "    .dataframe tbody tr th:only-of-type {\n",
       "        vertical-align: middle;\n",
       "    }\n",
       "\n",
       "    .dataframe tbody tr th {\n",
       "        vertical-align: top;\n",
       "    }\n",
       "\n",
       "    .dataframe thead th {\n",
       "        text-align: right;\n",
       "    }\n",
       "</style>\n",
       "<table border=\"1\" class=\"dataframe\">\n",
       "  <thead>\n",
       "    <tr style=\"text-align: right;\">\n",
       "      <th></th>\n",
       "      <th>Molecule</th>\n",
       "      <th>Formula</th>\n",
       "      <th>Expt</th>\n",
       "      <th>Dipole</th>\n",
       "      <th>Alpha</th>\n",
       "      <th>pi_bond</th>\n",
       "      <th>Ei</th>\n",
       "    </tr>\n",
       "  </thead>\n",
       "  <tbody>\n",
       "    <tr>\n",
       "      <th>0</th>\n",
       "      <td>Isobutane</td>\n",
       "      <td>C4H10</td>\n",
       "      <td>41.0</td>\n",
       "      <td>0.132</td>\n",
       "      <td>8.14</td>\n",
       "      <td>0.0</td>\n",
       "      <td>10.57</td>\n",
       "    </tr>\n",
       "    <tr>\n",
       "      <th>1</th>\n",
       "      <td>Ciclopenteno</td>\n",
       "      <td>C5H8</td>\n",
       "      <td>70.0</td>\n",
       "      <td>0.200</td>\n",
       "      <td>8.90</td>\n",
       "      <td>1.0</td>\n",
       "      <td>9.00</td>\n",
       "    </tr>\n",
       "    <tr>\n",
       "      <th>2</th>\n",
       "      <td>2,2-difl.propano</td>\n",
       "      <td>C3H6F2</td>\n",
       "      <td>25.0</td>\n",
       "      <td>2.400</td>\n",
       "      <td>5.90</td>\n",
       "      <td>0.0</td>\n",
       "      <td>11.40</td>\n",
       "    </tr>\n",
       "    <tr>\n",
       "      <th>3</th>\n",
       "      <td>Dimetilcarbonato</td>\n",
       "      <td>C3H6O3</td>\n",
       "      <td>102.0</td>\n",
       "      <td>0.300</td>\n",
       "      <td>7.70</td>\n",
       "      <td>1.0</td>\n",
       "      <td>10.30</td>\n",
       "    </tr>\n",
       "    <tr>\n",
       "      <th>4</th>\n",
       "      <td>Ciclohexano</td>\n",
       "      <td>C6H12</td>\n",
       "      <td>82.0</td>\n",
       "      <td>0.330</td>\n",
       "      <td>11.00</td>\n",
       "      <td>1.0</td>\n",
       "      <td>9.90</td>\n",
       "    </tr>\n",
       "    <tr>\n",
       "      <th>5</th>\n",
       "      <td>Ciclohexeno</td>\n",
       "      <td>C6H10</td>\n",
       "      <td>105.0</td>\n",
       "      <td>0.330</td>\n",
       "      <td>10.70</td>\n",
       "      <td>1.0</td>\n",
       "      <td>9.00</td>\n",
       "    </tr>\n",
       "    <tr>\n",
       "      <th>6</th>\n",
       "      <td>Tolueno</td>\n",
       "      <td>C6H5CH3</td>\n",
       "      <td>173.0</td>\n",
       "      <td>0.380</td>\n",
       "      <td>11.86</td>\n",
       "      <td>3.0</td>\n",
       "      <td>8.83</td>\n",
       "    </tr>\n",
       "    <tr>\n",
       "      <th>7</th>\n",
       "      <td>Furan</td>\n",
       "      <td>C4H4O</td>\n",
       "      <td>52.0</td>\n",
       "      <td>0.660</td>\n",
       "      <td>7.23</td>\n",
       "      <td>2.0</td>\n",
       "      <td>8.88</td>\n",
       "    </tr>\n",
       "    <tr>\n",
       "      <th>8</th>\n",
       "      <td>Phenylacetylene</td>\n",
       "      <td>C8H6</td>\n",
       "      <td>230.0</td>\n",
       "      <td>0.660</td>\n",
       "      <td>13.80</td>\n",
       "      <td>5.0</td>\n",
       "      <td>8.82</td>\n",
       "    </tr>\n",
       "    <tr>\n",
       "      <th>9</th>\n",
       "      <td>Dimetoximethano</td>\n",
       "      <td>C3H8O2</td>\n",
       "      <td>78.0</td>\n",
       "      <td>0.700</td>\n",
       "      <td>7.70</td>\n",
       "      <td>0.0</td>\n",
       "      <td>9.70</td>\n",
       "    </tr>\n",
       "    <tr>\n",
       "      <th>10</th>\n",
       "      <td>Tricloroetileno</td>\n",
       "      <td>C2HCl3</td>\n",
       "      <td>50.0</td>\n",
       "      <td>0.800</td>\n",
       "      <td>10.00</td>\n",
       "      <td>1.0</td>\n",
       "      <td>9.50</td>\n",
       "    </tr>\n",
       "    <tr>\n",
       "      <th>11</th>\n",
       "      <td>Bromofórmio</td>\n",
       "      <td>CHBr3</td>\n",
       "      <td>130.0</td>\n",
       "      <td>0.900</td>\n",
       "      <td>11.30</td>\n",
       "      <td>0.0</td>\n",
       "      <td>10.50</td>\n",
       "    </tr>\n",
       "    <tr>\n",
       "      <th>12</th>\n",
       "      <td>Clorofórmio</td>\n",
       "      <td>CH3Cl3</td>\n",
       "      <td>37.0</td>\n",
       "      <td>1.000</td>\n",
       "      <td>8.40</td>\n",
       "      <td>0.0</td>\n",
       "      <td>11.40</td>\n",
       "    </tr>\n",
       "    <tr>\n",
       "      <th>13</th>\n",
       "      <td>1,1-dicloroetileno/Vinilideno</td>\n",
       "      <td>C2H2Cl2</td>\n",
       "      <td>30.0</td>\n",
       "      <td>1.300</td>\n",
       "      <td>8.10</td>\n",
       "      <td>1.0</td>\n",
       "      <td>9.80</td>\n",
       "    </tr>\n",
       "    <tr>\n",
       "      <th>14</th>\n",
       "      <td>Etanol</td>\n",
       "      <td>C2H6O</td>\n",
       "      <td>43.0</td>\n",
       "      <td>1.440</td>\n",
       "      <td>5.11</td>\n",
       "      <td>5.0</td>\n",
       "      <td>10.43</td>\n",
       "    </tr>\n",
       "    <tr>\n",
       "      <th>15</th>\n",
       "      <td>Aniline</td>\n",
       "      <td>C6H5NH2</td>\n",
       "      <td>233.0</td>\n",
       "      <td>1.530</td>\n",
       "      <td>12.10</td>\n",
       "      <td>3.0</td>\n",
       "      <td>7.72</td>\n",
       "    </tr>\n",
       "    <tr>\n",
       "      <th>16</th>\n",
       "      <td>1-Propanol</td>\n",
       "      <td>C3H8O</td>\n",
       "      <td>65.0</td>\n",
       "      <td>1.570</td>\n",
       "      <td>6.70</td>\n",
       "      <td>0.0</td>\n",
       "      <td>10.18</td>\n",
       "    </tr>\n",
       "    <tr>\n",
       "      <th>17</th>\n",
       "      <td>1-fl-butano</td>\n",
       "      <td>C4H9F</td>\n",
       "      <td>70.0</td>\n",
       "      <td>2.200</td>\n",
       "      <td>7.80</td>\n",
       "      <td>0.0</td>\n",
       "      <td>10.20</td>\n",
       "    </tr>\n",
       "    <tr>\n",
       "      <th>18</th>\n",
       "      <td>2-Propanol</td>\n",
       "      <td>C3H8O</td>\n",
       "      <td>85.0</td>\n",
       "      <td>1.580</td>\n",
       "      <td>6.70</td>\n",
       "      <td>0.0</td>\n",
       "      <td>10.17</td>\n",
       "    </tr>\n",
       "    <tr>\n",
       "      <th>19</th>\n",
       "      <td>Diclorometano</td>\n",
       "      <td>CH2Cl2</td>\n",
       "      <td>32.0</td>\n",
       "      <td>1.600</td>\n",
       "      <td>6.50</td>\n",
       "      <td>0.0</td>\n",
       "      <td>11.30</td>\n",
       "    </tr>\n",
       "    <tr>\n",
       "      <th>20</th>\n",
       "      <td>1-fl-hexano</td>\n",
       "      <td>C6H13F</td>\n",
       "      <td>80.0</td>\n",
       "      <td>2.200</td>\n",
       "      <td>11.50</td>\n",
       "      <td>0.0</td>\n",
       "      <td>9.80</td>\n",
       "    </tr>\n",
       "    <tr>\n",
       "      <th>21</th>\n",
       "      <td>1-Butanol</td>\n",
       "      <td>C4H10O</td>\n",
       "      <td>102.0</td>\n",
       "      <td>1.660</td>\n",
       "      <td>8.77</td>\n",
       "      <td>0.0</td>\n",
       "      <td>10.00</td>\n",
       "    </tr>\n",
       "    <tr>\n",
       "      <th>22</th>\n",
       "      <td>1,3-Dichloropropane</td>\n",
       "      <td>C3H6Cl2</td>\n",
       "      <td>85.0</td>\n",
       "      <td>2.080</td>\n",
       "      <td>10.08</td>\n",
       "      <td>0.0</td>\n",
       "      <td>10.89</td>\n",
       "    </tr>\n",
       "    <tr>\n",
       "      <th>23</th>\n",
       "      <td>Metanol</td>\n",
       "      <td>CH4O</td>\n",
       "      <td>20.0</td>\n",
       "      <td>1.690</td>\n",
       "      <td>3.08</td>\n",
       "      <td>0.0</td>\n",
       "      <td>10.80</td>\n",
       "    </tr>\n",
       "    <tr>\n",
       "      <th>24</th>\n",
       "      <td>1,2-Ethanediol</td>\n",
       "      <td>C2H6O2</td>\n",
       "      <td>70.0</td>\n",
       "      <td>1.690</td>\n",
       "      <td>3.08</td>\n",
       "      <td>0.0</td>\n",
       "      <td>10.20</td>\n",
       "    </tr>\n",
       "    <tr>\n",
       "      <th>25</th>\n",
       "      <td>Pyrrole</td>\n",
       "      <td>C4H5N</td>\n",
       "      <td>165.0</td>\n",
       "      <td>1.770</td>\n",
       "      <td>7.90</td>\n",
       "      <td>2.0</td>\n",
       "      <td>8.20</td>\n",
       "    </tr>\n",
       "    <tr>\n",
       "      <th>26</th>\n",
       "      <td>MetilBromo</td>\n",
       "      <td>CH3Br</td>\n",
       "      <td>40.0</td>\n",
       "      <td>1.800</td>\n",
       "      <td>5.60</td>\n",
       "      <td>0.0</td>\n",
       "      <td>10.50</td>\n",
       "    </tr>\n",
       "    <tr>\n",
       "      <th>27</th>\n",
       "      <td>Metyl Formate</td>\n",
       "      <td>C2H4O2</td>\n",
       "      <td>65.0</td>\n",
       "      <td>1.800</td>\n",
       "      <td>5.10</td>\n",
       "      <td>1.0</td>\n",
       "      <td>10.80</td>\n",
       "    </tr>\n",
       "    <tr>\n",
       "      <th>28</th>\n",
       "      <td>Methyl Chloride</td>\n",
       "      <td>CH3Cl</td>\n",
       "      <td>25.0</td>\n",
       "      <td>1.900</td>\n",
       "      <td>5.40</td>\n",
       "      <td>0.0</td>\n",
       "      <td>11.20</td>\n",
       "    </tr>\n",
       "    <tr>\n",
       "      <th>29</th>\n",
       "      <td>1,2-cis-dicloroetileno</td>\n",
       "      <td>C2H2Cl2</td>\n",
       "      <td>66.0</td>\n",
       "      <td>1.900</td>\n",
       "      <td>8.00</td>\n",
       "      <td>1.0</td>\n",
       "      <td>9.70</td>\n",
       "    </tr>\n",
       "    <tr>\n",
       "      <th>30</th>\n",
       "      <td>Etilformato</td>\n",
       "      <td>C3H6O2</td>\n",
       "      <td>95.0</td>\n",
       "      <td>1.930</td>\n",
       "      <td>7.02</td>\n",
       "      <td>1.0</td>\n",
       "      <td>10.61</td>\n",
       "    </tr>\n",
       "    <tr>\n",
       "      <th>31</th>\n",
       "      <td>1-fl-propano</td>\n",
       "      <td>C3H7F</td>\n",
       "      <td>35.0</td>\n",
       "      <td>2.000</td>\n",
       "      <td>6.00</td>\n",
       "      <td>0.0</td>\n",
       "      <td>11.30</td>\n",
       "    </tr>\n",
       "    <tr>\n",
       "      <th>32</th>\n",
       "      <td>Metilacetato</td>\n",
       "      <td>C3H6O2</td>\n",
       "      <td>120.0</td>\n",
       "      <td>2.000</td>\n",
       "      <td>6.96</td>\n",
       "      <td>1.0</td>\n",
       "      <td>10.25</td>\n",
       "    </tr>\n",
       "    <tr>\n",
       "      <th>33</th>\n",
       "      <td>Propilformato</td>\n",
       "      <td>C4H8O2</td>\n",
       "      <td>130.0</td>\n",
       "      <td>2.400</td>\n",
       "      <td>8.85</td>\n",
       "      <td>1.0</td>\n",
       "      <td>10.52</td>\n",
       "    </tr>\n",
       "    <tr>\n",
       "      <th>34</th>\n",
       "      <td>1,3-Ciclohexadieno</td>\n",
       "      <td>C6H8</td>\n",
       "      <td>132.0</td>\n",
       "      <td>0.440</td>\n",
       "      <td>10.60</td>\n",
       "      <td>2.0</td>\n",
       "      <td>8.30</td>\n",
       "    </tr>\n",
       "    <tr>\n",
       "      <th>35</th>\n",
       "      <td>1-fl-nonano</td>\n",
       "      <td>C9H19F</td>\n",
       "      <td>145.0</td>\n",
       "      <td>2.200</td>\n",
       "      <td>17.00</td>\n",
       "      <td>0.0</td>\n",
       "      <td>9.60</td>\n",
       "    </tr>\n",
       "    <tr>\n",
       "      <th>36</th>\n",
       "      <td>n-Propylchloride/1-chloropropane</td>\n",
       "      <td>C3H7Cl</td>\n",
       "      <td>97.0</td>\n",
       "      <td>2.050</td>\n",
       "      <td>8.24</td>\n",
       "      <td>0.0</td>\n",
       "      <td>10.81</td>\n",
       "    </tr>\n",
       "    <tr>\n",
       "      <th>37</th>\n",
       "      <td>Etilacetato</td>\n",
       "      <td>C4H8O2</td>\n",
       "      <td>190.0</td>\n",
       "      <td>2.130</td>\n",
       "      <td>8.80</td>\n",
       "      <td>1.0</td>\n",
       "      <td>10.01</td>\n",
       "    </tr>\n",
       "    <tr>\n",
       "      <th>38</th>\n",
       "      <td>Isopropylcloride</td>\n",
       "      <td>C3H7Cl</td>\n",
       "      <td>113.0</td>\n",
       "      <td>2.170</td>\n",
       "      <td>8.36</td>\n",
       "      <td>0.0</td>\n",
       "      <td>10.79</td>\n",
       "    </tr>\n",
       "    <tr>\n",
       "      <th>39</th>\n",
       "      <td>Pyridine</td>\n",
       "      <td>C5H5N</td>\n",
       "      <td>186.0</td>\n",
       "      <td>2.190</td>\n",
       "      <td>9.50</td>\n",
       "      <td>3.0</td>\n",
       "      <td>9.26</td>\n",
       "    </tr>\n",
       "    <tr>\n",
       "      <th>40</th>\n",
       "      <td>1-cl.hexano</td>\n",
       "      <td>C6H13Cl</td>\n",
       "      <td>175.0</td>\n",
       "      <td>2.000</td>\n",
       "      <td>13.60</td>\n",
       "      <td>0.0</td>\n",
       "      <td>10.30</td>\n",
       "    </tr>\n",
       "    <tr>\n",
       "      <th>41</th>\n",
       "      <td>Butanal</td>\n",
       "      <td>C4H8O</td>\n",
       "      <td>150.0</td>\n",
       "      <td>2.720</td>\n",
       "      <td>8.28</td>\n",
       "      <td>1.0</td>\n",
       "      <td>9.84</td>\n",
       "    </tr>\n",
       "    <tr>\n",
       "      <th>42</th>\n",
       "      <td>2-Butanona</td>\n",
       "      <td>C4H8O</td>\n",
       "      <td>205.0</td>\n",
       "      <td>2.780</td>\n",
       "      <td>8.21</td>\n",
       "      <td>1.0</td>\n",
       "      <td>9.52</td>\n",
       "    </tr>\n",
       "    <tr>\n",
       "      <th>43</th>\n",
       "      <td>Cycloheptatriene</td>\n",
       "      <td>C7H8</td>\n",
       "      <td>190.0</td>\n",
       "      <td>0.250</td>\n",
       "      <td>12.60</td>\n",
       "      <td>3.0</td>\n",
       "      <td>8.29</td>\n",
       "    </tr>\n",
       "    <tr>\n",
       "      <th>44</th>\n",
       "      <td>Acetaldeído</td>\n",
       "      <td>C2H4O</td>\n",
       "      <td>88.0</td>\n",
       "      <td>2.800</td>\n",
       "      <td>4.60</td>\n",
       "      <td>1.0</td>\n",
       "      <td>10.20</td>\n",
       "    </tr>\n",
       "    <tr>\n",
       "      <th>45</th>\n",
       "      <td>Propanal</td>\n",
       "      <td>C3H6O</td>\n",
       "      <td>115.0</td>\n",
       "      <td>2.800</td>\n",
       "      <td>6.20</td>\n",
       "      <td>1.0</td>\n",
       "      <td>10.00</td>\n",
       "    </tr>\n",
       "    <tr>\n",
       "      <th>46</th>\n",
       "      <td>Acetona</td>\n",
       "      <td>C3H6O</td>\n",
       "      <td>170.0</td>\n",
       "      <td>2.880</td>\n",
       "      <td>6.41</td>\n",
       "      <td>1.0</td>\n",
       "      <td>9.70</td>\n",
       "    </tr>\n",
       "    <tr>\n",
       "      <th>47</th>\n",
       "      <td>Acetophenone</td>\n",
       "      <td>C8H8O</td>\n",
       "      <td>288.0</td>\n",
       "      <td>3.020</td>\n",
       "      <td>14.40</td>\n",
       "      <td>4.0</td>\n",
       "      <td>9.28</td>\n",
       "    </tr>\n",
       "    <tr>\n",
       "      <th>48</th>\n",
       "      <td>Benzaldehyde</td>\n",
       "      <td>C7H6O</td>\n",
       "      <td>220.0</td>\n",
       "      <td>3.140</td>\n",
       "      <td>12.80</td>\n",
       "      <td>4.0</td>\n",
       "      <td>9.50</td>\n",
       "    </tr>\n",
       "    <tr>\n",
       "      <th>49</th>\n",
       "      <td>Ciclopentanona</td>\n",
       "      <td>C5H8O</td>\n",
       "      <td>230.0</td>\n",
       "      <td>3.300</td>\n",
       "      <td>9.00</td>\n",
       "      <td>1.0</td>\n",
       "      <td>9.30</td>\n",
       "    </tr>\n",
       "    <tr>\n",
       "      <th>50</th>\n",
       "      <td>Acetonitrila</td>\n",
       "      <td>C2H3N</td>\n",
       "      <td>180.0</td>\n",
       "      <td>3.900</td>\n",
       "      <td>4.40</td>\n",
       "      <td>2.0</td>\n",
       "      <td>12.20</td>\n",
       "    </tr>\n",
       "    <tr>\n",
       "      <th>51</th>\n",
       "      <td>Propionitrila</td>\n",
       "      <td>C3H5N</td>\n",
       "      <td>245.0</td>\n",
       "      <td>4.100</td>\n",
       "      <td>6.30</td>\n",
       "      <td>2.0</td>\n",
       "      <td>11.80</td>\n",
       "    </tr>\n",
       "    <tr>\n",
       "      <th>52</th>\n",
       "      <td>Pyridazine</td>\n",
       "      <td>C4H4N2</td>\n",
       "      <td>330.0</td>\n",
       "      <td>4.220</td>\n",
       "      <td>9.27</td>\n",
       "      <td>3.0</td>\n",
       "      <td>8.74</td>\n",
       "    </tr>\n",
       "    <tr>\n",
       "      <th>53</th>\n",
       "      <td>2-Metilpropionitrila</td>\n",
       "      <td>C4H7N</td>\n",
       "      <td>274.0</td>\n",
       "      <td>4.300</td>\n",
       "      <td>8.10</td>\n",
       "      <td>2.0</td>\n",
       "      <td>11.30</td>\n",
       "    </tr>\n",
       "    <tr>\n",
       "      <th>54</th>\n",
       "      <td>Benzonitrile</td>\n",
       "      <td>C7H5N</td>\n",
       "      <td>298.0</td>\n",
       "      <td>4.520</td>\n",
       "      <td>12.50</td>\n",
       "      <td>5.0</td>\n",
       "      <td>9.73</td>\n",
       "    </tr>\n",
       "  </tbody>\n",
       "</table>\n",
       "</div>"
      ],
      "text/plain": [
       "                            Molecule  Formula   Expt  Dipole  Alpha  pi_bond  \\\n",
       "0                          Isobutane    C4H10   41.0   0.132   8.14      0.0   \n",
       "1                       Ciclopenteno     C5H8   70.0   0.200   8.90      1.0   \n",
       "2                   2,2-difl.propano   C3H6F2   25.0   2.400   5.90      0.0   \n",
       "3                   Dimetilcarbonato   C3H6O3  102.0   0.300   7.70      1.0   \n",
       "4                        Ciclohexano    C6H12   82.0   0.330  11.00      1.0   \n",
       "5                        Ciclohexeno    C6H10  105.0   0.330  10.70      1.0   \n",
       "6                            Tolueno  C6H5CH3  173.0   0.380  11.86      3.0   \n",
       "7                              Furan    C4H4O   52.0   0.660   7.23      2.0   \n",
       "8                    Phenylacetylene     C8H6  230.0   0.660  13.80      5.0   \n",
       "9                    Dimetoximethano   C3H8O2   78.0   0.700   7.70      0.0   \n",
       "10                   Tricloroetileno   C2HCl3   50.0   0.800  10.00      1.0   \n",
       "11                       Bromofórmio    CHBr3  130.0   0.900  11.30      0.0   \n",
       "12                       Clorofórmio   CH3Cl3   37.0   1.000   8.40      0.0   \n",
       "13     1,1-dicloroetileno/Vinilideno  C2H2Cl2   30.0   1.300   8.10      1.0   \n",
       "14                            Etanol    C2H6O   43.0   1.440   5.11      5.0   \n",
       "15                           Aniline  C6H5NH2  233.0   1.530  12.10      3.0   \n",
       "16                        1-Propanol    C3H8O   65.0   1.570   6.70      0.0   \n",
       "17                       1-fl-butano    C4H9F   70.0   2.200   7.80      0.0   \n",
       "18                        2-Propanol    C3H8O   85.0   1.580   6.70      0.0   \n",
       "19                     Diclorometano   CH2Cl2   32.0   1.600   6.50      0.0   \n",
       "20                       1-fl-hexano   C6H13F   80.0   2.200  11.50      0.0   \n",
       "21                         1-Butanol   C4H10O  102.0   1.660   8.77      0.0   \n",
       "22               1,3-Dichloropropane  C3H6Cl2   85.0   2.080  10.08      0.0   \n",
       "23                           Metanol     CH4O   20.0   1.690   3.08      0.0   \n",
       "24                    1,2-Ethanediol   C2H6O2   70.0   1.690   3.08      0.0   \n",
       "25                           Pyrrole    C4H5N  165.0   1.770   7.90      2.0   \n",
       "26                        MetilBromo    CH3Br   40.0   1.800   5.60      0.0   \n",
       "27                     Metyl Formate   C2H4O2   65.0   1.800   5.10      1.0   \n",
       "28                   Methyl Chloride    CH3Cl   25.0   1.900   5.40      0.0   \n",
       "29            1,2-cis-dicloroetileno  C2H2Cl2   66.0   1.900   8.00      1.0   \n",
       "30                       Etilformato   C3H6O2   95.0   1.930   7.02      1.0   \n",
       "31                      1-fl-propano    C3H7F   35.0   2.000   6.00      0.0   \n",
       "32                      Metilacetato   C3H6O2  120.0   2.000   6.96      1.0   \n",
       "33                     Propilformato   C4H8O2  130.0   2.400   8.85      1.0   \n",
       "34                1,3-Ciclohexadieno     C6H8  132.0   0.440  10.60      2.0   \n",
       "35                       1-fl-nonano   C9H19F  145.0   2.200  17.00      0.0   \n",
       "36  n-Propylchloride/1-chloropropane   C3H7Cl   97.0   2.050   8.24      0.0   \n",
       "37                       Etilacetato   C4H8O2  190.0   2.130   8.80      1.0   \n",
       "38                  Isopropylcloride   C3H7Cl  113.0   2.170   8.36      0.0   \n",
       "39                          Pyridine    C5H5N  186.0   2.190   9.50      3.0   \n",
       "40                       1-cl.hexano  C6H13Cl  175.0   2.000  13.60      0.0   \n",
       "41                           Butanal    C4H8O  150.0   2.720   8.28      1.0   \n",
       "42                        2-Butanona    C4H8O  205.0   2.780   8.21      1.0   \n",
       "43                  Cycloheptatriene     C7H8  190.0   0.250  12.60      3.0   \n",
       "44                       Acetaldeído    C2H4O   88.0   2.800   4.60      1.0   \n",
       "45                          Propanal    C3H6O  115.0   2.800   6.20      1.0   \n",
       "46                           Acetona    C3H6O  170.0   2.880   6.41      1.0   \n",
       "47                      Acetophenone    C8H8O  288.0   3.020  14.40      4.0   \n",
       "48                      Benzaldehyde    C7H6O  220.0   3.140  12.80      4.0   \n",
       "49                    Ciclopentanona    C5H8O  230.0   3.300   9.00      1.0   \n",
       "50                      Acetonitrila    C2H3N  180.0   3.900   4.40      2.0   \n",
       "51                     Propionitrila    C3H5N  245.0   4.100   6.30      2.0   \n",
       "52                        Pyridazine   C4H4N2  330.0   4.220   9.27      3.0   \n",
       "53              2-Metilpropionitrila    C4H7N  274.0   4.300   8.10      2.0   \n",
       "54                      Benzonitrile    C7H5N  298.0   4.520  12.50      5.0   \n",
       "\n",
       "       Ei  \n",
       "0   10.57  \n",
       "1    9.00  \n",
       "2   11.40  \n",
       "3   10.30  \n",
       "4    9.90  \n",
       "5    9.00  \n",
       "6    8.83  \n",
       "7    8.88  \n",
       "8    8.82  \n",
       "9    9.70  \n",
       "10   9.50  \n",
       "11  10.50  \n",
       "12  11.40  \n",
       "13   9.80  \n",
       "14  10.43  \n",
       "15   7.72  \n",
       "16  10.18  \n",
       "17  10.20  \n",
       "18  10.17  \n",
       "19  11.30  \n",
       "20   9.80  \n",
       "21  10.00  \n",
       "22  10.89  \n",
       "23  10.80  \n",
       "24  10.20  \n",
       "25   8.20  \n",
       "26  10.50  \n",
       "27  10.80  \n",
       "28  11.20  \n",
       "29   9.70  \n",
       "30  10.61  \n",
       "31  11.30  \n",
       "32  10.25  \n",
       "33  10.52  \n",
       "34   8.30  \n",
       "35   9.60  \n",
       "36  10.81  \n",
       "37  10.01  \n",
       "38  10.79  \n",
       "39   9.26  \n",
       "40  10.30  \n",
       "41   9.84  \n",
       "42   9.52  \n",
       "43   8.29  \n",
       "44  10.20  \n",
       "45  10.00  \n",
       "46   9.70  \n",
       "47   9.28  \n",
       "48   9.50  \n",
       "49   9.30  \n",
       "50  12.20  \n",
       "51  11.80  \n",
       "52   8.74  \n",
       "53  11.30  \n",
       "54   9.73  "
      ]
     },
     "execution_count": 44,
     "metadata": {},
     "output_type": "execute_result"
    }
   ],
   "source": [
    "df_all_pol"
   ]
  },
  {
   "cell_type": "code",
   "execution_count": null,
   "metadata": {},
   "outputs": [],
   "source": [
    "scaler = MinMaxScaler()\n",
    "X_scaled = scaler.fit_transform(X)\n"
   ]
  },
  {
   "cell_type": "code",
   "execution_count": 74,
   "metadata": {},
   "outputs": [],
   "source": [
    "df_test = df_all_pol.copy()\n",
    "df_test[X.columns] = X_scaled"
   ]
  },
  {
   "cell_type": "code",
   "execution_count": 77,
   "metadata": {},
   "outputs": [
    {
     "data": {
      "text/html": [
       "<div>\n",
       "<style scoped>\n",
       "    .dataframe tbody tr th:only-of-type {\n",
       "        vertical-align: middle;\n",
       "    }\n",
       "\n",
       "    .dataframe tbody tr th {\n",
       "        vertical-align: top;\n",
       "    }\n",
       "\n",
       "    .dataframe thead th {\n",
       "        text-align: right;\n",
       "    }\n",
       "</style>\n",
       "<table border=\"1\" class=\"dataframe\">\n",
       "  <thead>\n",
       "    <tr style=\"text-align: right;\">\n",
       "      <th></th>\n",
       "      <th>Molecule</th>\n",
       "      <th>Formula</th>\n",
       "      <th>Expt</th>\n",
       "      <th>Dipole</th>\n",
       "      <th>Alpha</th>\n",
       "      <th>pi_bond</th>\n",
       "      <th>Ei</th>\n",
       "      <th>distance</th>\n",
       "      <th>cluster_dbscan</th>\n",
       "      <th>cluster_kmeans</th>\n",
       "    </tr>\n",
       "  </thead>\n",
       "  <tbody>\n",
       "    <tr>\n",
       "      <th>2</th>\n",
       "      <td>2,2-difl.propano</td>\n",
       "      <td>C3H6F2</td>\n",
       "      <td>25.0</td>\n",
       "      <td>0.516864</td>\n",
       "      <td>0.202586</td>\n",
       "      <td>0.0</td>\n",
       "      <td>0.821429</td>\n",
       "      <td>0.000000</td>\n",
       "      <td>0</td>\n",
       "      <td>1</td>\n",
       "    </tr>\n",
       "    <tr>\n",
       "      <th>31</th>\n",
       "      <td>1-fl-propano</td>\n",
       "      <td>C3H7F</td>\n",
       "      <td>35.0</td>\n",
       "      <td>0.425706</td>\n",
       "      <td>0.209770</td>\n",
       "      <td>0.0</td>\n",
       "      <td>0.799107</td>\n",
       "      <td>0.094125</td>\n",
       "      <td>0</td>\n",
       "      <td>1</td>\n",
       "    </tr>\n",
       "    <tr>\n",
       "      <th>28</th>\n",
       "      <td>Methyl Chloride</td>\n",
       "      <td>CH3Cl</td>\n",
       "      <td>25.0</td>\n",
       "      <td>0.402917</td>\n",
       "      <td>0.166667</td>\n",
       "      <td>0.0</td>\n",
       "      <td>0.776786</td>\n",
       "      <td>0.127543</td>\n",
       "      <td>0</td>\n",
       "      <td>1</td>\n",
       "    </tr>\n",
       "    <tr>\n",
       "      <th>19</th>\n",
       "      <td>Diclorometano</td>\n",
       "      <td>CH2Cl2</td>\n",
       "      <td>32.0</td>\n",
       "      <td>0.334549</td>\n",
       "      <td>0.245690</td>\n",
       "      <td>0.0</td>\n",
       "      <td>0.799107</td>\n",
       "      <td>0.188667</td>\n",
       "      <td>0</td>\n",
       "      <td>1</td>\n",
       "    </tr>\n",
       "    <tr>\n",
       "      <th>36</th>\n",
       "      <td>n-Propylchloride/1-chloropropane</td>\n",
       "      <td>C3H7Cl</td>\n",
       "      <td>97.0</td>\n",
       "      <td>0.437101</td>\n",
       "      <td>0.370690</td>\n",
       "      <td>0.0</td>\n",
       "      <td>0.689732</td>\n",
       "      <td>0.227958</td>\n",
       "      <td>0</td>\n",
       "      <td>1</td>\n",
       "    </tr>\n",
       "  </tbody>\n",
       "</table>\n",
       "</div>"
      ],
      "text/plain": [
       "                            Molecule Formula  Expt    Dipole     Alpha  \\\n",
       "2                   2,2-difl.propano  C3H6F2  25.0  0.516864  0.202586   \n",
       "31                      1-fl-propano   C3H7F  35.0  0.425706  0.209770   \n",
       "28                   Methyl Chloride   CH3Cl  25.0  0.402917  0.166667   \n",
       "19                     Diclorometano  CH2Cl2  32.0  0.334549  0.245690   \n",
       "36  n-Propylchloride/1-chloropropane  C3H7Cl  97.0  0.437101  0.370690   \n",
       "\n",
       "    pi_bond        Ei  distance  cluster_dbscan  cluster_kmeans  \n",
       "2       0.0  0.821429  0.000000               0               1  \n",
       "31      0.0  0.799107  0.094125               0               1  \n",
       "28      0.0  0.776786  0.127543               0               1  \n",
       "19      0.0  0.799107  0.188667               0               1  \n",
       "36      0.0  0.689732  0.227958               0               1  "
      ]
     },
     "execution_count": 77,
     "metadata": {},
     "output_type": "execute_result"
    }
   ],
   "source": [
    "# Acho que aqui tinha que estar escalado...\n",
    "top_k_euclidean(df_test, \"2,2-difl.propano\", \"Molecule\", \n",
    "                ['Dipole', 'Alpha', 'pi_bond', 'Ei'], 5)"
   ]
  },
  {
   "cell_type": "code",
   "execution_count": 46,
   "metadata": {},
   "outputs": [
    {
     "data": {
      "text/html": [
       "<div>\n",
       "<style scoped>\n",
       "    .dataframe tbody tr th:only-of-type {\n",
       "        vertical-align: middle;\n",
       "    }\n",
       "\n",
       "    .dataframe tbody tr th {\n",
       "        vertical-align: top;\n",
       "    }\n",
       "\n",
       "    .dataframe thead th {\n",
       "        text-align: right;\n",
       "    }\n",
       "</style>\n",
       "<table border=\"1\" class=\"dataframe\">\n",
       "  <thead>\n",
       "    <tr style=\"text-align: right;\">\n",
       "      <th></th>\n",
       "      <th>Molecule</th>\n",
       "      <th>Formula</th>\n",
       "      <th>poly</th>\n",
       "      <th>svr</th>\n",
       "      <th>ensemble</th>\n",
       "      <th>Expt</th>\n",
       "    </tr>\n",
       "  </thead>\n",
       "  <tbody>\n",
       "    <tr>\n",
       "      <th>0</th>\n",
       "      <td>Isobutane</td>\n",
       "      <td>C4H10</td>\n",
       "      <td>44</td>\n",
       "      <td>105</td>\n",
       "      <td>75</td>\n",
       "      <td>41.0</td>\n",
       "    </tr>\n",
       "    <tr>\n",
       "      <th>1</th>\n",
       "      <td>Ciclopenteno</td>\n",
       "      <td>C5H8</td>\n",
       "      <td>65</td>\n",
       "      <td>85</td>\n",
       "      <td>75</td>\n",
       "      <td>70.0</td>\n",
       "    </tr>\n",
       "    <tr>\n",
       "      <th>2</th>\n",
       "      <td>2,2-difl.propano</td>\n",
       "      <td>C3H6F2</td>\n",
       "      <td>53</td>\n",
       "      <td>51</td>\n",
       "      <td>52</td>\n",
       "      <td>25.0</td>\n",
       "    </tr>\n",
       "    <tr>\n",
       "      <th>3</th>\n",
       "      <td>Dimetilcarbonato</td>\n",
       "      <td>C3H6O3</td>\n",
       "      <td>17</td>\n",
       "      <td>17</td>\n",
       "      <td>17</td>\n",
       "      <td>102.0</td>\n",
       "    </tr>\n",
       "    <tr>\n",
       "      <th>4</th>\n",
       "      <td>Ciclohexano</td>\n",
       "      <td>C6H12</td>\n",
       "      <td>93</td>\n",
       "      <td>117</td>\n",
       "      <td>105</td>\n",
       "      <td>82.0</td>\n",
       "    </tr>\n",
       "  </tbody>\n",
       "</table>\n",
       "</div>"
      ],
      "text/plain": [
       "           Molecule Formula  poly  svr  ensemble   Expt\n",
       "0         Isobutane   C4H10    44  105        75   41.0\n",
       "1      Ciclopenteno    C5H8    65   85        75   70.0\n",
       "2  2,2-difl.propano  C3H6F2    53   51        52   25.0\n",
       "3  Dimetilcarbonato  C3H6O3    17   17        17  102.0\n",
       "4       Ciclohexano   C6H12    93  117       105   82.0"
      ]
     },
     "execution_count": 46,
     "metadata": {},
     "output_type": "execute_result"
    }
   ],
   "source": [
    "df_predicts.head()"
   ]
  },
  {
   "cell_type": "markdown",
   "metadata": {},
   "source": [
    "# Testing clusterization"
   ]
  },
  {
   "cell_type": "code",
   "execution_count": 64,
   "metadata": {},
   "outputs": [
    {
     "data": {
      "text/plain": [
       "(array([0, 0, 0, 0, 0, 0, 0, 0, 0, 0, 0, 0, 0, 0, 0, 0, 0, 0, 0, 0, 0, 0,\n",
       "        0, 0, 0, 0, 0, 0, 0, 0, 0, 0, 0, 0, 0, 0, 0, 0, 0, 0, 0, 0, 0, 0,\n",
       "        0, 0, 0, 0, 0, 0, 0, 0, 0, 0, 0]),\n",
       " array([1, 2, 1, 1, 2, 2, 2, 2, 2, 1, 2, 1, 1, 1, 2, 2, 1, 1, 1, 1, 1, 1,\n",
       "        1, 1, 1, 2, 1, 1, 1, 1, 1, 1, 1, 1, 2, 0, 1, 1, 1, 0, 1, 1, 1, 2,\n",
       "        1, 1, 1, 0, 0, 0, 3, 3, 0, 3, 0], dtype=int32))"
      ]
     },
     "execution_count": 64,
     "metadata": {},
     "output_type": "execute_result"
    }
   ],
   "source": [
    "dbscan = DBSCAN(eps=0.9, min_samples=3)\n",
    "kmeans = KMeans(n_clusters=4, n_init=\"auto\")\n",
    "\n",
    "clusters_dbscan = dbscan.fit_predict(X_scaled)\n",
    "clusters_kmeans = kmeans.fit_predict(X_scaled)\n",
    "\n",
    "clusters_dbscan, clusters_kmeans"
   ]
  },
  {
   "cell_type": "code",
   "execution_count": 65,
   "metadata": {},
   "outputs": [
    {
     "data": {
      "text/html": [
       "<div>\n",
       "<style scoped>\n",
       "    .dataframe tbody tr th:only-of-type {\n",
       "        vertical-align: middle;\n",
       "    }\n",
       "\n",
       "    .dataframe tbody tr th {\n",
       "        vertical-align: top;\n",
       "    }\n",
       "\n",
       "    .dataframe thead th {\n",
       "        text-align: right;\n",
       "    }\n",
       "</style>\n",
       "<table border=\"1\" class=\"dataframe\">\n",
       "  <thead>\n",
       "    <tr style=\"text-align: right;\">\n",
       "      <th></th>\n",
       "      <th>Molecule</th>\n",
       "      <th>Formula</th>\n",
       "      <th>Expt</th>\n",
       "      <th>Dipole</th>\n",
       "      <th>Alpha</th>\n",
       "      <th>pi_bond</th>\n",
       "      <th>Ei</th>\n",
       "      <th>distance</th>\n",
       "      <th>cluster_dbscan</th>\n",
       "      <th>cluster_kmeans</th>\n",
       "    </tr>\n",
       "  </thead>\n",
       "  <tbody>\n",
       "    <tr>\n",
       "      <th>0</th>\n",
       "      <td>Isobutane</td>\n",
       "      <td>C4H10</td>\n",
       "      <td>41.0</td>\n",
       "      <td>0.132</td>\n",
       "      <td>8.14</td>\n",
       "      <td>0.0</td>\n",
       "      <td>10.57</td>\n",
       "      <td>5.992609</td>\n",
       "      <td>0</td>\n",
       "      <td>1</td>\n",
       "    </tr>\n",
       "    <tr>\n",
       "      <th>1</th>\n",
       "      <td>Ciclopenteno</td>\n",
       "      <td>C5H8</td>\n",
       "      <td>70.0</td>\n",
       "      <td>0.200</td>\n",
       "      <td>8.90</td>\n",
       "      <td>1.0</td>\n",
       "      <td>9.00</td>\n",
       "      <td>5.826371</td>\n",
       "      <td>0</td>\n",
       "      <td>2</td>\n",
       "    </tr>\n",
       "    <tr>\n",
       "      <th>2</th>\n",
       "      <td>2,2-difl.propano</td>\n",
       "      <td>C3H6F2</td>\n",
       "      <td>25.0</td>\n",
       "      <td>2.400</td>\n",
       "      <td>5.90</td>\n",
       "      <td>0.0</td>\n",
       "      <td>11.40</td>\n",
       "      <td>5.242766</td>\n",
       "      <td>0</td>\n",
       "      <td>1</td>\n",
       "    </tr>\n",
       "    <tr>\n",
       "      <th>3</th>\n",
       "      <td>Dimetilcarbonato</td>\n",
       "      <td>C3H6O3</td>\n",
       "      <td>102.0</td>\n",
       "      <td>0.300</td>\n",
       "      <td>7.70</td>\n",
       "      <td>1.0</td>\n",
       "      <td>10.30</td>\n",
       "      <td>4.901490</td>\n",
       "      <td>0</td>\n",
       "      <td>1</td>\n",
       "    </tr>\n",
       "    <tr>\n",
       "      <th>4</th>\n",
       "      <td>Ciclohexano</td>\n",
       "      <td>C6H12</td>\n",
       "      <td>82.0</td>\n",
       "      <td>0.330</td>\n",
       "      <td>11.00</td>\n",
       "      <td>1.0</td>\n",
       "      <td>9.90</td>\n",
       "      <td>7.225310</td>\n",
       "      <td>0</td>\n",
       "      <td>2</td>\n",
       "    </tr>\n",
       "  </tbody>\n",
       "</table>\n",
       "</div>"
      ],
      "text/plain": [
       "           Molecule Formula   Expt  Dipole  Alpha  pi_bond     Ei  distance  \\\n",
       "0         Isobutane   C4H10   41.0   0.132   8.14      0.0  10.57  5.992609   \n",
       "1      Ciclopenteno    C5H8   70.0   0.200   8.90      1.0   9.00  5.826371   \n",
       "2  2,2-difl.propano  C3H6F2   25.0   2.400   5.90      0.0  11.40  5.242766   \n",
       "3  Dimetilcarbonato  C3H6O3  102.0   0.300   7.70      1.0  10.30  4.901490   \n",
       "4       Ciclohexano   C6H12   82.0   0.330  11.00      1.0   9.90  7.225310   \n",
       "\n",
       "   cluster_dbscan  cluster_kmeans  \n",
       "0               0               1  \n",
       "1               0               2  \n",
       "2               0               1  \n",
       "3               0               1  \n",
       "4               0               2  "
      ]
     },
     "execution_count": 65,
     "metadata": {},
     "output_type": "execute_result"
    }
   ],
   "source": [
    "df_all_pol[\"cluster_dbscan\"] = clusters_dbscan\n",
    "df_all_pol[\"cluster_kmeans\"] = clusters_kmeans\n",
    "\n",
    "df_all_pol.head()"
   ]
  },
  {
   "cell_type": "code",
   "execution_count": 66,
   "metadata": {},
   "outputs": [
    {
     "data": {
      "text/html": [
       "<div>\n",
       "<style scoped>\n",
       "    .dataframe tbody tr th:only-of-type {\n",
       "        vertical-align: middle;\n",
       "    }\n",
       "\n",
       "    .dataframe tbody tr th {\n",
       "        vertical-align: top;\n",
       "    }\n",
       "\n",
       "    .dataframe thead th {\n",
       "        text-align: right;\n",
       "    }\n",
       "</style>\n",
       "<table border=\"1\" class=\"dataframe\">\n",
       "  <thead>\n",
       "    <tr style=\"text-align: right;\">\n",
       "      <th></th>\n",
       "      <th>Molecule</th>\n",
       "      <th>Formula</th>\n",
       "      <th>poly</th>\n",
       "      <th>svr</th>\n",
       "      <th>ensemble</th>\n",
       "      <th>erro medio</th>\n",
       "      <th>Expt</th>\n",
       "      <th>cluster_dbscan</th>\n",
       "      <th>cluster_kmeans</th>\n",
       "    </tr>\n",
       "  </thead>\n",
       "  <tbody>\n",
       "    <tr>\n",
       "      <th>13</th>\n",
       "      <td>1,1-dicloroetileno/Vinilideno</td>\n",
       "      <td>C2H2Cl2</td>\n",
       "      <td>2.04</td>\n",
       "      <td>1.60</td>\n",
       "      <td>1.82</td>\n",
       "      <td>1.820000</td>\n",
       "      <td>30.0</td>\n",
       "      <td>0</td>\n",
       "      <td>1</td>\n",
       "    </tr>\n",
       "    <tr>\n",
       "      <th>2</th>\n",
       "      <td>2,2-difl.propano</td>\n",
       "      <td>C3H6F2</td>\n",
       "      <td>1.13</td>\n",
       "      <td>1.04</td>\n",
       "      <td>1.08</td>\n",
       "      <td>1.083333</td>\n",
       "      <td>25.0</td>\n",
       "      <td>0</td>\n",
       "      <td>1</td>\n",
       "    </tr>\n",
       "    <tr>\n",
       "      <th>14</th>\n",
       "      <td>Etanol</td>\n",
       "      <td>C2H6O</td>\n",
       "      <td>1.10</td>\n",
       "      <td>2.83</td>\n",
       "      <td>1.96</td>\n",
       "      <td>1.963333</td>\n",
       "      <td>43.0</td>\n",
       "      <td>0</td>\n",
       "      <td>2</td>\n",
       "    </tr>\n",
       "    <tr>\n",
       "      <th>10</th>\n",
       "      <td>Tricloroetileno</td>\n",
       "      <td>C2HCl3</td>\n",
       "      <td>1.06</td>\n",
       "      <td>0.01</td>\n",
       "      <td>0.52</td>\n",
       "      <td>0.530000</td>\n",
       "      <td>50.0</td>\n",
       "      <td>0</td>\n",
       "      <td>2</td>\n",
       "    </tr>\n",
       "    <tr>\n",
       "      <th>3</th>\n",
       "      <td>Dimetilcarbonato</td>\n",
       "      <td>C3H6O3</td>\n",
       "      <td>0.84</td>\n",
       "      <td>0.83</td>\n",
       "      <td>0.83</td>\n",
       "      <td>0.833333</td>\n",
       "      <td>102.0</td>\n",
       "      <td>0</td>\n",
       "      <td>1</td>\n",
       "    </tr>\n",
       "    <tr>\n",
       "      <th>29</th>\n",
       "      <td>1,2-cis-dicloroetileno</td>\n",
       "      <td>C2H2Cl2</td>\n",
       "      <td>0.82</td>\n",
       "      <td>0.68</td>\n",
       "      <td>0.75</td>\n",
       "      <td>0.750000</td>\n",
       "      <td>66.0</td>\n",
       "      <td>0</td>\n",
       "      <td>1</td>\n",
       "    </tr>\n",
       "    <tr>\n",
       "      <th>20</th>\n",
       "      <td>1-fl-hexano</td>\n",
       "      <td>C6H13F</td>\n",
       "      <td>0.80</td>\n",
       "      <td>0.83</td>\n",
       "      <td>0.81</td>\n",
       "      <td>0.813333</td>\n",
       "      <td>80.0</td>\n",
       "      <td>0</td>\n",
       "      <td>1</td>\n",
       "    </tr>\n",
       "    <tr>\n",
       "      <th>12</th>\n",
       "      <td>Clorofórmio</td>\n",
       "      <td>CH3Cl3</td>\n",
       "      <td>0.58</td>\n",
       "      <td>0.62</td>\n",
       "      <td>0.60</td>\n",
       "      <td>0.600000</td>\n",
       "      <td>37.0</td>\n",
       "      <td>0</td>\n",
       "      <td>1</td>\n",
       "    </tr>\n",
       "    <tr>\n",
       "      <th>28</th>\n",
       "      <td>Methyl Chloride</td>\n",
       "      <td>CH3Cl</td>\n",
       "      <td>0.55</td>\n",
       "      <td>0.30</td>\n",
       "      <td>0.43</td>\n",
       "      <td>0.426667</td>\n",
       "      <td>25.0</td>\n",
       "      <td>0</td>\n",
       "      <td>1</td>\n",
       "    </tr>\n",
       "    <tr>\n",
       "      <th>44</th>\n",
       "      <td>Acetaldeído</td>\n",
       "      <td>C2H4O</td>\n",
       "      <td>0.54</td>\n",
       "      <td>0.05</td>\n",
       "      <td>0.30</td>\n",
       "      <td>0.296667</td>\n",
       "      <td>88.0</td>\n",
       "      <td>0</td>\n",
       "      <td>1</td>\n",
       "    </tr>\n",
       "    <tr>\n",
       "      <th>35</th>\n",
       "      <td>1-fl-nonano</td>\n",
       "      <td>C9H19F</td>\n",
       "      <td>0.53</td>\n",
       "      <td>0.48</td>\n",
       "      <td>0.51</td>\n",
       "      <td>0.506667</td>\n",
       "      <td>145.0</td>\n",
       "      <td>0</td>\n",
       "      <td>0</td>\n",
       "    </tr>\n",
       "    <tr>\n",
       "      <th>24</th>\n",
       "      <td>1,2-Ethanediol</td>\n",
       "      <td>C2H6O2</td>\n",
       "      <td>0.52</td>\n",
       "      <td>0.54</td>\n",
       "      <td>0.53</td>\n",
       "      <td>0.530000</td>\n",
       "      <td>70.0</td>\n",
       "      <td>0</td>\n",
       "      <td>1</td>\n",
       "    </tr>\n",
       "    <tr>\n",
       "      <th>26</th>\n",
       "      <td>MetilBromo</td>\n",
       "      <td>CH3Br</td>\n",
       "      <td>0.48</td>\n",
       "      <td>0.56</td>\n",
       "      <td>0.52</td>\n",
       "      <td>0.520000</td>\n",
       "      <td>40.0</td>\n",
       "      <td>0</td>\n",
       "      <td>1</td>\n",
       "    </tr>\n",
       "    <tr>\n",
       "      <th>17</th>\n",
       "      <td>1-fl-butano</td>\n",
       "      <td>C4H9F</td>\n",
       "      <td>0.42</td>\n",
       "      <td>0.39</td>\n",
       "      <td>0.41</td>\n",
       "      <td>0.406667</td>\n",
       "      <td>70.0</td>\n",
       "      <td>0</td>\n",
       "      <td>1</td>\n",
       "    </tr>\n",
       "    <tr>\n",
       "      <th>8</th>\n",
       "      <td>Phenylacetylene</td>\n",
       "      <td>C8H6</td>\n",
       "      <td>0.41</td>\n",
       "      <td>0.19</td>\n",
       "      <td>0.11</td>\n",
       "      <td>0.236667</td>\n",
       "      <td>230.0</td>\n",
       "      <td>0</td>\n",
       "      <td>2</td>\n",
       "    </tr>\n",
       "  </tbody>\n",
       "</table>\n",
       "</div>"
      ],
      "text/plain": [
       "                         Molecule  Formula  poly   svr  ensemble  erro medio  \\\n",
       "13  1,1-dicloroetileno/Vinilideno  C2H2Cl2  2.04  1.60      1.82    1.820000   \n",
       "2                2,2-difl.propano   C3H6F2  1.13  1.04      1.08    1.083333   \n",
       "14                         Etanol    C2H6O  1.10  2.83      1.96    1.963333   \n",
       "10                Tricloroetileno   C2HCl3  1.06  0.01      0.52    0.530000   \n",
       "3                Dimetilcarbonato   C3H6O3  0.84  0.83      0.83    0.833333   \n",
       "29         1,2-cis-dicloroetileno  C2H2Cl2  0.82  0.68      0.75    0.750000   \n",
       "20                    1-fl-hexano   C6H13F  0.80  0.83      0.81    0.813333   \n",
       "12                    Clorofórmio   CH3Cl3  0.58  0.62      0.60    0.600000   \n",
       "28                Methyl Chloride    CH3Cl  0.55  0.30      0.43    0.426667   \n",
       "44                    Acetaldeído    C2H4O  0.54  0.05      0.30    0.296667   \n",
       "35                    1-fl-nonano   C9H19F  0.53  0.48      0.51    0.506667   \n",
       "24                 1,2-Ethanediol   C2H6O2  0.52  0.54      0.53    0.530000   \n",
       "26                     MetilBromo    CH3Br  0.48  0.56      0.52    0.520000   \n",
       "17                    1-fl-butano    C4H9F  0.42  0.39      0.41    0.406667   \n",
       "8                 Phenylacetylene     C8H6  0.41  0.19      0.11    0.236667   \n",
       "\n",
       "     Expt  cluster_dbscan  cluster_kmeans  \n",
       "13   30.0               0               1  \n",
       "2    25.0               0               1  \n",
       "14   43.0               0               2  \n",
       "10   50.0               0               2  \n",
       "3   102.0               0               1  \n",
       "29   66.0               0               1  \n",
       "20   80.0               0               1  \n",
       "12   37.0               0               1  \n",
       "28   25.0               0               1  \n",
       "44   88.0               0               1  \n",
       "35  145.0               0               0  \n",
       "24   70.0               0               1  \n",
       "26   40.0               0               1  \n",
       "17   70.0               0               1  \n",
       "8   230.0               0               2  "
      ]
     },
     "execution_count": 66,
     "metadata": {},
     "output_type": "execute_result"
    }
   ],
   "source": [
    "pd.merge(df_performances, df_all_pol[[\"Molecule\", \"cluster_dbscan\", \"cluster_kmeans\"]], \n",
    "         on=\"Molecule\", how=\"left\").sort_values(\"poly\", ascending=False).head(15)"
   ]
  },
  {
   "cell_type": "code",
   "execution_count": 67,
   "metadata": {},
   "outputs": [
    {
     "data": {
      "text/html": [
       "<div>\n",
       "<style scoped>\n",
       "    .dataframe tbody tr th:only-of-type {\n",
       "        vertical-align: middle;\n",
       "    }\n",
       "\n",
       "    .dataframe tbody tr th {\n",
       "        vertical-align: top;\n",
       "    }\n",
       "\n",
       "    .dataframe thead th {\n",
       "        text-align: right;\n",
       "    }\n",
       "</style>\n",
       "<table border=\"1\" class=\"dataframe\">\n",
       "  <thead>\n",
       "    <tr style=\"text-align: right;\">\n",
       "      <th></th>\n",
       "      <th>poly</th>\n",
       "      <th>svr</th>\n",
       "      <th>ensemble</th>\n",
       "      <th>erro medio</th>\n",
       "      <th>Expt</th>\n",
       "    </tr>\n",
       "  </thead>\n",
       "  <tbody>\n",
       "    <tr>\n",
       "      <th>count</th>\n",
       "      <td>55.000000</td>\n",
       "      <td>55.000000</td>\n",
       "      <td>55.000000</td>\n",
       "      <td>55.000000</td>\n",
       "      <td>55.000000</td>\n",
       "    </tr>\n",
       "    <tr>\n",
       "      <th>mean</th>\n",
       "      <td>0.330727</td>\n",
       "      <td>0.379455</td>\n",
       "      <td>0.336909</td>\n",
       "      <td>0.349030</td>\n",
       "      <td>124.581818</td>\n",
       "    </tr>\n",
       "    <tr>\n",
       "      <th>std</th>\n",
       "      <td>0.366145</td>\n",
       "      <td>0.475910</td>\n",
       "      <td>0.386968</td>\n",
       "      <td>0.380881</td>\n",
       "      <td>79.270211</td>\n",
       "    </tr>\n",
       "    <tr>\n",
       "      <th>min</th>\n",
       "      <td>0.020000</td>\n",
       "      <td>0.010000</td>\n",
       "      <td>0.010000</td>\n",
       "      <td>0.023333</td>\n",
       "      <td>20.000000</td>\n",
       "    </tr>\n",
       "    <tr>\n",
       "      <th>25%</th>\n",
       "      <td>0.095000</td>\n",
       "      <td>0.095000</td>\n",
       "      <td>0.105000</td>\n",
       "      <td>0.111667</td>\n",
       "      <td>65.500000</td>\n",
       "    </tr>\n",
       "    <tr>\n",
       "      <th>50%</th>\n",
       "      <td>0.200000</td>\n",
       "      <td>0.250000</td>\n",
       "      <td>0.220000</td>\n",
       "      <td>0.230000</td>\n",
       "      <td>102.000000</td>\n",
       "    </tr>\n",
       "    <tr>\n",
       "      <th>75%</th>\n",
       "      <td>0.415000</td>\n",
       "      <td>0.430000</td>\n",
       "      <td>0.420000</td>\n",
       "      <td>0.416667</td>\n",
       "      <td>177.500000</td>\n",
       "    </tr>\n",
       "    <tr>\n",
       "      <th>max</th>\n",
       "      <td>2.040000</td>\n",
       "      <td>2.830000</td>\n",
       "      <td>1.960000</td>\n",
       "      <td>1.963333</td>\n",
       "      <td>330.000000</td>\n",
       "    </tr>\n",
       "  </tbody>\n",
       "</table>\n",
       "</div>"
      ],
      "text/plain": [
       "            poly        svr   ensemble  erro medio        Expt\n",
       "count  55.000000  55.000000  55.000000   55.000000   55.000000\n",
       "mean    0.330727   0.379455   0.336909    0.349030  124.581818\n",
       "std     0.366145   0.475910   0.386968    0.380881   79.270211\n",
       "min     0.020000   0.010000   0.010000    0.023333   20.000000\n",
       "25%     0.095000   0.095000   0.105000    0.111667   65.500000\n",
       "50%     0.200000   0.250000   0.220000    0.230000  102.000000\n",
       "75%     0.415000   0.430000   0.420000    0.416667  177.500000\n",
       "max     2.040000   2.830000   1.960000    1.963333  330.000000"
      ]
     },
     "execution_count": 67,
     "metadata": {},
     "output_type": "execute_result"
    }
   ],
   "source": [
    "df_performances.describe()"
   ]
  },
  {
   "cell_type": "code",
   "execution_count": 68,
   "metadata": {},
   "outputs": [],
   "source": [
    "pca = PCA(n_components=2)\n",
    "X_pca = pca.fit_transform(X_scaled)"
   ]
  },
  {
   "cell_type": "code",
   "execution_count": 69,
   "metadata": {},
   "outputs": [],
   "source": [
    "df_pca = pd.DataFrame(data=X_pca, columns=['PC1', 'PC2'])\n",
    "df_pca['cluster_dbscan'] = clusters_dbscan\n",
    "df_pca['cluster_kmeans'] = clusters_kmeans\n",
    "df_pca['Molecule'] = df_all_pol['Molecule']"
   ]
  },
  {
   "cell_type": "code",
   "execution_count": 70,
   "metadata": {},
   "outputs": [
    {
     "data": {
      "text/plain": [
       "Text(0.5, 1.0, 'Clusters DBSCAN (visualização PCA)')"
      ]
     },
     "execution_count": 70,
     "metadata": {},
     "output_type": "execute_result"
    },
    {
     "data": {
      "image/png": "[encoded data removed]",
      "text/plain": [
       "<Figure size 1200x800 with 2 Axes>"
      ]
     },
     "metadata": {},
     "output_type": "display_data"
    }
   ],
   "source": [
    "plt.figure(figsize=(12, 8))\n",
    "scatter = plt.scatter(df_pca['PC1'], df_pca['PC2'], c=df_pca['cluster_dbscan'], cmap='viridis')\n",
    "plt.colorbar(scatter)\n",
    "plt.xlabel('Primeira Componente Principal')\n",
    "plt.ylabel('Segunda Componente Principal')\n",
    "plt.title('Clusters DBSCAN (visualização PCA)')"
   ]
  },
  {
   "cell_type": "code",
   "execution_count": 71,
   "metadata": {},
   "outputs": [
    {
     "data": {
      "text/plain": [
       "Text(0.5, 1.0, 'Clusters kmeans (visualização PCA)')"
      ]
     },
     "execution_count": 71,
     "metadata": {},
     "output_type": "execute_result"
    },
    {
     "data": {
      "image/png": "[encoded data removed]",
      "text/plain": [
       "<Figure size 1200x800 with 2 Axes>"
      ]
     },
     "metadata": {},
     "output_type": "display_data"
    }
   ],
   "source": [
    "plt.figure(figsize=(12, 8))\n",
    "scatter = plt.scatter(df_pca['PC1'], df_pca['PC2'], c=df_pca['cluster_kmeans'], cmap='viridis')\n",
    "plt.colorbar(scatter)\n",
    "plt.xlabel('Primeira Componente Principal')\n",
    "plt.ylabel('Segunda Componente Principal')\n",
    "plt.title('Clusters kmeans (visualização PCA)')"
   ]
  },
  {
   "cell_type": "markdown",
   "metadata": {},
   "source": [
    "# Tentando detecção de outliers."
   ]
  },
  {
   "cell_type": "markdown",
   "metadata": {},
   "source": [
    "Tentando por distância interquartílica simples para os erros de desempenho."
   ]
  },
  {
   "cell_type": "code",
   "execution_count": 72,
   "metadata": {},
   "outputs": [
    {
     "data": {
      "image/png": "[encoded data removed]",
      "text/plain": [
       "<Figure size 1000x600 with 1 Axes>"
      ]
     },
     "metadata": {},
     "output_type": "display_data"
    },
    {
     "name": "stdout",
     "output_type": "stream",
     "text": [
      "\n",
      "Outliers para poly:\n",
      "                         Molecule  poly\n",
      "10                Tricloroetileno  1.06\n",
      "14                         Etanol  1.10\n",
      "2                2,2-difl.propano  1.13\n",
      "13  1,1-dicloroetileno/Vinilideno  2.04\n",
      "\n",
      "Estatísticas descritivas:\n",
      "count    55.000000\n",
      "mean      0.330727\n",
      "std       0.366145\n",
      "min       0.020000\n",
      "25%       0.095000\n",
      "50%       0.200000\n",
      "75%       0.415000\n",
      "max       2.040000\n",
      "Name: poly, dtype: float64\n",
      "\n",
      "Limite inferior para outliers: -0.3849999999999999\n",
      "Limite superior para outliers: 0.8949999999999999\n"
     ]
    },
    {
     "data": {
      "image/png": "[encoded data removed]",
      "text/plain": [
       "<Figure size 1000x600 with 1 Axes>"
      ]
     },
     "metadata": {},
     "output_type": "display_data"
    },
    {
     "name": "stdout",
     "output_type": "stream",
     "text": [
      "\n",
      "Outliers para svr:\n",
      "                         Molecule   svr\n",
      "2                2,2-difl.propano  1.04\n",
      "0                       Isobutane  1.57\n",
      "13  1,1-dicloroetileno/Vinilideno  1.60\n",
      "14                         Etanol  2.83\n",
      "\n",
      "Estatísticas descritivas:\n",
      "count    55.000000\n",
      "mean      0.379455\n",
      "std       0.475910\n",
      "min       0.010000\n",
      "25%       0.095000\n",
      "50%       0.250000\n",
      "75%       0.430000\n",
      "max       2.830000\n",
      "Name: svr, dtype: float64\n",
      "\n",
      "Limite inferior para outliers: -0.4075\n",
      "Limite superior para outliers: 0.9324999999999999\n"
     ]
    },
    {
     "data": {
      "image/png": "[encoded data removed]",
      "text/plain": [
       "<Figure size 1000x600 with 1 Axes>"
      ]
     },
     "metadata": {},
     "output_type": "display_data"
    },
    {
     "name": "stdout",
     "output_type": "stream",
     "text": [
      "\n",
      "Outliers para ensemble:\n",
      "                         Molecule  ensemble\n",
      "2                2,2-difl.propano      1.08\n",
      "13  1,1-dicloroetileno/Vinilideno      1.82\n",
      "14                         Etanol      1.96\n",
      "\n",
      "Estatísticas descritivas:\n",
      "count    55.000000\n",
      "mean      0.336909\n",
      "std       0.386968\n",
      "min       0.010000\n",
      "25%       0.105000\n",
      "50%       0.220000\n",
      "75%       0.420000\n",
      "max       1.960000\n",
      "Name: ensemble, dtype: float64\n",
      "\n",
      "Limite inferior para outliers: -0.36749999999999994\n",
      "Limite superior para outliers: 0.8924999999999998\n"
     ]
    },
    {
     "data": {
      "image/png": "[encoded data removed]",
      "text/plain": [
       "<Figure size 1000x600 with 1 Axes>"
      ]
     },
     "metadata": {},
     "output_type": "display_data"
    },
    {
     "name": "stdout",
     "output_type": "stream",
     "text": [
      "\n",
      "Outliers para erro medio:\n",
      "                         Molecule  erro medio\n",
      "2                2,2-difl.propano    1.083333\n",
      "13  1,1-dicloroetileno/Vinilideno    1.820000\n",
      "14                         Etanol    1.963333\n",
      "\n",
      "Estatísticas descritivas:\n",
      "count    55.000000\n",
      "mean      0.349030\n",
      "std       0.380881\n",
      "min       0.023333\n",
      "25%       0.111667\n",
      "50%       0.230000\n",
      "75%       0.416667\n",
      "max       1.963333\n",
      "Name: erro medio, dtype: float64\n",
      "\n",
      "Limite inferior para outliers: -0.34583333333333344\n",
      "Limite superior para outliers: 0.8741666666666668\n"
     ]
    }
   ],
   "source": [
    "analisar_outliers(df_performances, \"poly\")\n",
    "analisar_outliers(df_performances, \"svr\")\n",
    "analisar_outliers(df_performances, \"ensemble\")\n",
    "analisar_outliers(df_performances, \"erro medio\")"
   ]
  },
  {
   "cell_type": "code",
   "execution_count": 73,
   "metadata": {},
   "outputs": [
    {
     "data": {
      "text/html": [
       "<div>\n",
       "<style scoped>\n",
       "    .dataframe tbody tr th:only-of-type {\n",
       "        vertical-align: middle;\n",
       "    }\n",
       "\n",
       "    .dataframe tbody tr th {\n",
       "        vertical-align: top;\n",
       "    }\n",
       "\n",
       "    .dataframe thead th {\n",
       "        text-align: right;\n",
       "    }\n",
       "</style>\n",
       "<table border=\"1\" class=\"dataframe\">\n",
       "  <thead>\n",
       "    <tr style=\"text-align: right;\">\n",
       "      <th></th>\n",
       "      <th>valor_inferior</th>\n",
       "      <th>valor_superior</th>\n",
       "      <th>tamanho_gap</th>\n",
       "      <th>indice_inferior</th>\n",
       "      <th>indice_superior</th>\n",
       "    </tr>\n",
       "  </thead>\n",
       "  <tbody>\n",
       "    <tr>\n",
       "      <th>0</th>\n",
       "      <td>0.22</td>\n",
       "      <td>0.25</td>\n",
       "      <td>0.03</td>\n",
       "      <td>29</td>\n",
       "      <td>30</td>\n",
       "    </tr>\n",
       "    <tr>\n",
       "      <th>1</th>\n",
       "      <td>0.27</td>\n",
       "      <td>0.30</td>\n",
       "      <td>0.03</td>\n",
       "      <td>34</td>\n",
       "      <td>35</td>\n",
       "    </tr>\n",
       "    <tr>\n",
       "      <th>2</th>\n",
       "      <td>0.30</td>\n",
       "      <td>0.34</td>\n",
       "      <td>0.04</td>\n",
       "      <td>36</td>\n",
       "      <td>37</td>\n",
       "    </tr>\n",
       "    <tr>\n",
       "      <th>3</th>\n",
       "      <td>0.37</td>\n",
       "      <td>0.41</td>\n",
       "      <td>0.04</td>\n",
       "      <td>39</td>\n",
       "      <td>40</td>\n",
       "    </tr>\n",
       "    <tr>\n",
       "      <th>4</th>\n",
       "      <td>0.42</td>\n",
       "      <td>0.48</td>\n",
       "      <td>0.06</td>\n",
       "      <td>41</td>\n",
       "      <td>42</td>\n",
       "    </tr>\n",
       "    <tr>\n",
       "      <th>5</th>\n",
       "      <td>0.48</td>\n",
       "      <td>0.52</td>\n",
       "      <td>0.04</td>\n",
       "      <td>42</td>\n",
       "      <td>43</td>\n",
       "    </tr>\n",
       "    <tr>\n",
       "      <th>6</th>\n",
       "      <td>0.55</td>\n",
       "      <td>0.58</td>\n",
       "      <td>0.03</td>\n",
       "      <td>46</td>\n",
       "      <td>47</td>\n",
       "    </tr>\n",
       "    <tr>\n",
       "      <th>7</th>\n",
       "      <td>0.58</td>\n",
       "      <td>0.80</td>\n",
       "      <td>0.22</td>\n",
       "      <td>47</td>\n",
       "      <td>48</td>\n",
       "    </tr>\n",
       "    <tr>\n",
       "      <th>8</th>\n",
       "      <td>0.84</td>\n",
       "      <td>1.06</td>\n",
       "      <td>0.22</td>\n",
       "      <td>50</td>\n",
       "      <td>51</td>\n",
       "    </tr>\n",
       "    <tr>\n",
       "      <th>9</th>\n",
       "      <td>1.06</td>\n",
       "      <td>1.10</td>\n",
       "      <td>0.04</td>\n",
       "      <td>51</td>\n",
       "      <td>52</td>\n",
       "    </tr>\n",
       "    <tr>\n",
       "      <th>10</th>\n",
       "      <td>1.10</td>\n",
       "      <td>1.13</td>\n",
       "      <td>0.03</td>\n",
       "      <td>52</td>\n",
       "      <td>53</td>\n",
       "    </tr>\n",
       "    <tr>\n",
       "      <th>11</th>\n",
       "      <td>1.13</td>\n",
       "      <td>2.04</td>\n",
       "      <td>0.91</td>\n",
       "      <td>53</td>\n",
       "      <td>54</td>\n",
       "    </tr>\n",
       "  </tbody>\n",
       "</table>\n",
       "</div>"
      ],
      "text/plain": [
       "    valor_inferior  valor_superior  tamanho_gap  indice_inferior  \\\n",
       "0             0.22            0.25         0.03               29   \n",
       "1             0.27            0.30         0.03               34   \n",
       "2             0.30            0.34         0.04               36   \n",
       "3             0.37            0.41         0.04               39   \n",
       "4             0.42            0.48         0.06               41   \n",
       "5             0.48            0.52         0.04               42   \n",
       "6             0.55            0.58         0.03               46   \n",
       "7             0.58            0.80         0.22               47   \n",
       "8             0.84            1.06         0.22               50   \n",
       "9             1.06            1.10         0.04               51   \n",
       "10            1.10            1.13         0.03               52   \n",
       "11            1.13            2.04         0.91               53   \n",
       "\n",
       "    indice_superior  \n",
       "0                30  \n",
       "1                35  \n",
       "2                37  \n",
       "3                40  \n",
       "4                42  \n",
       "5                43  \n",
       "6                47  \n",
       "7                48  \n",
       "8                51  \n",
       "9                52  \n",
       "10               53  \n",
       "11               54  "
      ]
     },
     "execution_count": 73,
     "metadata": {},
     "output_type": "execute_result"
    }
   ],
   "source": [
    "identificar_gaps_significativos(df_performances, \"poly\")"
   ]
  },
  {
   "cell_type": "code",
   "execution_count": 111,
   "metadata": {},
   "outputs": [
    {
     "data": {
      "text/html": [
       "<div>\n",
       "<style scoped>\n",
       "    .dataframe tbody tr th:only-of-type {\n",
       "        vertical-align: middle;\n",
       "    }\n",
       "\n",
       "    .dataframe tbody tr th {\n",
       "        vertical-align: top;\n",
       "    }\n",
       "\n",
       "    .dataframe thead th {\n",
       "        text-align: right;\n",
       "    }\n",
       "</style>\n",
       "<table border=\"1\" class=\"dataframe\">\n",
       "  <thead>\n",
       "    <tr style=\"text-align: right;\">\n",
       "      <th></th>\n",
       "      <th>Molecule</th>\n",
       "      <th>Formula</th>\n",
       "      <th>poly</th>\n",
       "      <th>Expt</th>\n",
       "    </tr>\n",
       "  </thead>\n",
       "  <tbody>\n",
       "    <tr>\n",
       "      <th>13</th>\n",
       "      <td>1,1-dicloroetileno/Vinilideno</td>\n",
       "      <td>C2H2Cl2</td>\n",
       "      <td>2.04</td>\n",
       "      <td>30.0</td>\n",
       "    </tr>\n",
       "    <tr>\n",
       "      <th>2</th>\n",
       "      <td>2,2-difl.propano</td>\n",
       "      <td>C3H6F2</td>\n",
       "      <td>1.13</td>\n",
       "      <td>25.0</td>\n",
       "    </tr>\n",
       "    <tr>\n",
       "      <th>14</th>\n",
       "      <td>Etanol</td>\n",
       "      <td>C2H6O</td>\n",
       "      <td>1.10</td>\n",
       "      <td>43.0</td>\n",
       "    </tr>\n",
       "    <tr>\n",
       "      <th>10</th>\n",
       "      <td>Tricloroetileno</td>\n",
       "      <td>C2HCl3</td>\n",
       "      <td>1.06</td>\n",
       "      <td>50.0</td>\n",
       "    </tr>\n",
       "    <tr>\n",
       "      <th>3</th>\n",
       "      <td>Dimetilcarbonato</td>\n",
       "      <td>C3H6O3</td>\n",
       "      <td>0.84</td>\n",
       "      <td>102.0</td>\n",
       "    </tr>\n",
       "    <tr>\n",
       "      <th>29</th>\n",
       "      <td>1,2-cis-dicloroetileno</td>\n",
       "      <td>C2H2Cl2</td>\n",
       "      <td>0.82</td>\n",
       "      <td>66.0</td>\n",
       "    </tr>\n",
       "    <tr>\n",
       "      <th>20</th>\n",
       "      <td>1-fl-hexano</td>\n",
       "      <td>C6H13F</td>\n",
       "      <td>0.80</td>\n",
       "      <td>80.0</td>\n",
       "    </tr>\n",
       "  </tbody>\n",
       "</table>\n",
       "</div>"
      ],
      "text/plain": [
       "                         Molecule  Formula  poly   Expt\n",
       "13  1,1-dicloroetileno/Vinilideno  C2H2Cl2  2.04   30.0\n",
       "2                2,2-difl.propano   C3H6F2  1.13   25.0\n",
       "14                         Etanol    C2H6O  1.10   43.0\n",
       "10                Tricloroetileno   C2HCl3  1.06   50.0\n",
       "3                Dimetilcarbonato   C3H6O3  0.84  102.0\n",
       "29         1,2-cis-dicloroetileno  C2H2Cl2  0.82   66.0\n",
       "20                    1-fl-hexano   C6H13F  0.80   80.0"
      ]
     },
     "execution_count": 111,
     "metadata": {},
     "output_type": "execute_result"
    }
   ],
   "source": [
    "df_performances.sort_values(\"poly\", ascending=False).head(7)[[\"Molecule\", \"Formula\", \"poly\", \"Expt\"]]"
   ]
  },
  {
   "cell_type": "code",
   "execution_count": null,
   "metadata": {},
   "outputs": [],
   "source": [
    "df_performances[\"\"]"
   ]
  },
  {
   "cell_type": "markdown",
   "metadata": {},
   "source": [
    "Analisando os valores experimentais do positron binding da moléculas com erro abaixo de 0.8"
   ]
  },
  {
   "cell_type": "code",
   "execution_count": 89,
   "metadata": {},
   "outputs": [
    {
     "data": {
      "text/html": [
       "<div>\n",
       "<style scoped>\n",
       "    .dataframe tbody tr th:only-of-type {\n",
       "        vertical-align: middle;\n",
       "    }\n",
       "\n",
       "    .dataframe tbody tr th {\n",
       "        vertical-align: top;\n",
       "    }\n",
       "\n",
       "    .dataframe thead th {\n",
       "        text-align: right;\n",
       "    }\n",
       "</style>\n",
       "<table border=\"1\" class=\"dataframe\">\n",
       "  <thead>\n",
       "    <tr style=\"text-align: right;\">\n",
       "      <th></th>\n",
       "      <th>poly</th>\n",
       "      <th>svr</th>\n",
       "      <th>ensemble</th>\n",
       "      <th>erro medio</th>\n",
       "      <th>Expt</th>\n",
       "    </tr>\n",
       "  </thead>\n",
       "  <tbody>\n",
       "    <tr>\n",
       "      <th>count</th>\n",
       "      <td>48.000000</td>\n",
       "      <td>48.000000</td>\n",
       "      <td>48.000000</td>\n",
       "      <td>48.000000</td>\n",
       "      <td>48.000000</td>\n",
       "    </tr>\n",
       "    <tr>\n",
       "      <th>mean</th>\n",
       "      <td>0.216667</td>\n",
       "      <td>0.271875</td>\n",
       "      <td>0.224167</td>\n",
       "      <td>0.237569</td>\n",
       "      <td>134.500000</td>\n",
       "    </tr>\n",
       "    <tr>\n",
       "      <th>std</th>\n",
       "      <td>0.160575</td>\n",
       "      <td>0.257274</td>\n",
       "      <td>0.173743</td>\n",
       "      <td>0.165342</td>\n",
       "      <td>79.572261</td>\n",
       "    </tr>\n",
       "    <tr>\n",
       "      <th>min</th>\n",
       "      <td>0.020000</td>\n",
       "      <td>0.010000</td>\n",
       "      <td>0.010000</td>\n",
       "      <td>0.023333</td>\n",
       "      <td>20.000000</td>\n",
       "    </tr>\n",
       "    <tr>\n",
       "      <th>25%</th>\n",
       "      <td>0.077500</td>\n",
       "      <td>0.090000</td>\n",
       "      <td>0.097500</td>\n",
       "      <td>0.109167</td>\n",
       "      <td>70.000000</td>\n",
       "    </tr>\n",
       "    <tr>\n",
       "      <th>50%</th>\n",
       "      <td>0.175000</td>\n",
       "      <td>0.230000</td>\n",
       "      <td>0.205000</td>\n",
       "      <td>0.215000</td>\n",
       "      <td>117.500000</td>\n",
       "    </tr>\n",
       "    <tr>\n",
       "      <th>75%</th>\n",
       "      <td>0.300000</td>\n",
       "      <td>0.390000</td>\n",
       "      <td>0.292500</td>\n",
       "      <td>0.294167</td>\n",
       "      <td>187.000000</td>\n",
       "    </tr>\n",
       "    <tr>\n",
       "      <th>max</th>\n",
       "      <td>0.580000</td>\n",
       "      <td>1.570000</td>\n",
       "      <td>0.820000</td>\n",
       "      <td>0.820000</td>\n",
       "      <td>330.000000</td>\n",
       "    </tr>\n",
       "  </tbody>\n",
       "</table>\n",
       "</div>"
      ],
      "text/plain": [
       "            poly        svr   ensemble  erro medio        Expt\n",
       "count  48.000000  48.000000  48.000000   48.000000   48.000000\n",
       "mean    0.216667   0.271875   0.224167    0.237569  134.500000\n",
       "std     0.160575   0.257274   0.173743    0.165342   79.572261\n",
       "min     0.020000   0.010000   0.010000    0.023333   20.000000\n",
       "25%     0.077500   0.090000   0.097500    0.109167   70.000000\n",
       "50%     0.175000   0.230000   0.205000    0.215000  117.500000\n",
       "75%     0.300000   0.390000   0.292500    0.294167  187.000000\n",
       "max     0.580000   1.570000   0.820000    0.820000  330.000000"
      ]
     },
     "execution_count": 89,
     "metadata": {},
     "output_type": "execute_result"
    }
   ],
   "source": [
    "df_low_80 = df_performances[df_performances[\"poly\"] < 0.8]\n",
    "df_high_80 = df_performances[df_performances[\"poly\"] >= 0.8]\n",
    "df_low_80.describe()"
   ]
  },
  {
   "cell_type": "code",
   "execution_count": 106,
   "metadata": {},
   "outputs": [
    {
     "data": {
      "text/plain": [
       "48"
      ]
     },
     "execution_count": 106,
     "metadata": {},
     "output_type": "execute_result"
    }
   ],
   "source": [
    "len(df_low_80)"
   ]
  },
  {
   "cell_type": "code",
   "execution_count": 97,
   "metadata": {},
   "outputs": [
    {
     "data": {
      "text/plain": [
       "(18, 55)"
      ]
     },
     "execution_count": 97,
     "metadata": {},
     "output_type": "execute_result"
    }
   ],
   "source": [
    "len(df_all_pol[df_all_pol[\"Expt\"] <= 70]), len(df_all_pol)"
   ]
  },
  {
   "cell_type": "code",
   "execution_count": 98,
   "metadata": {},
   "outputs": [
    {
     "data": {
      "text/plain": [
       "0.32727272727272727"
      ]
     },
     "execution_count": 98,
     "metadata": {},
     "output_type": "execute_result"
    }
   ],
   "source": [
    "18/55"
   ]
  },
  {
   "cell_type": "code",
   "execution_count": 95,
   "metadata": {},
   "outputs": [
    {
     "data": {
      "text/html": [
       "<div>\n",
       "<style scoped>\n",
       "    .dataframe tbody tr th:only-of-type {\n",
       "        vertical-align: middle;\n",
       "    }\n",
       "\n",
       "    .dataframe tbody tr th {\n",
       "        vertical-align: top;\n",
       "    }\n",
       "\n",
       "    .dataframe thead th {\n",
       "        text-align: right;\n",
       "    }\n",
       "</style>\n",
       "<table border=\"1\" class=\"dataframe\">\n",
       "  <thead>\n",
       "    <tr style=\"text-align: right;\">\n",
       "      <th></th>\n",
       "      <th>poly</th>\n",
       "      <th>svr</th>\n",
       "      <th>ensemble</th>\n",
       "      <th>erro medio</th>\n",
       "      <th>Expt</th>\n",
       "    </tr>\n",
       "  </thead>\n",
       "  <tbody>\n",
       "    <tr>\n",
       "      <th>count</th>\n",
       "      <td>7.000000</td>\n",
       "      <td>7.000000</td>\n",
       "      <td>7.000000</td>\n",
       "      <td>7.000000</td>\n",
       "      <td>7.000000</td>\n",
       "    </tr>\n",
       "    <tr>\n",
       "      <th>mean</th>\n",
       "      <td>1.112857</td>\n",
       "      <td>1.117143</td>\n",
       "      <td>1.110000</td>\n",
       "      <td>1.113333</td>\n",
       "      <td>56.571429</td>\n",
       "    </tr>\n",
       "    <tr>\n",
       "      <th>std</th>\n",
       "      <td>0.432231</td>\n",
       "      <td>0.890201</td>\n",
       "      <td>0.558808</td>\n",
       "      <td>0.557295</td>\n",
       "      <td>27.784031</td>\n",
       "    </tr>\n",
       "    <tr>\n",
       "      <th>min</th>\n",
       "      <td>0.800000</td>\n",
       "      <td>0.010000</td>\n",
       "      <td>0.520000</td>\n",
       "      <td>0.530000</td>\n",
       "      <td>25.000000</td>\n",
       "    </tr>\n",
       "    <tr>\n",
       "      <th>25%</th>\n",
       "      <td>0.830000</td>\n",
       "      <td>0.755000</td>\n",
       "      <td>0.780000</td>\n",
       "      <td>0.781667</td>\n",
       "      <td>36.500000</td>\n",
       "    </tr>\n",
       "    <tr>\n",
       "      <th>50%</th>\n",
       "      <td>1.060000</td>\n",
       "      <td>0.830000</td>\n",
       "      <td>0.830000</td>\n",
       "      <td>0.833333</td>\n",
       "      <td>50.000000</td>\n",
       "    </tr>\n",
       "    <tr>\n",
       "      <th>75%</th>\n",
       "      <td>1.115000</td>\n",
       "      <td>1.320000</td>\n",
       "      <td>1.450000</td>\n",
       "      <td>1.451667</td>\n",
       "      <td>73.000000</td>\n",
       "    </tr>\n",
       "    <tr>\n",
       "      <th>max</th>\n",
       "      <td>2.040000</td>\n",
       "      <td>2.830000</td>\n",
       "      <td>1.960000</td>\n",
       "      <td>1.963333</td>\n",
       "      <td>102.000000</td>\n",
       "    </tr>\n",
       "  </tbody>\n",
       "</table>\n",
       "</div>"
      ],
      "text/plain": [
       "           poly       svr  ensemble  erro medio        Expt\n",
       "count  7.000000  7.000000  7.000000    7.000000    7.000000\n",
       "mean   1.112857  1.117143  1.110000    1.113333   56.571429\n",
       "std    0.432231  0.890201  0.558808    0.557295   27.784031\n",
       "min    0.800000  0.010000  0.520000    0.530000   25.000000\n",
       "25%    0.830000  0.755000  0.780000    0.781667   36.500000\n",
       "50%    1.060000  0.830000  0.830000    0.833333   50.000000\n",
       "75%    1.115000  1.320000  1.450000    1.451667   73.000000\n",
       "max    2.040000  2.830000  1.960000    1.963333  102.000000"
      ]
     },
     "execution_count": 95,
     "metadata": {},
     "output_type": "execute_result"
    }
   ],
   "source": [
    "df_high_80.describe()"
   ]
  },
  {
   "cell_type": "code",
   "execution_count": 94,
   "metadata": {},
   "outputs": [
    {
     "data": {
      "image/png": "[encoded data removed]",
      "text/plain": [
       "<Figure size 640x480 with 1 Axes>"
      ]
     },
     "metadata": {},
     "output_type": "display_data"
    }
   ],
   "source": [
    "plt.boxplot(x=[df_low_80[\"Expt\"], df_high_80[\"Expt\"]], positions=[1, 2])\n",
    "\n",
    "# Configuração dos rótulos do eixo X\n",
    "plt.xticks([1, 2], ['Abaixo de 80% de erro', 'Acima de 80% de erro']);"
   ]
  },
  {
   "cell_type": "code",
   "execution_count": 79,
   "metadata": {},
   "outputs": [
    {
     "data": {
      "text/html": [
       "<div>\n",
       "<style scoped>\n",
       "    .dataframe tbody tr th:only-of-type {\n",
       "        vertical-align: middle;\n",
       "    }\n",
       "\n",
       "    .dataframe tbody tr th {\n",
       "        vertical-align: top;\n",
       "    }\n",
       "\n",
       "    .dataframe thead th {\n",
       "        text-align: right;\n",
       "    }\n",
       "</style>\n",
       "<table border=\"1\" class=\"dataframe\">\n",
       "  <thead>\n",
       "    <tr style=\"text-align: right;\">\n",
       "      <th></th>\n",
       "      <th>valor_inferior</th>\n",
       "      <th>valor_superior</th>\n",
       "      <th>tamanho_gap</th>\n",
       "      <th>indice_inferior</th>\n",
       "      <th>indice_superior</th>\n",
       "    </tr>\n",
       "  </thead>\n",
       "  <tbody>\n",
       "    <tr>\n",
       "      <th>0</th>\n",
       "      <td>0.02</td>\n",
       "      <td>0.05</td>\n",
       "      <td>0.03</td>\n",
       "      <td>2</td>\n",
       "      <td>3</td>\n",
       "    </tr>\n",
       "    <tr>\n",
       "      <th>1</th>\n",
       "      <td>0.11</td>\n",
       "      <td>0.17</td>\n",
       "      <td>0.06</td>\n",
       "      <td>19</td>\n",
       "      <td>20</td>\n",
       "    </tr>\n",
       "    <tr>\n",
       "      <th>2</th>\n",
       "      <td>0.31</td>\n",
       "      <td>0.34</td>\n",
       "      <td>0.03</td>\n",
       "      <td>37</td>\n",
       "      <td>38</td>\n",
       "    </tr>\n",
       "    <tr>\n",
       "      <th>3</th>\n",
       "      <td>0.34</td>\n",
       "      <td>0.38</td>\n",
       "      <td>0.04</td>\n",
       "      <td>38</td>\n",
       "      <td>39</td>\n",
       "    </tr>\n",
       "    <tr>\n",
       "      <th>4</th>\n",
       "      <td>0.38</td>\n",
       "      <td>0.41</td>\n",
       "      <td>0.03</td>\n",
       "      <td>39</td>\n",
       "      <td>40</td>\n",
       "    </tr>\n",
       "    <tr>\n",
       "      <th>5</th>\n",
       "      <td>0.45</td>\n",
       "      <td>0.51</td>\n",
       "      <td>0.06</td>\n",
       "      <td>42</td>\n",
       "      <td>43</td>\n",
       "    </tr>\n",
       "    <tr>\n",
       "      <th>6</th>\n",
       "      <td>0.53</td>\n",
       "      <td>0.60</td>\n",
       "      <td>0.07</td>\n",
       "      <td>46</td>\n",
       "      <td>47</td>\n",
       "    </tr>\n",
       "    <tr>\n",
       "      <th>7</th>\n",
       "      <td>0.60</td>\n",
       "      <td>0.75</td>\n",
       "      <td>0.15</td>\n",
       "      <td>47</td>\n",
       "      <td>48</td>\n",
       "    </tr>\n",
       "    <tr>\n",
       "      <th>8</th>\n",
       "      <td>0.75</td>\n",
       "      <td>0.81</td>\n",
       "      <td>0.06</td>\n",
       "      <td>48</td>\n",
       "      <td>49</td>\n",
       "    </tr>\n",
       "    <tr>\n",
       "      <th>9</th>\n",
       "      <td>0.83</td>\n",
       "      <td>1.08</td>\n",
       "      <td>0.25</td>\n",
       "      <td>51</td>\n",
       "      <td>52</td>\n",
       "    </tr>\n",
       "    <tr>\n",
       "      <th>10</th>\n",
       "      <td>1.08</td>\n",
       "      <td>1.82</td>\n",
       "      <td>0.74</td>\n",
       "      <td>52</td>\n",
       "      <td>53</td>\n",
       "    </tr>\n",
       "    <tr>\n",
       "      <th>11</th>\n",
       "      <td>1.82</td>\n",
       "      <td>1.96</td>\n",
       "      <td>0.14</td>\n",
       "      <td>53</td>\n",
       "      <td>54</td>\n",
       "    </tr>\n",
       "  </tbody>\n",
       "</table>\n",
       "</div>"
      ],
      "text/plain": [
       "    valor_inferior  valor_superior  tamanho_gap  indice_inferior  \\\n",
       "0             0.02            0.05         0.03                2   \n",
       "1             0.11            0.17         0.06               19   \n",
       "2             0.31            0.34         0.03               37   \n",
       "3             0.34            0.38         0.04               38   \n",
       "4             0.38            0.41         0.03               39   \n",
       "5             0.45            0.51         0.06               42   \n",
       "6             0.53            0.60         0.07               46   \n",
       "7             0.60            0.75         0.15               47   \n",
       "8             0.75            0.81         0.06               48   \n",
       "9             0.83            1.08         0.25               51   \n",
       "10            1.08            1.82         0.74               52   \n",
       "11            1.82            1.96         0.14               53   \n",
       "\n",
       "    indice_superior  \n",
       "0                 3  \n",
       "1                20  \n",
       "2                38  \n",
       "3                39  \n",
       "4                40  \n",
       "5                43  \n",
       "6                47  \n",
       "7                48  \n",
       "8                49  \n",
       "9                52  \n",
       "10               53  \n",
       "11               54  "
      ]
     },
     "execution_count": 79,
     "metadata": {},
     "output_type": "execute_result"
    }
   ],
   "source": [
    "identificar_gaps_significativos(df_performances, \"ensemble\")"
   ]
  },
  {
   "cell_type": "markdown",
   "metadata": {},
   "source": [
    "Acho que a técnica mais simples e fácil de ser utilizada é o cálculo de \"gaps\"."
   ]
  },
  {
   "cell_type": "markdown",
   "metadata": {},
   "source": [
    "# Testando LOF"
   ]
  },
  {
   "cell_type": "code",
   "execution_count": 99,
   "metadata": {},
   "outputs": [],
   "source": [
    "from sklearn.neighbors import LocalOutlierFactor\n",
    "\n",
    "lof = LocalOutlierFactor()\n",
    "\n",
    "out_scores = lof.fit_predict(X_scaled)"
   ]
  },
  {
   "cell_type": "code",
   "execution_count": 103,
   "metadata": {},
   "outputs": [],
   "source": [
    "df_all_pol[\"lof_label\"] = out_scores"
   ]
  },
  {
   "cell_type": "code",
   "execution_count": 104,
   "metadata": {},
   "outputs": [
    {
     "data": {
      "text/html": [
       "<div>\n",
       "<style scoped>\n",
       "    .dataframe tbody tr th:only-of-type {\n",
       "        vertical-align: middle;\n",
       "    }\n",
       "\n",
       "    .dataframe tbody tr th {\n",
       "        vertical-align: top;\n",
       "    }\n",
       "\n",
       "    .dataframe thead th {\n",
       "        text-align: right;\n",
       "    }\n",
       "</style>\n",
       "<table border=\"1\" class=\"dataframe\">\n",
       "  <thead>\n",
       "    <tr style=\"text-align: right;\">\n",
       "      <th></th>\n",
       "      <th>Molecule</th>\n",
       "      <th>Formula</th>\n",
       "      <th>Expt</th>\n",
       "      <th>Dipole</th>\n",
       "      <th>Alpha</th>\n",
       "      <th>pi_bond</th>\n",
       "      <th>Ei</th>\n",
       "      <th>distance</th>\n",
       "      <th>cluster_dbscan</th>\n",
       "      <th>cluster_kmeans</th>\n",
       "      <th>lof_label</th>\n",
       "    </tr>\n",
       "  </thead>\n",
       "  <tbody>\n",
       "    <tr>\n",
       "      <th>8</th>\n",
       "      <td>Phenylacetylene</td>\n",
       "      <td>C8H6</td>\n",
       "      <td>230.0</td>\n",
       "      <td>0.66</td>\n",
       "      <td>13.80</td>\n",
       "      <td>5.0</td>\n",
       "      <td>8.82</td>\n",
       "      <td>8.872238</td>\n",
       "      <td>0</td>\n",
       "      <td>2</td>\n",
       "      <td>-1</td>\n",
       "    </tr>\n",
       "    <tr>\n",
       "      <th>14</th>\n",
       "      <td>Etanol</td>\n",
       "      <td>C2H6O</td>\n",
       "      <td>43.0</td>\n",
       "      <td>1.44</td>\n",
       "      <td>5.11</td>\n",
       "      <td>5.0</td>\n",
       "      <td>10.43</td>\n",
       "      <td>0.000000</td>\n",
       "      <td>0</td>\n",
       "      <td>2</td>\n",
       "      <td>-1</td>\n",
       "    </tr>\n",
       "    <tr>\n",
       "      <th>35</th>\n",
       "      <td>1-fl-nonano</td>\n",
       "      <td>C9H19F</td>\n",
       "      <td>145.0</td>\n",
       "      <td>2.20</td>\n",
       "      <td>17.00</td>\n",
       "      <td>0.0</td>\n",
       "      <td>9.60</td>\n",
       "      <td>12.947533</td>\n",
       "      <td>0</td>\n",
       "      <td>0</td>\n",
       "      <td>-1</td>\n",
       "    </tr>\n",
       "    <tr>\n",
       "      <th>47</th>\n",
       "      <td>Acetophenone</td>\n",
       "      <td>C8H8O</td>\n",
       "      <td>288.0</td>\n",
       "      <td>3.02</td>\n",
       "      <td>14.40</td>\n",
       "      <td>4.0</td>\n",
       "      <td>9.28</td>\n",
       "      <td>9.545837</td>\n",
       "      <td>0</td>\n",
       "      <td>0</td>\n",
       "      <td>-1</td>\n",
       "    </tr>\n",
       "    <tr>\n",
       "      <th>48</th>\n",
       "      <td>Benzaldehyde</td>\n",
       "      <td>C7H6O</td>\n",
       "      <td>220.0</td>\n",
       "      <td>3.14</td>\n",
       "      <td>12.80</td>\n",
       "      <td>4.0</td>\n",
       "      <td>9.50</td>\n",
       "      <td>7.993185</td>\n",
       "      <td>0</td>\n",
       "      <td>0</td>\n",
       "      <td>-1</td>\n",
       "    </tr>\n",
       "    <tr>\n",
       "      <th>50</th>\n",
       "      <td>Acetonitrila</td>\n",
       "      <td>C2H3N</td>\n",
       "      <td>180.0</td>\n",
       "      <td>3.90</td>\n",
       "      <td>4.40</td>\n",
       "      <td>2.0</td>\n",
       "      <td>12.20</td>\n",
       "      <td>4.323031</td>\n",
       "      <td>0</td>\n",
       "      <td>3</td>\n",
       "      <td>-1</td>\n",
       "    </tr>\n",
       "    <tr>\n",
       "      <th>51</th>\n",
       "      <td>Propionitrila</td>\n",
       "      <td>C3H5N</td>\n",
       "      <td>245.0</td>\n",
       "      <td>4.10</td>\n",
       "      <td>6.30</td>\n",
       "      <td>2.0</td>\n",
       "      <td>11.80</td>\n",
       "      <td>4.400977</td>\n",
       "      <td>0</td>\n",
       "      <td>3</td>\n",
       "      <td>-1</td>\n",
       "    </tr>\n",
       "    <tr>\n",
       "      <th>52</th>\n",
       "      <td>Pyridazine</td>\n",
       "      <td>C4H4N2</td>\n",
       "      <td>330.0</td>\n",
       "      <td>4.22</td>\n",
       "      <td>9.27</td>\n",
       "      <td>3.0</td>\n",
       "      <td>8.74</td>\n",
       "      <td>5.647132</td>\n",
       "      <td>0</td>\n",
       "      <td>0</td>\n",
       "      <td>-1</td>\n",
       "    </tr>\n",
       "    <tr>\n",
       "      <th>53</th>\n",
       "      <td>2-Metilpropionitrila</td>\n",
       "      <td>C4H7N</td>\n",
       "      <td>274.0</td>\n",
       "      <td>4.30</td>\n",
       "      <td>8.10</td>\n",
       "      <td>2.0</td>\n",
       "      <td>11.30</td>\n",
       "      <td>5.184265</td>\n",
       "      <td>0</td>\n",
       "      <td>3</td>\n",
       "      <td>-1</td>\n",
       "    </tr>\n",
       "    <tr>\n",
       "      <th>54</th>\n",
       "      <td>Benzonitrile</td>\n",
       "      <td>C7H5N</td>\n",
       "      <td>298.0</td>\n",
       "      <td>4.52</td>\n",
       "      <td>12.50</td>\n",
       "      <td>5.0</td>\n",
       "      <td>9.73</td>\n",
       "      <td>8.036697</td>\n",
       "      <td>0</td>\n",
       "      <td>0</td>\n",
       "      <td>-1</td>\n",
       "    </tr>\n",
       "  </tbody>\n",
       "</table>\n",
       "</div>"
      ],
      "text/plain": [
       "                Molecule Formula   Expt  Dipole  Alpha  pi_bond     Ei  \\\n",
       "8        Phenylacetylene    C8H6  230.0    0.66  13.80      5.0   8.82   \n",
       "14                Etanol   C2H6O   43.0    1.44   5.11      5.0  10.43   \n",
       "35           1-fl-nonano  C9H19F  145.0    2.20  17.00      0.0   9.60   \n",
       "47          Acetophenone   C8H8O  288.0    3.02  14.40      4.0   9.28   \n",
       "48          Benzaldehyde   C7H6O  220.0    3.14  12.80      4.0   9.50   \n",
       "50          Acetonitrila   C2H3N  180.0    3.90   4.40      2.0  12.20   \n",
       "51         Propionitrila   C3H5N  245.0    4.10   6.30      2.0  11.80   \n",
       "52            Pyridazine  C4H4N2  330.0    4.22   9.27      3.0   8.74   \n",
       "53  2-Metilpropionitrila   C4H7N  274.0    4.30   8.10      2.0  11.30   \n",
       "54          Benzonitrile   C7H5N  298.0    4.52  12.50      5.0   9.73   \n",
       "\n",
       "     distance  cluster_dbscan  cluster_kmeans  lof_label  \n",
       "8    8.872238               0               2         -1  \n",
       "14   0.000000               0               2         -1  \n",
       "35  12.947533               0               0         -1  \n",
       "47   9.545837               0               0         -1  \n",
       "48   7.993185               0               0         -1  \n",
       "50   4.323031               0               3         -1  \n",
       "51   4.400977               0               3         -1  \n",
       "52   5.647132               0               0         -1  \n",
       "53   5.184265               0               3         -1  \n",
       "54   8.036697               0               0         -1  "
      ]
     },
     "execution_count": 104,
     "metadata": {},
     "output_type": "execute_result"
    }
   ],
   "source": [
    "df_all_pol[df_all_pol[\"lof_label\"] == -1]"
   ]
  },
  {
   "cell_type": "markdown",
   "metadata": {},
   "source": [
    "Meeehhh, não enxerguei muita coisa."
   ]
  }
 ],
 "metadata": {
  "kernelspec": {
   "display_name": "pbe_for_molecules-MPOSN0BQ-py3.10",
   "language": "python",
   "name": "python3"
  },
  "language_info": {
   "codemirror_mode": {
    "name": "ipython",
    "version": 3
   },
   "file_extension": ".py",
   "mimetype": "text/x-python",
   "name": "python",
   "nbconvert_exporter": "python",
   "pygments_lexer": "ipython3",
   "version": "3.10.12"
  }
 },
 "nbformat": 4,
 "nbformat_minor": 2
}
